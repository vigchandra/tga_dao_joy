{
 "cells": [
  {
   "cell_type": "code",
   "execution_count": 1,
   "metadata": {},
   "outputs": [
    {
     "data": {
      "text/plain": [
       "DataTransformerRegistry.enable('default')"
      ]
     },
     "execution_count": 1,
     "metadata": {},
     "output_type": "execute_result"
    }
   ],
   "source": [
    "import pandas as pd\n",
    "from sklearn.model_selection import train_test_split\n",
    "from sklearn.linear_model import LinearRegression\n",
    "from sklearn.ensemble import RandomForestRegressor\n",
    "from sklearn.svm import SVR\n",
    "from sklearn import tree\n",
    "from sklearn.tree import export_graphviz\n",
    "import altair as alt\n",
    "from dtreeviz.trees import dtreeviz # will be used for tree visualization\n",
    "from matplotlib import pyplot as plt\n",
    "from sklearn.cross_decomposition import PLSRegression\n",
    "from sklearn.ensemble import GradientBoostingRegressor\n",
    "alt.data_transformers.disable_max_rows()"
   ]
  },
  {
   "cell_type": "markdown",
   "metadata": {},
   "source": [
    "## File Import"
   ]
  },
  {
   "cell_type": "code",
   "execution_count": 2,
   "metadata": {},
   "outputs": [
    {
     "data": {
      "text/html": [
       "<div>\n",
       "<style scoped>\n",
       "    .dataframe tbody tr th:only-of-type {\n",
       "        vertical-align: middle;\n",
       "    }\n",
       "\n",
       "    .dataframe tbody tr th {\n",
       "        vertical-align: top;\n",
       "    }\n",
       "\n",
       "    .dataframe thead th {\n",
       "        text-align: right;\n",
       "    }\n",
       "</style>\n",
       "<table border=\"1\" class=\"dataframe\">\n",
       "  <thead>\n",
       "    <tr style=\"text-align: right;\">\n",
       "      <th></th>\n",
       "      <th>Ts</th>\n",
       "      <th>t</th>\n",
       "      <th>HF</th>\n",
       "      <th>Weight</th>\n",
       "      <th>Tr</th>\n",
       "      <th>sheet_name</th>\n",
       "      <th>compound</th>\n",
       "      <th>exp_no</th>\n",
       "    </tr>\n",
       "  </thead>\n",
       "  <tbody>\n",
       "    <tr>\n",
       "      <th>0</th>\n",
       "      <td>40.1741</td>\n",
       "      <td>0</td>\n",
       "      <td>0.483698</td>\n",
       "      <td>100.0000</td>\n",
       "      <td>25.0000</td>\n",
       "      <td>I1-30-1</td>\n",
       "      <td>05-85</td>\n",
       "      <td>3</td>\n",
       "    </tr>\n",
       "    <tr>\n",
       "      <th>1</th>\n",
       "      <td>40.1511</td>\n",
       "      <td>1</td>\n",
       "      <td>0.447084</td>\n",
       "      <td>99.9913</td>\n",
       "      <td>25.1667</td>\n",
       "      <td>I1-30-1</td>\n",
       "      <td>05-85</td>\n",
       "      <td>3</td>\n",
       "    </tr>\n",
       "    <tr>\n",
       "      <th>2</th>\n",
       "      <td>40.1566</td>\n",
       "      <td>2</td>\n",
       "      <td>0.428202</td>\n",
       "      <td>99.9864</td>\n",
       "      <td>25.3333</td>\n",
       "      <td>I1-30-1</td>\n",
       "      <td>05-85</td>\n",
       "      <td>3</td>\n",
       "    </tr>\n",
       "    <tr>\n",
       "      <th>3</th>\n",
       "      <td>40.1877</td>\n",
       "      <td>3</td>\n",
       "      <td>0.414622</td>\n",
       "      <td>99.9841</td>\n",
       "      <td>25.5000</td>\n",
       "      <td>I1-30-1</td>\n",
       "      <td>05-85</td>\n",
       "      <td>3</td>\n",
       "    </tr>\n",
       "    <tr>\n",
       "      <th>4</th>\n",
       "      <td>40.2206</td>\n",
       "      <td>4</td>\n",
       "      <td>0.383961</td>\n",
       "      <td>99.9881</td>\n",
       "      <td>25.6667</td>\n",
       "      <td>I1-30-1</td>\n",
       "      <td>05-85</td>\n",
       "      <td>3</td>\n",
       "    </tr>\n",
       "    <tr>\n",
       "      <th>...</th>\n",
       "      <td>...</td>\n",
       "      <td>...</td>\n",
       "      <td>...</td>\n",
       "      <td>...</td>\n",
       "      <td>...</td>\n",
       "      <td>...</td>\n",
       "      <td>...</td>\n",
       "      <td>...</td>\n",
       "    </tr>\n",
       "    <tr>\n",
       "      <th>41854</th>\n",
       "      <td>506.0690</td>\n",
       "      <td>4646</td>\n",
       "      <td>249.412000</td>\n",
       "      <td>35.8362</td>\n",
       "      <td>500.0000</td>\n",
       "      <td>DAO (1)</td>\n",
       "      <td>DAO</td>\n",
       "      <td>1</td>\n",
       "    </tr>\n",
       "    <tr>\n",
       "      <th>41855</th>\n",
       "      <td>506.0730</td>\n",
       "      <td>4647</td>\n",
       "      <td>249.411000</td>\n",
       "      <td>35.8377</td>\n",
       "      <td>500.0000</td>\n",
       "      <td>DAO (1)</td>\n",
       "      <td>DAO</td>\n",
       "      <td>1</td>\n",
       "    </tr>\n",
       "    <tr>\n",
       "      <th>41856</th>\n",
       "      <td>506.0740</td>\n",
       "      <td>4648</td>\n",
       "      <td>249.409000</td>\n",
       "      <td>35.8393</td>\n",
       "      <td>500.0000</td>\n",
       "      <td>DAO (1)</td>\n",
       "      <td>DAO</td>\n",
       "      <td>1</td>\n",
       "    </tr>\n",
       "    <tr>\n",
       "      <th>41857</th>\n",
       "      <td>506.0710</td>\n",
       "      <td>4649</td>\n",
       "      <td>249.408000</td>\n",
       "      <td>35.8409</td>\n",
       "      <td>500.0000</td>\n",
       "      <td>DAO (1)</td>\n",
       "      <td>DAO</td>\n",
       "      <td>1</td>\n",
       "    </tr>\n",
       "    <tr>\n",
       "      <th>41858</th>\n",
       "      <td>506.0790</td>\n",
       "      <td>4650</td>\n",
       "      <td>249.407000</td>\n",
       "      <td>35.8425</td>\n",
       "      <td>500.0000</td>\n",
       "      <td>DAO (1)</td>\n",
       "      <td>DAO</td>\n",
       "      <td>1</td>\n",
       "    </tr>\n",
       "  </tbody>\n",
       "</table>\n",
       "<p>41859 rows × 8 columns</p>\n",
       "</div>"
      ],
      "text/plain": [
       "             Ts     t          HF    Weight        Tr sheet_name compound  \\\n",
       "0       40.1741     0    0.483698  100.0000   25.0000    I1-30-1    05-85   \n",
       "1       40.1511     1    0.447084   99.9913   25.1667    I1-30-1    05-85   \n",
       "2       40.1566     2    0.428202   99.9864   25.3333    I1-30-1    05-85   \n",
       "3       40.1877     3    0.414622   99.9841   25.5000    I1-30-1    05-85   \n",
       "4       40.2206     4    0.383961   99.9881   25.6667    I1-30-1    05-85   \n",
       "...         ...   ...         ...       ...       ...        ...      ...   \n",
       "41854  506.0690  4646  249.412000   35.8362  500.0000    DAO (1)      DAO   \n",
       "41855  506.0730  4647  249.411000   35.8377  500.0000    DAO (1)      DAO   \n",
       "41856  506.0740  4648  249.409000   35.8393  500.0000    DAO (1)      DAO   \n",
       "41857  506.0710  4649  249.408000   35.8409  500.0000    DAO (1)      DAO   \n",
       "41858  506.0790  4650  249.407000   35.8425  500.0000    DAO (1)      DAO   \n",
       "\n",
       "       exp_no  \n",
       "0           3  \n",
       "1           3  \n",
       "2           3  \n",
       "3           3  \n",
       "4           3  \n",
       "...       ...  \n",
       "41854       1  \n",
       "41855       1  \n",
       "41856       1  \n",
       "41857       1  \n",
       "41858       1  \n",
       "\n",
       "[41859 rows x 8 columns]"
      ]
     },
     "execution_count": 2,
     "metadata": {},
     "output_type": "execute_result"
    }
   ],
   "source": [
    "df = pd.read_csv(\"../data_input/feed_v1.csv\", index_col = None)\n",
    "df = df.drop(columns = 'Unnamed: 0')\n",
    "df"
   ]
  },
  {
   "cell_type": "code",
   "execution_count": 3,
   "metadata": {},
   "outputs": [
    {
     "data": {
      "text/html": [
       "<div>\n",
       "<style scoped>\n",
       "    .dataframe tbody tr th:only-of-type {\n",
       "        vertical-align: middle;\n",
       "    }\n",
       "\n",
       "    .dataframe tbody tr th {\n",
       "        vertical-align: top;\n",
       "    }\n",
       "\n",
       "    .dataframe thead th {\n",
       "        text-align: right;\n",
       "    }\n",
       "</style>\n",
       "<table border=\"1\" class=\"dataframe\">\n",
       "  <thead>\n",
       "    <tr style=\"text-align: right;\">\n",
       "      <th></th>\n",
       "      <th>compound</th>\n",
       "      <th>exp_no</th>\n",
       "      <th>Ts</th>\n",
       "      <th>t</th>\n",
       "      <th>HF</th>\n",
       "      <th>Weight</th>\n",
       "      <th>Tr</th>\n",
       "      <th>sheet_name</th>\n",
       "    </tr>\n",
       "  </thead>\n",
       "  <tbody>\n",
       "    <tr>\n",
       "      <th>0</th>\n",
       "      <td>05-85</td>\n",
       "      <td>1</td>\n",
       "      <td>4651</td>\n",
       "      <td>4651</td>\n",
       "      <td>4651</td>\n",
       "      <td>4651</td>\n",
       "      <td>4651</td>\n",
       "      <td>4651</td>\n",
       "    </tr>\n",
       "    <tr>\n",
       "      <th>1</th>\n",
       "      <td>05-85</td>\n",
       "      <td>2</td>\n",
       "      <td>4651</td>\n",
       "      <td>4651</td>\n",
       "      <td>4651</td>\n",
       "      <td>4651</td>\n",
       "      <td>4651</td>\n",
       "      <td>4651</td>\n",
       "    </tr>\n",
       "    <tr>\n",
       "      <th>2</th>\n",
       "      <td>05-85</td>\n",
       "      <td>3</td>\n",
       "      <td>4651</td>\n",
       "      <td>4651</td>\n",
       "      <td>4651</td>\n",
       "      <td>4651</td>\n",
       "      <td>4651</td>\n",
       "      <td>4651</td>\n",
       "    </tr>\n",
       "    <tr>\n",
       "      <th>3</th>\n",
       "      <td>1-8</td>\n",
       "      <td>1</td>\n",
       "      <td>4651</td>\n",
       "      <td>4651</td>\n",
       "      <td>4651</td>\n",
       "      <td>4651</td>\n",
       "      <td>4651</td>\n",
       "      <td>4651</td>\n",
       "    </tr>\n",
       "    <tr>\n",
       "      <th>4</th>\n",
       "      <td>1-8</td>\n",
       "      <td>2</td>\n",
       "      <td>4651</td>\n",
       "      <td>4651</td>\n",
       "      <td>4651</td>\n",
       "      <td>4651</td>\n",
       "      <td>4651</td>\n",
       "      <td>4651</td>\n",
       "    </tr>\n",
       "    <tr>\n",
       "      <th>5</th>\n",
       "      <td>1-8</td>\n",
       "      <td>3</td>\n",
       "      <td>4651</td>\n",
       "      <td>4651</td>\n",
       "      <td>4651</td>\n",
       "      <td>4651</td>\n",
       "      <td>4651</td>\n",
       "      <td>4651</td>\n",
       "    </tr>\n",
       "    <tr>\n",
       "      <th>6</th>\n",
       "      <td>DAO</td>\n",
       "      <td>1</td>\n",
       "      <td>4651</td>\n",
       "      <td>4651</td>\n",
       "      <td>4651</td>\n",
       "      <td>4651</td>\n",
       "      <td>4651</td>\n",
       "      <td>4651</td>\n",
       "    </tr>\n",
       "    <tr>\n",
       "      <th>7</th>\n",
       "      <td>DAO</td>\n",
       "      <td>2</td>\n",
       "      <td>4651</td>\n",
       "      <td>4651</td>\n",
       "      <td>4651</td>\n",
       "      <td>4651</td>\n",
       "      <td>4651</td>\n",
       "      <td>4651</td>\n",
       "    </tr>\n",
       "    <tr>\n",
       "      <th>8</th>\n",
       "      <td>DAO</td>\n",
       "      <td>3</td>\n",
       "      <td>4651</td>\n",
       "      <td>4651</td>\n",
       "      <td>4651</td>\n",
       "      <td>4651</td>\n",
       "      <td>4651</td>\n",
       "      <td>4651</td>\n",
       "    </tr>\n",
       "  </tbody>\n",
       "</table>\n",
       "</div>"
      ],
      "text/plain": [
       "  compound  exp_no    Ts     t    HF  Weight    Tr  sheet_name\n",
       "0    05-85       1  4651  4651  4651    4651  4651        4651\n",
       "1    05-85       2  4651  4651  4651    4651  4651        4651\n",
       "2    05-85       3  4651  4651  4651    4651  4651        4651\n",
       "3      1-8       1  4651  4651  4651    4651  4651        4651\n",
       "4      1-8       2  4651  4651  4651    4651  4651        4651\n",
       "5      1-8       3  4651  4651  4651    4651  4651        4651\n",
       "6      DAO       1  4651  4651  4651    4651  4651        4651\n",
       "7      DAO       2  4651  4651  4651    4651  4651        4651\n",
       "8      DAO       3  4651  4651  4651    4651  4651        4651"
      ]
     },
     "execution_count": 3,
     "metadata": {},
     "output_type": "execute_result"
    }
   ],
   "source": [
    "df.groupby(['compound', 'exp_no']).agg('count').reset_index()"
   ]
  },
  {
   "cell_type": "code",
   "execution_count": 4,
   "metadata": {},
   "outputs": [
    {
     "data": {
      "text/plain": [
       "DAO      13953\n",
       "1-8      13953\n",
       "05-85    13953\n",
       "Name: compound, dtype: int64"
      ]
     },
     "execution_count": 4,
     "metadata": {},
     "output_type": "execute_result"
    }
   ],
   "source": [
    "df.compound.value_counts()"
   ]
  },
  {
   "cell_type": "code",
   "execution_count": 5,
   "metadata": {},
   "outputs": [],
   "source": [
    "def test_train_compound(df, product):\n",
    "    \"\"\"\n",
    "    Function to split test/train data for each compound\n",
    "    \n",
    "    Argument:\n",
    "        df      : pandas dataframe\n",
    "        product : tbbpa, caoh2, both\n",
    "        \n",
    "    Output:\n",
    "        X_train, X_test, y_train, y_test : 4 pandas dataframe which have the split data \n",
    "    \"\"\"\n",
    "    df = df.query('compound == @product')\n",
    "    \n",
    "    X_train = df.query('exp_no != 3')[[\"Ts\", 't', 'HF', 'Tr']]\n",
    "    y_train = df.query('exp_no != 3')[\"Weight\"]\n",
    "    \n",
    "    X_test = df.query('exp_no == 3')[[\"Ts\", 't', 'HF', 'Tr']]\n",
    "    y_test = df.query('exp_no == 3')[\"Weight\"]\n",
    "    \n",
    "    return X_train, X_test, y_train, y_test"
   ]
  },
  {
   "cell_type": "code",
   "execution_count": 6,
   "metadata": {},
   "outputs": [
    {
     "data": {
      "text/html": [
       "<div>\n",
       "<style scoped>\n",
       "    .dataframe tbody tr th:only-of-type {\n",
       "        vertical-align: middle;\n",
       "    }\n",
       "\n",
       "    .dataframe tbody tr th {\n",
       "        vertical-align: top;\n",
       "    }\n",
       "\n",
       "    .dataframe thead th {\n",
       "        text-align: right;\n",
       "    }\n",
       "</style>\n",
       "<table border=\"1\" class=\"dataframe\">\n",
       "  <thead>\n",
       "    <tr style=\"text-align: right;\">\n",
       "      <th></th>\n",
       "      <th>Model</th>\n",
       "      <th>Compound</th>\n",
       "      <th>Train Accuracy</th>\n",
       "      <th>Test Accuracy</th>\n",
       "    </tr>\n",
       "  </thead>\n",
       "  <tbody>\n",
       "  </tbody>\n",
       "</table>\n",
       "</div>"
      ],
      "text/plain": [
       "Empty DataFrame\n",
       "Columns: [Model, Compound, Train Accuracy, Test Accuracy]\n",
       "Index: []"
      ]
     },
     "execution_count": 6,
     "metadata": {},
     "output_type": "execute_result"
    }
   ],
   "source": [
    "df_results = pd.DataFrame({'Model': [],\n",
    "                           'Compound' : [],\n",
    "                           'Train Accuracy': [],\n",
    "                           'Test Accuracy' : []\n",
    "                           })\n",
    "df_results"
   ]
  },
  {
   "cell_type": "markdown",
   "metadata": {},
   "source": [
    "## Summary"
   ]
  },
  {
   "cell_type": "code",
   "execution_count": 20,
   "metadata": {},
   "outputs": [
    {
     "data": {
      "text/html": [
       "<div>\n",
       "<style scoped>\n",
       "    .dataframe tbody tr th:only-of-type {\n",
       "        vertical-align: middle;\n",
       "    }\n",
       "\n",
       "    .dataframe tbody tr th {\n",
       "        vertical-align: top;\n",
       "    }\n",
       "\n",
       "    .dataframe thead th {\n",
       "        text-align: right;\n",
       "    }\n",
       "</style>\n",
       "<table border=\"1\" class=\"dataframe\">\n",
       "  <thead>\n",
       "    <tr style=\"text-align: right;\">\n",
       "      <th></th>\n",
       "      <th>Model</th>\n",
       "      <th>Compound</th>\n",
       "      <th>Train Accuracy</th>\n",
       "      <th>Test Accuracy</th>\n",
       "    </tr>\n",
       "  </thead>\n",
       "  <tbody>\n",
       "    <tr>\n",
       "      <th>NaN</th>\n",
       "      <td>Linear Regression</td>\n",
       "      <td>DAO</td>\n",
       "      <td>0.946946</td>\n",
       "      <td>0.931452</td>\n",
       "    </tr>\n",
       "    <tr>\n",
       "      <th>NaN</th>\n",
       "      <td>Linear Regression</td>\n",
       "      <td>05-85</td>\n",
       "      <td>0.956423</td>\n",
       "      <td>0.927052</td>\n",
       "    </tr>\n",
       "    <tr>\n",
       "      <th>NaN</th>\n",
       "      <td>Linear Regression</td>\n",
       "      <td>1-8</td>\n",
       "      <td>0.944706</td>\n",
       "      <td>0.937710</td>\n",
       "    </tr>\n",
       "    <tr>\n",
       "      <th>NaN</th>\n",
       "      <td>Partial Least Squares (n=2)</td>\n",
       "      <td>DAO</td>\n",
       "      <td>0.897425</td>\n",
       "      <td>0.890823</td>\n",
       "    </tr>\n",
       "    <tr>\n",
       "      <th>NaN</th>\n",
       "      <td>Partial Least Squares (n=2)</td>\n",
       "      <td>05-85</td>\n",
       "      <td>0.898550</td>\n",
       "      <td>0.893091</td>\n",
       "    </tr>\n",
       "    <tr>\n",
       "      <th>NaN</th>\n",
       "      <td>Partial Least Squares (n=2)</td>\n",
       "      <td>1-8</td>\n",
       "      <td>0.892370</td>\n",
       "      <td>0.896028</td>\n",
       "    </tr>\n",
       "    <tr>\n",
       "      <th>NaN</th>\n",
       "      <td>Partial Least Squares (n=3)</td>\n",
       "      <td>DAO</td>\n",
       "      <td>0.943296</td>\n",
       "      <td>0.929892</td>\n",
       "    </tr>\n",
       "    <tr>\n",
       "      <th>NaN</th>\n",
       "      <td>Partial Least Squares (n=3)</td>\n",
       "      <td>05-85</td>\n",
       "      <td>0.950040</td>\n",
       "      <td>0.925675</td>\n",
       "    </tr>\n",
       "    <tr>\n",
       "      <th>NaN</th>\n",
       "      <td>Partial Least Squares (n=3)</td>\n",
       "      <td>1-8</td>\n",
       "      <td>0.940133</td>\n",
       "      <td>0.934927</td>\n",
       "    </tr>\n",
       "    <tr>\n",
       "      <th>NaN</th>\n",
       "      <td>Random Forest Regression (max_depth = 2)</td>\n",
       "      <td>DAO</td>\n",
       "      <td>0.993881</td>\n",
       "      <td>0.991804</td>\n",
       "    </tr>\n",
       "    <tr>\n",
       "      <th>NaN</th>\n",
       "      <td>Random Forest Regression (max_depth = 2)</td>\n",
       "      <td>05-85</td>\n",
       "      <td>0.993948</td>\n",
       "      <td>0.992042</td>\n",
       "    </tr>\n",
       "    <tr>\n",
       "      <th>NaN</th>\n",
       "      <td>Random Forest Regression (max_depth = 2)</td>\n",
       "      <td>1-8</td>\n",
       "      <td>0.993389</td>\n",
       "      <td>0.993732</td>\n",
       "    </tr>\n",
       "    <tr>\n",
       "      <th>NaN</th>\n",
       "      <td>Random Forest Regression (max_depth = 5)</td>\n",
       "      <td>DAO</td>\n",
       "      <td>0.999789</td>\n",
       "      <td>0.997099</td>\n",
       "    </tr>\n",
       "    <tr>\n",
       "      <th>NaN</th>\n",
       "      <td>Random Forest Regression (max_depth = 5)</td>\n",
       "      <td>05-85</td>\n",
       "      <td>0.999953</td>\n",
       "      <td>0.997672</td>\n",
       "    </tr>\n",
       "    <tr>\n",
       "      <th>NaN</th>\n",
       "      <td>Random Forest Regression (max_depth = 5)</td>\n",
       "      <td>1-8</td>\n",
       "      <td>0.999925</td>\n",
       "      <td>0.999677</td>\n",
       "    </tr>\n",
       "    <tr>\n",
       "      <th>NaN</th>\n",
       "      <td>Random Forest Regression (max_depth = 7)</td>\n",
       "      <td>DAO</td>\n",
       "      <td>0.999909</td>\n",
       "      <td>0.996899</td>\n",
       "    </tr>\n",
       "    <tr>\n",
       "      <th>NaN</th>\n",
       "      <td>Random Forest Regression (max_depth = 7)</td>\n",
       "      <td>05-85</td>\n",
       "      <td>0.999993</td>\n",
       "      <td>0.997702</td>\n",
       "    </tr>\n",
       "    <tr>\n",
       "      <th>NaN</th>\n",
       "      <td>Random Forest Regression (max_depth = 7)</td>\n",
       "      <td>1-8</td>\n",
       "      <td>0.999985</td>\n",
       "      <td>0.999717</td>\n",
       "    </tr>\n",
       "    <tr>\n",
       "      <th>NaN</th>\n",
       "      <td>Random Forest Regression (max_depth = 10)</td>\n",
       "      <td>DAO</td>\n",
       "      <td>0.999956</td>\n",
       "      <td>0.997012</td>\n",
       "    </tr>\n",
       "    <tr>\n",
       "      <th>NaN</th>\n",
       "      <td>Random Forest Regression (max_depth = 10)</td>\n",
       "      <td>05-85</td>\n",
       "      <td>0.999999</td>\n",
       "      <td>0.997777</td>\n",
       "    </tr>\n",
       "    <tr>\n",
       "      <th>NaN</th>\n",
       "      <td>Random Forest Regression (max_depth = 10)</td>\n",
       "      <td>1-8</td>\n",
       "      <td>0.999998</td>\n",
       "      <td>0.999699</td>\n",
       "    </tr>\n",
       "    <tr>\n",
       "      <th>NaN</th>\n",
       "      <td>SVR RBF Kernel</td>\n",
       "      <td>DAO</td>\n",
       "      <td>0.959888</td>\n",
       "      <td>0.959652</td>\n",
       "    </tr>\n",
       "    <tr>\n",
       "      <th>NaN</th>\n",
       "      <td>SVR RBF Kernel</td>\n",
       "      <td>05-85</td>\n",
       "      <td>0.959692</td>\n",
       "      <td>0.960380</td>\n",
       "    </tr>\n",
       "    <tr>\n",
       "      <th>NaN</th>\n",
       "      <td>SVR RBF Kernel</td>\n",
       "      <td>1-8</td>\n",
       "      <td>0.961648</td>\n",
       "      <td>0.960323</td>\n",
       "    </tr>\n",
       "    <tr>\n",
       "      <th>NaN</th>\n",
       "      <td>Gradient Boost Regressor</td>\n",
       "      <td>DAO</td>\n",
       "      <td>0.999835</td>\n",
       "      <td>0.997738</td>\n",
       "    </tr>\n",
       "    <tr>\n",
       "      <th>NaN</th>\n",
       "      <td>Gradient Boost Regressor</td>\n",
       "      <td>05-85</td>\n",
       "      <td>0.999990</td>\n",
       "      <td>0.997888</td>\n",
       "    </tr>\n",
       "    <tr>\n",
       "      <th>NaN</th>\n",
       "      <td>Gradient Boost Regressor</td>\n",
       "      <td>1-8</td>\n",
       "      <td>0.999982</td>\n",
       "      <td>0.999153</td>\n",
       "    </tr>\n",
       "  </tbody>\n",
       "</table>\n",
       "</div>"
      ],
      "text/plain": [
       "                                         Model Compound  Train Accuracy  \\\n",
       "NaN                          Linear Regression      DAO        0.946946   \n",
       "NaN                          Linear Regression    05-85        0.956423   \n",
       "NaN                          Linear Regression      1-8        0.944706   \n",
       "NaN                Partial Least Squares (n=2)      DAO        0.897425   \n",
       "NaN                Partial Least Squares (n=2)    05-85        0.898550   \n",
       "NaN                Partial Least Squares (n=2)      1-8        0.892370   \n",
       "NaN                Partial Least Squares (n=3)      DAO        0.943296   \n",
       "NaN                Partial Least Squares (n=3)    05-85        0.950040   \n",
       "NaN                Partial Least Squares (n=3)      1-8        0.940133   \n",
       "NaN   Random Forest Regression (max_depth = 2)      DAO        0.993881   \n",
       "NaN   Random Forest Regression (max_depth = 2)    05-85        0.993948   \n",
       "NaN   Random Forest Regression (max_depth = 2)      1-8        0.993389   \n",
       "NaN   Random Forest Regression (max_depth = 5)      DAO        0.999789   \n",
       "NaN   Random Forest Regression (max_depth = 5)    05-85        0.999953   \n",
       "NaN   Random Forest Regression (max_depth = 5)      1-8        0.999925   \n",
       "NaN   Random Forest Regression (max_depth = 7)      DAO        0.999909   \n",
       "NaN   Random Forest Regression (max_depth = 7)    05-85        0.999993   \n",
       "NaN   Random Forest Regression (max_depth = 7)      1-8        0.999985   \n",
       "NaN  Random Forest Regression (max_depth = 10)      DAO        0.999956   \n",
       "NaN  Random Forest Regression (max_depth = 10)    05-85        0.999999   \n",
       "NaN  Random Forest Regression (max_depth = 10)      1-8        0.999998   \n",
       "NaN                             SVR RBF Kernel      DAO        0.959888   \n",
       "NaN                             SVR RBF Kernel    05-85        0.959692   \n",
       "NaN                             SVR RBF Kernel      1-8        0.961648   \n",
       "NaN                   Gradient Boost Regressor      DAO        0.999835   \n",
       "NaN                   Gradient Boost Regressor    05-85        0.999990   \n",
       "NaN                   Gradient Boost Regressor      1-8        0.999982   \n",
       "\n",
       "     Test Accuracy  \n",
       "NaN       0.931452  \n",
       "NaN       0.927052  \n",
       "NaN       0.937710  \n",
       "NaN       0.890823  \n",
       "NaN       0.893091  \n",
       "NaN       0.896028  \n",
       "NaN       0.929892  \n",
       "NaN       0.925675  \n",
       "NaN       0.934927  \n",
       "NaN       0.991804  \n",
       "NaN       0.992042  \n",
       "NaN       0.993732  \n",
       "NaN       0.997099  \n",
       "NaN       0.997672  \n",
       "NaN       0.999677  \n",
       "NaN       0.996899  \n",
       "NaN       0.997702  \n",
       "NaN       0.999717  \n",
       "NaN       0.997012  \n",
       "NaN       0.997777  \n",
       "NaN       0.999699  \n",
       "NaN       0.959652  \n",
       "NaN       0.960380  \n",
       "NaN       0.960323  \n",
       "NaN       0.997738  \n",
       "NaN       0.997888  \n",
       "NaN       0.999153  "
      ]
     },
     "execution_count": 20,
     "metadata": {},
     "output_type": "execute_result"
    }
   ],
   "source": [
    "df_results"
   ]
  },
  {
   "cell_type": "markdown",
   "metadata": {},
   "source": [
    "## Linear Modelling"
   ]
  },
  {
   "cell_type": "code",
   "execution_count": 8,
   "metadata": {},
   "outputs": [
    {
     "name": "stdout",
     "output_type": "stream",
     "text": [
      "The 4 matrices for -- DAO -- are of sizes:  (9302, 4) (4651, 4) (9302,) (4651,)\n",
      "The training accuracy for the model is  0.9469457143773354\n",
      "The testing accuracy for the model is  0.9314519692210672\n",
      "The 4 matrices for -- 05-85 -- are of sizes:  (9302, 4) (4651, 4) (9302,) (4651,)\n",
      "The training accuracy for the model is  0.9564234117109199\n",
      "The testing accuracy for the model is  0.9270523831612412\n",
      "The 4 matrices for -- 1-8 -- are of sizes:  (9302, 4) (4651, 4) (9302,) (4651,)\n",
      "The training accuracy for the model is  0.9447059372947056\n",
      "The testing accuracy for the model is  0.9377098209606001\n"
     ]
    }
   ],
   "source": [
    "def linear_model(df, product):\n",
    "    X_train, X_test, y_train, y_test = test_train_compound(df, product)\n",
    "    print(\"The 4 matrices for --\", product, \"-- are of sizes: \", X_train.shape, X_test.shape, y_train.shape, y_test.shape)\n",
    "    lr = LinearRegression().fit(X_train, y_train.ravel())\n",
    "    \n",
    "    \n",
    "    df_pred = pd.concat([X_test, y_test], axis = 1)\n",
    "    df_pred['predicted_wt'] = lr.predict(X_test)\n",
    "    df_pred.to_csv(r'../output/scenario6/prediction_lr_{}.csv'.format(product))\n",
    "    \n",
    "    \n",
    "    print(\"The training accuracy for the model is \", lr.score(X_train, y_train))\n",
    "    print(\"The testing accuracy for the model is \", lr.score(X_test, y_test))\n",
    "    return pd.DataFrame({'Model': 'Linear Regression',\n",
    "                           'Train Accuracy': lr.score(X_train, y_train),\n",
    "                           'Test Accuracy' : lr.score(X_test, y_test),\n",
    "                           'Compound' : product}, index = [None])\n",
    "    \n",
    "for i in df.compound.value_counts().index:\n",
    "    df_results = df_results.append(linear_model(df, i))\n",
    "    "
   ]
  },
  {
   "cell_type": "markdown",
   "metadata": {},
   "source": [
    "## PLSR"
   ]
  },
  {
   "cell_type": "code",
   "execution_count": 9,
   "metadata": {},
   "outputs": [
    {
     "name": "stdout",
     "output_type": "stream",
     "text": [
      "The 4 matrices for -- DAO -- are of sizes:  (9302, 4) (4651, 4) (9302,) (4651,)\n",
      "The training accuracy for the model is  0.8974250955597778\n",
      "The testing accuracy for the model is  0.8908228373229896\n",
      "The 4 matrices for -- 05-85 -- are of sizes:  (9302, 4) (4651, 4) (9302,) (4651,)\n",
      "The training accuracy for the model is  0.8985502404127113\n",
      "The testing accuracy for the model is  0.8930909447520233\n",
      "The 4 matrices for -- 1-8 -- are of sizes:  (9302, 4) (4651, 4) (9302,) (4651,)\n",
      "The training accuracy for the model is  0.892369529018288\n",
      "The testing accuracy for the model is  0.896028340165867\n"
     ]
    }
   ],
   "source": [
    "def pls2(df, product):\n",
    "    X_train, X_test, y_train, y_test = test_train_compound(df, product)\n",
    "    print(\"The 4 matrices for --\", product, \"-- are of sizes: \", X_train.shape, X_test.shape, y_train.shape, y_test.shape)\n",
    "    pls2 = PLSRegression(n_components=2).fit(X_train, y_train)\n",
    "    \n",
    "    df_pred = pd.concat([X_test, y_test], axis = 1)\n",
    "    df_pred['predicted_wt'] = pls2.predict(X_test)\n",
    "    df_pred.to_csv(r'../output/scenario6/prediction_plsr2_{}.csv'.format(product))\n",
    "    \n",
    "    print(\"The training accuracy for the model is \", pls2.score(X_train, y_train))\n",
    "    print(\"The testing accuracy for the model is \", pls2.score(X_test, y_test))\n",
    "    return pd.DataFrame({'Model': 'Partial Least Squares (n=2)',\n",
    "                           'Train Accuracy': pls2.score(X_train, y_train),\n",
    "                           'Test Accuracy' : pls2.score(X_test, y_test),\n",
    "                           'Compound' : i}, index = [None])\n",
    "\n",
    "for i in df.compound.value_counts().index:\n",
    "    df_results = df_results.append(pls2(df, i))"
   ]
  },
  {
   "cell_type": "code",
   "execution_count": 10,
   "metadata": {},
   "outputs": [
    {
     "data": {
      "text/html": [
       "<div>\n",
       "<style scoped>\n",
       "    .dataframe tbody tr th:only-of-type {\n",
       "        vertical-align: middle;\n",
       "    }\n",
       "\n",
       "    .dataframe tbody tr th {\n",
       "        vertical-align: top;\n",
       "    }\n",
       "\n",
       "    .dataframe thead th {\n",
       "        text-align: right;\n",
       "    }\n",
       "</style>\n",
       "<table border=\"1\" class=\"dataframe\">\n",
       "  <thead>\n",
       "    <tr style=\"text-align: right;\">\n",
       "      <th></th>\n",
       "      <th>Model</th>\n",
       "      <th>Compound</th>\n",
       "      <th>Train Accuracy</th>\n",
       "      <th>Test Accuracy</th>\n",
       "    </tr>\n",
       "  </thead>\n",
       "  <tbody>\n",
       "    <tr>\n",
       "      <th>NaN</th>\n",
       "      <td>Linear Regression</td>\n",
       "      <td>DAO</td>\n",
       "      <td>0.946946</td>\n",
       "      <td>0.931452</td>\n",
       "    </tr>\n",
       "    <tr>\n",
       "      <th>NaN</th>\n",
       "      <td>Linear Regression</td>\n",
       "      <td>05-85</td>\n",
       "      <td>0.956423</td>\n",
       "      <td>0.927052</td>\n",
       "    </tr>\n",
       "    <tr>\n",
       "      <th>NaN</th>\n",
       "      <td>Linear Regression</td>\n",
       "      <td>1-8</td>\n",
       "      <td>0.944706</td>\n",
       "      <td>0.937710</td>\n",
       "    </tr>\n",
       "    <tr>\n",
       "      <th>NaN</th>\n",
       "      <td>Partial Least Squares (n=2)</td>\n",
       "      <td>DAO</td>\n",
       "      <td>0.897425</td>\n",
       "      <td>0.890823</td>\n",
       "    </tr>\n",
       "    <tr>\n",
       "      <th>NaN</th>\n",
       "      <td>Partial Least Squares (n=2)</td>\n",
       "      <td>05-85</td>\n",
       "      <td>0.898550</td>\n",
       "      <td>0.893091</td>\n",
       "    </tr>\n",
       "    <tr>\n",
       "      <th>NaN</th>\n",
       "      <td>Partial Least Squares (n=2)</td>\n",
       "      <td>1-8</td>\n",
       "      <td>0.892370</td>\n",
       "      <td>0.896028</td>\n",
       "    </tr>\n",
       "  </tbody>\n",
       "</table>\n",
       "</div>"
      ],
      "text/plain": [
       "                           Model Compound  Train Accuracy  Test Accuracy\n",
       "NaN            Linear Regression      DAO        0.946946       0.931452\n",
       "NaN            Linear Regression    05-85        0.956423       0.927052\n",
       "NaN            Linear Regression      1-8        0.944706       0.937710\n",
       "NaN  Partial Least Squares (n=2)      DAO        0.897425       0.890823\n",
       "NaN  Partial Least Squares (n=2)    05-85        0.898550       0.893091\n",
       "NaN  Partial Least Squares (n=2)      1-8        0.892370       0.896028"
      ]
     },
     "execution_count": 10,
     "metadata": {},
     "output_type": "execute_result"
    }
   ],
   "source": [
    "df_results"
   ]
  },
  {
   "cell_type": "code",
   "execution_count": 11,
   "metadata": {},
   "outputs": [
    {
     "name": "stdout",
     "output_type": "stream",
     "text": [
      "The 4 matrices for -- DAO -- are of sizes:  (9302, 4) (4651, 4) (9302,) (4651,)\n",
      "The training accuracy for the model is  0.9432962034824478\n",
      "The testing accuracy for the model is  0.9298915106142717\n",
      "The 4 matrices for -- 05-85 -- are of sizes:  (9302, 4) (4651, 4) (9302,) (4651,)\n",
      "The training accuracy for the model is  0.9500401306093812\n",
      "The testing accuracy for the model is  0.9256746065166611\n",
      "The 4 matrices for -- 1-8 -- are of sizes:  (9302, 4) (4651, 4) (9302,) (4651,)\n",
      "The training accuracy for the model is  0.9401330572842138\n",
      "The testing accuracy for the model is  0.9349268847957132\n"
     ]
    }
   ],
   "source": [
    "def pls3(df, product):\n",
    "    X_train, X_test, y_train, y_test = test_train_compound(df, product)\n",
    "    print(\"The 4 matrices for --\", product, \"-- are of sizes: \", X_train.shape, X_test.shape, y_train.shape, y_test.shape)\n",
    "    pls3 = PLSRegression(n_components=3).fit(X_train, y_train)\n",
    "    print(\"The training accuracy for the model is \", pls3.score(X_train, y_train))\n",
    "    print(\"The testing accuracy for the model is \", pls3.score(X_test, y_test))\n",
    "    \n",
    "    df_pred = pd.concat([X_test, y_test], axis = 1)\n",
    "    df_pred['predicted_wt'] = pls3.predict(X_test)\n",
    "    df_pred.to_csv(r'../output/scenario6/prediction_plsr3_{}.csv'.format(product))\n",
    "    \n",
    "    return pd.DataFrame({'Model': 'Partial Least Squares (n=3)',\n",
    "                           'Train Accuracy': pls3.score(X_train, y_train),\n",
    "                           'Test Accuracy' : pls3.score(X_test, y_test),\n",
    "                           'Compound' : i}, index = [None])\n",
    "for i in df.compound.value_counts().index:\n",
    "    df_results = df_results.append(pls3(df, i))"
   ]
  },
  {
   "cell_type": "markdown",
   "metadata": {},
   "source": [
    "## Random forest"
   ]
  },
  {
   "cell_type": "code",
   "execution_count": 12,
   "metadata": {},
   "outputs": [
    {
     "name": "stdout",
     "output_type": "stream",
     "text": [
      "The 4 matrices for -- DAO -- are of sizes:  (9302, 4) (4651, 4) (9302,) (4651,)\n",
      "The training accuracy for the model is  0.9938813585591082\n",
      "The testing accuracy for the model is  0.9918043491206467\n",
      "The 4 matrices for -- 05-85 -- are of sizes:  (9302, 4) (4651, 4) (9302,) (4651,)\n",
      "The training accuracy for the model is  0.9939484321654074\n",
      "The testing accuracy for the model is  0.9920420673060635\n",
      "The 4 matrices for -- 1-8 -- are of sizes:  (9302, 4) (4651, 4) (9302,) (4651,)\n",
      "The training accuracy for the model is  0.9933890796287037\n",
      "The testing accuracy for the model is  0.993732147629232\n"
     ]
    }
   ],
   "source": [
    "def random_forest(df, product):\n",
    "    X_train, X_test, y_train, y_test = test_train_compound(df, product)\n",
    "    print(\"The 4 matrices for --\", product, \"-- are of sizes: \", X_train.shape, X_test.shape, y_train.shape, y_test.shape)\n",
    "    rf2 = RandomForestRegressor(random_state=0, max_depth = 2).fit(X_train, y_train)\n",
    "    \n",
    "    \n",
    "    df_pred = pd.concat([X_test, y_test], axis = 1)\n",
    "    df_pred['predicted_wt'] = rf2.predict(X_test)\n",
    "    df_pred.to_csv(r'../output/scenario6/prediction_rf2_{}.csv'.format(product))\n",
    "    \n",
    "    \n",
    "    print(\"The training accuracy for the model is \", rf2.score(X_train, y_train))\n",
    "    print(\"The testing accuracy for the model is \", rf2.score(X_test, y_test))\n",
    "    \n",
    "    return pd.DataFrame({'Model': 'Random Forest Regression (max_depth = 2)',\n",
    "                           'Train Accuracy': rf2.score(X_train, y_train),\n",
    "                           'Test Accuracy' : rf2.score(X_test, y_test),\n",
    "                           'Compound' : i}, index=[None])\n",
    "\n",
    "for i in df.compound.value_counts().index:\n",
    "    df_results = df_results.append(random_forest(df, i))"
   ]
  },
  {
   "cell_type": "code",
   "execution_count": 13,
   "metadata": {},
   "outputs": [
    {
     "name": "stdout",
     "output_type": "stream",
     "text": [
      "The 4 matrices for -- DAO -- are of sizes:  (9302, 4) (4651, 4) (9302,) (4651,)\n",
      "The training accuracy for the model is  0.9997887061023748\n",
      "The testing accuracy for the model is  0.9970985142338813\n",
      "The 4 matrices for -- 05-85 -- are of sizes:  (9302, 4) (4651, 4) (9302,) (4651,)\n",
      "The training accuracy for the model is  0.9999527752567239\n",
      "The testing accuracy for the model is  0.9976715505425876\n",
      "The 4 matrices for -- 1-8 -- are of sizes:  (9302, 4) (4651, 4) (9302,) (4651,)\n",
      "The training accuracy for the model is  0.9999253904067469\n",
      "The testing accuracy for the model is  0.9996770607131371\n"
     ]
    }
   ],
   "source": [
    "def random_forest(df, product):\n",
    "    X_train, X_test, y_train, y_test = test_train_compound(df, product)\n",
    "    print(\"The 4 matrices for --\", product, \"-- are of sizes: \", X_train.shape, X_test.shape, y_train.shape, y_test.shape)\n",
    "    rf5 = RandomForestRegressor(random_state=0, max_depth = 5).fit(X_train, y_train)\n",
    "    \n",
    "    df_pred = pd.concat([X_test, y_test], axis = 1)\n",
    "    df_pred['predicted_wt'] = rf5.predict(X_test)\n",
    "    df_pred.to_csv(r'../output/scenario6/prediction_rf5_{}.csv'.format(product))\n",
    "    \n",
    "    print(\"The training accuracy for the model is \", rf5.score(X_train, y_train))\n",
    "    print(\"The testing accuracy for the model is \", rf5.score(X_test, y_test))\n",
    "    \n",
    "    return pd.DataFrame({'Model': 'Random Forest Regression (max_depth = 5)',\n",
    "                           'Train Accuracy': rf5.score(X_train, y_train),\n",
    "                           'Test Accuracy' : rf5.score(X_test, y_test),\n",
    "                           'Compound' : i}, index=[None])\n",
    "\n",
    "for i in df.compound.value_counts().index:\n",
    "    df_results = df_results.append(random_forest(df, i))"
   ]
  },
  {
   "cell_type": "code",
   "execution_count": 14,
   "metadata": {},
   "outputs": [
    {
     "name": "stdout",
     "output_type": "stream",
     "text": [
      "The 4 matrices for -- DAO -- are of sizes:  (9302, 4) (4651, 4) (9302,) (4651,)\n",
      "The training accuracy for the model is  0.9999088930596031\n",
      "The testing accuracy for the model is  0.9968985592212491\n",
      "The 4 matrices for -- 05-85 -- are of sizes:  (9302, 4) (4651, 4) (9302,) (4651,)\n",
      "The training accuracy for the model is  0.9999926276620438\n",
      "The testing accuracy for the model is  0.9977020276859782\n",
      "The 4 matrices for -- 1-8 -- are of sizes:  (9302, 4) (4651, 4) (9302,) (4651,)\n",
      "The training accuracy for the model is  0.9999853288264007\n",
      "The testing accuracy for the model is  0.9997174498390449\n"
     ]
    }
   ],
   "source": [
    "def random_forest(df, product):\n",
    "    X_train, X_test, y_train, y_test = test_train_compound(df, product)\n",
    "    print(\"The 4 matrices for --\", product, \"-- are of sizes: \", X_train.shape, X_test.shape, y_train.shape, y_test.shape)\n",
    "    rf7 = RandomForestRegressor(random_state=0, max_depth = 7).fit(X_train, y_train)\n",
    "    \n",
    "    df_pred = pd.concat([X_test, y_test], axis = 1)\n",
    "    df_pred['predicted_wt'] = rf7.predict(X_test)\n",
    "    df_pred.to_csv(r'../output/scenario6/prediction_rf7_{}.csv'.format(product))\n",
    "    \n",
    "    print(\"The training accuracy for the model is \", rf7.score(X_train, y_train))\n",
    "    print(\"The testing accuracy for the model is \", rf7.score(X_test, y_test))\n",
    "    \n",
    "    return pd.DataFrame({'Model': 'Random Forest Regression (max_depth = 7)',\n",
    "                           'Train Accuracy': rf7.score(X_train, y_train),\n",
    "                           'Test Accuracy' : rf7.score(X_test, y_test),\n",
    "                           'Compound' : i}, index=[None])\n",
    "\n",
    "for i in df.compound.value_counts().index:\n",
    "    df_results = df_results.append(random_forest(df, i))"
   ]
  },
  {
   "cell_type": "code",
   "execution_count": 15,
   "metadata": {},
   "outputs": [
    {
     "name": "stdout",
     "output_type": "stream",
     "text": [
      "The 4 matrices for -- DAO -- are of sizes:  (9302, 4) (4651, 4) (9302,) (4651,)\n",
      "The training accuracy for the model is  0.9999561198930729\n",
      "The testing accuracy for the model is  0.9970124144736316\n",
      "The 4 matrices for -- 05-85 -- are of sizes:  (9302, 4) (4651, 4) (9302,) (4651,)\n",
      "The training accuracy for the model is  0.9999989036890474\n",
      "The testing accuracy for the model is  0.9977765710035583\n",
      "The 4 matrices for -- 1-8 -- are of sizes:  (9302, 4) (4651, 4) (9302,) (4651,)\n",
      "The training accuracy for the model is  0.9999982382251044\n",
      "The testing accuracy for the model is  0.999698514000193\n"
     ]
    }
   ],
   "source": [
    "def random_forest(df, product):\n",
    "    X_train, X_test, y_train, y_test = test_train_compound(df, product)\n",
    "    print(\"The 4 matrices for --\", product, \"-- are of sizes: \", X_train.shape, X_test.shape, y_train.shape, y_test.shape)\n",
    "    rf10 = RandomForestRegressor(random_state=0, max_depth = 10).fit(X_train, y_train)\n",
    "    \n",
    "    df_pred = pd.concat([X_test, y_test], axis = 1)\n",
    "    df_pred['predicted_wt'] = rf10.predict(X_test)\n",
    "    df_pred.to_csv(r'../output/scenario6/prediction_rf10_{}.csv'.format(product))\n",
    "    \n",
    "    print(\"The training accuracy for the model is \", rf10.score(X_train, y_train))\n",
    "    print(\"The testing accuracy for the model is \", rf10.score(X_test, y_test))\n",
    "    \n",
    "    return pd.DataFrame({'Model': 'Random Forest Regression (max_depth = 10)',\n",
    "                           'Train Accuracy': rf10.score(X_train, y_train),\n",
    "                           'Test Accuracy' : rf10.score(X_test, y_test),\n",
    "                           'Compound' : i}, index=[None])\n",
    "\n",
    "for i in df.compound.value_counts().index:\n",
    "    df_results = df_results.append(random_forest(df, i))"
   ]
  },
  {
   "cell_type": "code",
   "execution_count": 16,
   "metadata": {},
   "outputs": [
    {
     "data": {
      "application/vnd.vegalite.v3+json": {
       "$schema": "https://vega.github.io/schema/vega-lite/v3.4.0.json",
       "columns": 3,
       "config": {
        "mark": {
         "tooltip": null
        },
        "view": {
         "height": 300,
         "width": 400
        }
       },
       "data": {
        "name": "data-2399c7864c401cf65a0fb0c50035ba9e"
       },
       "datasets": {
        "data-2399c7864c401cf65a0fb0c50035ba9e": [
         {
          "Accuracy": 0.9621856716217569,
          "Type": "training",
          "max_depth": 1,
          "n_estimator": 1
         },
         {
          "Accuracy": 0.9624086908217901,
          "Type": "training",
          "max_depth": 1,
          "n_estimator": 2
         },
         {
          "Accuracy": 0.9629493000352208,
          "Type": "training",
          "max_depth": 1,
          "n_estimator": 3
         },
         {
          "Accuracy": 0.9629097036372543,
          "Type": "training",
          "max_depth": 1,
          "n_estimator": 5
         },
         {
          "Accuracy": 0.9636456599928838,
          "Type": "training",
          "max_depth": 1,
          "n_estimator": 10
         },
         {
          "Accuracy": 0.9640803383770714,
          "Type": "training",
          "max_depth": 1,
          "n_estimator": 20
         },
         {
          "Accuracy": 0.964593546956469,
          "Type": "training",
          "max_depth": 1,
          "n_estimator": 30
         },
         {
          "Accuracy": 0.9642980058404035,
          "Type": "training",
          "max_depth": 1,
          "n_estimator": 50
         },
         {
          "Accuracy": 0.9642146217255787,
          "Type": "training",
          "max_depth": 1,
          "n_estimator": 100
         },
         {
          "Accuracy": 0.993146946628969,
          "Type": "training",
          "max_depth": 2,
          "n_estimator": 1
         },
         {
          "Accuracy": 0.9932983423089883,
          "Type": "training",
          "max_depth": 2,
          "n_estimator": 2
         },
         {
          "Accuracy": 0.9934022273886337,
          "Type": "training",
          "max_depth": 2,
          "n_estimator": 3
         },
         {
          "Accuracy": 0.9934387385712561,
          "Type": "training",
          "max_depth": 2,
          "n_estimator": 5
         },
         {
          "Accuracy": 0.9936299576910771,
          "Type": "training",
          "max_depth": 2,
          "n_estimator": 10
         },
         {
          "Accuracy": 0.9937998869718986,
          "Type": "training",
          "max_depth": 2,
          "n_estimator": 20
         },
         {
          "Accuracy": 0.9939304054850608,
          "Type": "training",
          "max_depth": 2,
          "n_estimator": 30
         },
         {
          "Accuracy": 0.993879772692409,
          "Type": "training",
          "max_depth": 2,
          "n_estimator": 50
         },
         {
          "Accuracy": 0.9938813585591082,
          "Type": "training",
          "max_depth": 2,
          "n_estimator": 100
         },
         {
          "Accuracy": 0.998114084137901,
          "Type": "training",
          "max_depth": 3,
          "n_estimator": 1
         },
         {
          "Accuracy": 0.9982195193701158,
          "Type": "training",
          "max_depth": 3,
          "n_estimator": 2
         },
         {
          "Accuracy": 0.9982915835061711,
          "Type": "training",
          "max_depth": 3,
          "n_estimator": 3
         },
         {
          "Accuracy": 0.9983322160612718,
          "Type": "training",
          "max_depth": 3,
          "n_estimator": 5
         },
         {
          "Accuracy": 0.99846375644293,
          "Type": "training",
          "max_depth": 3,
          "n_estimator": 10
         },
         {
          "Accuracy": 0.9985338980609703,
          "Type": "training",
          "max_depth": 3,
          "n_estimator": 20
         },
         {
          "Accuracy": 0.998548535284821,
          "Type": "training",
          "max_depth": 3,
          "n_estimator": 30
         },
         {
          "Accuracy": 0.998518730237488,
          "Type": "training",
          "max_depth": 3,
          "n_estimator": 50
         },
         {
          "Accuracy": 0.9985206914396467,
          "Type": "training",
          "max_depth": 3,
          "n_estimator": 100
         },
         {
          "Accuracy": 0.9993178894582061,
          "Type": "training",
          "max_depth": 4,
          "n_estimator": 1
         },
         {
          "Accuracy": 0.9994193123170927,
          "Type": "training",
          "max_depth": 4,
          "n_estimator": 2
         },
         {
          "Accuracy": 0.9994554966346691,
          "Type": "training",
          "max_depth": 4,
          "n_estimator": 3
         },
         {
          "Accuracy": 0.9994826706566331,
          "Type": "training",
          "max_depth": 4,
          "n_estimator": 5
         },
         {
          "Accuracy": 0.9995119927674194,
          "Type": "training",
          "max_depth": 4,
          "n_estimator": 10
         },
         {
          "Accuracy": 0.9995328423804534,
          "Type": "training",
          "max_depth": 4,
          "n_estimator": 20
         },
         {
          "Accuracy": 0.9995490625291759,
          "Type": "training",
          "max_depth": 4,
          "n_estimator": 30
         },
         {
          "Accuracy": 0.9995466854570748,
          "Type": "training",
          "max_depth": 4,
          "n_estimator": 50
         },
         {
          "Accuracy": 0.9995478457688213,
          "Type": "training",
          "max_depth": 4,
          "n_estimator": 100
         },
         {
          "Accuracy": 0.99968403691527,
          "Type": "training",
          "max_depth": 5,
          "n_estimator": 1
         },
         {
          "Accuracy": 0.9997330752007122,
          "Type": "training",
          "max_depth": 5,
          "n_estimator": 2
         },
         {
          "Accuracy": 0.9997554299610811,
          "Type": "training",
          "max_depth": 5,
          "n_estimator": 3
         },
         {
          "Accuracy": 0.9997655302745699,
          "Type": "training",
          "max_depth": 5,
          "n_estimator": 5
         },
         {
          "Accuracy": 0.9997762488618425,
          "Type": "training",
          "max_depth": 5,
          "n_estimator": 10
         },
         {
          "Accuracy": 0.9997842167841903,
          "Type": "training",
          "max_depth": 5,
          "n_estimator": 20
         },
         {
          "Accuracy": 0.999788552941382,
          "Type": "training",
          "max_depth": 5,
          "n_estimator": 30
         },
         {
          "Accuracy": 0.9997874464591917,
          "Type": "training",
          "max_depth": 5,
          "n_estimator": 50
         },
         {
          "Accuracy": 0.9997887061023748,
          "Type": "training",
          "max_depth": 5,
          "n_estimator": 100
         },
         {
          "Accuracy": 0.9997907296732461,
          "Type": "training",
          "max_depth": 6,
          "n_estimator": 1
         },
         {
          "Accuracy": 0.9998191528495589,
          "Type": "training",
          "max_depth": 6,
          "n_estimator": 2
         },
         {
          "Accuracy": 0.9998304344815444,
          "Type": "training",
          "max_depth": 6,
          "n_estimator": 3
         },
         {
          "Accuracy": 0.9998413233082204,
          "Type": "training",
          "max_depth": 6,
          "n_estimator": 5
         },
         {
          "Accuracy": 0.9998469906148627,
          "Type": "training",
          "max_depth": 6,
          "n_estimator": 10
         },
         {
          "Accuracy": 0.9998533250099394,
          "Type": "training",
          "max_depth": 6,
          "n_estimator": 20
         },
         {
          "Accuracy": 0.9998562940079836,
          "Type": "training",
          "max_depth": 6,
          "n_estimator": 30
         },
         {
          "Accuracy": 0.9998571498967105,
          "Type": "training",
          "max_depth": 6,
          "n_estimator": 50
         },
         {
          "Accuracy": 0.9998580893314523,
          "Type": "training",
          "max_depth": 6,
          "n_estimator": 100
         },
         {
          "Accuracy": 0.9998522953943649,
          "Type": "training",
          "max_depth": 7,
          "n_estimator": 1
         },
         {
          "Accuracy": 0.9998785144927556,
          "Type": "training",
          "max_depth": 7,
          "n_estimator": 2
         },
         {
          "Accuracy": 0.9998850168968902,
          "Type": "training",
          "max_depth": 7,
          "n_estimator": 3
         },
         {
          "Accuracy": 0.9998964679829107,
          "Type": "training",
          "max_depth": 7,
          "n_estimator": 5
         },
         {
          "Accuracy": 0.9999037121808683,
          "Type": "training",
          "max_depth": 7,
          "n_estimator": 10
         },
         {
          "Accuracy": 0.9999059660769537,
          "Type": "training",
          "max_depth": 7,
          "n_estimator": 20
         },
         {
          "Accuracy": 0.9999071559987293,
          "Type": "training",
          "max_depth": 7,
          "n_estimator": 30
         },
         {
          "Accuracy": 0.9999078500040784,
          "Type": "training",
          "max_depth": 7,
          "n_estimator": 50
         },
         {
          "Accuracy": 0.9999088930596031,
          "Type": "training",
          "max_depth": 7,
          "n_estimator": 100
         },
         {
          "Accuracy": 0.9610028597501318,
          "Type": "testing",
          "max_depth": 1,
          "n_estimator": 1
         },
         {
          "Accuracy": 0.9613400112790742,
          "Type": "testing",
          "max_depth": 1,
          "n_estimator": 2
         },
         {
          "Accuracy": 0.9618424907534653,
          "Type": "testing",
          "max_depth": 1,
          "n_estimator": 3
         },
         {
          "Accuracy": 0.9618131046769296,
          "Type": "testing",
          "max_depth": 1,
          "n_estimator": 5
         },
         {
          "Accuracy": 0.9625052044421126,
          "Type": "testing",
          "max_depth": 1,
          "n_estimator": 10
         },
         {
          "Accuracy": 0.9629299394030473,
          "Type": "testing",
          "max_depth": 1,
          "n_estimator": 20
         },
         {
          "Accuracy": 0.9634425078303958,
          "Type": "testing",
          "max_depth": 1,
          "n_estimator": 30
         },
         {
          "Accuracy": 0.9631718865880075,
          "Type": "testing",
          "max_depth": 1,
          "n_estimator": 50
         },
         {
          "Accuracy": 0.9631040581554885,
          "Type": "testing",
          "max_depth": 1,
          "n_estimator": 100
         },
         {
          "Accuracy": 0.990986722360736,
          "Type": "testing",
          "max_depth": 2,
          "n_estimator": 1
         },
         {
          "Accuracy": 0.9911472004108514,
          "Type": "testing",
          "max_depth": 2,
          "n_estimator": 2
         },
         {
          "Accuracy": 0.991219884724702,
          "Type": "testing",
          "max_depth": 2,
          "n_estimator": 3
         },
         {
          "Accuracy": 0.9912706717581593,
          "Type": "testing",
          "max_depth": 2,
          "n_estimator": 5
         },
         {
          "Accuracy": 0.9914907974844234,
          "Type": "testing",
          "max_depth": 2,
          "n_estimator": 10
         },
         {
          "Accuracy": 0.9917124493171001,
          "Type": "testing",
          "max_depth": 2,
          "n_estimator": 20
         },
         {
          "Accuracy": 0.9918483495277148,
          "Type": "testing",
          "max_depth": 2,
          "n_estimator": 30
         },
         {
          "Accuracy": 0.9917944688817822,
          "Type": "testing",
          "max_depth": 2,
          "n_estimator": 50
         },
         {
          "Accuracy": 0.9918043491206467,
          "Type": "testing",
          "max_depth": 2,
          "n_estimator": 100
         },
         {
          "Accuracy": 0.9973125739795409,
          "Type": "testing",
          "max_depth": 3,
          "n_estimator": 1
         },
         {
          "Accuracy": 0.9973980556455289,
          "Type": "testing",
          "max_depth": 3,
          "n_estimator": 2
         },
         {
          "Accuracy": 0.9974714692468647,
          "Type": "testing",
          "max_depth": 3,
          "n_estimator": 3
         },
         {
          "Accuracy": 0.9975469982426027,
          "Type": "testing",
          "max_depth": 3,
          "n_estimator": 5
         },
         {
          "Accuracy": 0.9976107518951106,
          "Type": "testing",
          "max_depth": 3,
          "n_estimator": 10
         },
         {
          "Accuracy": 0.9976722685013935,
          "Type": "testing",
          "max_depth": 3,
          "n_estimator": 20
         },
         {
          "Accuracy": 0.9976943634967134,
          "Type": "testing",
          "max_depth": 3,
          "n_estimator": 30
         },
         {
          "Accuracy": 0.9976680292265626,
          "Type": "testing",
          "max_depth": 3,
          "n_estimator": 50
         },
         {
          "Accuracy": 0.9976660518365028,
          "Type": "testing",
          "max_depth": 3,
          "n_estimator": 100
         },
         {
          "Accuracy": 0.9978350148605382,
          "Type": "testing",
          "max_depth": 4,
          "n_estimator": 1
         },
         {
          "Accuracy": 0.9979832117769191,
          "Type": "testing",
          "max_depth": 4,
          "n_estimator": 2
         },
         {
          "Accuracy": 0.9980768719713258,
          "Type": "testing",
          "max_depth": 4,
          "n_estimator": 3
         },
         {
          "Accuracy": 0.9981358931291,
          "Type": "testing",
          "max_depth": 4,
          "n_estimator": 5
         },
         {
          "Accuracy": 0.9982266071733079,
          "Type": "testing",
          "max_depth": 4,
          "n_estimator": 10
         },
         {
          "Accuracy": 0.9982659164527244,
          "Type": "testing",
          "max_depth": 4,
          "n_estimator": 20
         },
         {
          "Accuracy": 0.9982441293800496,
          "Type": "testing",
          "max_depth": 4,
          "n_estimator": 30
         },
         {
          "Accuracy": 0.9982080050587907,
          "Type": "testing",
          "max_depth": 4,
          "n_estimator": 50
         },
         {
          "Accuracy": 0.9982004552165783,
          "Type": "testing",
          "max_depth": 4,
          "n_estimator": 100
         },
         {
          "Accuracy": 0.9964351485684732,
          "Type": "testing",
          "max_depth": 5,
          "n_estimator": 1
         },
         {
          "Accuracy": 0.9966693578593232,
          "Type": "testing",
          "max_depth": 5,
          "n_estimator": 2
         },
         {
          "Accuracy": 0.9967356237549876,
          "Type": "testing",
          "max_depth": 5,
          "n_estimator": 3
         },
         {
          "Accuracy": 0.9968968417396251,
          "Type": "testing",
          "max_depth": 5,
          "n_estimator": 5
         },
         {
          "Accuracy": 0.9970530001087086,
          "Type": "testing",
          "max_depth": 5,
          "n_estimator": 10
         },
         {
          "Accuracy": 0.9971055871278204,
          "Type": "testing",
          "max_depth": 5,
          "n_estimator": 20
         },
         {
          "Accuracy": 0.9970776545342983,
          "Type": "testing",
          "max_depth": 5,
          "n_estimator": 30
         },
         {
          "Accuracy": 0.9970837216550772,
          "Type": "testing",
          "max_depth": 5,
          "n_estimator": 50
         },
         {
          "Accuracy": 0.9970985142338813,
          "Type": "testing",
          "max_depth": 5,
          "n_estimator": 100
         },
         {
          "Accuracy": 0.9968585153562103,
          "Type": "testing",
          "max_depth": 6,
          "n_estimator": 1
         },
         {
          "Accuracy": 0.996890572318126,
          "Type": "testing",
          "max_depth": 6,
          "n_estimator": 2
         },
         {
          "Accuracy": 0.9969112454941698,
          "Type": "testing",
          "max_depth": 6,
          "n_estimator": 3
         },
         {
          "Accuracy": 0.9969298805894049,
          "Type": "testing",
          "max_depth": 6,
          "n_estimator": 5
         },
         {
          "Accuracy": 0.9969649903362358,
          "Type": "testing",
          "max_depth": 6,
          "n_estimator": 10
         },
         {
          "Accuracy": 0.996959462959434,
          "Type": "testing",
          "max_depth": 6,
          "n_estimator": 20
         },
         {
          "Accuracy": 0.9969607241023246,
          "Type": "testing",
          "max_depth": 6,
          "n_estimator": 30
         },
         {
          "Accuracy": 0.9969392797407758,
          "Type": "testing",
          "max_depth": 6,
          "n_estimator": 50
         },
         {
          "Accuracy": 0.9969774037546788,
          "Type": "testing",
          "max_depth": 6,
          "n_estimator": 100
         },
         {
          "Accuracy": 0.9966146254553756,
          "Type": "testing",
          "max_depth": 7,
          "n_estimator": 1
         },
         {
          "Accuracy": 0.9967556275066095,
          "Type": "testing",
          "max_depth": 7,
          "n_estimator": 2
         },
         {
          "Accuracy": 0.9968188008677336,
          "Type": "testing",
          "max_depth": 7,
          "n_estimator": 3
         },
         {
          "Accuracy": 0.9969101668593002,
          "Type": "testing",
          "max_depth": 7,
          "n_estimator": 5
         },
         {
          "Accuracy": 0.9969784168045549,
          "Type": "testing",
          "max_depth": 7,
          "n_estimator": 10
         },
         {
          "Accuracy": 0.9969229619151271,
          "Type": "testing",
          "max_depth": 7,
          "n_estimator": 20
         },
         {
          "Accuracy": 0.9968895146239488,
          "Type": "testing",
          "max_depth": 7,
          "n_estimator": 30
         },
         {
          "Accuracy": 0.996886934351333,
          "Type": "testing",
          "max_depth": 7,
          "n_estimator": 50
         },
         {
          "Accuracy": 0.9968985592212491,
          "Type": "testing",
          "max_depth": 7,
          "n_estimator": 100
         }
        ]
       },
       "encoding": {
        "color": {
         "field": "Type",
         "type": "nominal"
        },
        "facet": {
         "field": "n_estimator",
         "type": "quantitative"
        },
        "x": {
         "field": "max_depth",
         "type": "quantitative"
        },
        "y": {
         "field": "Accuracy",
         "scale": {
          "domain": [
           0.7,
           1
          ]
         },
         "type": "quantitative"
        }
       },
       "height": 200,
       "mark": "line",
       "width": 200
      },
      "image/png": "[encoded data removed]",
      "text/plain": [
       "<VegaLite 3 object>\n",
       "\n",
       "If you see this message, it means the renderer has not been properly enabled\n",
       "for the frontend that you are using. For more information, see\n",
       "https://altair-viz.github.io/user_guide/troubleshooting.html\n"
      ]
     },
     "execution_count": 16,
     "metadata": {},
     "output_type": "execute_result"
    }
   ],
   "source": [
    "n_est = [1,2,3,5,10,20,30,50,100]\n",
    "max_depth = range(1,8)\n",
    "X_train, X_test, y_train, y_test = test_train_compound(df, \"DAO\")\n",
    "trees = []\n",
    "train_acc = []\n",
    "test_acc = []\n",
    "depth = []\n",
    "for j in max_depth:\n",
    "    for i in n_est:\n",
    "        trees.append(i)\n",
    "        depth.append(j)\n",
    "        rf = RandomForestRegressor(n_estimators = i, max_depth = j, random_state=0).fit(X_train, y_train)\n",
    "        train_acc.append(rf.score(X_train, y_train))\n",
    "        test_acc.append(rf.score(X_test, y_test))\n",
    "        #print(j,i)\n",
    "df_rf = pd.DataFrame({'training' : train_acc,\n",
    "                      'testing' : test_acc,\n",
    "                      'n_estimator' : trees,\n",
    "                      'max_depth' : depth})\n",
    "df_rf = df_rf.melt(id_vars = ['n_estimator', 'max_depth'], var_name = 'Type', value_name = 'Accuracy')\n",
    "df_rf\n",
    "alt.Chart(df_rf).mark_line().encode(\n",
    "    alt.X('max_depth'),\n",
    "    alt.Y('Accuracy', scale=alt.Scale(domain=[0.7, 1])),\n",
    "    alt.Color('Type'),\n",
    "    alt.Facet('n_estimator')\n",
    "    ).properties(width = 200, height = 200, columns = 3)"
   ]
  },
  {
   "cell_type": "markdown",
   "metadata": {},
   "source": [
    "## SVR"
   ]
  },
  {
   "cell_type": "code",
   "execution_count": 17,
   "metadata": {},
   "outputs": [
    {
     "name": "stdout",
     "output_type": "stream",
     "text": [
      "The 4 matrices for -- DAO -- are of sizes:  (9302, 4) (4651, 4) (9302,) (4651,)\n",
      "The training accuracy for the model is  0.9598879467781147\n",
      "The testing accuracy for the model is  0.9596515955329349\n",
      "The 4 matrices for -- 05-85 -- are of sizes:  (9302, 4) (4651, 4) (9302,) (4651,)\n",
      "The training accuracy for the model is  0.9596918303523224\n",
      "The testing accuracy for the model is  0.9603804708422765\n",
      "The 4 matrices for -- 1-8 -- are of sizes:  (9302, 4) (4651, 4) (9302,) (4651,)\n",
      "The training accuracy for the model is  0.9616479310459571\n",
      "The testing accuracy for the model is  0.9603229061629446\n"
     ]
    }
   ],
   "source": [
    "def svr_rbf(df, product):\n",
    "    X_train, X_test, y_train, y_test = test_train_compound(df, product)\n",
    "    print(\"The 4 matrices for --\", product, \"-- are of sizes: \", X_train.shape, X_test.shape, y_train.shape, y_test.shape)\n",
    "    svr_rbf = SVR(kernel=\"rbf\").fit(X_train, y_train)\n",
    "    \n",
    "    df_pred = pd.concat([X_test, y_test], axis = 1)\n",
    "    df_pred['predicted_wt'] = svr_rbf.predict(X_test)\n",
    "    df_pred.to_csv(r'../output/scenario6/prediction_svr_rbf_{}.csv'.format(product))\n",
    "    \n",
    "    print(\"The training accuracy for the model is \", svr_rbf.score(X_train, y_train))\n",
    "    print(\"The testing accuracy for the model is \", svr_rbf.score(X_test, y_test))\n",
    "    \n",
    "    return pd.DataFrame({'Model': 'SVR RBF Kernel',\n",
    "                           'Train Accuracy': svr_rbf.score(X_train, y_train),\n",
    "                           'Test Accuracy' : svr_rbf.score(X_test, y_test),\n",
    "                           'Compound' : i}, index=[None])\n",
    "\n",
    "for i in df.compound.value_counts().index:\n",
    "    df_results = df_results.append(svr_rbf(df, i))"
   ]
  },
  {
   "cell_type": "markdown",
   "metadata": {},
   "source": [
    "## GBR"
   ]
  },
  {
   "cell_type": "code",
   "execution_count": 18,
   "metadata": {},
   "outputs": [
    {
     "name": "stdout",
     "output_type": "stream",
     "text": [
      "The 4 matrices for -- DAO -- are of sizes:  (9302, 4) (4651, 4) (9302,) (4651,)\n",
      "The training accuracy for the model is  0.9998354145642946\n",
      "The testing accuracy for the model is  0.9977383325764363\n",
      "The 4 matrices for -- 05-85 -- are of sizes:  (9302, 4) (4651, 4) (9302,) (4651,)\n",
      "The training accuracy for the model is  0.9999903593105639\n",
      "The testing accuracy for the model is  0.9978880383625613\n",
      "The 4 matrices for -- 1-8 -- are of sizes:  (9302, 4) (4651, 4) (9302,) (4651,)\n",
      "The training accuracy for the model is  0.9999823123748479\n",
      "The testing accuracy for the model is  0.9991532071328885\n"
     ]
    }
   ],
   "source": [
    "def gbr(df, product):\n",
    "    X_train, X_test, y_train, y_test = test_train_compound(df, product)\n",
    "    print(\"The 4 matrices for --\", product, \"-- are of sizes: \", X_train.shape, X_test.shape, y_train.shape, y_test.shape)\n",
    "    gbr = GradientBoostingRegressor().fit(X_train,y_train)\n",
    "    \n",
    "    df_pred = pd.concat([X_test, y_test], axis = 1)\n",
    "    df_pred['predicted_wt'] = gbr.predict(X_test)\n",
    "    df_pred.to_csv(r'../output/scenario6/prediction_gbr_{}.csv'.format(product))\n",
    "    \n",
    "    print(\"The training accuracy for the model is \", gbr.score(X_train, y_train))\n",
    "    print(\"The testing accuracy for the model is \", gbr.score(X_test, y_test))\n",
    "    \n",
    "    return pd.DataFrame({'Model': 'Gradient Boost Regressor',\n",
    "                           'Train Accuracy': gbr.score(X_train, y_train),\n",
    "                           'Test Accuracy' : gbr.score(X_test, y_test),\n",
    "                           'Compound' : i}, index=[None])\n",
    "\n",
    "for i in df.compound.value_counts().index:\n",
    "    df_results = df_results.append(gbr(df, i))"
   ]
  },
  {
   "cell_type": "code",
   "execution_count": 7,
   "metadata": {},
   "outputs": [
    {
     "data": {
      "application/vnd.vegalite.v3+json": {
       "$schema": "https://vega.github.io/schema/vega-lite/v3.4.0.json",
       "columns": 3,
       "config": {
        "mark": {
         "tooltip": null
        },
        "view": {
         "height": 300,
         "width": 400
        }
       },
       "data": {
        "name": "data-6c6007ded5f2803d7e683171d10bfab1"
       },
       "datasets": {
        "data-6c6007ded5f2803d7e683171d10bfab1": [
         {
          "Accuracy": 0.1828230858116593,
          "Type": "training",
          "max_depth": 1,
          "n_estimator": 1
         },
         {
          "Accuracy": 0.33108035700681815,
          "Type": "training",
          "max_depth": 1,
          "n_estimator": 2
         },
         {
          "Accuracy": 0.45181411182468834,
          "Type": "training",
          "max_depth": 1,
          "n_estimator": 3
         },
         {
          "Accuracy": 0.630325673083223,
          "Type": "training",
          "max_depth": 1,
          "n_estimator": 5
         },
         {
          "Accuracy": 0.8590621003946398,
          "Type": "training",
          "max_depth": 1,
          "n_estimator": 10
         },
         {
          "Accuracy": 0.9775170486230286,
          "Type": "training",
          "max_depth": 1,
          "n_estimator": 20
         },
         {
          "Accuracy": 0.9955911727642424,
          "Type": "training",
          "max_depth": 1,
          "n_estimator": 30
         },
         {
          "Accuracy": 0.9992284193509723,
          "Type": "training",
          "max_depth": 1,
          "n_estimator": 50
         },
         {
          "Accuracy": 0.9994292099248606,
          "Type": "training",
          "max_depth": 1,
          "n_estimator": 100
         },
         {
          "Accuracy": 0.1887081167774427,
          "Type": "training",
          "max_depth": 2,
          "n_estimator": 1
         },
         {
          "Accuracy": 0.34163044444953616,
          "Type": "training",
          "max_depth": 2,
          "n_estimator": 2
         },
         {
          "Accuracy": 0.4656109644195874,
          "Type": "training",
          "max_depth": 2,
          "n_estimator": 3
         },
         {
          "Accuracy": 0.6478156775298785,
          "Type": "training",
          "max_depth": 2,
          "n_estimator": 5
         },
         {
          "Accuracy": 0.87550339091202,
          "Type": "training",
          "max_depth": 2,
          "n_estimator": 10
         },
         {
          "Accuracy": 0.9840648771043177,
          "Type": "training",
          "max_depth": 2,
          "n_estimator": 20
         },
         {
          "Accuracy": 0.9976717404509061,
          "Type": "training",
          "max_depth": 2,
          "n_estimator": 30
         },
         {
          "Accuracy": 0.999655097451354,
          "Type": "training",
          "max_depth": 2,
          "n_estimator": 50
         },
         {
          "Accuracy": 0.9997270740253184,
          "Type": "training",
          "max_depth": 2,
          "n_estimator": 100
         },
         {
          "Accuracy": 0.18964623873952524,
          "Type": "training",
          "max_depth": 3,
          "n_estimator": 1
         },
         {
          "Accuracy": 0.34328480836370523,
          "Type": "training",
          "max_depth": 3,
          "n_estimator": 2
         },
         {
          "Accuracy": 0.467774031596363,
          "Type": "training",
          "max_depth": 3,
          "n_estimator": 3
         },
         {
          "Accuracy": 0.6503865366134397,
          "Type": "training",
          "max_depth": 3,
          "n_estimator": 5
         },
         {
          "Accuracy": 0.8776116343891662,
          "Type": "training",
          "max_depth": 3,
          "n_estimator": 10
         },
         {
          "Accuracy": 0.9848052132828847,
          "Type": "training",
          "max_depth": 3,
          "n_estimator": 20
         },
         {
          "Accuracy": 0.9979368357566677,
          "Type": "training",
          "max_depth": 3,
          "n_estimator": 30
         },
         {
          "Accuracy": 0.9997693677184071,
          "Type": "training",
          "max_depth": 3,
          "n_estimator": 50
         },
         {
          "Accuracy": 0.9998354145642946,
          "Type": "training",
          "max_depth": 3,
          "n_estimator": 100
         },
         {
          "Accuracy": 0.1898754770393175,
          "Type": "training",
          "max_depth": 4,
          "n_estimator": 1
         },
         {
          "Accuracy": 0.34368351657210294,
          "Type": "training",
          "max_depth": 4,
          "n_estimator": 2
         },
         {
          "Accuracy": 0.4682773137697718,
          "Type": "training",
          "max_depth": 4,
          "n_estimator": 3
         },
         {
          "Accuracy": 0.6509850142041729,
          "Type": "training",
          "max_depth": 4,
          "n_estimator": 5
         },
         {
          "Accuracy": 0.8780999900574993,
          "Type": "training",
          "max_depth": 4,
          "n_estimator": 10
         },
         {
          "Accuracy": 0.9850097667310682,
          "Type": "training",
          "max_depth": 4,
          "n_estimator": 20
         },
         {
          "Accuracy": 0.9980375896731633,
          "Type": "training",
          "max_depth": 4,
          "n_estimator": 30
         },
         {
          "Accuracy": 0.9998417114103423,
          "Type": "training",
          "max_depth": 4,
          "n_estimator": 50
         },
         {
          "Accuracy": 0.999901260935433,
          "Type": "training",
          "max_depth": 4,
          "n_estimator": 100
         },
         {
          "Accuracy": 0.18994138315647546,
          "Type": "training",
          "max_depth": 5,
          "n_estimator": 1
         },
         {
          "Accuracy": 0.3437976388775196,
          "Type": "training",
          "max_depth": 5,
          "n_estimator": 2
         },
         {
          "Accuracy": 0.4684261565307771,
          "Type": "training",
          "max_depth": 5,
          "n_estimator": 3
         },
         {
          "Accuracy": 0.6511557406227639,
          "Type": "training",
          "max_depth": 5,
          "n_estimator": 5
         },
         {
          "Accuracy": 0.8782447228986011,
          "Type": "training",
          "max_depth": 5,
          "n_estimator": 10
         },
         {
          "Accuracy": 0.9850712028595162,
          "Type": "training",
          "max_depth": 5,
          "n_estimator": 20
         },
         {
          "Accuracy": 0.9980828408593128,
          "Type": "training",
          "max_depth": 5,
          "n_estimator": 30
         },
         {
          "Accuracy": 0.9998821841463192,
          "Type": "training",
          "max_depth": 5,
          "n_estimator": 50
         },
         {
          "Accuracy": 0.9999346239728244,
          "Type": "training",
          "max_depth": 5,
          "n_estimator": 100
         },
         {
          "Accuracy": 0.18996423731353596,
          "Type": "training",
          "max_depth": 6,
          "n_estimator": 1
         },
         {
          "Accuracy": 0.3438361770767938,
          "Type": "training",
          "max_depth": 6,
          "n_estimator": 2
         },
         {
          "Accuracy": 0.4684748492252101,
          "Type": "training",
          "max_depth": 6,
          "n_estimator": 3
         },
         {
          "Accuracy": 0.6512125459798792,
          "Type": "training",
          "max_depth": 6,
          "n_estimator": 5
         },
         {
          "Accuracy": 0.8782987477024196,
          "Type": "training",
          "max_depth": 6,
          "n_estimator": 10
         },
         {
          "Accuracy": 0.9851157926815544,
          "Type": "training",
          "max_depth": 6,
          "n_estimator": 20
         },
         {
          "Accuracy": 0.9981222439394405,
          "Type": "training",
          "max_depth": 6,
          "n_estimator": 30
         },
         {
          "Accuracy": 0.9999128122481089,
          "Type": "training",
          "max_depth": 6,
          "n_estimator": 50
         },
         {
          "Accuracy": 0.9999585459975919,
          "Type": "training",
          "max_depth": 6,
          "n_estimator": 100
         },
         {
          "Accuracy": 0.18997630610139637,
          "Type": "training",
          "max_depth": 7,
          "n_estimator": 1
         },
         {
          "Accuracy": 0.34385806220667803,
          "Type": "training",
          "max_depth": 7,
          "n_estimator": 2
         },
         {
          "Accuracy": 0.46850323269941596,
          "Type": "training",
          "max_depth": 7,
          "n_estimator": 3
         },
         {
          "Accuracy": 0.651250474702013,
          "Type": "training",
          "max_depth": 7,
          "n_estimator": 5
         },
         {
          "Accuracy": 0.8783428059933657,
          "Type": "training",
          "max_depth": 7,
          "n_estimator": 10
         },
         {
          "Accuracy": 0.9851527650648171,
          "Type": "training",
          "max_depth": 7,
          "n_estimator": 20
         },
         {
          "Accuracy": 0.9981495144286995,
          "Type": "training",
          "max_depth": 7,
          "n_estimator": 30
         },
         {
          "Accuracy": 0.9999359709786534,
          "Type": "training",
          "max_depth": 7,
          "n_estimator": 50
         },
         {
          "Accuracy": 0.9999768953579256,
          "Type": "training",
          "max_depth": 7,
          "n_estimator": 100
         },
         {
          "Accuracy": 0.17978340991336594,
          "Type": "testing",
          "max_depth": 1,
          "n_estimator": 1
         },
         {
          "Accuracy": 0.325850283671859,
          "Type": "testing",
          "max_depth": 1,
          "n_estimator": 2
         },
         {
          "Accuracy": 0.4451138883289467,
          "Type": "testing",
          "max_depth": 1,
          "n_estimator": 3
         },
         {
          "Accuracy": 0.6220126073293313,
          "Type": "testing",
          "max_depth": 1,
          "n_estimator": 5
         },
         {
          "Accuracy": 0.8507740382888082,
          "Type": "testing",
          "max_depth": 1,
          "n_estimator": 10
         },
         {
          "Accuracy": 0.9730923776090561,
          "Type": "testing",
          "max_depth": 1,
          "n_estimator": 20
         },
         {
          "Accuracy": 0.9936516470473146,
          "Type": "testing",
          "max_depth": 1,
          "n_estimator": 30
         },
         {
          "Accuracy": 0.9988686369978511,
          "Type": "testing",
          "max_depth": 1,
          "n_estimator": 50
         },
         {
          "Accuracy": 0.9993404650126219,
          "Type": "testing",
          "max_depth": 1,
          "n_estimator": 100
         },
         {
          "Accuracy": 0.18422283229085112,
          "Type": "testing",
          "max_depth": 2,
          "n_estimator": 1
         },
         {
          "Accuracy": 0.3340031638932788,
          "Type": "testing",
          "max_depth": 2,
          "n_estimator": 2
         },
         {
          "Accuracy": 0.4558354352732197,
          "Type": "testing",
          "max_depth": 2,
          "n_estimator": 3
         },
         {
          "Accuracy": 0.6369984845616125,
          "Type": "testing",
          "max_depth": 2,
          "n_estimator": 5
         },
         {
          "Accuracy": 0.8656931896155411,
          "Type": "testing",
          "max_depth": 2,
          "n_estimator": 10
         },
         {
          "Accuracy": 0.9776855231468641,
          "Type": "testing",
          "max_depth": 2,
          "n_estimator": 20
         },
         {
          "Accuracy": 0.9944067154966647,
          "Type": "testing",
          "max_depth": 2,
          "n_estimator": 30
         },
         {
          "Accuracy": 0.9979207941398917,
          "Type": "testing",
          "max_depth": 2,
          "n_estimator": 50
         },
         {
          "Accuracy": 0.9980480286111734,
          "Type": "testing",
          "max_depth": 2,
          "n_estimator": 100
         },
         {
          "Accuracy": 0.1859331603206168,
          "Type": "testing",
          "max_depth": 3,
          "n_estimator": 1
         },
         {
          "Accuracy": 0.33698359532111,
          "Type": "testing",
          "max_depth": 3,
          "n_estimator": 2
         },
         {
          "Accuracy": 0.4592787778245576,
          "Type": "testing",
          "max_depth": 3,
          "n_estimator": 3
         },
         {
          "Accuracy": 0.6400012888821364,
          "Type": "testing",
          "max_depth": 3,
          "n_estimator": 5
         },
         {
          "Accuracy": 0.8654462058307408,
          "Type": "testing",
          "max_depth": 3,
          "n_estimator": 10
         },
         {
          "Accuracy": 0.9783559962794267,
          "Type": "testing",
          "max_depth": 3,
          "n_estimator": 20
         },
         {
          "Accuracy": 0.9943960872680712,
          "Type": "testing",
          "max_depth": 3,
          "n_estimator": 30
         },
         {
          "Accuracy": 0.9977534305376664,
          "Type": "testing",
          "max_depth": 3,
          "n_estimator": 50
         },
         {
          "Accuracy": 0.9977325566303774,
          "Type": "testing",
          "max_depth": 3,
          "n_estimator": 100
         },
         {
          "Accuracy": 0.1863328471179322,
          "Type": "testing",
          "max_depth": 4,
          "n_estimator": 1
         },
         {
          "Accuracy": 0.3374751308899704,
          "Type": "testing",
          "max_depth": 4,
          "n_estimator": 2
         },
         {
          "Accuracy": 0.46013763128350904,
          "Type": "testing",
          "max_depth": 4,
          "n_estimator": 3
         },
         {
          "Accuracy": 0.6407739236040999,
          "Type": "testing",
          "max_depth": 4,
          "n_estimator": 5
         },
         {
          "Accuracy": 0.8658291246316195,
          "Type": "testing",
          "max_depth": 4,
          "n_estimator": 10
         },
         {
          "Accuracy": 0.9775553234518669,
          "Type": "testing",
          "max_depth": 4,
          "n_estimator": 20
         },
         {
          "Accuracy": 0.9936331120388445,
          "Type": "testing",
          "max_depth": 4,
          "n_estimator": 30
         },
         {
          "Accuracy": 0.9970226006449162,
          "Type": "testing",
          "max_depth": 4,
          "n_estimator": 50
         },
         {
          "Accuracy": 0.9969882500806614,
          "Type": "testing",
          "max_depth": 4,
          "n_estimator": 100
         },
         {
          "Accuracy": 0.184745258381095,
          "Type": "testing",
          "max_depth": 5,
          "n_estimator": 1
         },
         {
          "Accuracy": 0.33500052463582897,
          "Type": "testing",
          "max_depth": 5,
          "n_estimator": 2
         },
         {
          "Accuracy": 0.457619371805461,
          "Type": "testing",
          "max_depth": 5,
          "n_estimator": 3
         },
         {
          "Accuracy": 0.6384592262621063,
          "Type": "testing",
          "max_depth": 5,
          "n_estimator": 5
         },
         {
          "Accuracy": 0.8657107138483233,
          "Type": "testing",
          "max_depth": 5,
          "n_estimator": 10
         },
         {
          "Accuracy": 0.9776027326983808,
          "Type": "testing",
          "max_depth": 5,
          "n_estimator": 20
         },
         {
          "Accuracy": 0.9933727488099321,
          "Type": "testing",
          "max_depth": 5,
          "n_estimator": 30
         },
         {
          "Accuracy": 0.9966242041089889,
          "Type": "testing",
          "max_depth": 5,
          "n_estimator": 50
         },
         {
          "Accuracy": 0.9967454103309265,
          "Type": "testing",
          "max_depth": 5,
          "n_estimator": 100
         },
         {
          "Accuracy": 0.18527770257188347,
          "Type": "testing",
          "max_depth": 6,
          "n_estimator": 1
         },
         {
          "Accuracy": 0.335667245993275,
          "Type": "testing",
          "max_depth": 6,
          "n_estimator": 2
         },
         {
          "Accuracy": 0.458172734677298,
          "Type": "testing",
          "max_depth": 6,
          "n_estimator": 3
         },
         {
          "Accuracy": 0.6384770079018133,
          "Type": "testing",
          "max_depth": 6,
          "n_estimator": 5
         },
         {
          "Accuracy": 0.8654203996786528,
          "Type": "testing",
          "max_depth": 6,
          "n_estimator": 10
         },
         {
          "Accuracy": 0.9771529621078634,
          "Type": "testing",
          "max_depth": 6,
          "n_estimator": 20
         },
         {
          "Accuracy": 0.9930009858857306,
          "Type": "testing",
          "max_depth": 6,
          "n_estimator": 30
         },
         {
          "Accuracy": 0.9962440345273161,
          "Type": "testing",
          "max_depth": 6,
          "n_estimator": 50
         },
         {
          "Accuracy": 0.9964837033078006,
          "Type": "testing",
          "max_depth": 6,
          "n_estimator": 100
         },
         {
          "Accuracy": 0.18524141065166067,
          "Type": "testing",
          "max_depth": 7,
          "n_estimator": 1
         },
         {
          "Accuracy": 0.3358838733077085,
          "Type": "testing",
          "max_depth": 7,
          "n_estimator": 2
         },
         {
          "Accuracy": 0.4583376606397188,
          "Type": "testing",
          "max_depth": 7,
          "n_estimator": 3
         },
         {
          "Accuracy": 0.638304386289211,
          "Type": "testing",
          "max_depth": 7,
          "n_estimator": 5
         },
         {
          "Accuracy": 0.8654893786143614,
          "Type": "testing",
          "max_depth": 7,
          "n_estimator": 10
         },
         {
          "Accuracy": 0.9773693370214466,
          "Type": "testing",
          "max_depth": 7,
          "n_estimator": 20
         },
         {
          "Accuracy": 0.9932299328452463,
          "Type": "testing",
          "max_depth": 7,
          "n_estimator": 30
         },
         {
          "Accuracy": 0.9965709753142452,
          "Type": "testing",
          "max_depth": 7,
          "n_estimator": 50
         },
         {
          "Accuracy": 0.9967962086770368,
          "Type": "testing",
          "max_depth": 7,
          "n_estimator": 100
         }
        ]
       },
       "encoding": {
        "color": {
         "field": "Type",
         "type": "nominal"
        },
        "facet": {
         "field": "max_depth",
         "type": "quantitative"
        },
        "x": {
         "field": "n_estimator",
         "type": "quantitative"
        },
        "y": {
         "field": "Accuracy",
         "scale": {
          "domain": [
           0,
           1
          ]
         },
         "type": "quantitative"
        }
       },
       "height": 200,
       "mark": "line",
       "width": 200
      },
      "image/png": "[encoded data removed]",
      "text/plain": [
       "<VegaLite 3 object>\n",
       "\n",
       "If you see this message, it means the renderer has not been properly enabled\n",
       "for the frontend that you are using. For more information, see\n",
       "https://altair-viz.github.io/user_guide/troubleshooting.html\n"
      ]
     },
     "execution_count": 7,
     "metadata": {},
     "output_type": "execute_result"
    }
   ],
   "source": [
    "n_est = [1,2,3,5,10,20,30,50,100]\n",
    "max_depth = range(1,8)\n",
    "X_train, X_test, y_train, y_test = test_train_compound(df, \"DAO\")\n",
    "trees = []\n",
    "train_acc = []\n",
    "test_acc = []\n",
    "depth = []\n",
    "for j in max_depth:\n",
    "    for i in n_est:\n",
    "        trees.append(i)\n",
    "        depth.append(j)\n",
    "        gbr = GradientBoostingRegressor(n_estimators = i, max_depth = j, random_state=0).fit(X_train, y_train)\n",
    "        train_acc.append(gbr.score(X_train, y_train))\n",
    "        test_acc.append(gbr.score(X_test, y_test))\n",
    "        #print(j,i)\n",
    "df_gbr = pd.DataFrame({'training' : train_acc,\n",
    "                      'testing' : test_acc,\n",
    "                      'n_estimator' : trees,\n",
    "                      'max_depth' : depth})\n",
    "df_gbr = df_gbr.melt(id_vars = ['n_estimator', 'max_depth'], var_name = 'Type', value_name = 'Accuracy')\n",
    "df_gbr\n",
    "alt.Chart(df_gbr).mark_line().encode(\n",
    "    alt.X('n_estimator'),\n",
    "    alt.Y('Accuracy', scale=alt.Scale(domain=[0, 1])),\n",
    "    alt.Color('Type'),\n",
    "    alt.Facet('max_depth')\n",
    "    ).properties(width = 200, height = 200, columns = 3)"
   ]
  },
  {
   "cell_type": "code",
   "execution_count": 19,
   "metadata": {},
   "outputs": [],
   "source": [
    "df_results.to_csv('../output/scenario6/results_table.csv')"
   ]
  },
  {
   "cell_type": "code",
   "execution_count": null,
   "metadata": {},
   "outputs": [],
   "source": []
  }
 ],
 "metadata": {
  "kernelspec": {
   "display_name": "Python 3",
   "language": "python",
   "name": "python3"
  },
  "language_info": {
   "codemirror_mode": {
    "name": "ipython",
    "version": 3
   },
   "file_extension": ".py",
   "mimetype": "text/x-python",
   "name": "python",
   "nbconvert_exporter": "python",
   "pygments_lexer": "ipython3",
   "version": "3.7.6"
  }
 },
 "nbformat": 4,
 "nbformat_minor": 4
}
