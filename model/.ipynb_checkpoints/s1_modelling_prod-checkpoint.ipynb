{
 "cells": [
  {
   "cell_type": "code",
   "execution_count": 1,
   "metadata": {},
   "outputs": [
    {
     "data": {
      "text/plain": [
       "DataTransformerRegistry.enable('default')"
      ]
     },
     "execution_count": 1,
     "metadata": {},
     "output_type": "execute_result"
    }
   ],
   "source": [
    "import pandas as pd\n",
    "from sklearn.model_selection import train_test_split\n",
    "from sklearn.linear_model import LinearRegression\n",
    "from sklearn.ensemble import RandomForestRegressor\n",
    "from sklearn.svm import SVR\n",
    "from sklearn import tree\n",
    "from sklearn.tree import export_graphviz\n",
    "import altair as alt\n",
    "from dtreeviz.trees import dtreeviz # will be used for tree visualization\n",
    "from matplotlib import pyplot as plt\n",
    "from sklearn.cross_decomposition import PLSRegression\n",
    "from sklearn.ensemble import GradientBoostingRegressor\n",
    "alt.data_transformers.disable_max_rows()"
   ]
  },
  {
   "cell_type": "markdown",
   "metadata": {},
   "source": [
    "## File Import"
   ]
  },
  {
   "cell_type": "code",
   "execution_count": 2,
   "metadata": {},
   "outputs": [
    {
     "data": {
      "text/html": [
       "<div>\n",
       "<style scoped>\n",
       "    .dataframe tbody tr th:only-of-type {\n",
       "        vertical-align: middle;\n",
       "    }\n",
       "\n",
       "    .dataframe tbody tr th {\n",
       "        vertical-align: top;\n",
       "    }\n",
       "\n",
       "    .dataframe thead th {\n",
       "        text-align: right;\n",
       "    }\n",
       "</style>\n",
       "<table border=\"1\" class=\"dataframe\">\n",
       "  <thead>\n",
       "    <tr style=\"text-align: right;\">\n",
       "      <th></th>\n",
       "      <th>Ts</th>\n",
       "      <th>t</th>\n",
       "      <th>HF</th>\n",
       "      <th>Weight</th>\n",
       "      <th>Tr</th>\n",
       "      <th>sheet_name</th>\n",
       "      <th>compound</th>\n",
       "      <th>condition</th>\n",
       "      <th>exp_no</th>\n",
       "    </tr>\n",
       "  </thead>\n",
       "  <tbody>\n",
       "    <tr>\n",
       "      <th>0</th>\n",
       "      <td>37.9761</td>\n",
       "      <td>0</td>\n",
       "      <td>0.688240</td>\n",
       "      <td>100.0000</td>\n",
       "      <td>25.0000</td>\n",
       "      <td>I1-30-1</td>\n",
       "      <td>I1</td>\n",
       "      <td>30</td>\n",
       "      <td>1</td>\n",
       "    </tr>\n",
       "    <tr>\n",
       "      <th>1</th>\n",
       "      <td>37.9745</td>\n",
       "      <td>1</td>\n",
       "      <td>0.669934</td>\n",
       "      <td>99.9798</td>\n",
       "      <td>25.1667</td>\n",
       "      <td>I1-30-1</td>\n",
       "      <td>I1</td>\n",
       "      <td>30</td>\n",
       "      <td>1</td>\n",
       "    </tr>\n",
       "    <tr>\n",
       "      <th>2</th>\n",
       "      <td>37.9844</td>\n",
       "      <td>2</td>\n",
       "      <td>0.657603</td>\n",
       "      <td>99.9667</td>\n",
       "      <td>25.3333</td>\n",
       "      <td>I1-30-1</td>\n",
       "      <td>I1</td>\n",
       "      <td>30</td>\n",
       "      <td>1</td>\n",
       "    </tr>\n",
       "    <tr>\n",
       "      <th>3</th>\n",
       "      <td>38.0142</td>\n",
       "      <td>3</td>\n",
       "      <td>0.645318</td>\n",
       "      <td>99.9584</td>\n",
       "      <td>25.5000</td>\n",
       "      <td>I1-30-1</td>\n",
       "      <td>I1</td>\n",
       "      <td>30</td>\n",
       "      <td>1</td>\n",
       "    </tr>\n",
       "    <tr>\n",
       "      <th>4</th>\n",
       "      <td>38.0930</td>\n",
       "      <td>4</td>\n",
       "      <td>0.653498</td>\n",
       "      <td>99.9616</td>\n",
       "      <td>25.6667</td>\n",
       "      <td>I1-30-1</td>\n",
       "      <td>I1</td>\n",
       "      <td>30</td>\n",
       "      <td>1</td>\n",
       "    </tr>\n",
       "    <tr>\n",
       "      <th>...</th>\n",
       "      <td>...</td>\n",
       "      <td>...</td>\n",
       "      <td>...</td>\n",
       "      <td>...</td>\n",
       "      <td>...</td>\n",
       "      <td>...</td>\n",
       "      <td>...</td>\n",
       "      <td>...</td>\n",
       "      <td>...</td>\n",
       "    </tr>\n",
       "    <tr>\n",
       "      <th>144176</th>\n",
       "      <td>505.7480</td>\n",
       "      <td>4646</td>\n",
       "      <td>222.131000</td>\n",
       "      <td>51.6847</td>\n",
       "      <td>500.0000</td>\n",
       "      <td>DAO-60-3</td>\n",
       "      <td>DAO</td>\n",
       "      <td>60</td>\n",
       "      <td>3</td>\n",
       "    </tr>\n",
       "    <tr>\n",
       "      <th>144177</th>\n",
       "      <td>505.7490</td>\n",
       "      <td>4647</td>\n",
       "      <td>222.124000</td>\n",
       "      <td>51.6847</td>\n",
       "      <td>500.0000</td>\n",
       "      <td>DAO-60-3</td>\n",
       "      <td>DAO</td>\n",
       "      <td>60</td>\n",
       "      <td>3</td>\n",
       "    </tr>\n",
       "    <tr>\n",
       "      <th>144178</th>\n",
       "      <td>505.7480</td>\n",
       "      <td>4648</td>\n",
       "      <td>222.116000</td>\n",
       "      <td>51.6847</td>\n",
       "      <td>500.0000</td>\n",
       "      <td>DAO-60-3</td>\n",
       "      <td>DAO</td>\n",
       "      <td>60</td>\n",
       "      <td>3</td>\n",
       "    </tr>\n",
       "    <tr>\n",
       "      <th>144179</th>\n",
       "      <td>505.7430</td>\n",
       "      <td>4649</td>\n",
       "      <td>222.110000</td>\n",
       "      <td>51.6847</td>\n",
       "      <td>500.0000</td>\n",
       "      <td>DAO-60-3</td>\n",
       "      <td>DAO</td>\n",
       "      <td>60</td>\n",
       "      <td>3</td>\n",
       "    </tr>\n",
       "    <tr>\n",
       "      <th>144180</th>\n",
       "      <td>505.7540</td>\n",
       "      <td>4650</td>\n",
       "      <td>222.107000</td>\n",
       "      <td>51.6847</td>\n",
       "      <td>500.0000</td>\n",
       "      <td>DAO-60-3</td>\n",
       "      <td>DAO</td>\n",
       "      <td>60</td>\n",
       "      <td>3</td>\n",
       "    </tr>\n",
       "  </tbody>\n",
       "</table>\n",
       "<p>144181 rows × 9 columns</p>\n",
       "</div>"
      ],
      "text/plain": [
       "              Ts     t          HF    Weight        Tr sheet_name compound  \\\n",
       "0        37.9761     0    0.688240  100.0000   25.0000    I1-30-1       I1   \n",
       "1        37.9745     1    0.669934   99.9798   25.1667    I1-30-1       I1   \n",
       "2        37.9844     2    0.657603   99.9667   25.3333    I1-30-1       I1   \n",
       "3        38.0142     3    0.645318   99.9584   25.5000    I1-30-1       I1   \n",
       "4        38.0930     4    0.653498   99.9616   25.6667    I1-30-1       I1   \n",
       "...          ...   ...         ...       ...       ...        ...      ...   \n",
       "144176  505.7480  4646  222.131000   51.6847  500.0000   DAO-60-3      DAO   \n",
       "144177  505.7490  4647  222.124000   51.6847  500.0000   DAO-60-3      DAO   \n",
       "144178  505.7480  4648  222.116000   51.6847  500.0000   DAO-60-3      DAO   \n",
       "144179  505.7430  4649  222.110000   51.6847  500.0000   DAO-60-3      DAO   \n",
       "144180  505.7540  4650  222.107000   51.6847  500.0000   DAO-60-3      DAO   \n",
       "\n",
       "        condition  exp_no  \n",
       "0              30       1  \n",
       "1              30       1  \n",
       "2              30       1  \n",
       "3              30       1  \n",
       "4              30       1  \n",
       "...           ...     ...  \n",
       "144176         60       3  \n",
       "144177         60       3  \n",
       "144178         60       3  \n",
       "144179         60       3  \n",
       "144180         60       3  \n",
       "\n",
       "[144181 rows x 9 columns]"
      ]
     },
     "execution_count": 2,
     "metadata": {},
     "output_type": "execute_result"
    }
   ],
   "source": [
    "df = pd.read_csv(\"../data_input/prod_v1.csv\", index_col = None)\n",
    "df = df.drop(columns = 'Unnamed: 0')\n",
    "df"
   ]
  },
  {
   "cell_type": "code",
   "execution_count": 3,
   "metadata": {},
   "outputs": [],
   "source": [
    "def test_train_compound(df, product):\n",
    "    \"\"\"\n",
    "    Function to split test/train data for each compound\n",
    "    \n",
    "    Argument:\n",
    "        df      : pandas dataframe\n",
    "        product : tbbpa, caoh2, both\n",
    "        \n",
    "    Output:\n",
    "        X_train, X_test, y_train, y_test : 4 pandas dataframe which have the split data \n",
    "    \"\"\"\n",
    "    df = df.query('compound == @product')\n",
    "    X_train, X_test, y_train, y_test = train_test_split(df[[\"Ts\", 't', 'HF', 'Tr', 'condition']], df[\"Weight\"], test_size=0.2, random_state=7)\n",
    "    return X_train, X_test, y_train, y_test"
   ]
  },
  {
   "cell_type": "code",
   "execution_count": 4,
   "metadata": {},
   "outputs": [
    {
     "data": {
      "text/html": [
       "<div>\n",
       "<style scoped>\n",
       "    .dataframe tbody tr th:only-of-type {\n",
       "        vertical-align: middle;\n",
       "    }\n",
       "\n",
       "    .dataframe tbody tr th {\n",
       "        vertical-align: top;\n",
       "    }\n",
       "\n",
       "    .dataframe thead th {\n",
       "        text-align: right;\n",
       "    }\n",
       "</style>\n",
       "<table border=\"1\" class=\"dataframe\">\n",
       "  <thead>\n",
       "    <tr style=\"text-align: right;\">\n",
       "      <th></th>\n",
       "      <th>Model</th>\n",
       "      <th>Compound</th>\n",
       "      <th>Train Accuracy</th>\n",
       "      <th>Test Accuracy</th>\n",
       "    </tr>\n",
       "  </thead>\n",
       "  <tbody>\n",
       "  </tbody>\n",
       "</table>\n",
       "</div>"
      ],
      "text/plain": [
       "Empty DataFrame\n",
       "Columns: [Model, Compound, Train Accuracy, Test Accuracy]\n",
       "Index: []"
      ]
     },
     "execution_count": 4,
     "metadata": {},
     "output_type": "execute_result"
    }
   ],
   "source": [
    "df_results = pd.DataFrame({'Model': [],\n",
    "                           'Compound' : [],\n",
    "                           'Train Accuracy': [],\n",
    "                           'Test Accuracy' : []\n",
    "                           })\n",
    "df_results"
   ]
  },
  {
   "cell_type": "markdown",
   "metadata": {},
   "source": [
    "## Summary"
   ]
  },
  {
   "cell_type": "code",
   "execution_count": 17,
   "metadata": {},
   "outputs": [
    {
     "data": {
      "text/html": [
       "<div>\n",
       "<style scoped>\n",
       "    .dataframe tbody tr th:only-of-type {\n",
       "        vertical-align: middle;\n",
       "    }\n",
       "\n",
       "    .dataframe tbody tr th {\n",
       "        vertical-align: top;\n",
       "    }\n",
       "\n",
       "    .dataframe thead th {\n",
       "        text-align: right;\n",
       "    }\n",
       "</style>\n",
       "<table border=\"1\" class=\"dataframe\">\n",
       "  <thead>\n",
       "    <tr style=\"text-align: right;\">\n",
       "      <th></th>\n",
       "      <th>Model</th>\n",
       "      <th>Compound</th>\n",
       "      <th>Train Accuracy</th>\n",
       "      <th>Test Accuracy</th>\n",
       "    </tr>\n",
       "  </thead>\n",
       "  <tbody>\n",
       "    <tr>\n",
       "      <th>NaN</th>\n",
       "      <td>Linear Regression</td>\n",
       "      <td>I05</td>\n",
       "      <td>0.974493</td>\n",
       "      <td>0.974227</td>\n",
       "    </tr>\n",
       "    <tr>\n",
       "      <th>NaN</th>\n",
       "      <td>Linear Regression</td>\n",
       "      <td>I1</td>\n",
       "      <td>0.923832</td>\n",
       "      <td>0.922688</td>\n",
       "    </tr>\n",
       "    <tr>\n",
       "      <th>NaN</th>\n",
       "      <td>Linear Regression</td>\n",
       "      <td>DAO</td>\n",
       "      <td>0.921326</td>\n",
       "      <td>0.921061</td>\n",
       "    </tr>\n",
       "    <tr>\n",
       "      <th>NaN</th>\n",
       "      <td>Partial Least Squares (n=2)</td>\n",
       "      <td>I05</td>\n",
       "      <td>0.930609</td>\n",
       "      <td>0.930020</td>\n",
       "    </tr>\n",
       "    <tr>\n",
       "      <th>NaN</th>\n",
       "      <td>Partial Least Squares (n=2)</td>\n",
       "      <td>I1</td>\n",
       "      <td>0.840126</td>\n",
       "      <td>0.844902</td>\n",
       "    </tr>\n",
       "    <tr>\n",
       "      <th>NaN</th>\n",
       "      <td>Partial Least Squares (n=2)</td>\n",
       "      <td>DAO</td>\n",
       "      <td>0.873966</td>\n",
       "      <td>0.873322</td>\n",
       "    </tr>\n",
       "    <tr>\n",
       "      <th>NaN</th>\n",
       "      <td>Partial Least Squares (n=3)</td>\n",
       "      <td>I05</td>\n",
       "      <td>0.945850</td>\n",
       "      <td>0.946298</td>\n",
       "    </tr>\n",
       "    <tr>\n",
       "      <th>NaN</th>\n",
       "      <td>Partial Least Squares (n=3)</td>\n",
       "      <td>I1</td>\n",
       "      <td>0.888972</td>\n",
       "      <td>0.888496</td>\n",
       "    </tr>\n",
       "    <tr>\n",
       "      <th>NaN</th>\n",
       "      <td>Partial Least Squares (n=3)</td>\n",
       "      <td>DAO</td>\n",
       "      <td>0.880899</td>\n",
       "      <td>0.879440</td>\n",
       "    </tr>\n",
       "    <tr>\n",
       "      <th>NaN</th>\n",
       "      <td>Random Forest Regression (max_depth = 2)</td>\n",
       "      <td>I05</td>\n",
       "      <td>0.983214</td>\n",
       "      <td>0.982906</td>\n",
       "    </tr>\n",
       "    <tr>\n",
       "      <th>NaN</th>\n",
       "      <td>Random Forest Regression (max_depth = 2)</td>\n",
       "      <td>I1</td>\n",
       "      <td>0.945350</td>\n",
       "      <td>0.944503</td>\n",
       "    </tr>\n",
       "    <tr>\n",
       "      <th>NaN</th>\n",
       "      <td>Random Forest Regression (max_depth = 2)</td>\n",
       "      <td>DAO</td>\n",
       "      <td>0.943801</td>\n",
       "      <td>0.942820</td>\n",
       "    </tr>\n",
       "    <tr>\n",
       "      <th>NaN</th>\n",
       "      <td>Random Forest Regression (max_depth = 5)</td>\n",
       "      <td>I05</td>\n",
       "      <td>0.995641</td>\n",
       "      <td>0.995418</td>\n",
       "    </tr>\n",
       "    <tr>\n",
       "      <th>NaN</th>\n",
       "      <td>Random Forest Regression (max_depth = 5)</td>\n",
       "      <td>I1</td>\n",
       "      <td>0.989845</td>\n",
       "      <td>0.989679</td>\n",
       "    </tr>\n",
       "    <tr>\n",
       "      <th>NaN</th>\n",
       "      <td>Random Forest Regression (max_depth = 5)</td>\n",
       "      <td>DAO</td>\n",
       "      <td>0.983406</td>\n",
       "      <td>0.983209</td>\n",
       "    </tr>\n",
       "    <tr>\n",
       "      <th>NaN</th>\n",
       "      <td>Random Forest Regression (max_depth = 7)</td>\n",
       "      <td>I05</td>\n",
       "      <td>0.997099</td>\n",
       "      <td>0.996906</td>\n",
       "    </tr>\n",
       "    <tr>\n",
       "      <th>NaN</th>\n",
       "      <td>Random Forest Regression (max_depth = 7)</td>\n",
       "      <td>I1</td>\n",
       "      <td>0.996684</td>\n",
       "      <td>0.996523</td>\n",
       "    </tr>\n",
       "    <tr>\n",
       "      <th>NaN</th>\n",
       "      <td>Random Forest Regression (max_depth = 7)</td>\n",
       "      <td>DAO</td>\n",
       "      <td>0.991888</td>\n",
       "      <td>0.991711</td>\n",
       "    </tr>\n",
       "    <tr>\n",
       "      <th>NaN</th>\n",
       "      <td>Random Forest Regression (max_depth = 10)</td>\n",
       "      <td>I05</td>\n",
       "      <td>0.999068</td>\n",
       "      <td>0.998856</td>\n",
       "    </tr>\n",
       "    <tr>\n",
       "      <th>NaN</th>\n",
       "      <td>Random Forest Regression (max_depth = 10)</td>\n",
       "      <td>I1</td>\n",
       "      <td>0.999322</td>\n",
       "      <td>0.999039</td>\n",
       "    </tr>\n",
       "    <tr>\n",
       "      <th>NaN</th>\n",
       "      <td>Random Forest Regression (max_depth = 10)</td>\n",
       "      <td>DAO</td>\n",
       "      <td>0.996817</td>\n",
       "      <td>0.996872</td>\n",
       "    </tr>\n",
       "    <tr>\n",
       "      <th>NaN</th>\n",
       "      <td>SVR RBF Kernel</td>\n",
       "      <td>I05</td>\n",
       "      <td>0.986913</td>\n",
       "      <td>0.986719</td>\n",
       "    </tr>\n",
       "    <tr>\n",
       "      <th>NaN</th>\n",
       "      <td>SVR RBF Kernel</td>\n",
       "      <td>I1</td>\n",
       "      <td>0.904973</td>\n",
       "      <td>0.901034</td>\n",
       "    </tr>\n",
       "    <tr>\n",
       "      <th>NaN</th>\n",
       "      <td>SVR RBF Kernel</td>\n",
       "      <td>DAO</td>\n",
       "      <td>0.912509</td>\n",
       "      <td>0.911180</td>\n",
       "    </tr>\n",
       "    <tr>\n",
       "      <th>NaN</th>\n",
       "      <td>Gradient Boost Regressor</td>\n",
       "      <td>I05</td>\n",
       "      <td>0.997567</td>\n",
       "      <td>0.997397</td>\n",
       "    </tr>\n",
       "    <tr>\n",
       "      <th>NaN</th>\n",
       "      <td>Gradient Boost Regressor</td>\n",
       "      <td>I1</td>\n",
       "      <td>0.996053</td>\n",
       "      <td>0.996081</td>\n",
       "    </tr>\n",
       "    <tr>\n",
       "      <th>NaN</th>\n",
       "      <td>Gradient Boost Regressor</td>\n",
       "      <td>DAO</td>\n",
       "      <td>0.994465</td>\n",
       "      <td>0.994648</td>\n",
       "    </tr>\n",
       "  </tbody>\n",
       "</table>\n",
       "</div>"
      ],
      "text/plain": [
       "                                         Model Compound  Train Accuracy  \\\n",
       "NaN                          Linear Regression      I05        0.974493   \n",
       "NaN                          Linear Regression       I1        0.923832   \n",
       "NaN                          Linear Regression      DAO        0.921326   \n",
       "NaN                Partial Least Squares (n=2)      I05        0.930609   \n",
       "NaN                Partial Least Squares (n=2)       I1        0.840126   \n",
       "NaN                Partial Least Squares (n=2)      DAO        0.873966   \n",
       "NaN                Partial Least Squares (n=3)      I05        0.945850   \n",
       "NaN                Partial Least Squares (n=3)       I1        0.888972   \n",
       "NaN                Partial Least Squares (n=3)      DAO        0.880899   \n",
       "NaN   Random Forest Regression (max_depth = 2)      I05        0.983214   \n",
       "NaN   Random Forest Regression (max_depth = 2)       I1        0.945350   \n",
       "NaN   Random Forest Regression (max_depth = 2)      DAO        0.943801   \n",
       "NaN   Random Forest Regression (max_depth = 5)      I05        0.995641   \n",
       "NaN   Random Forest Regression (max_depth = 5)       I1        0.989845   \n",
       "NaN   Random Forest Regression (max_depth = 5)      DAO        0.983406   \n",
       "NaN   Random Forest Regression (max_depth = 7)      I05        0.997099   \n",
       "NaN   Random Forest Regression (max_depth = 7)       I1        0.996684   \n",
       "NaN   Random Forest Regression (max_depth = 7)      DAO        0.991888   \n",
       "NaN  Random Forest Regression (max_depth = 10)      I05        0.999068   \n",
       "NaN  Random Forest Regression (max_depth = 10)       I1        0.999322   \n",
       "NaN  Random Forest Regression (max_depth = 10)      DAO        0.996817   \n",
       "NaN                             SVR RBF Kernel      I05        0.986913   \n",
       "NaN                             SVR RBF Kernel       I1        0.904973   \n",
       "NaN                             SVR RBF Kernel      DAO        0.912509   \n",
       "NaN                   Gradient Boost Regressor      I05        0.997567   \n",
       "NaN                   Gradient Boost Regressor       I1        0.996053   \n",
       "NaN                   Gradient Boost Regressor      DAO        0.994465   \n",
       "\n",
       "     Test Accuracy  \n",
       "NaN       0.974227  \n",
       "NaN       0.922688  \n",
       "NaN       0.921061  \n",
       "NaN       0.930020  \n",
       "NaN       0.844902  \n",
       "NaN       0.873322  \n",
       "NaN       0.946298  \n",
       "NaN       0.888496  \n",
       "NaN       0.879440  \n",
       "NaN       0.982906  \n",
       "NaN       0.944503  \n",
       "NaN       0.942820  \n",
       "NaN       0.995418  \n",
       "NaN       0.989679  \n",
       "NaN       0.983209  \n",
       "NaN       0.996906  \n",
       "NaN       0.996523  \n",
       "NaN       0.991711  \n",
       "NaN       0.998856  \n",
       "NaN       0.999039  \n",
       "NaN       0.996872  \n",
       "NaN       0.986719  \n",
       "NaN       0.901034  \n",
       "NaN       0.911180  \n",
       "NaN       0.997397  \n",
       "NaN       0.996081  \n",
       "NaN       0.994648  "
      ]
     },
     "execution_count": 17,
     "metadata": {},
     "output_type": "execute_result"
    }
   ],
   "source": [
    "df_results"
   ]
  },
  {
   "cell_type": "markdown",
   "metadata": {},
   "source": [
    "## Linear Modelling"
   ]
  },
  {
   "cell_type": "code",
   "execution_count": 6,
   "metadata": {},
   "outputs": [
    {
     "name": "stdout",
     "output_type": "stream",
     "text": [
      "The 4 matrices for -- I05 -- are of sizes:  (44649, 5) (11163, 5) (44649,) (11163,)\n",
      "The training accuracy for the model is  0.9744925643304561\n",
      "The testing accuracy for the model is  0.9742267992794332\n",
      "The 4 matrices for -- I1 -- are of sizes:  (37208, 5) (9302, 5) (37208,) (9302,)\n",
      "The training accuracy for the model is  0.9238318696057963\n",
      "The testing accuracy for the model is  0.9226880056933087\n",
      "The 4 matrices for -- DAO -- are of sizes:  (33487, 5) (8372, 5) (33487,) (8372,)\n",
      "The training accuracy for the model is  0.9213258292476311\n",
      "The testing accuracy for the model is  0.921060580225827\n"
     ]
    }
   ],
   "source": [
    "def linear_model(df, product):\n",
    "    X_train, X_test, y_train, y_test = test_train_compound(df, product)\n",
    "    print(\"The 4 matrices for --\", product, \"-- are of sizes: \", X_train.shape, X_test.shape, y_train.shape, y_test.shape)\n",
    "    lr = LinearRegression().fit(X_train, y_train)\n",
    "    \n",
    "    \n",
    "    df_pred = df.query(\"compound == @product\").copy()\n",
    "    df_pred['predicted_wt'] = lr.predict(df.query(\"compound == @product\")[['Ts', 't', 'HF', 'Tr', 'condition']])\n",
    "    df_pred.to_csv(r'../output/scenario1/prediction_lr_{}.csv'.format(product))\n",
    "    \n",
    "    \n",
    "    print(\"The training accuracy for the model is \", lr.score(X_train, y_train))\n",
    "    print(\"The testing accuracy for the model is \", lr.score(X_test, y_test))\n",
    "    return pd.DataFrame({'Model': 'Linear Regression',\n",
    "                           'Train Accuracy': lr.score(X_train, y_train),\n",
    "                           'Test Accuracy' : lr.score(X_test, y_test),\n",
    "                           'Compound' : product}, index = [None])\n",
    "    \n",
    "for i in df.compound.value_counts().index:\n",
    "    df_results = df_results.append(linear_model(df, i))\n",
    "    "
   ]
  },
  {
   "cell_type": "markdown",
   "metadata": {},
   "source": [
    "## PLSR"
   ]
  },
  {
   "cell_type": "code",
   "execution_count": 7,
   "metadata": {},
   "outputs": [
    {
     "name": "stdout",
     "output_type": "stream",
     "text": [
      "The 4 matrices for -- I05 -- are of sizes:  (44649, 5) (11163, 5) (44649,) (11163,)\n",
      "The training accuracy for the model is  0.9306094690878944\n",
      "The testing accuracy for the model is  0.9300204157066848\n",
      "The 4 matrices for -- I1 -- are of sizes:  (37208, 5) (9302, 5) (37208,) (9302,)\n",
      "The training accuracy for the model is  0.840126441476921\n",
      "The testing accuracy for the model is  0.8449019091632566\n",
      "The 4 matrices for -- DAO -- are of sizes:  (33487, 5) (8372, 5) (33487,) (8372,)\n",
      "The training accuracy for the model is  0.8739661723333536\n",
      "The testing accuracy for the model is  0.8733223557909786\n"
     ]
    }
   ],
   "source": [
    "def pls2(df, product):\n",
    "    X_train, X_test, y_train, y_test = test_train_compound(df, product)\n",
    "    print(\"The 4 matrices for --\", product, \"-- are of sizes: \", X_train.shape, X_test.shape, y_train.shape, y_test.shape)\n",
    "    pls2 = PLSRegression(n_components=2).fit(X_train, y_train)\n",
    "    \n",
    "    \n",
    "    df_pred = df.query(\"compound == @product\").copy()\n",
    "    df_pred['predicted_wt'] = pls2.predict(df.query(\"compound == @product\")[['Ts', 't', 'HF', 'Tr', 'condition']])\n",
    "    df_pred.to_csv(r'../output/scenario1/prediction_plsr2_{}.csv'.format(product))\n",
    "    \n",
    "    \n",
    "    print(\"The training accuracy for the model is \", pls2.score(X_train, y_train))\n",
    "    print(\"The testing accuracy for the model is \", pls2.score(X_test, y_test))\n",
    "    return pd.DataFrame({'Model': 'Partial Least Squares (n=2)',\n",
    "                           'Train Accuracy': pls2.score(X_train, y_train),\n",
    "                           'Test Accuracy' : pls2.score(X_test, y_test),\n",
    "                           'Compound' : i}, index = [None])\n",
    "\n",
    "for i in df.compound.value_counts().index:\n",
    "    df_results = df_results.append(pls2(df, i))"
   ]
  },
  {
   "cell_type": "code",
   "execution_count": 8,
   "metadata": {},
   "outputs": [
    {
     "data": {
      "text/html": [
       "<div>\n",
       "<style scoped>\n",
       "    .dataframe tbody tr th:only-of-type {\n",
       "        vertical-align: middle;\n",
       "    }\n",
       "\n",
       "    .dataframe tbody tr th {\n",
       "        vertical-align: top;\n",
       "    }\n",
       "\n",
       "    .dataframe thead th {\n",
       "        text-align: right;\n",
       "    }\n",
       "</style>\n",
       "<table border=\"1\" class=\"dataframe\">\n",
       "  <thead>\n",
       "    <tr style=\"text-align: right;\">\n",
       "      <th></th>\n",
       "      <th>Model</th>\n",
       "      <th>Compound</th>\n",
       "      <th>Train Accuracy</th>\n",
       "      <th>Test Accuracy</th>\n",
       "    </tr>\n",
       "  </thead>\n",
       "  <tbody>\n",
       "    <tr>\n",
       "      <th>NaN</th>\n",
       "      <td>Linear Regression</td>\n",
       "      <td>I05</td>\n",
       "      <td>0.974493</td>\n",
       "      <td>0.974227</td>\n",
       "    </tr>\n",
       "    <tr>\n",
       "      <th>NaN</th>\n",
       "      <td>Linear Regression</td>\n",
       "      <td>I1</td>\n",
       "      <td>0.923832</td>\n",
       "      <td>0.922688</td>\n",
       "    </tr>\n",
       "    <tr>\n",
       "      <th>NaN</th>\n",
       "      <td>Linear Regression</td>\n",
       "      <td>DAO</td>\n",
       "      <td>0.921326</td>\n",
       "      <td>0.921061</td>\n",
       "    </tr>\n",
       "    <tr>\n",
       "      <th>NaN</th>\n",
       "      <td>Partial Least Squares (n=2)</td>\n",
       "      <td>I05</td>\n",
       "      <td>0.930609</td>\n",
       "      <td>0.930020</td>\n",
       "    </tr>\n",
       "    <tr>\n",
       "      <th>NaN</th>\n",
       "      <td>Partial Least Squares (n=2)</td>\n",
       "      <td>I1</td>\n",
       "      <td>0.840126</td>\n",
       "      <td>0.844902</td>\n",
       "    </tr>\n",
       "    <tr>\n",
       "      <th>NaN</th>\n",
       "      <td>Partial Least Squares (n=2)</td>\n",
       "      <td>DAO</td>\n",
       "      <td>0.873966</td>\n",
       "      <td>0.873322</td>\n",
       "    </tr>\n",
       "  </tbody>\n",
       "</table>\n",
       "</div>"
      ],
      "text/plain": [
       "                           Model Compound  Train Accuracy  Test Accuracy\n",
       "NaN            Linear Regression      I05        0.974493       0.974227\n",
       "NaN            Linear Regression       I1        0.923832       0.922688\n",
       "NaN            Linear Regression      DAO        0.921326       0.921061\n",
       "NaN  Partial Least Squares (n=2)      I05        0.930609       0.930020\n",
       "NaN  Partial Least Squares (n=2)       I1        0.840126       0.844902\n",
       "NaN  Partial Least Squares (n=2)      DAO        0.873966       0.873322"
      ]
     },
     "execution_count": 8,
     "metadata": {},
     "output_type": "execute_result"
    }
   ],
   "source": [
    "df_results"
   ]
  },
  {
   "cell_type": "code",
   "execution_count": 9,
   "metadata": {},
   "outputs": [
    {
     "name": "stdout",
     "output_type": "stream",
     "text": [
      "The 4 matrices for -- I05 -- are of sizes:  (44649, 5) (11163, 5) (44649,) (11163,)\n",
      "The training accuracy for the model is  0.9458502374934861\n",
      "The testing accuracy for the model is  0.9462982416698217\n",
      "The 4 matrices for -- I1 -- are of sizes:  (37208, 5) (9302, 5) (37208,) (9302,)\n",
      "The training accuracy for the model is  0.8889716874522685\n",
      "The testing accuracy for the model is  0.8884964505912523\n",
      "The 4 matrices for -- DAO -- are of sizes:  (33487, 5) (8372, 5) (33487,) (8372,)\n",
      "The training accuracy for the model is  0.8808986677754329\n",
      "The testing accuracy for the model is  0.8794395762037411\n"
     ]
    }
   ],
   "source": [
    "def pls3(df, product):\n",
    "    X_train, X_test, y_train, y_test = test_train_compound(df, product)\n",
    "    print(\"The 4 matrices for --\", product, \"-- are of sizes: \", X_train.shape, X_test.shape, y_train.shape, y_test.shape)\n",
    "    pls3 = PLSRegression(n_components=3).fit(X_train, y_train)\n",
    "    print(\"The training accuracy for the model is \", pls3.score(X_train, y_train))\n",
    "    print(\"The testing accuracy for the model is \", pls3.score(X_test, y_test))\n",
    "    \n",
    "    df_pred = df.query(\"compound == @product\").copy()\n",
    "    df_pred['predicted_wt'] = pls3.predict(df.query(\"compound == @product\")[['Ts', 't', 'HF', 'Tr', 'condition']])\n",
    "    df_pred.to_csv(r'../output/scenario1/prediction_plsr3_{}.csv'.format(product))\n",
    "    \n",
    "    return pd.DataFrame({'Model': 'Partial Least Squares (n=3)',\n",
    "                           'Train Accuracy': pls3.score(X_train, y_train),\n",
    "                           'Test Accuracy' : pls3.score(X_test, y_test),\n",
    "                           'Compound' : i}, index = [None])\n",
    "for i in df.compound.value_counts().index:\n",
    "    df_results = df_results.append(pls3(df, i))"
   ]
  },
  {
   "cell_type": "markdown",
   "metadata": {},
   "source": [
    "## Random forest"
   ]
  },
  {
   "cell_type": "code",
   "execution_count": 10,
   "metadata": {},
   "outputs": [
    {
     "name": "stdout",
     "output_type": "stream",
     "text": [
      "The 4 matrices for -- I05 -- are of sizes:  (44649, 5) (11163, 5) (44649,) (11163,)\n",
      "The training accuracy for the model is  0.9832136678728955\n",
      "The testing accuracy for the model is  0.9829063861188713\n",
      "The 4 matrices for -- I1 -- are of sizes:  (37208, 5) (9302, 5) (37208,) (9302,)\n",
      "The training accuracy for the model is  0.945349511460319\n",
      "The testing accuracy for the model is  0.9445032112642636\n",
      "The 4 matrices for -- DAO -- are of sizes:  (33487, 5) (8372, 5) (33487,) (8372,)\n",
      "The training accuracy for the model is  0.9438009245382103\n",
      "The testing accuracy for the model is  0.9428196581991692\n"
     ]
    }
   ],
   "source": [
    "def random_forest(df, product):\n",
    "    X_train, X_test, y_train, y_test = test_train_compound(df, product)\n",
    "    print(\"The 4 matrices for --\", product, \"-- are of sizes: \", X_train.shape, X_test.shape, y_train.shape, y_test.shape)\n",
    "    rf2 = RandomForestRegressor(random_state=0, max_depth = 2).fit(X_train, y_train)\n",
    "    \n",
    "    \n",
    "    df_pred = df.query(\"compound == @product\").copy()\n",
    "    df_pred['predicted_wt'] = rf2.predict(df.query(\"compound == @product\")[['Ts', 't', 'HF', 'Tr', 'condition']])\n",
    "    df_pred.to_csv(r'../output/scenario1/prediction_rf2_{}.csv'.format(product))\n",
    "    \n",
    "    \n",
    "    print(\"The training accuracy for the model is \", rf2.score(X_train, y_train))\n",
    "    print(\"The testing accuracy for the model is \", rf2.score(X_test, y_test))\n",
    "    \n",
    "    return pd.DataFrame({'Model': 'Random Forest Regression (max_depth = 2)',\n",
    "                           'Train Accuracy': rf2.score(X_train, y_train),\n",
    "                           'Test Accuracy' : rf2.score(X_test, y_test),\n",
    "                           'Compound' : i}, index=[None])\n",
    "\n",
    "for i in df.compound.value_counts().index:\n",
    "    df_results = df_results.append(random_forest(df, i))"
   ]
  },
  {
   "cell_type": "code",
   "execution_count": 11,
   "metadata": {},
   "outputs": [
    {
     "name": "stdout",
     "output_type": "stream",
     "text": [
      "The 4 matrices for -- I05 -- are of sizes:  (44649, 5) (11163, 5) (44649,) (11163,)\n",
      "The training accuracy for the model is  0.9956407159757655\n",
      "The testing accuracy for the model is  0.9954179379844235\n",
      "The 4 matrices for -- I1 -- are of sizes:  (37208, 5) (9302, 5) (37208,) (9302,)\n",
      "The training accuracy for the model is  0.9898450070455634\n",
      "The testing accuracy for the model is  0.9896787550999443\n",
      "The 4 matrices for -- DAO -- are of sizes:  (33487, 5) (8372, 5) (33487,) (8372,)\n",
      "The training accuracy for the model is  0.9834061855274687\n",
      "The testing accuracy for the model is  0.9832094864499785\n"
     ]
    }
   ],
   "source": [
    "def random_forest(df, product):\n",
    "    X_train, X_test, y_train, y_test = test_train_compound(df, product)\n",
    "    print(\"The 4 matrices for --\", product, \"-- are of sizes: \", X_train.shape, X_test.shape, y_train.shape, y_test.shape)\n",
    "    rf5 = RandomForestRegressor(random_state=0, max_depth = 5).fit(X_train, y_train)\n",
    "    \n",
    "    df_pred = df.query(\"compound == @product\").copy()\n",
    "    df_pred['predicted_wt'] = rf5.predict(df.query(\"compound == @product\")[['Ts', 't', 'HF', 'Tr', 'condition']])\n",
    "    df_pred.to_csv(r'../output/scenario1/prediction_rf5_{}.csv'.format(product))\n",
    "    \n",
    "    print(\"The training accuracy for the model is \", rf5.score(X_train, y_train))\n",
    "    print(\"The testing accuracy for the model is \", rf5.score(X_test, y_test))\n",
    "    \n",
    "    return pd.DataFrame({'Model': 'Random Forest Regression (max_depth = 5)',\n",
    "                           'Train Accuracy': rf5.score(X_train, y_train),\n",
    "                           'Test Accuracy' : rf5.score(X_test, y_test),\n",
    "                           'Compound' : i}, index=[None])\n",
    "\n",
    "for i in df.compound.value_counts().index:\n",
    "    df_results = df_results.append(random_forest(df, i))"
   ]
  },
  {
   "cell_type": "code",
   "execution_count": 12,
   "metadata": {},
   "outputs": [
    {
     "name": "stdout",
     "output_type": "stream",
     "text": [
      "The 4 matrices for -- I05 -- are of sizes:  (44649, 5) (11163, 5) (44649,) (11163,)\n",
      "The training accuracy for the model is  0.9970990936071877\n",
      "The testing accuracy for the model is  0.9969064067794905\n",
      "The 4 matrices for -- I1 -- are of sizes:  (37208, 5) (9302, 5) (37208,) (9302,)\n",
      "The training accuracy for the model is  0.9966838617124372\n",
      "The testing accuracy for the model is  0.9965229416226615\n",
      "The 4 matrices for -- DAO -- are of sizes:  (33487, 5) (8372, 5) (33487,) (8372,)\n",
      "The training accuracy for the model is  0.9918880083258899\n",
      "The testing accuracy for the model is  0.9917110599632153\n"
     ]
    }
   ],
   "source": [
    "def random_forest(df, product):\n",
    "    X_train, X_test, y_train, y_test = test_train_compound(df, product)\n",
    "    print(\"The 4 matrices for --\", product, \"-- are of sizes: \", X_train.shape, X_test.shape, y_train.shape, y_test.shape)\n",
    "    rf7 = RandomForestRegressor(random_state=0, max_depth = 7).fit(X_train, y_train)\n",
    "    \n",
    "    df_pred = df.query(\"compound == @product\").copy()\n",
    "    df_pred['predicted_wt'] = rf7.predict(df.query(\"compound == @product\")[['Ts', 't', 'HF', 'Tr', 'condition']])\n",
    "    df_pred.to_csv(r'../output/scenario1/prediction_rf7_{}.csv'.format(product))\n",
    "    \n",
    "    print(\"The training accuracy for the model is \", rf7.score(X_train, y_train))\n",
    "    print(\"The testing accuracy for the model is \", rf7.score(X_test, y_test))\n",
    "    \n",
    "    return pd.DataFrame({'Model': 'Random Forest Regression (max_depth = 7)',\n",
    "                           'Train Accuracy': rf7.score(X_train, y_train),\n",
    "                           'Test Accuracy' : rf7.score(X_test, y_test),\n",
    "                           'Compound' : i}, index=[None])\n",
    "\n",
    "for i in df.compound.value_counts().index:\n",
    "    df_results = df_results.append(random_forest(df, i))"
   ]
  },
  {
   "cell_type": "code",
   "execution_count": 13,
   "metadata": {},
   "outputs": [
    {
     "name": "stdout",
     "output_type": "stream",
     "text": [
      "The 4 matrices for -- I05 -- are of sizes:  (44649, 5) (11163, 5) (44649,) (11163,)\n",
      "The training accuracy for the model is  0.9990680695525513\n",
      "The testing accuracy for the model is  0.998856445011481\n",
      "The 4 matrices for -- I1 -- are of sizes:  (37208, 5) (9302, 5) (37208,) (9302,)\n",
      "The training accuracy for the model is  0.9993221554653484\n",
      "The testing accuracy for the model is  0.9990386637866072\n",
      "The 4 matrices for -- DAO -- are of sizes:  (33487, 5) (8372, 5) (33487,) (8372,)\n",
      "The training accuracy for the model is  0.9968171688542854\n",
      "The testing accuracy for the model is  0.9968716067711271\n"
     ]
    }
   ],
   "source": [
    "def random_forest(df, product):\n",
    "    X_train, X_test, y_train, y_test = test_train_compound(df, product)\n",
    "    print(\"The 4 matrices for --\", product, \"-- are of sizes: \", X_train.shape, X_test.shape, y_train.shape, y_test.shape)\n",
    "    rf10 = RandomForestRegressor(random_state=0, max_depth = 10).fit(X_train, y_train)\n",
    "    \n",
    "    df_pred = df.query(\"compound == @product\").copy()\n",
    "    df_pred['predicted_wt'] = rf10.predict(df.query(\"compound == @product\")[['Ts', 't', 'HF', 'Tr', 'condition']])\n",
    "    df_pred.to_csv(r'../output/scenario1/prediction_rf10_{}.csv'.format(product))\n",
    "    \n",
    "    print(\"The training accuracy for the model is \", rf10.score(X_train, y_train))\n",
    "    print(\"The testing accuracy for the model is \", rf10.score(X_test, y_test))\n",
    "    \n",
    "    return pd.DataFrame({'Model': 'Random Forest Regression (max_depth = 10)',\n",
    "                           'Train Accuracy': rf10.score(X_train, y_train),\n",
    "                           'Test Accuracy' : rf10.score(X_test, y_test),\n",
    "                           'Compound' : i}, index=[None])\n",
    "\n",
    "for i in df.compound.value_counts().index:\n",
    "    df_results = df_results.append(random_forest(df, i))"
   ]
  },
  {
   "cell_type": "code",
   "execution_count": 14,
   "metadata": {},
   "outputs": [
    {
     "data": {
      "application/vnd.vegalite.v3+json": {
       "$schema": "https://vega.github.io/schema/vega-lite/v3.4.0.json",
       "columns": 3,
       "config": {
        "mark": {
         "tooltip": null
        },
        "view": {
         "height": 300,
         "width": 400
        }
       },
       "data": {
        "name": "data-9ccb5c002d7681a5549740b044973dbe"
       },
       "datasets": {
        "data-9ccb5c002d7681a5549740b044973dbe": [
         {
          "Accuracy": 0.9296842210149457,
          "Type": "training",
          "max_depth": 1,
          "n_estimator": 1
         },
         {
          "Accuracy": 0.929928562393048,
          "Type": "training",
          "max_depth": 1,
          "n_estimator": 2
         },
         {
          "Accuracy": 0.9300377172223828,
          "Type": "training",
          "max_depth": 1,
          "n_estimator": 3
         },
         {
          "Accuracy": 0.9307201378712344,
          "Type": "training",
          "max_depth": 1,
          "n_estimator": 5
         },
         {
          "Accuracy": 0.9305889235973172,
          "Type": "training",
          "max_depth": 1,
          "n_estimator": 10
         },
         {
          "Accuracy": 0.931366879048348,
          "Type": "training",
          "max_depth": 1,
          "n_estimator": 20
         },
         {
          "Accuracy": 0.9314067348974896,
          "Type": "training",
          "max_depth": 1,
          "n_estimator": 30
         },
         {
          "Accuracy": 0.9314793098011591,
          "Type": "training",
          "max_depth": 1,
          "n_estimator": 50
         },
         {
          "Accuracy": 0.931302478384648,
          "Type": "training",
          "max_depth": 1,
          "n_estimator": 100
         },
         {
          "Accuracy": 0.981876662284982,
          "Type": "training",
          "max_depth": 2,
          "n_estimator": 1
         },
         {
          "Accuracy": 0.9827790788601051,
          "Type": "training",
          "max_depth": 2,
          "n_estimator": 2
         },
         {
          "Accuracy": 0.9831438489233568,
          "Type": "training",
          "max_depth": 2,
          "n_estimator": 3
         },
         {
          "Accuracy": 0.9832997827249584,
          "Type": "training",
          "max_depth": 2,
          "n_estimator": 5
         },
         {
          "Accuracy": 0.9832337418970221,
          "Type": "training",
          "max_depth": 2,
          "n_estimator": 10
         },
         {
          "Accuracy": 0.9832933532782365,
          "Type": "training",
          "max_depth": 2,
          "n_estimator": 20
         },
         {
          "Accuracy": 0.9833032738409172,
          "Type": "training",
          "max_depth": 2,
          "n_estimator": 30
         },
         {
          "Accuracy": 0.9832148352394315,
          "Type": "training",
          "max_depth": 2,
          "n_estimator": 50
         },
         {
          "Accuracy": 0.9832136678728955,
          "Type": "training",
          "max_depth": 2,
          "n_estimator": 100
         },
         {
          "Accuracy": 0.9915934451719254,
          "Type": "training",
          "max_depth": 3,
          "n_estimator": 1
         },
         {
          "Accuracy": 0.9920039654805527,
          "Type": "training",
          "max_depth": 3,
          "n_estimator": 2
         },
         {
          "Accuracy": 0.9921209000821603,
          "Type": "training",
          "max_depth": 3,
          "n_estimator": 3
         },
         {
          "Accuracy": 0.9921960868361774,
          "Type": "training",
          "max_depth": 3,
          "n_estimator": 5
         },
         {
          "Accuracy": 0.9922705360522889,
          "Type": "training",
          "max_depth": 3,
          "n_estimator": 10
         },
         {
          "Accuracy": 0.99236079352779,
          "Type": "training",
          "max_depth": 3,
          "n_estimator": 20
         },
         {
          "Accuracy": 0.9923704398648275,
          "Type": "training",
          "max_depth": 3,
          "n_estimator": 30
         },
         {
          "Accuracy": 0.9923772909095574,
          "Type": "training",
          "max_depth": 3,
          "n_estimator": 50
         },
         {
          "Accuracy": 0.9923736633674622,
          "Type": "training",
          "max_depth": 3,
          "n_estimator": 100
         },
         {
          "Accuracy": 0.9941072816760489,
          "Type": "training",
          "max_depth": 4,
          "n_estimator": 1
         },
         {
          "Accuracy": 0.9943249642461196,
          "Type": "training",
          "max_depth": 4,
          "n_estimator": 2
         },
         {
          "Accuracy": 0.9943657826012722,
          "Type": "training",
          "max_depth": 4,
          "n_estimator": 3
         },
         {
          "Accuracy": 0.9944275871726094,
          "Type": "training",
          "max_depth": 4,
          "n_estimator": 5
         },
         {
          "Accuracy": 0.9944517358533023,
          "Type": "training",
          "max_depth": 4,
          "n_estimator": 10
         },
         {
          "Accuracy": 0.9944897326211785,
          "Type": "training",
          "max_depth": 4,
          "n_estimator": 20
         },
         {
          "Accuracy": 0.9944982416619463,
          "Type": "training",
          "max_depth": 4,
          "n_estimator": 30
         },
         {
          "Accuracy": 0.9945027680022579,
          "Type": "training",
          "max_depth": 4,
          "n_estimator": 50
         },
         {
          "Accuracy": 0.9945051022415413,
          "Type": "training",
          "max_depth": 4,
          "n_estimator": 100
         },
         {
          "Accuracy": 0.9951780597256549,
          "Type": "training",
          "max_depth": 5,
          "n_estimator": 1
         },
         {
          "Accuracy": 0.9955024256323978,
          "Type": "training",
          "max_depth": 5,
          "n_estimator": 2
         },
         {
          "Accuracy": 0.9955312110176694,
          "Type": "training",
          "max_depth": 5,
          "n_estimator": 3
         },
         {
          "Accuracy": 0.9955477563551465,
          "Type": "training",
          "max_depth": 5,
          "n_estimator": 5
         },
         {
          "Accuracy": 0.9955922758409896,
          "Type": "training",
          "max_depth": 5,
          "n_estimator": 10
         },
         {
          "Accuracy": 0.9956163325124544,
          "Type": "training",
          "max_depth": 5,
          "n_estimator": 20
         },
         {
          "Accuracy": 0.9956239047928296,
          "Type": "training",
          "max_depth": 5,
          "n_estimator": 30
         },
         {
          "Accuracy": 0.9956390614892761,
          "Type": "training",
          "max_depth": 5,
          "n_estimator": 50
         },
         {
          "Accuracy": 0.9956407159757655,
          "Type": "training",
          "max_depth": 5,
          "n_estimator": 100
         },
         {
          "Accuracy": 0.9957978279318113,
          "Type": "training",
          "max_depth": 6,
          "n_estimator": 1
         },
         {
          "Accuracy": 0.9961416045203562,
          "Type": "training",
          "max_depth": 6,
          "n_estimator": 2
         },
         {
          "Accuracy": 0.9961866713356342,
          "Type": "training",
          "max_depth": 6,
          "n_estimator": 3
         },
         {
          "Accuracy": 0.9962062420644845,
          "Type": "training",
          "max_depth": 6,
          "n_estimator": 5
         },
         {
          "Accuracy": 0.9962449620555175,
          "Type": "training",
          "max_depth": 6,
          "n_estimator": 10
         },
         {
          "Accuracy": 0.9962596127148922,
          "Type": "training",
          "max_depth": 6,
          "n_estimator": 20
         },
         {
          "Accuracy": 0.9962686282322251,
          "Type": "training",
          "max_depth": 6,
          "n_estimator": 30
         },
         {
          "Accuracy": 0.996280554420563,
          "Type": "training",
          "max_depth": 6,
          "n_estimator": 50
         },
         {
          "Accuracy": 0.9963099021788981,
          "Type": "training",
          "max_depth": 6,
          "n_estimator": 100
         },
         {
          "Accuracy": 0.9963941471125333,
          "Type": "training",
          "max_depth": 7,
          "n_estimator": 1
         },
         {
          "Accuracy": 0.9968240013857032,
          "Type": "training",
          "max_depth": 7,
          "n_estimator": 2
         },
         {
          "Accuracy": 0.9968910709806883,
          "Type": "training",
          "max_depth": 7,
          "n_estimator": 3
         },
         {
          "Accuracy": 0.9969461137609271,
          "Type": "training",
          "max_depth": 7,
          "n_estimator": 5
         },
         {
          "Accuracy": 0.9969994420616047,
          "Type": "training",
          "max_depth": 7,
          "n_estimator": 10
         },
         {
          "Accuracy": 0.997015597965465,
          "Type": "training",
          "max_depth": 7,
          "n_estimator": 20
         },
         {
          "Accuracy": 0.997027576469942,
          "Type": "training",
          "max_depth": 7,
          "n_estimator": 30
         },
         {
          "Accuracy": 0.9970564108463034,
          "Type": "training",
          "max_depth": 7,
          "n_estimator": 50
         },
         {
          "Accuracy": 0.9970990936071877,
          "Type": "training",
          "max_depth": 7,
          "n_estimator": 100
         },
         {
          "Accuracy": 0.929667107268958,
          "Type": "testing",
          "max_depth": 1,
          "n_estimator": 1
         },
         {
          "Accuracy": 0.9298467655105002,
          "Type": "testing",
          "max_depth": 1,
          "n_estimator": 2
         },
         {
          "Accuracy": 0.9301903923109609,
          "Type": "testing",
          "max_depth": 1,
          "n_estimator": 3
         },
         {
          "Accuracy": 0.9308246453807497,
          "Type": "testing",
          "max_depth": 1,
          "n_estimator": 5
         },
         {
          "Accuracy": 0.9307852545965247,
          "Type": "testing",
          "max_depth": 1,
          "n_estimator": 10
         },
         {
          "Accuracy": 0.9316364056969679,
          "Type": "testing",
          "max_depth": 1,
          "n_estimator": 20
         },
         {
          "Accuracy": 0.9316128825560646,
          "Type": "testing",
          "max_depth": 1,
          "n_estimator": 30
         },
         {
          "Accuracy": 0.9316853020828169,
          "Type": "testing",
          "max_depth": 1,
          "n_estimator": 50
         },
         {
          "Accuracy": 0.931465221370961,
          "Type": "testing",
          "max_depth": 1,
          "n_estimator": 100
         },
         {
          "Accuracy": 0.9816222704288579,
          "Type": "testing",
          "max_depth": 2,
          "n_estimator": 1
         },
         {
          "Accuracy": 0.9824719803994534,
          "Type": "testing",
          "max_depth": 2,
          "n_estimator": 2
         },
         {
          "Accuracy": 0.9828674549366917,
          "Type": "testing",
          "max_depth": 2,
          "n_estimator": 3
         },
         {
          "Accuracy": 0.9829871664937992,
          "Type": "testing",
          "max_depth": 2,
          "n_estimator": 5
         },
         {
          "Accuracy": 0.982919083527394,
          "Type": "testing",
          "max_depth": 2,
          "n_estimator": 10
         },
         {
          "Accuracy": 0.9830218869480916,
          "Type": "testing",
          "max_depth": 2,
          "n_estimator": 20
         },
         {
          "Accuracy": 0.9830160070415261,
          "Type": "testing",
          "max_depth": 2,
          "n_estimator": 30
         },
         {
          "Accuracy": 0.9829085629914521,
          "Type": "testing",
          "max_depth": 2,
          "n_estimator": 50
         },
         {
          "Accuracy": 0.9829063861188713,
          "Type": "testing",
          "max_depth": 2,
          "n_estimator": 100
         },
         {
          "Accuracy": 0.9911752645331815,
          "Type": "testing",
          "max_depth": 3,
          "n_estimator": 1
         },
         {
          "Accuracy": 0.9915912835754666,
          "Type": "testing",
          "max_depth": 3,
          "n_estimator": 2
         },
         {
          "Accuracy": 0.9916982349672192,
          "Type": "testing",
          "max_depth": 3,
          "n_estimator": 3
         },
         {
          "Accuracy": 0.9917701686267757,
          "Type": "testing",
          "max_depth": 3,
          "n_estimator": 5
         },
         {
          "Accuracy": 0.9918551384597718,
          "Type": "testing",
          "max_depth": 3,
          "n_estimator": 10
         },
         {
          "Accuracy": 0.9919589742595495,
          "Type": "testing",
          "max_depth": 3,
          "n_estimator": 20
         },
         {
          "Accuracy": 0.9919580244402026,
          "Type": "testing",
          "max_depth": 3,
          "n_estimator": 30
         },
         {
          "Accuracy": 0.9919622192281344,
          "Type": "testing",
          "max_depth": 3,
          "n_estimator": 50
         },
         {
          "Accuracy": 0.9919627754633205,
          "Type": "testing",
          "max_depth": 3,
          "n_estimator": 100
         },
         {
          "Accuracy": 0.9939037866443077,
          "Type": "testing",
          "max_depth": 4,
          "n_estimator": 1
         },
         {
          "Accuracy": 0.9941209867133189,
          "Type": "testing",
          "max_depth": 4,
          "n_estimator": 2
         },
         {
          "Accuracy": 0.9941311968058761,
          "Type": "testing",
          "max_depth": 4,
          "n_estimator": 3
         },
         {
          "Accuracy": 0.9941769093840284,
          "Type": "testing",
          "max_depth": 4,
          "n_estimator": 5
         },
         {
          "Accuracy": 0.9942104922528614,
          "Type": "testing",
          "max_depth": 4,
          "n_estimator": 10
         },
         {
          "Accuracy": 0.9942594398287609,
          "Type": "testing",
          "max_depth": 4,
          "n_estimator": 20
         },
         {
          "Accuracy": 0.9942702827737963,
          "Type": "testing",
          "max_depth": 4,
          "n_estimator": 30
         },
         {
          "Accuracy": 0.9942732094501077,
          "Type": "testing",
          "max_depth": 4,
          "n_estimator": 50
         },
         {
          "Accuracy": 0.9942759383450477,
          "Type": "testing",
          "max_depth": 4,
          "n_estimator": 100
         },
         {
          "Accuracy": 0.9949636819748175,
          "Type": "testing",
          "max_depth": 5,
          "n_estimator": 1
         },
         {
          "Accuracy": 0.9952744194278919,
          "Type": "testing",
          "max_depth": 5,
          "n_estimator": 2
         },
         {
          "Accuracy": 0.9952785670615053,
          "Type": "testing",
          "max_depth": 5,
          "n_estimator": 3
         },
         {
          "Accuracy": 0.9952917105369078,
          "Type": "testing",
          "max_depth": 5,
          "n_estimator": 5
         },
         {
          "Accuracy": 0.9953427296027161,
          "Type": "testing",
          "max_depth": 5,
          "n_estimator": 10
         },
         {
          "Accuracy": 0.9953887162485882,
          "Type": "testing",
          "max_depth": 5,
          "n_estimator": 20
         },
         {
          "Accuracy": 0.9954018013930132,
          "Type": "testing",
          "max_depth": 5,
          "n_estimator": 30
         },
         {
          "Accuracy": 0.9954172822278655,
          "Type": "testing",
          "max_depth": 5,
          "n_estimator": 50
         },
         {
          "Accuracy": 0.9954179379844235,
          "Type": "testing",
          "max_depth": 5,
          "n_estimator": 100
         },
         {
          "Accuracy": 0.9956199499928952,
          "Type": "testing",
          "max_depth": 6,
          "n_estimator": 1
         },
         {
          "Accuracy": 0.9959535673537238,
          "Type": "testing",
          "max_depth": 6,
          "n_estimator": 2
         },
         {
          "Accuracy": 0.9959972693433669,
          "Type": "testing",
          "max_depth": 6,
          "n_estimator": 3
         },
         {
          "Accuracy": 0.9960033462776444,
          "Type": "testing",
          "max_depth": 6,
          "n_estimator": 5
         },
         {
          "Accuracy": 0.9960491526396655,
          "Type": "testing",
          "max_depth": 6,
          "n_estimator": 10
         },
         {
          "Accuracy": 0.996067928409717,
          "Type": "testing",
          "max_depth": 6,
          "n_estimator": 20
         },
         {
          "Accuracy": 0.9960751031844595,
          "Type": "testing",
          "max_depth": 6,
          "n_estimator": 30
         },
         {
          "Accuracy": 0.9960835748051244,
          "Type": "testing",
          "max_depth": 6,
          "n_estimator": 50
         },
         {
          "Accuracy": 0.9961098432581967,
          "Type": "testing",
          "max_depth": 6,
          "n_estimator": 100
         },
         {
          "Accuracy": 0.9962074514093894,
          "Type": "testing",
          "max_depth": 7,
          "n_estimator": 1
         },
         {
          "Accuracy": 0.9966221050509565,
          "Type": "testing",
          "max_depth": 7,
          "n_estimator": 2
         },
         {
          "Accuracy": 0.9967046721384178,
          "Type": "testing",
          "max_depth": 7,
          "n_estimator": 3
         },
         {
          "Accuracy": 0.9967631334491499,
          "Type": "testing",
          "max_depth": 7,
          "n_estimator": 5
         },
         {
          "Accuracy": 0.9968123459846668,
          "Type": "testing",
          "max_depth": 7,
          "n_estimator": 10
         },
         {
          "Accuracy": 0.9968361947673696,
          "Type": "testing",
          "max_depth": 7,
          "n_estimator": 20
         },
         {
          "Accuracy": 0.9968379103323173,
          "Type": "testing",
          "max_depth": 7,
          "n_estimator": 30
         },
         {
          "Accuracy": 0.9968634476764668,
          "Type": "testing",
          "max_depth": 7,
          "n_estimator": 50
         },
         {
          "Accuracy": 0.9969064067794905,
          "Type": "testing",
          "max_depth": 7,
          "n_estimator": 100
         }
        ]
       },
       "encoding": {
        "color": {
         "field": "Type",
         "type": "nominal"
        },
        "facet": {
         "field": "n_estimator",
         "type": "quantitative"
        },
        "x": {
         "field": "max_depth",
         "type": "quantitative"
        },
        "y": {
         "field": "Accuracy",
         "scale": {
          "domain": [
           0.92,
           1
          ]
         },
         "type": "quantitative"
        }
       },
       "height": 200,
       "mark": "line",
       "width": 200
      },
      "image/png": "[encoded data removed]",
      "text/plain": [
       "<VegaLite 3 object>\n",
       "\n",
       "If you see this message, it means the renderer has not been properly enabled\n",
       "for the frontend that you are using. For more information, see\n",
       "https://altair-viz.github.io/user_guide/troubleshooting.html\n"
      ]
     },
     "execution_count": 14,
     "metadata": {},
     "output_type": "execute_result"
    }
   ],
   "source": [
    "n_est = [1,2,3,5,10,20,30,50,100]\n",
    "max_depth = range(1,8)\n",
    "X_train, X_test, y_train, y_test = test_train_compound(df, \"I05\")\n",
    "trees = []\n",
    "train_acc = []\n",
    "test_acc = []\n",
    "depth = []\n",
    "for j in max_depth:\n",
    "    for i in n_est:\n",
    "        trees.append(i)\n",
    "        depth.append(j)\n",
    "        rf = RandomForestRegressor(n_estimators = i, max_depth = j, random_state=0).fit(X_train, y_train)\n",
    "        train_acc.append(rf.score(X_train, y_train))\n",
    "        test_acc.append(rf.score(X_test, y_test))\n",
    "        #print(j,i)\n",
    "df_rf = pd.DataFrame({'training' : train_acc,\n",
    "                      'testing' : test_acc,\n",
    "                      'n_estimator' : trees,\n",
    "                      'max_depth' : depth})\n",
    "df_rf = df_rf.melt(id_vars = ['n_estimator', 'max_depth'], var_name = 'Type', value_name = 'Accuracy')\n",
    "df_rf\n",
    "alt.Chart(df_rf).mark_line().encode(\n",
    "    alt.X('max_depth'),\n",
    "    alt.Y('Accuracy', scale=alt.Scale(domain=[0.92, 1])),\n",
    "    alt.Color('Type'),\n",
    "    alt.Facet('n_estimator')\n",
    "    ).properties(width = 200, height = 200, columns = 3)"
   ]
  },
  {
   "cell_type": "markdown",
   "metadata": {},
   "source": [
    "## SVR"
   ]
  },
  {
   "cell_type": "code",
   "execution_count": 15,
   "metadata": {},
   "outputs": [
    {
     "name": "stdout",
     "output_type": "stream",
     "text": [
      "The 4 matrices for -- I05 -- are of sizes:  (44649, 5) (11163, 5) (44649,) (11163,)\n",
      "The training accuracy for the model is  0.986913473926744\n",
      "The testing accuracy for the model is  0.9867191015699645\n",
      "The 4 matrices for -- I1 -- are of sizes:  (37208, 5) (9302, 5) (37208,) (9302,)\n",
      "The training accuracy for the model is  0.9049729025393899\n",
      "The testing accuracy for the model is  0.9010343504492073\n",
      "The 4 matrices for -- DAO -- are of sizes:  (33487, 5) (8372, 5) (33487,) (8372,)\n",
      "The training accuracy for the model is  0.91250923652955\n",
      "The testing accuracy for the model is  0.9111800040508268\n"
     ]
    }
   ],
   "source": [
    "def svr_rbf(df, product):\n",
    "    X_train, X_test, y_train, y_test = test_train_compound(df, product)\n",
    "    print(\"The 4 matrices for --\", product, \"-- are of sizes: \", X_train.shape, X_test.shape, y_train.shape, y_test.shape)\n",
    "    svr_rbf = SVR(kernel=\"rbf\").fit(X_train, y_train)\n",
    "    \n",
    "    df_pred = df.query(\"compound == @product\").copy()\n",
    "    df_pred['predicted_wt'] = svr_rbf.predict(df.query(\"compound == @product\")[['Ts', 't', 'HF', 'Tr', 'condition']])\n",
    "    df_pred.to_csv(r'../output/scenario1/prediction_svr_rbf_{}.csv'.format(product))\n",
    "    \n",
    "    print(\"The training accuracy for the model is \", svr_rbf.score(X_train, y_train))\n",
    "    print(\"The testing accuracy for the model is \", svr_rbf.score(X_test, y_test))\n",
    "    \n",
    "    return pd.DataFrame({'Model': 'SVR RBF Kernel',\n",
    "                           'Train Accuracy': svr_rbf.score(X_train, y_train),\n",
    "                           'Test Accuracy' : svr_rbf.score(X_test, y_test),\n",
    "                           'Compound' : i}, index=[None])\n",
    "\n",
    "for i in df.compound.value_counts().index:\n",
    "    df_results = df_results.append(svr_rbf(df, i))"
   ]
  },
  {
   "cell_type": "markdown",
   "metadata": {},
   "source": [
    "## GBR"
   ]
  },
  {
   "cell_type": "code",
   "execution_count": 16,
   "metadata": {},
   "outputs": [
    {
     "name": "stdout",
     "output_type": "stream",
     "text": [
      "The 4 matrices for -- I05 -- are of sizes:  (44649, 5) (11163, 5) (44649,) (11163,)\n",
      "The training accuracy for the model is  0.9975674173905842\n",
      "The testing accuracy for the model is  0.9973974550660294\n",
      "The 4 matrices for -- I1 -- are of sizes:  (37208, 5) (9302, 5) (37208,) (9302,)\n",
      "The training accuracy for the model is  0.9960526616928097\n",
      "The testing accuracy for the model is  0.9960807658989933\n",
      "The 4 matrices for -- DAO -- are of sizes:  (33487, 5) (8372, 5) (33487,) (8372,)\n",
      "The training accuracy for the model is  0.99446500501569\n",
      "The testing accuracy for the model is  0.9946478324064553\n"
     ]
    }
   ],
   "source": [
    "def gbr(df, product):\n",
    "    X_train, X_test, y_train, y_test = test_train_compound(df, product)\n",
    "    print(\"The 4 matrices for --\", product, \"-- are of sizes: \", X_train.shape, X_test.shape, y_train.shape, y_test.shape)\n",
    "    gbr = GradientBoostingRegressor().fit(X_train,y_train)\n",
    "    \n",
    "    df_pred = df.query(\"compound == @product\").copy()\n",
    "    df_pred['predicted_wt'] = gbr.predict(df.query(\"compound == @product\")[['Ts', 't', 'HF', 'Tr', 'condition']])\n",
    "    df_pred.to_csv(r'../output/scenario1/prediction_gbr_{}.csv'.format(product))\n",
    "    \n",
    "    print(\"The training accuracy for the model is \", gbr.score(X_train, y_train))\n",
    "    print(\"The testing accuracy for the model is \", gbr.score(X_test, y_test))\n",
    "    \n",
    "    return pd.DataFrame({'Model': 'Gradient Boost Regressor',\n",
    "                           'Train Accuracy': gbr.score(X_train, y_train),\n",
    "                           'Test Accuracy' : gbr.score(X_test, y_test),\n",
    "                           'Compound' : i}, index=[None])\n",
    "\n",
    "for i in df.compound.value_counts().index:\n",
    "    df_results = df_results.append(gbr(df, i))"
   ]
  },
  {
   "cell_type": "markdown",
   "metadata": {},
   "source": [
    "## Write results to file"
   ]
  },
  {
   "cell_type": "code",
   "execution_count": 18,
   "metadata": {},
   "outputs": [],
   "source": [
    "df_results.to_csv('../output/scenario1/results_table.csv')"
   ]
  },
  {
   "cell_type": "code",
   "execution_count": null,
   "metadata": {},
   "outputs": [],
   "source": []
  }
 ],
 "metadata": {
  "kernelspec": {
   "display_name": "Python 3",
   "language": "python",
   "name": "python3"
  },
  "language_info": {
   "codemirror_mode": {
    "name": "ipython",
    "version": 3
   },
   "file_extension": ".py",
   "mimetype": "text/x-python",
   "name": "python",
   "nbconvert_exporter": "python",
   "pygments_lexer": "ipython3",
   "version": "3.7.6"
  }
 },
 "nbformat": 4,
 "nbformat_minor": 4
}
