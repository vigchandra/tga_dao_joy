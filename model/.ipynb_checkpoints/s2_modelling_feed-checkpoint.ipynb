{
 "cells": [
  {
   "cell_type": "code",
   "execution_count": 17,
   "metadata": {},
   "outputs": [
    {
     "data": {
      "text/plain": [
       "DataTransformerRegistry.enable('default')"
      ]
     },
     "execution_count": 17,
     "metadata": {},
     "output_type": "execute_result"
    }
   ],
   "source": [
    "import pandas as pd\n",
    "from sklearn.model_selection import train_test_split\n",
    "from sklearn.linear_model import LinearRegression\n",
    "from sklearn.ensemble import RandomForestRegressor\n",
    "from sklearn.svm import SVR\n",
    "from sklearn import tree\n",
    "from sklearn.tree import export_graphviz\n",
    "import altair as alt\n",
    "from dtreeviz.trees import dtreeviz # will be used for tree visualization\n",
    "from matplotlib import pyplot as plt\n",
    "from sklearn.cross_decomposition import PLSRegression\n",
    "from sklearn.ensemble import GradientBoostingRegressor\n",
    "alt.data_transformers.disable_max_rows()"
   ]
  },
  {
   "cell_type": "markdown",
   "metadata": {},
   "source": [
    "## File Import"
   ]
  },
  {
   "cell_type": "code",
   "execution_count": 2,
   "metadata": {},
   "outputs": [
    {
     "data": {
      "text/html": [
       "<div>\n",
       "<style scoped>\n",
       "    .dataframe tbody tr th:only-of-type {\n",
       "        vertical-align: middle;\n",
       "    }\n",
       "\n",
       "    .dataframe tbody tr th {\n",
       "        vertical-align: top;\n",
       "    }\n",
       "\n",
       "    .dataframe thead th {\n",
       "        text-align: right;\n",
       "    }\n",
       "</style>\n",
       "<table border=\"1\" class=\"dataframe\">\n",
       "  <thead>\n",
       "    <tr style=\"text-align: right;\">\n",
       "      <th></th>\n",
       "      <th>Ts</th>\n",
       "      <th>t</th>\n",
       "      <th>HF</th>\n",
       "      <th>Weight</th>\n",
       "      <th>Tr</th>\n",
       "      <th>sheet_name</th>\n",
       "      <th>compound</th>\n",
       "      <th>exp_no</th>\n",
       "    </tr>\n",
       "  </thead>\n",
       "  <tbody>\n",
       "    <tr>\n",
       "      <th>0</th>\n",
       "      <td>40.1741</td>\n",
       "      <td>0</td>\n",
       "      <td>0.483698</td>\n",
       "      <td>100.0000</td>\n",
       "      <td>25.0000</td>\n",
       "      <td>I1-30-1</td>\n",
       "      <td>05-85</td>\n",
       "      <td>3</td>\n",
       "    </tr>\n",
       "    <tr>\n",
       "      <th>1</th>\n",
       "      <td>40.1511</td>\n",
       "      <td>1</td>\n",
       "      <td>0.447084</td>\n",
       "      <td>99.9913</td>\n",
       "      <td>25.1667</td>\n",
       "      <td>I1-30-1</td>\n",
       "      <td>05-85</td>\n",
       "      <td>3</td>\n",
       "    </tr>\n",
       "    <tr>\n",
       "      <th>2</th>\n",
       "      <td>40.1566</td>\n",
       "      <td>2</td>\n",
       "      <td>0.428202</td>\n",
       "      <td>99.9864</td>\n",
       "      <td>25.3333</td>\n",
       "      <td>I1-30-1</td>\n",
       "      <td>05-85</td>\n",
       "      <td>3</td>\n",
       "    </tr>\n",
       "    <tr>\n",
       "      <th>3</th>\n",
       "      <td>40.1877</td>\n",
       "      <td>3</td>\n",
       "      <td>0.414622</td>\n",
       "      <td>99.9841</td>\n",
       "      <td>25.5000</td>\n",
       "      <td>I1-30-1</td>\n",
       "      <td>05-85</td>\n",
       "      <td>3</td>\n",
       "    </tr>\n",
       "    <tr>\n",
       "      <th>4</th>\n",
       "      <td>40.2206</td>\n",
       "      <td>4</td>\n",
       "      <td>0.383961</td>\n",
       "      <td>99.9881</td>\n",
       "      <td>25.6667</td>\n",
       "      <td>I1-30-1</td>\n",
       "      <td>05-85</td>\n",
       "      <td>3</td>\n",
       "    </tr>\n",
       "    <tr>\n",
       "      <th>...</th>\n",
       "      <td>...</td>\n",
       "      <td>...</td>\n",
       "      <td>...</td>\n",
       "      <td>...</td>\n",
       "      <td>...</td>\n",
       "      <td>...</td>\n",
       "      <td>...</td>\n",
       "      <td>...</td>\n",
       "    </tr>\n",
       "    <tr>\n",
       "      <th>41854</th>\n",
       "      <td>506.0690</td>\n",
       "      <td>4646</td>\n",
       "      <td>249.412000</td>\n",
       "      <td>35.8362</td>\n",
       "      <td>500.0000</td>\n",
       "      <td>DAO (1)</td>\n",
       "      <td>DAO</td>\n",
       "      <td>1</td>\n",
       "    </tr>\n",
       "    <tr>\n",
       "      <th>41855</th>\n",
       "      <td>506.0730</td>\n",
       "      <td>4647</td>\n",
       "      <td>249.411000</td>\n",
       "      <td>35.8377</td>\n",
       "      <td>500.0000</td>\n",
       "      <td>DAO (1)</td>\n",
       "      <td>DAO</td>\n",
       "      <td>1</td>\n",
       "    </tr>\n",
       "    <tr>\n",
       "      <th>41856</th>\n",
       "      <td>506.0740</td>\n",
       "      <td>4648</td>\n",
       "      <td>249.409000</td>\n",
       "      <td>35.8393</td>\n",
       "      <td>500.0000</td>\n",
       "      <td>DAO (1)</td>\n",
       "      <td>DAO</td>\n",
       "      <td>1</td>\n",
       "    </tr>\n",
       "    <tr>\n",
       "      <th>41857</th>\n",
       "      <td>506.0710</td>\n",
       "      <td>4649</td>\n",
       "      <td>249.408000</td>\n",
       "      <td>35.8409</td>\n",
       "      <td>500.0000</td>\n",
       "      <td>DAO (1)</td>\n",
       "      <td>DAO</td>\n",
       "      <td>1</td>\n",
       "    </tr>\n",
       "    <tr>\n",
       "      <th>41858</th>\n",
       "      <td>506.0790</td>\n",
       "      <td>4650</td>\n",
       "      <td>249.407000</td>\n",
       "      <td>35.8425</td>\n",
       "      <td>500.0000</td>\n",
       "      <td>DAO (1)</td>\n",
       "      <td>DAO</td>\n",
       "      <td>1</td>\n",
       "    </tr>\n",
       "  </tbody>\n",
       "</table>\n",
       "<p>41859 rows × 8 columns</p>\n",
       "</div>"
      ],
      "text/plain": [
       "             Ts     t          HF    Weight        Tr sheet_name compound  \\\n",
       "0       40.1741     0    0.483698  100.0000   25.0000    I1-30-1    05-85   \n",
       "1       40.1511     1    0.447084   99.9913   25.1667    I1-30-1    05-85   \n",
       "2       40.1566     2    0.428202   99.9864   25.3333    I1-30-1    05-85   \n",
       "3       40.1877     3    0.414622   99.9841   25.5000    I1-30-1    05-85   \n",
       "4       40.2206     4    0.383961   99.9881   25.6667    I1-30-1    05-85   \n",
       "...         ...   ...         ...       ...       ...        ...      ...   \n",
       "41854  506.0690  4646  249.412000   35.8362  500.0000    DAO (1)      DAO   \n",
       "41855  506.0730  4647  249.411000   35.8377  500.0000    DAO (1)      DAO   \n",
       "41856  506.0740  4648  249.409000   35.8393  500.0000    DAO (1)      DAO   \n",
       "41857  506.0710  4649  249.408000   35.8409  500.0000    DAO (1)      DAO   \n",
       "41858  506.0790  4650  249.407000   35.8425  500.0000    DAO (1)      DAO   \n",
       "\n",
       "       exp_no  \n",
       "0           3  \n",
       "1           3  \n",
       "2           3  \n",
       "3           3  \n",
       "4           3  \n",
       "...       ...  \n",
       "41854       1  \n",
       "41855       1  \n",
       "41856       1  \n",
       "41857       1  \n",
       "41858       1  \n",
       "\n",
       "[41859 rows x 8 columns]"
      ]
     },
     "execution_count": 2,
     "metadata": {},
     "output_type": "execute_result"
    }
   ],
   "source": [
    "df = pd.read_csv(\"../data_input/feed_v1.csv\", index_col = None)\n",
    "df = df.drop(columns = 'Unnamed: 0')\n",
    "df"
   ]
  },
  {
   "cell_type": "code",
   "execution_count": 3,
   "metadata": {},
   "outputs": [
    {
     "data": {
      "text/plain": [
       "05-85    13953\n",
       "1-8      13953\n",
       "DAO      13953\n",
       "Name: compound, dtype: int64"
      ]
     },
     "execution_count": 3,
     "metadata": {},
     "output_type": "execute_result"
    }
   ],
   "source": [
    "df.compound.value_counts()"
   ]
  },
  {
   "cell_type": "code",
   "execution_count": 4,
   "metadata": {},
   "outputs": [],
   "source": [
    "def test_train_compound(df, product):\n",
    "    \"\"\"\n",
    "    Function to split test/train data for each compound\n",
    "    \n",
    "    Argument:\n",
    "        df      : pandas dataframe\n",
    "        product : tbbpa, caoh2, both\n",
    "        \n",
    "    Output:\n",
    "        X_train, X_test, y_train, y_test : 4 pandas dataframe which have the split data \n",
    "    \"\"\"\n",
    "    df = df.query('compound == @product')\n",
    "    X_train, X_test, y_train, y_test = train_test_split(df[[\"Ts\", 't', 'HF', 'Tr']], df[\"Weight\"], test_size=0.2, random_state=7)\n",
    "    return X_train, X_test, y_train, y_test"
   ]
  },
  {
   "cell_type": "code",
   "execution_count": 5,
   "metadata": {},
   "outputs": [
    {
     "data": {
      "text/html": [
       "<div>\n",
       "<style scoped>\n",
       "    .dataframe tbody tr th:only-of-type {\n",
       "        vertical-align: middle;\n",
       "    }\n",
       "\n",
       "    .dataframe tbody tr th {\n",
       "        vertical-align: top;\n",
       "    }\n",
       "\n",
       "    .dataframe thead th {\n",
       "        text-align: right;\n",
       "    }\n",
       "</style>\n",
       "<table border=\"1\" class=\"dataframe\">\n",
       "  <thead>\n",
       "    <tr style=\"text-align: right;\">\n",
       "      <th></th>\n",
       "      <th>Model</th>\n",
       "      <th>Compound</th>\n",
       "      <th>Train Accuracy</th>\n",
       "      <th>Test Accuracy</th>\n",
       "    </tr>\n",
       "  </thead>\n",
       "  <tbody>\n",
       "  </tbody>\n",
       "</table>\n",
       "</div>"
      ],
      "text/plain": [
       "Empty DataFrame\n",
       "Columns: [Model, Compound, Train Accuracy, Test Accuracy]\n",
       "Index: []"
      ]
     },
     "execution_count": 5,
     "metadata": {},
     "output_type": "execute_result"
    }
   ],
   "source": [
    "df_results = pd.DataFrame({'Model': [],\n",
    "                           'Compound' : [],\n",
    "                           'Train Accuracy': [],\n",
    "                           'Test Accuracy' : []\n",
    "                           })\n",
    "df_results"
   ]
  },
  {
   "cell_type": "markdown",
   "metadata": {},
   "source": [
    "## Summary"
   ]
  },
  {
   "cell_type": "code",
   "execution_count": 20,
   "metadata": {},
   "outputs": [
    {
     "data": {
      "text/html": [
       "<div>\n",
       "<style scoped>\n",
       "    .dataframe tbody tr th:only-of-type {\n",
       "        vertical-align: middle;\n",
       "    }\n",
       "\n",
       "    .dataframe tbody tr th {\n",
       "        vertical-align: top;\n",
       "    }\n",
       "\n",
       "    .dataframe thead th {\n",
       "        text-align: right;\n",
       "    }\n",
       "</style>\n",
       "<table border=\"1\" class=\"dataframe\">\n",
       "  <thead>\n",
       "    <tr style=\"text-align: right;\">\n",
       "      <th></th>\n",
       "      <th>Model</th>\n",
       "      <th>Compound</th>\n",
       "      <th>Train Accuracy</th>\n",
       "      <th>Test Accuracy</th>\n",
       "    </tr>\n",
       "  </thead>\n",
       "  <tbody>\n",
       "    <tr>\n",
       "      <th>NaN</th>\n",
       "      <td>Linear Regression</td>\n",
       "      <td>05-85</td>\n",
       "      <td>0.950623</td>\n",
       "      <td>0.949445</td>\n",
       "    </tr>\n",
       "    <tr>\n",
       "      <th>NaN</th>\n",
       "      <td>Linear Regression</td>\n",
       "      <td>1-8</td>\n",
       "      <td>0.944426</td>\n",
       "      <td>0.943092</td>\n",
       "    </tr>\n",
       "    <tr>\n",
       "      <th>NaN</th>\n",
       "      <td>Linear Regression</td>\n",
       "      <td>DAO</td>\n",
       "      <td>0.943814</td>\n",
       "      <td>0.942346</td>\n",
       "    </tr>\n",
       "    <tr>\n",
       "      <th>NaN</th>\n",
       "      <td>Partial Least Squares (n=2)</td>\n",
       "      <td>05-85</td>\n",
       "      <td>0.898456</td>\n",
       "      <td>0.897495</td>\n",
       "    </tr>\n",
       "    <tr>\n",
       "      <th>NaN</th>\n",
       "      <td>Partial Least Squares (n=2)</td>\n",
       "      <td>1-8</td>\n",
       "      <td>0.895012</td>\n",
       "      <td>0.893727</td>\n",
       "    </tr>\n",
       "    <tr>\n",
       "      <th>NaN</th>\n",
       "      <td>Partial Least Squares (n=2)</td>\n",
       "      <td>DAO</td>\n",
       "      <td>0.894597</td>\n",
       "      <td>0.893963</td>\n",
       "    </tr>\n",
       "    <tr>\n",
       "      <th>NaN</th>\n",
       "      <td>Partial Least Squares (n=3)</td>\n",
       "      <td>05-85</td>\n",
       "      <td>0.945137</td>\n",
       "      <td>0.945039</td>\n",
       "    </tr>\n",
       "    <tr>\n",
       "      <th>NaN</th>\n",
       "      <td>Partial Least Squares (n=3)</td>\n",
       "      <td>1-8</td>\n",
       "      <td>0.939971</td>\n",
       "      <td>0.939680</td>\n",
       "    </tr>\n",
       "    <tr>\n",
       "      <th>NaN</th>\n",
       "      <td>Partial Least Squares (n=3)</td>\n",
       "      <td>DAO</td>\n",
       "      <td>0.940255</td>\n",
       "      <td>0.939713</td>\n",
       "    </tr>\n",
       "    <tr>\n",
       "      <th>NaN</th>\n",
       "      <td>Random Forest Regression (max_depth = 2)</td>\n",
       "      <td>05-85</td>\n",
       "      <td>0.993889</td>\n",
       "      <td>0.993096</td>\n",
       "    </tr>\n",
       "    <tr>\n",
       "      <th>NaN</th>\n",
       "      <td>Random Forest Regression (max_depth = 2)</td>\n",
       "      <td>1-8</td>\n",
       "      <td>0.993656</td>\n",
       "      <td>0.992760</td>\n",
       "    </tr>\n",
       "    <tr>\n",
       "      <th>NaN</th>\n",
       "      <td>Random Forest Regression (max_depth = 2)</td>\n",
       "      <td>DAO</td>\n",
       "      <td>0.993935</td>\n",
       "      <td>0.993329</td>\n",
       "    </tr>\n",
       "    <tr>\n",
       "      <th>NaN</th>\n",
       "      <td>Random Forest Regression (max_depth = 5)</td>\n",
       "      <td>05-85</td>\n",
       "      <td>0.999812</td>\n",
       "      <td>0.999734</td>\n",
       "    </tr>\n",
       "    <tr>\n",
       "      <th>NaN</th>\n",
       "      <td>Random Forest Regression (max_depth = 5)</td>\n",
       "      <td>1-8</td>\n",
       "      <td>0.999887</td>\n",
       "      <td>0.999868</td>\n",
       "    </tr>\n",
       "    <tr>\n",
       "      <th>NaN</th>\n",
       "      <td>Random Forest Regression (max_depth = 5)</td>\n",
       "      <td>DAO</td>\n",
       "      <td>0.999728</td>\n",
       "      <td>0.999645</td>\n",
       "    </tr>\n",
       "    <tr>\n",
       "      <th>NaN</th>\n",
       "      <td>Random Forest Regression (max_depth = 7)</td>\n",
       "      <td>05-85</td>\n",
       "      <td>0.999963</td>\n",
       "      <td>0.999929</td>\n",
       "    </tr>\n",
       "    <tr>\n",
       "      <th>NaN</th>\n",
       "      <td>Random Forest Regression (max_depth = 7)</td>\n",
       "      <td>1-8</td>\n",
       "      <td>0.999980</td>\n",
       "      <td>0.999970</td>\n",
       "    </tr>\n",
       "    <tr>\n",
       "      <th>NaN</th>\n",
       "      <td>Random Forest Regression (max_depth = 7)</td>\n",
       "      <td>DAO</td>\n",
       "      <td>0.999888</td>\n",
       "      <td>0.999833</td>\n",
       "    </tr>\n",
       "    <tr>\n",
       "      <th>NaN</th>\n",
       "      <td>Random Forest Regression (max_depth = 10)</td>\n",
       "      <td>05-85</td>\n",
       "      <td>0.999993</td>\n",
       "      <td>0.999970</td>\n",
       "    </tr>\n",
       "    <tr>\n",
       "      <th>NaN</th>\n",
       "      <td>Random Forest Regression (max_depth = 10)</td>\n",
       "      <td>1-8</td>\n",
       "      <td>0.999997</td>\n",
       "      <td>0.999991</td>\n",
       "    </tr>\n",
       "    <tr>\n",
       "      <th>NaN</th>\n",
       "      <td>Random Forest Regression (max_depth = 10)</td>\n",
       "      <td>DAO</td>\n",
       "      <td>0.999955</td>\n",
       "      <td>0.999891</td>\n",
       "    </tr>\n",
       "    <tr>\n",
       "      <th>NaN</th>\n",
       "      <td>SVR RBF Kernel</td>\n",
       "      <td>05-85</td>\n",
       "      <td>0.961136</td>\n",
       "      <td>0.959807</td>\n",
       "    </tr>\n",
       "    <tr>\n",
       "      <th>NaN</th>\n",
       "      <td>SVR RBF Kernel</td>\n",
       "      <td>1-8</td>\n",
       "      <td>0.963573</td>\n",
       "      <td>0.961812</td>\n",
       "    </tr>\n",
       "    <tr>\n",
       "      <th>NaN</th>\n",
       "      <td>SVR RBF Kernel</td>\n",
       "      <td>DAO</td>\n",
       "      <td>0.962961</td>\n",
       "      <td>0.961275</td>\n",
       "    </tr>\n",
       "    <tr>\n",
       "      <th>NaN</th>\n",
       "      <td>Gradient Boost Regressor</td>\n",
       "      <td>05-85</td>\n",
       "      <td>0.999916</td>\n",
       "      <td>0.999857</td>\n",
       "    </tr>\n",
       "    <tr>\n",
       "      <th>NaN</th>\n",
       "      <td>Gradient Boost Regressor</td>\n",
       "      <td>1-8</td>\n",
       "      <td>0.999979</td>\n",
       "      <td>0.999968</td>\n",
       "    </tr>\n",
       "    <tr>\n",
       "      <th>NaN</th>\n",
       "      <td>Gradient Boost Regressor</td>\n",
       "      <td>DAO</td>\n",
       "      <td>0.999807</td>\n",
       "      <td>0.999707</td>\n",
       "    </tr>\n",
       "  </tbody>\n",
       "</table>\n",
       "</div>"
      ],
      "text/plain": [
       "                                         Model Compound  Train Accuracy  \\\n",
       "NaN                          Linear Regression    05-85        0.950623   \n",
       "NaN                          Linear Regression      1-8        0.944426   \n",
       "NaN                          Linear Regression      DAO        0.943814   \n",
       "NaN                Partial Least Squares (n=2)    05-85        0.898456   \n",
       "NaN                Partial Least Squares (n=2)      1-8        0.895012   \n",
       "NaN                Partial Least Squares (n=2)      DAO        0.894597   \n",
       "NaN                Partial Least Squares (n=3)    05-85        0.945137   \n",
       "NaN                Partial Least Squares (n=3)      1-8        0.939971   \n",
       "NaN                Partial Least Squares (n=3)      DAO        0.940255   \n",
       "NaN   Random Forest Regression (max_depth = 2)    05-85        0.993889   \n",
       "NaN   Random Forest Regression (max_depth = 2)      1-8        0.993656   \n",
       "NaN   Random Forest Regression (max_depth = 2)      DAO        0.993935   \n",
       "NaN   Random Forest Regression (max_depth = 5)    05-85        0.999812   \n",
       "NaN   Random Forest Regression (max_depth = 5)      1-8        0.999887   \n",
       "NaN   Random Forest Regression (max_depth = 5)      DAO        0.999728   \n",
       "NaN   Random Forest Regression (max_depth = 7)    05-85        0.999963   \n",
       "NaN   Random Forest Regression (max_depth = 7)      1-8        0.999980   \n",
       "NaN   Random Forest Regression (max_depth = 7)      DAO        0.999888   \n",
       "NaN  Random Forest Regression (max_depth = 10)    05-85        0.999993   \n",
       "NaN  Random Forest Regression (max_depth = 10)      1-8        0.999997   \n",
       "NaN  Random Forest Regression (max_depth = 10)      DAO        0.999955   \n",
       "NaN                             SVR RBF Kernel    05-85        0.961136   \n",
       "NaN                             SVR RBF Kernel      1-8        0.963573   \n",
       "NaN                             SVR RBF Kernel      DAO        0.962961   \n",
       "NaN                   Gradient Boost Regressor    05-85        0.999916   \n",
       "NaN                   Gradient Boost Regressor      1-8        0.999979   \n",
       "NaN                   Gradient Boost Regressor      DAO        0.999807   \n",
       "\n",
       "     Test Accuracy  \n",
       "NaN       0.949445  \n",
       "NaN       0.943092  \n",
       "NaN       0.942346  \n",
       "NaN       0.897495  \n",
       "NaN       0.893727  \n",
       "NaN       0.893963  \n",
       "NaN       0.945039  \n",
       "NaN       0.939680  \n",
       "NaN       0.939713  \n",
       "NaN       0.993096  \n",
       "NaN       0.992760  \n",
       "NaN       0.993329  \n",
       "NaN       0.999734  \n",
       "NaN       0.999868  \n",
       "NaN       0.999645  \n",
       "NaN       0.999929  \n",
       "NaN       0.999970  \n",
       "NaN       0.999833  \n",
       "NaN       0.999970  \n",
       "NaN       0.999991  \n",
       "NaN       0.999891  \n",
       "NaN       0.959807  \n",
       "NaN       0.961812  \n",
       "NaN       0.961275  \n",
       "NaN       0.999857  \n",
       "NaN       0.999968  \n",
       "NaN       0.999707  "
      ]
     },
     "execution_count": 20,
     "metadata": {},
     "output_type": "execute_result"
    }
   ],
   "source": [
    "df_results"
   ]
  },
  {
   "cell_type": "markdown",
   "metadata": {},
   "source": [
    "## Linear Modelling"
   ]
  },
  {
   "cell_type": "code",
   "execution_count": 7,
   "metadata": {},
   "outputs": [
    {
     "name": "stdout",
     "output_type": "stream",
     "text": [
      "The 4 matrices for -- 05-85 -- are of sizes:  (11162, 4) (2791, 4) (11162,) (2791,)\n",
      "The training accuracy for the model is  0.9506225750731464\n",
      "The testing accuracy for the model is  0.9494448382534981\n",
      "The 4 matrices for -- 1-8 -- are of sizes:  (11162, 4) (2791, 4) (11162,) (2791,)\n",
      "The training accuracy for the model is  0.9444256621162193\n",
      "The testing accuracy for the model is  0.9430919745706666\n",
      "The 4 matrices for -- DAO -- are of sizes:  (11162, 4) (2791, 4) (11162,) (2791,)\n",
      "The training accuracy for the model is  0.9438141806686735\n",
      "The testing accuracy for the model is  0.9423458158134066\n"
     ]
    }
   ],
   "source": [
    "def linear_model(df, product):\n",
    "    X_train, X_test, y_train, y_test = test_train_compound(df, product)\n",
    "    print(\"The 4 matrices for --\", product, \"-- are of sizes: \", X_train.shape, X_test.shape, y_train.shape, y_test.shape)\n",
    "    lr = LinearRegression().fit(X_train, y_train)\n",
    "    \n",
    "    \n",
    "    df_pred = df.query(\"compound == @product\").copy()\n",
    "    df_pred['predicted_wt'] = lr.predict(df.query(\"compound == @product\")[['Ts', 't', 'HF', 'Tr']])\n",
    "    df_pred.to_csv(r'../output/scenario2/prediction_lr_{}.csv'.format(product))\n",
    "    \n",
    "    \n",
    "    print(\"The training accuracy for the model is \", lr.score(X_train, y_train))\n",
    "    print(\"The testing accuracy for the model is \", lr.score(X_test, y_test))\n",
    "    return pd.DataFrame({'Model': 'Linear Regression',\n",
    "                           'Train Accuracy': lr.score(X_train, y_train),\n",
    "                           'Test Accuracy' : lr.score(X_test, y_test),\n",
    "                           'Compound' : product}, index = [None])\n",
    "    \n",
    "for i in df.compound.value_counts().index:\n",
    "    df_results = df_results.append(linear_model(df, i))\n",
    "    "
   ]
  },
  {
   "cell_type": "markdown",
   "metadata": {},
   "source": [
    "## PLSR"
   ]
  },
  {
   "cell_type": "code",
   "execution_count": 8,
   "metadata": {},
   "outputs": [
    {
     "name": "stdout",
     "output_type": "stream",
     "text": [
      "The 4 matrices for -- 05-85 -- are of sizes:  (11162, 4) (2791, 4) (11162,) (2791,)\n",
      "The training accuracy for the model is  0.8984559531030358\n",
      "The testing accuracy for the model is  0.8974947590740571\n",
      "The 4 matrices for -- 1-8 -- are of sizes:  (11162, 4) (2791, 4) (11162,) (2791,)\n",
      "The training accuracy for the model is  0.895011861666901\n",
      "The testing accuracy for the model is  0.8937273516451448\n",
      "The 4 matrices for -- DAO -- are of sizes:  (11162, 4) (2791, 4) (11162,) (2791,)\n",
      "The training accuracy for the model is  0.8945974210759268\n",
      "The testing accuracy for the model is  0.8939627026817364\n"
     ]
    }
   ],
   "source": [
    "def pls2(df, product):\n",
    "    X_train, X_test, y_train, y_test = test_train_compound(df, product)\n",
    "    print(\"The 4 matrices for --\", product, \"-- are of sizes: \", X_train.shape, X_test.shape, y_train.shape, y_test.shape)\n",
    "    pls2 = PLSRegression(n_components=2).fit(X_train, y_train)\n",
    "    \n",
    "    \n",
    "    df_pred = df.query(\"compound == @product\").copy()\n",
    "    df_pred['predicted_wt'] = pls2.predict(df.query(\"compound == @product\")[['Ts', 't', 'HF', 'Tr']])\n",
    "    df_pred.to_csv(r'../output/scenario2/prediction_plsr2_{}.csv'.format(product))\n",
    "    \n",
    "    \n",
    "    print(\"The training accuracy for the model is \", pls2.score(X_train, y_train))\n",
    "    print(\"The testing accuracy for the model is \", pls2.score(X_test, y_test))\n",
    "    return pd.DataFrame({'Model': 'Partial Least Squares (n=2)',\n",
    "                           'Train Accuracy': pls2.score(X_train, y_train),\n",
    "                           'Test Accuracy' : pls2.score(X_test, y_test),\n",
    "                           'Compound' : i}, index = [None])\n",
    "\n",
    "for i in df.compound.value_counts().index:\n",
    "    df_results = df_results.append(pls2(df, i))"
   ]
  },
  {
   "cell_type": "code",
   "execution_count": 9,
   "metadata": {},
   "outputs": [
    {
     "data": {
      "text/html": [
       "<div>\n",
       "<style scoped>\n",
       "    .dataframe tbody tr th:only-of-type {\n",
       "        vertical-align: middle;\n",
       "    }\n",
       "\n",
       "    .dataframe tbody tr th {\n",
       "        vertical-align: top;\n",
       "    }\n",
       "\n",
       "    .dataframe thead th {\n",
       "        text-align: right;\n",
       "    }\n",
       "</style>\n",
       "<table border=\"1\" class=\"dataframe\">\n",
       "  <thead>\n",
       "    <tr style=\"text-align: right;\">\n",
       "      <th></th>\n",
       "      <th>Model</th>\n",
       "      <th>Compound</th>\n",
       "      <th>Train Accuracy</th>\n",
       "      <th>Test Accuracy</th>\n",
       "    </tr>\n",
       "  </thead>\n",
       "  <tbody>\n",
       "    <tr>\n",
       "      <th>NaN</th>\n",
       "      <td>Linear Regression</td>\n",
       "      <td>05-85</td>\n",
       "      <td>0.950623</td>\n",
       "      <td>0.949445</td>\n",
       "    </tr>\n",
       "    <tr>\n",
       "      <th>NaN</th>\n",
       "      <td>Linear Regression</td>\n",
       "      <td>1-8</td>\n",
       "      <td>0.944426</td>\n",
       "      <td>0.943092</td>\n",
       "    </tr>\n",
       "    <tr>\n",
       "      <th>NaN</th>\n",
       "      <td>Linear Regression</td>\n",
       "      <td>DAO</td>\n",
       "      <td>0.943814</td>\n",
       "      <td>0.942346</td>\n",
       "    </tr>\n",
       "    <tr>\n",
       "      <th>NaN</th>\n",
       "      <td>Partial Least Squares (n=2)</td>\n",
       "      <td>05-85</td>\n",
       "      <td>0.898456</td>\n",
       "      <td>0.897495</td>\n",
       "    </tr>\n",
       "    <tr>\n",
       "      <th>NaN</th>\n",
       "      <td>Partial Least Squares (n=2)</td>\n",
       "      <td>1-8</td>\n",
       "      <td>0.895012</td>\n",
       "      <td>0.893727</td>\n",
       "    </tr>\n",
       "    <tr>\n",
       "      <th>NaN</th>\n",
       "      <td>Partial Least Squares (n=2)</td>\n",
       "      <td>DAO</td>\n",
       "      <td>0.894597</td>\n",
       "      <td>0.893963</td>\n",
       "    </tr>\n",
       "  </tbody>\n",
       "</table>\n",
       "</div>"
      ],
      "text/plain": [
       "                           Model Compound  Train Accuracy  Test Accuracy\n",
       "NaN            Linear Regression    05-85        0.950623       0.949445\n",
       "NaN            Linear Regression      1-8        0.944426       0.943092\n",
       "NaN            Linear Regression      DAO        0.943814       0.942346\n",
       "NaN  Partial Least Squares (n=2)    05-85        0.898456       0.897495\n",
       "NaN  Partial Least Squares (n=2)      1-8        0.895012       0.893727\n",
       "NaN  Partial Least Squares (n=2)      DAO        0.894597       0.893963"
      ]
     },
     "execution_count": 9,
     "metadata": {},
     "output_type": "execute_result"
    }
   ],
   "source": [
    "df_results"
   ]
  },
  {
   "cell_type": "code",
   "execution_count": 10,
   "metadata": {},
   "outputs": [
    {
     "name": "stdout",
     "output_type": "stream",
     "text": [
      "The 4 matrices for -- 05-85 -- are of sizes:  (11162, 4) (2791, 4) (11162,) (2791,)\n",
      "The training accuracy for the model is  0.9451371826550269\n",
      "The testing accuracy for the model is  0.9450387011124508\n",
      "The 4 matrices for -- 1-8 -- are of sizes:  (11162, 4) (2791, 4) (11162,) (2791,)\n",
      "The training accuracy for the model is  0.9399713547510862\n",
      "The testing accuracy for the model is  0.9396804695461078\n",
      "The 4 matrices for -- DAO -- are of sizes:  (11162, 4) (2791, 4) (11162,) (2791,)\n",
      "The training accuracy for the model is  0.9402551145270681\n",
      "The testing accuracy for the model is  0.9397125473681954\n"
     ]
    }
   ],
   "source": [
    "def pls3(df, product):\n",
    "    X_train, X_test, y_train, y_test = test_train_compound(df, product)\n",
    "    print(\"The 4 matrices for --\", product, \"-- are of sizes: \", X_train.shape, X_test.shape, y_train.shape, y_test.shape)\n",
    "    pls3 = PLSRegression(n_components=3).fit(X_train, y_train)\n",
    "    print(\"The training accuracy for the model is \", pls3.score(X_train, y_train))\n",
    "    print(\"The testing accuracy for the model is \", pls3.score(X_test, y_test))\n",
    "    \n",
    "    df_pred = df.query(\"compound == @product\").copy()\n",
    "    df_pred['predicted_wt'] = pls3.predict(df.query(\"compound == @product\")[['Ts', 't', 'HF', 'Tr']])\n",
    "    df_pred.to_csv(r'../output/scenario2/prediction_plsr3_{}.csv'.format(product))\n",
    "    \n",
    "    return pd.DataFrame({'Model': 'Partial Least Squares (n=3)',\n",
    "                           'Train Accuracy': pls3.score(X_train, y_train),\n",
    "                           'Test Accuracy' : pls3.score(X_test, y_test),\n",
    "                           'Compound' : i}, index = [None])\n",
    "for i in df.compound.value_counts().index:\n",
    "    df_results = df_results.append(pls3(df, i))"
   ]
  },
  {
   "cell_type": "markdown",
   "metadata": {},
   "source": [
    "## Random forest"
   ]
  },
  {
   "cell_type": "code",
   "execution_count": 11,
   "metadata": {},
   "outputs": [
    {
     "name": "stdout",
     "output_type": "stream",
     "text": [
      "The 4 matrices for -- 05-85 -- are of sizes:  (11162, 4) (2791, 4) (11162,) (2791,)\n",
      "The training accuracy for the model is  0.993888508271858\n",
      "The testing accuracy for the model is  0.9930960789239877\n",
      "The 4 matrices for -- 1-8 -- are of sizes:  (11162, 4) (2791, 4) (11162,) (2791,)\n",
      "The training accuracy for the model is  0.993656311886893\n",
      "The testing accuracy for the model is  0.9927595428077203\n",
      "The 4 matrices for -- DAO -- are of sizes:  (11162, 4) (2791, 4) (11162,) (2791,)\n",
      "The training accuracy for the model is  0.9939347760460212\n",
      "The testing accuracy for the model is  0.9933294131623256\n"
     ]
    }
   ],
   "source": [
    "def random_forest(df, product):\n",
    "    X_train, X_test, y_train, y_test = test_train_compound(df, product)\n",
    "    print(\"The 4 matrices for --\", product, \"-- are of sizes: \", X_train.shape, X_test.shape, y_train.shape, y_test.shape)\n",
    "    rf2 = RandomForestRegressor(random_state=0, max_depth = 2).fit(X_train, y_train)\n",
    "    \n",
    "    \n",
    "    df_pred = df.query(\"compound == @product\").copy()\n",
    "    df_pred['predicted_wt'] = rf2.predict(df.query(\"compound == @product\")[['Ts', 't', 'HF', 'Tr']])\n",
    "    df_pred.to_csv(r'../output/scenario2/prediction_rf2_{}.csv'.format(product))\n",
    "    \n",
    "    \n",
    "    print(\"The training accuracy for the model is \", rf2.score(X_train, y_train))\n",
    "    print(\"The testing accuracy for the model is \", rf2.score(X_test, y_test))\n",
    "    \n",
    "    return pd.DataFrame({'Model': 'Random Forest Regression (max_depth = 2)',\n",
    "                           'Train Accuracy': rf2.score(X_train, y_train),\n",
    "                           'Test Accuracy' : rf2.score(X_test, y_test),\n",
    "                           'Compound' : i}, index=[None])\n",
    "\n",
    "for i in df.compound.value_counts().index:\n",
    "    df_results = df_results.append(random_forest(df, i))"
   ]
  },
  {
   "cell_type": "code",
   "execution_count": 12,
   "metadata": {},
   "outputs": [
    {
     "name": "stdout",
     "output_type": "stream",
     "text": [
      "The 4 matrices for -- 05-85 -- are of sizes:  (11162, 4) (2791, 4) (11162,) (2791,)\n",
      "The training accuracy for the model is  0.9998115173971895\n",
      "The testing accuracy for the model is  0.9997338411486796\n",
      "The 4 matrices for -- 1-8 -- are of sizes:  (11162, 4) (2791, 4) (11162,) (2791,)\n",
      "The training accuracy for the model is  0.9998865498698165\n",
      "The testing accuracy for the model is  0.9998684287038005\n",
      "The 4 matrices for -- DAO -- are of sizes:  (11162, 4) (2791, 4) (11162,) (2791,)\n",
      "The training accuracy for the model is  0.9997278542810737\n",
      "The testing accuracy for the model is  0.9996453292567936\n"
     ]
    }
   ],
   "source": [
    "def random_forest(df, product):\n",
    "    X_train, X_test, y_train, y_test = test_train_compound(df, product)\n",
    "    print(\"The 4 matrices for --\", product, \"-- are of sizes: \", X_train.shape, X_test.shape, y_train.shape, y_test.shape)\n",
    "    rf5 = RandomForestRegressor(random_state=0, max_depth = 5).fit(X_train, y_train)\n",
    "    \n",
    "    df_pred = df.query(\"compound == @product\").copy()\n",
    "    df_pred['predicted_wt'] = rf5.predict(df.query(\"compound == @product\")[['Ts', 't', 'HF', 'Tr']])\n",
    "    df_pred.to_csv(r'../output/scenario2/prediction_rf5_{}.csv'.format(product))\n",
    "    \n",
    "    print(\"The training accuracy for the model is \", rf5.score(X_train, y_train))\n",
    "    print(\"The testing accuracy for the model is \", rf5.score(X_test, y_test))\n",
    "    \n",
    "    return pd.DataFrame({'Model': 'Random Forest Regression (max_depth = 5)',\n",
    "                           'Train Accuracy': rf5.score(X_train, y_train),\n",
    "                           'Test Accuracy' : rf5.score(X_test, y_test),\n",
    "                           'Compound' : i}, index=[None])\n",
    "\n",
    "for i in df.compound.value_counts().index:\n",
    "    df_results = df_results.append(random_forest(df, i))"
   ]
  },
  {
   "cell_type": "code",
   "execution_count": 13,
   "metadata": {},
   "outputs": [
    {
     "name": "stdout",
     "output_type": "stream",
     "text": [
      "The 4 matrices for -- 05-85 -- are of sizes:  (11162, 4) (2791, 4) (11162,) (2791,)\n",
      "The training accuracy for the model is  0.9999634264737982\n",
      "The testing accuracy for the model is  0.9999290741678912\n",
      "The 4 matrices for -- 1-8 -- are of sizes:  (11162, 4) (2791, 4) (11162,) (2791,)\n",
      "The training accuracy for the model is  0.9999799610857962\n",
      "The testing accuracy for the model is  0.9999696652351093\n",
      "The 4 matrices for -- DAO -- are of sizes:  (11162, 4) (2791, 4) (11162,) (2791,)\n",
      "The training accuracy for the model is  0.9998878276740881\n",
      "The testing accuracy for the model is  0.9998328149289812\n"
     ]
    }
   ],
   "source": [
    "def random_forest(df, product):\n",
    "    X_train, X_test, y_train, y_test = test_train_compound(df, product)\n",
    "    print(\"The 4 matrices for --\", product, \"-- are of sizes: \", X_train.shape, X_test.shape, y_train.shape, y_test.shape)\n",
    "    rf7 = RandomForestRegressor(random_state=0, max_depth = 7).fit(X_train, y_train)\n",
    "    \n",
    "    df_pred = df.query(\"compound == @product\").copy()\n",
    "    df_pred['predicted_wt'] = rf7.predict(df.query(\"compound == @product\")[['Ts', 't', 'HF', 'Tr']])\n",
    "    df_pred.to_csv(r'../output/scenario2/prediction_rf7_{}.csv'.format(product))\n",
    "    \n",
    "    print(\"The training accuracy for the model is \", rf7.score(X_train, y_train))\n",
    "    print(\"The testing accuracy for the model is \", rf7.score(X_test, y_test))\n",
    "    \n",
    "    return pd.DataFrame({'Model': 'Random Forest Regression (max_depth = 7)',\n",
    "                           'Train Accuracy': rf7.score(X_train, y_train),\n",
    "                           'Test Accuracy' : rf7.score(X_test, y_test),\n",
    "                           'Compound' : i}, index=[None])\n",
    "\n",
    "for i in df.compound.value_counts().index:\n",
    "    df_results = df_results.append(random_forest(df, i))"
   ]
  },
  {
   "cell_type": "code",
   "execution_count": 14,
   "metadata": {},
   "outputs": [
    {
     "name": "stdout",
     "output_type": "stream",
     "text": [
      "The 4 matrices for -- 05-85 -- are of sizes:  (11162, 4) (2791, 4) (11162,) (2791,)\n",
      "The training accuracy for the model is  0.9999929400087377\n",
      "The testing accuracy for the model is  0.9999702596754745\n",
      "The 4 matrices for -- 1-8 -- are of sizes:  (11162, 4) (2791, 4) (11162,) (2791,)\n",
      "The training accuracy for the model is  0.9999973025907758\n",
      "The testing accuracy for the model is  0.9999907106854313\n",
      "The 4 matrices for -- DAO -- are of sizes:  (11162, 4) (2791, 4) (11162,) (2791,)\n",
      "The training accuracy for the model is  0.999955254276367\n",
      "The testing accuracy for the model is  0.9998912031601551\n"
     ]
    }
   ],
   "source": [
    "def random_forest(df, product):\n",
    "    X_train, X_test, y_train, y_test = test_train_compound(df, product)\n",
    "    print(\"The 4 matrices for --\", product, \"-- are of sizes: \", X_train.shape, X_test.shape, y_train.shape, y_test.shape)\n",
    "    rf10 = RandomForestRegressor(random_state=0, max_depth = 10).fit(X_train, y_train)\n",
    "    \n",
    "    df_pred = df.query(\"compound == @product\").copy()\n",
    "    df_pred['predicted_wt'] = rf10.predict(df.query(\"compound == @product\")[['Ts', 't', 'HF', 'Tr']])\n",
    "    df_pred.to_csv(r'../output/scenario2/prediction_rf10_{}.csv'.format(product))\n",
    "    \n",
    "    print(\"The training accuracy for the model is \", rf10.score(X_train, y_train))\n",
    "    print(\"The testing accuracy for the model is \", rf10.score(X_test, y_test))\n",
    "    \n",
    "    return pd.DataFrame({'Model': 'Random Forest Regression (max_depth = 10)',\n",
    "                           'Train Accuracy': rf10.score(X_train, y_train),\n",
    "                           'Test Accuracy' : rf10.score(X_test, y_test),\n",
    "                           'Compound' : i}, index=[None])\n",
    "\n",
    "for i in df.compound.value_counts().index:\n",
    "    df_results = df_results.append(random_forest(df, i))"
   ]
  },
  {
   "cell_type": "code",
   "execution_count": 15,
   "metadata": {},
   "outputs": [
    {
     "data": {
      "application/vnd.vegalite.v3+json": {
       "$schema": "https://vega.github.io/schema/vega-lite/v3.4.0.json",
       "columns": 3,
       "config": {
        "mark": {
         "tooltip": null
        },
        "view": {
         "height": 300,
         "width": 400
        }
       },
       "data": {
        "name": "data-c7cade462e73582f5d7b340cf4b185b8"
       },
       "datasets": {
        "data-c7cade462e73582f5d7b340cf4b185b8": [
         {
          "Accuracy": 0.962815826495507,
          "Type": "training",
          "max_depth": 1,
          "n_estimator": 1
         },
         {
          "Accuracy": 0.9635660222693364,
          "Type": "training",
          "max_depth": 1,
          "n_estimator": 2
         },
         {
          "Accuracy": 0.9634853231929486,
          "Type": "training",
          "max_depth": 1,
          "n_estimator": 3
         },
         {
          "Accuracy": 0.9634336695224347,
          "Type": "training",
          "max_depth": 1,
          "n_estimator": 5
         },
         {
          "Accuracy": 0.9636397140346585,
          "Type": "training",
          "max_depth": 1,
          "n_estimator": 10
         },
         {
          "Accuracy": 0.9637890001889702,
          "Type": "training",
          "max_depth": 1,
          "n_estimator": 20
         },
         {
          "Accuracy": 0.9637929872301958,
          "Type": "training",
          "max_depth": 1,
          "n_estimator": 30
         },
         {
          "Accuracy": 0.963983159313191,
          "Type": "training",
          "max_depth": 1,
          "n_estimator": 50
         },
         {
          "Accuracy": 0.9639937625243431,
          "Type": "training",
          "max_depth": 1,
          "n_estimator": 100
         },
         {
          "Accuracy": 0.9930984142092876,
          "Type": "training",
          "max_depth": 2,
          "n_estimator": 1
         },
         {
          "Accuracy": 0.9933626797055223,
          "Type": "training",
          "max_depth": 2,
          "n_estimator": 2
         },
         {
          "Accuracy": 0.9935250083149647,
          "Type": "training",
          "max_depth": 2,
          "n_estimator": 3
         },
         {
          "Accuracy": 0.9935704021348777,
          "Type": "training",
          "max_depth": 2,
          "n_estimator": 5
         },
         {
          "Accuracy": 0.9936165009695855,
          "Type": "training",
          "max_depth": 2,
          "n_estimator": 10
         },
         {
          "Accuracy": 0.9937374356257107,
          "Type": "training",
          "max_depth": 2,
          "n_estimator": 20
         },
         {
          "Accuracy": 0.9938579147173047,
          "Type": "training",
          "max_depth": 2,
          "n_estimator": 30
         },
         {
          "Accuracy": 0.9939363872237453,
          "Type": "training",
          "max_depth": 2,
          "n_estimator": 50
         },
         {
          "Accuracy": 0.9939347760460212,
          "Type": "training",
          "max_depth": 2,
          "n_estimator": 100
         },
         {
          "Accuracy": 0.998099916153146,
          "Type": "training",
          "max_depth": 3,
          "n_estimator": 1
         },
         {
          "Accuracy": 0.9982365527241742,
          "Type": "training",
          "max_depth": 3,
          "n_estimator": 2
         },
         {
          "Accuracy": 0.9983062968900345,
          "Type": "training",
          "max_depth": 3,
          "n_estimator": 3
         },
         {
          "Accuracy": 0.9983459305102056,
          "Type": "training",
          "max_depth": 3,
          "n_estimator": 5
         },
         {
          "Accuracy": 0.9983956348207828,
          "Type": "training",
          "max_depth": 3,
          "n_estimator": 10
         },
         {
          "Accuracy": 0.9984527490266247,
          "Type": "training",
          "max_depth": 3,
          "n_estimator": 20
         },
         {
          "Accuracy": 0.9985033530267869,
          "Type": "training",
          "max_depth": 3,
          "n_estimator": 30
         },
         {
          "Accuracy": 0.9985226248951031,
          "Type": "training",
          "max_depth": 3,
          "n_estimator": 50
         },
         {
          "Accuracy": 0.9985193770029547,
          "Type": "training",
          "max_depth": 3,
          "n_estimator": 100
         },
         {
          "Accuracy": 0.9992686610065029,
          "Type": "training",
          "max_depth": 4,
          "n_estimator": 1
         },
         {
          "Accuracy": 0.9993482923234398,
          "Type": "training",
          "max_depth": 4,
          "n_estimator": 2
         },
         {
          "Accuracy": 0.9993904550606998,
          "Type": "training",
          "max_depth": 4,
          "n_estimator": 3
         },
         {
          "Accuracy": 0.9994131843248837,
          "Type": "training",
          "max_depth": 4,
          "n_estimator": 5
         },
         {
          "Accuracy": 0.9994352110242063,
          "Type": "training",
          "max_depth": 4,
          "n_estimator": 10
         },
         {
          "Accuracy": 0.9994530035575993,
          "Type": "training",
          "max_depth": 4,
          "n_estimator": 20
         },
         {
          "Accuracy": 0.9994741260978341,
          "Type": "training",
          "max_depth": 4,
          "n_estimator": 30
         },
         {
          "Accuracy": 0.9994848240448648,
          "Type": "training",
          "max_depth": 4,
          "n_estimator": 50
         },
         {
          "Accuracy": 0.9994863194395117,
          "Type": "training",
          "max_depth": 4,
          "n_estimator": 100
         },
         {
          "Accuracy": 0.9996168622911149,
          "Type": "training",
          "max_depth": 5,
          "n_estimator": 1
         },
         {
          "Accuracy": 0.9996631866161699,
          "Type": "training",
          "max_depth": 5,
          "n_estimator": 2
         },
         {
          "Accuracy": 0.9996907625788535,
          "Type": "training",
          "max_depth": 5,
          "n_estimator": 3
         },
         {
          "Accuracy": 0.9996996443291783,
          "Type": "training",
          "max_depth": 5,
          "n_estimator": 5
         },
         {
          "Accuracy": 0.9997106295858468,
          "Type": "training",
          "max_depth": 5,
          "n_estimator": 10
         },
         {
          "Accuracy": 0.9997156977361985,
          "Type": "training",
          "max_depth": 5,
          "n_estimator": 20
         },
         {
          "Accuracy": 0.9997215324634523,
          "Type": "training",
          "max_depth": 5,
          "n_estimator": 30
         },
         {
          "Accuracy": 0.9997266384651834,
          "Type": "training",
          "max_depth": 5,
          "n_estimator": 50
         },
         {
          "Accuracy": 0.9997278542810737,
          "Type": "training",
          "max_depth": 5,
          "n_estimator": 100
         },
         {
          "Accuracy": 0.9997561497300032,
          "Type": "training",
          "max_depth": 6,
          "n_estimator": 1
         },
         {
          "Accuracy": 0.9997894781510978,
          "Type": "training",
          "max_depth": 6,
          "n_estimator": 2
         },
         {
          "Accuracy": 0.9998035575774357,
          "Type": "training",
          "max_depth": 6,
          "n_estimator": 3
         },
         {
          "Accuracy": 0.9998123388151908,
          "Type": "training",
          "max_depth": 6,
          "n_estimator": 5
         },
         {
          "Accuracy": 0.9998199913339147,
          "Type": "training",
          "max_depth": 6,
          "n_estimator": 10
         },
         {
          "Accuracy": 0.999822789088109,
          "Type": "training",
          "max_depth": 6,
          "n_estimator": 20
         },
         {
          "Accuracy": 0.9998250805667793,
          "Type": "training",
          "max_depth": 6,
          "n_estimator": 30
         },
         {
          "Accuracy": 0.9998261193935708,
          "Type": "training",
          "max_depth": 6,
          "n_estimator": 50
         },
         {
          "Accuracy": 0.9998260625020322,
          "Type": "training",
          "max_depth": 6,
          "n_estimator": 100
         },
         {
          "Accuracy": 0.9998191156547432,
          "Type": "training",
          "max_depth": 7,
          "n_estimator": 1
         },
         {
          "Accuracy": 0.9998522907612855,
          "Type": "training",
          "max_depth": 7,
          "n_estimator": 2
         },
         {
          "Accuracy": 0.9998672140758157,
          "Type": "training",
          "max_depth": 7,
          "n_estimator": 3
         },
         {
          "Accuracy": 0.9998736025199223,
          "Type": "training",
          "max_depth": 7,
          "n_estimator": 5
         },
         {
          "Accuracy": 0.9998800808801642,
          "Type": "training",
          "max_depth": 7,
          "n_estimator": 10
         },
         {
          "Accuracy": 0.9998833707441076,
          "Type": "training",
          "max_depth": 7,
          "n_estimator": 20
         },
         {
          "Accuracy": 0.999884984903125,
          "Type": "training",
          "max_depth": 7,
          "n_estimator": 30
         },
         {
          "Accuracy": 0.9998872801545479,
          "Type": "training",
          "max_depth": 7,
          "n_estimator": 50
         },
         {
          "Accuracy": 0.9998878276740881,
          "Type": "training",
          "max_depth": 7,
          "n_estimator": 100
         },
         {
          "Accuracy": 0.9581532891920265,
          "Type": "testing",
          "max_depth": 1,
          "n_estimator": 1
         },
         {
          "Accuracy": 0.9596336679206744,
          "Type": "testing",
          "max_depth": 1,
          "n_estimator": 2
         },
         {
          "Accuracy": 0.9594834475124115,
          "Type": "testing",
          "max_depth": 1,
          "n_estimator": 3
         },
         {
          "Accuracy": 0.9593318630933036,
          "Type": "testing",
          "max_depth": 1,
          "n_estimator": 5
         },
         {
          "Accuracy": 0.9592342605954577,
          "Type": "testing",
          "max_depth": 1,
          "n_estimator": 10
         },
         {
          "Accuracy": 0.9593645104182926,
          "Type": "testing",
          "max_depth": 1,
          "n_estimator": 20
         },
         {
          "Accuracy": 0.9592567407532632,
          "Type": "testing",
          "max_depth": 1,
          "n_estimator": 30
         },
         {
          "Accuracy": 0.9594292217369357,
          "Type": "testing",
          "max_depth": 1,
          "n_estimator": 50
         },
         {
          "Accuracy": 0.9597386371080537,
          "Type": "testing",
          "max_depth": 1,
          "n_estimator": 100
         },
         {
          "Accuracy": 0.9922253159237547,
          "Type": "testing",
          "max_depth": 2,
          "n_estimator": 1
         },
         {
          "Accuracy": 0.9927271674635831,
          "Type": "testing",
          "max_depth": 2,
          "n_estimator": 2
         },
         {
          "Accuracy": 0.9929948474032069,
          "Type": "testing",
          "max_depth": 2,
          "n_estimator": 3
         },
         {
          "Accuracy": 0.9930396524248013,
          "Type": "testing",
          "max_depth": 2,
          "n_estimator": 5
         },
         {
          "Accuracy": 0.9929689715906951,
          "Type": "testing",
          "max_depth": 2,
          "n_estimator": 10
         },
         {
          "Accuracy": 0.9930995227175319,
          "Type": "testing",
          "max_depth": 2,
          "n_estimator": 20
         },
         {
          "Accuracy": 0.9932178440599462,
          "Type": "testing",
          "max_depth": 2,
          "n_estimator": 30
         },
         {
          "Accuracy": 0.9932806252036249,
          "Type": "testing",
          "max_depth": 2,
          "n_estimator": 50
         },
         {
          "Accuracy": 0.9933294131623256,
          "Type": "testing",
          "max_depth": 2,
          "n_estimator": 100
         },
         {
          "Accuracy": 0.9979038876694291,
          "Type": "testing",
          "max_depth": 3,
          "n_estimator": 1
         },
         {
          "Accuracy": 0.9980750071353865,
          "Type": "testing",
          "max_depth": 3,
          "n_estimator": 2
         },
         {
          "Accuracy": 0.9981243366888018,
          "Type": "testing",
          "max_depth": 3,
          "n_estimator": 3
         },
         {
          "Accuracy": 0.9981465145527298,
          "Type": "testing",
          "max_depth": 3,
          "n_estimator": 5
         },
         {
          "Accuracy": 0.9981373900927949,
          "Type": "testing",
          "max_depth": 3,
          "n_estimator": 10
         },
         {
          "Accuracy": 0.9982133357579319,
          "Type": "testing",
          "max_depth": 3,
          "n_estimator": 20
         },
         {
          "Accuracy": 0.9982737432265231,
          "Type": "testing",
          "max_depth": 3,
          "n_estimator": 30
         },
         {
          "Accuracy": 0.9982968206794821,
          "Type": "testing",
          "max_depth": 3,
          "n_estimator": 50
         },
         {
          "Accuracy": 0.998307021745414,
          "Type": "testing",
          "max_depth": 3,
          "n_estimator": 100
         },
         {
          "Accuracy": 0.9991335122168009,
          "Type": "testing",
          "max_depth": 4,
          "n_estimator": 1
         },
         {
          "Accuracy": 0.9992591771243866,
          "Type": "testing",
          "max_depth": 4,
          "n_estimator": 2
         },
         {
          "Accuracy": 0.9992927177501293,
          "Type": "testing",
          "max_depth": 4,
          "n_estimator": 3
         },
         {
          "Accuracy": 0.9993143406644971,
          "Type": "testing",
          "max_depth": 4,
          "n_estimator": 5
         },
         {
          "Accuracy": 0.9993132219421558,
          "Type": "testing",
          "max_depth": 4,
          "n_estimator": 10
         },
         {
          "Accuracy": 0.9993313430250926,
          "Type": "testing",
          "max_depth": 4,
          "n_estimator": 20
         },
         {
          "Accuracy": 0.9993533493007651,
          "Type": "testing",
          "max_depth": 4,
          "n_estimator": 30
         },
         {
          "Accuracy": 0.999360966563513,
          "Type": "testing",
          "max_depth": 4,
          "n_estimator": 50
         },
         {
          "Accuracy": 0.999363880307085,
          "Type": "testing",
          "max_depth": 4,
          "n_estimator": 100
         },
         {
          "Accuracy": 0.9995175517656041,
          "Type": "testing",
          "max_depth": 5,
          "n_estimator": 1
         },
         {
          "Accuracy": 0.9995837058948585,
          "Type": "testing",
          "max_depth": 5,
          "n_estimator": 2
         },
         {
          "Accuracy": 0.999617587819163,
          "Type": "testing",
          "max_depth": 5,
          "n_estimator": 3
         },
         {
          "Accuracy": 0.9996263531535017,
          "Type": "testing",
          "max_depth": 5,
          "n_estimator": 5
         },
         {
          "Accuracy": 0.9996278079879302,
          "Type": "testing",
          "max_depth": 5,
          "n_estimator": 10
         },
         {
          "Accuracy": 0.9996342610642416,
          "Type": "testing",
          "max_depth": 5,
          "n_estimator": 20
         },
         {
          "Accuracy": 0.9996387514492555,
          "Type": "testing",
          "max_depth": 5,
          "n_estimator": 30
         },
         {
          "Accuracy": 0.9996451689423966,
          "Type": "testing",
          "max_depth": 5,
          "n_estimator": 50
         },
         {
          "Accuracy": 0.9996453292567936,
          "Type": "testing",
          "max_depth": 5,
          "n_estimator": 100
         },
         {
          "Accuracy": 0.9996717761078403,
          "Type": "testing",
          "max_depth": 6,
          "n_estimator": 1
         },
         {
          "Accuracy": 0.9997191959054619,
          "Type": "testing",
          "max_depth": 6,
          "n_estimator": 2
         },
         {
          "Accuracy": 0.9997365032209065,
          "Type": "testing",
          "max_depth": 6,
          "n_estimator": 3
         },
         {
          "Accuracy": 0.9997464199167195,
          "Type": "testing",
          "max_depth": 6,
          "n_estimator": 5
         },
         {
          "Accuracy": 0.9997532416916183,
          "Type": "testing",
          "max_depth": 6,
          "n_estimator": 10
         },
         {
          "Accuracy": 0.9997572494758936,
          "Type": "testing",
          "max_depth": 6,
          "n_estimator": 20
         },
         {
          "Accuracy": 0.9997590505706178,
          "Type": "testing",
          "max_depth": 6,
          "n_estimator": 30
         },
         {
          "Accuracy": 0.9997611358572445,
          "Type": "testing",
          "max_depth": 6,
          "n_estimator": 50
         },
         {
          "Accuracy": 0.999762759527047,
          "Type": "testing",
          "max_depth": 6,
          "n_estimator": 100
         },
         {
          "Accuracy": 0.9997304027617006,
          "Type": "testing",
          "max_depth": 7,
          "n_estimator": 1
         },
         {
          "Accuracy": 0.999775332330178,
          "Type": "testing",
          "max_depth": 7,
          "n_estimator": 2
         },
         {
          "Accuracy": 0.9997956387488542,
          "Type": "testing",
          "max_depth": 7,
          "n_estimator": 3
         },
         {
          "Accuracy": 0.9998113757462488,
          "Type": "testing",
          "max_depth": 7,
          "n_estimator": 5
         },
         {
          "Accuracy": 0.9998175049441614,
          "Type": "testing",
          "max_depth": 7,
          "n_estimator": 10
         },
         {
          "Accuracy": 0.9998235386894775,
          "Type": "testing",
          "max_depth": 7,
          "n_estimator": 20
         },
         {
          "Accuracy": 0.9998257669957328,
          "Type": "testing",
          "max_depth": 7,
          "n_estimator": 30
         },
         {
          "Accuracy": 0.9998315869226009,
          "Type": "testing",
          "max_depth": 7,
          "n_estimator": 50
         },
         {
          "Accuracy": 0.9998328149289812,
          "Type": "testing",
          "max_depth": 7,
          "n_estimator": 100
         }
        ]
       },
       "encoding": {
        "color": {
         "field": "Type",
         "type": "nominal"
        },
        "facet": {
         "field": "n_estimator",
         "type": "quantitative"
        },
        "x": {
         "field": "max_depth",
         "type": "quantitative"
        },
        "y": {
         "field": "Accuracy",
         "scale": {
          "domain": [
           0.92,
           1
          ]
         },
         "type": "quantitative"
        }
       },
       "height": 200,
       "mark": "line",
       "width": 200
      },
      "image/png": "[encoded data removed]",
      "text/plain": [
       "<VegaLite 3 object>\n",
       "\n",
       "If you see this message, it means the renderer has not been properly enabled\n",
       "for the frontend that you are using. For more information, see\n",
       "https://altair-viz.github.io/user_guide/troubleshooting.html\n"
      ]
     },
     "execution_count": 15,
     "metadata": {},
     "output_type": "execute_result"
    }
   ],
   "source": [
    "n_est = [1,2,3,5,10,20,30,50,100]\n",
    "max_depth = range(1,8)\n",
    "X_train, X_test, y_train, y_test = test_train_compound(df, \"DAO\")\n",
    "trees = []\n",
    "train_acc = []\n",
    "test_acc = []\n",
    "depth = []\n",
    "for j in max_depth:\n",
    "    for i in n_est:\n",
    "        trees.append(i)\n",
    "        depth.append(j)\n",
    "        rf = RandomForestRegressor(n_estimators = i, max_depth = j, random_state=0).fit(X_train, y_train)\n",
    "        train_acc.append(rf.score(X_train, y_train))\n",
    "        test_acc.append(rf.score(X_test, y_test))\n",
    "        #print(j,i)\n",
    "df_rf = pd.DataFrame({'training' : train_acc,\n",
    "                      'testing' : test_acc,\n",
    "                      'n_estimator' : trees,\n",
    "                      'max_depth' : depth})\n",
    "df_rf = df_rf.melt(id_vars = ['n_estimator', 'max_depth'], var_name = 'Type', value_name = 'Accuracy')\n",
    "df_rf\n",
    "alt.Chart(df_rf).mark_line().encode(\n",
    "    alt.X('max_depth'),\n",
    "    alt.Y('Accuracy', scale=alt.Scale(domain=[0.92, 1])),\n",
    "    alt.Color('Type'),\n",
    "    alt.Facet('n_estimator')\n",
    "    ).properties(width = 200, height = 200, columns = 3)"
   ]
  },
  {
   "cell_type": "markdown",
   "metadata": {},
   "source": [
    "## SVR"
   ]
  },
  {
   "cell_type": "code",
   "execution_count": 16,
   "metadata": {},
   "outputs": [
    {
     "name": "stdout",
     "output_type": "stream",
     "text": [
      "The 4 matrices for -- 05-85 -- are of sizes:  (11162, 4) (2791, 4) (11162,) (2791,)\n",
      "The training accuracy for the model is  0.9611357301948601\n",
      "The testing accuracy for the model is  0.9598067933800605\n",
      "The 4 matrices for -- 1-8 -- are of sizes:  (11162, 4) (2791, 4) (11162,) (2791,)\n",
      "The training accuracy for the model is  0.9635729621618572\n",
      "The testing accuracy for the model is  0.9618123194813584\n",
      "The 4 matrices for -- DAO -- are of sizes:  (11162, 4) (2791, 4) (11162,) (2791,)\n",
      "The training accuracy for the model is  0.962960830263412\n",
      "The testing accuracy for the model is  0.9612750830995994\n"
     ]
    }
   ],
   "source": [
    "def svr_rbf(df, product):\n",
    "    X_train, X_test, y_train, y_test = test_train_compound(df, product)\n",
    "    print(\"The 4 matrices for --\", product, \"-- are of sizes: \", X_train.shape, X_test.shape, y_train.shape, y_test.shape)\n",
    "    svr_rbf = SVR(kernel=\"rbf\").fit(X_train, y_train)\n",
    "    \n",
    "    df_pred = df.query(\"compound == @product\").copy()\n",
    "    df_pred['predicted_wt'] = svr_rbf.predict(df.query(\"compound == @product\")[['Ts', 't', 'HF', 'Tr']])\n",
    "    df_pred.to_csv(r'../output/scenario2/prediction_svr_rbf_{}.csv'.format(product))\n",
    "    \n",
    "    print(\"The training accuracy for the model is \", svr_rbf.score(X_train, y_train))\n",
    "    print(\"The testing accuracy for the model is \", svr_rbf.score(X_test, y_test))\n",
    "    \n",
    "    return pd.DataFrame({'Model': 'SVR RBF Kernel',\n",
    "                           'Train Accuracy': svr_rbf.score(X_train, y_train),\n",
    "                           'Test Accuracy' : svr_rbf.score(X_test, y_test),\n",
    "                           'Compound' : i}, index=[None])\n",
    "\n",
    "for i in df.compound.value_counts().index:\n",
    "    df_results = df_results.append(svr_rbf(df, i))"
   ]
  },
  {
   "cell_type": "markdown",
   "metadata": {},
   "source": [
    "## GBR"
   ]
  },
  {
   "cell_type": "code",
   "execution_count": 19,
   "metadata": {},
   "outputs": [
    {
     "name": "stdout",
     "output_type": "stream",
     "text": [
      "The 4 matrices for -- 05-85 -- are of sizes:  (11162, 4) (2791, 4) (11162,) (2791,)\n",
      "The training accuracy for the model is  0.9999157178456488\n",
      "The testing accuracy for the model is  0.9998568196551681\n",
      "The 4 matrices for -- 1-8 -- are of sizes:  (11162, 4) (2791, 4) (11162,) (2791,)\n",
      "The training accuracy for the model is  0.9999792528491638\n",
      "The testing accuracy for the model is  0.9999679882593967\n",
      "The 4 matrices for -- DAO -- are of sizes:  (11162, 4) (2791, 4) (11162,) (2791,)\n",
      "The training accuracy for the model is  0.9998066167583011\n",
      "The testing accuracy for the model is  0.9997072299165909\n"
     ]
    }
   ],
   "source": [
    "def gbr(df, product):\n",
    "    X_train, X_test, y_train, y_test = test_train_compound(df, product)\n",
    "    print(\"The 4 matrices for --\", product, \"-- are of sizes: \", X_train.shape, X_test.shape, y_train.shape, y_test.shape)\n",
    "    gbr = GradientBoostingRegressor().fit(X_train,y_train)\n",
    "    \n",
    "    df_pred = df.query(\"compound == @product\").copy()\n",
    "    df_pred['predicted_wt'] = gbr.predict(df.query(\"compound == @product\")[['Ts', 't', 'HF', 'Tr']])\n",
    "    df_pred.to_csv(r'../output/scenario2/prediction_gbr_{}.csv'.format(product))\n",
    "    \n",
    "    print(\"The training accuracy for the model is \", gbr.score(X_train, y_train))\n",
    "    print(\"The testing accuracy for the model is \", gbr.score(X_test, y_test))\n",
    "    \n",
    "    return pd.DataFrame({'Model': 'Gradient Boost Regressor',\n",
    "                           'Train Accuracy': gbr.score(X_train, y_train),\n",
    "                           'Test Accuracy' : gbr.score(X_test, y_test),\n",
    "                           'Compound' : i}, index=[None])\n",
    "\n",
    "for i in df.compound.value_counts().index:\n",
    "    df_results = df_results.append(gbr(df, i))"
   ]
  },
  {
   "cell_type": "code",
   "execution_count": 21,
   "metadata": {},
   "outputs": [],
   "source": [
    "df_results.to_csv('../output/scenario2/results_table.csv')"
   ]
  },
  {
   "cell_type": "code",
   "execution_count": null,
   "metadata": {},
   "outputs": [],
   "source": []
  }
 ],
 "metadata": {
  "kernelspec": {
   "display_name": "Python 3",
   "language": "python",
   "name": "python3"
  },
  "language_info": {
   "codemirror_mode": {
    "name": "ipython",
    "version": 3
   },
   "file_extension": ".py",
   "mimetype": "text/x-python",
   "name": "python",
   "nbconvert_exporter": "python",
   "pygments_lexer": "ipython3",
   "version": "3.7.6"
  }
 },
 "nbformat": 4,
 "nbformat_minor": 4
}
