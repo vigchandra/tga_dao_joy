{
 "cells": [
  {
   "cell_type": "code",
   "execution_count": 2,
   "metadata": {},
   "outputs": [
    {
     "data": {
      "text/plain": [
       "DataTransformerRegistry.enable('default')"
      ]
     },
     "execution_count": 2,
     "metadata": {},
     "output_type": "execute_result"
    }
   ],
   "source": [
    "import pandas as pd\n",
    "from sklearn.model_selection import train_test_split\n",
    "from sklearn.linear_model import LinearRegression\n",
    "from sklearn.ensemble import RandomForestRegressor\n",
    "from sklearn.svm import SVR\n",
    "from sklearn import tree\n",
    "from sklearn.tree import export_graphviz\n",
    "import altair as alt\n",
    "from dtreeviz.trees import dtreeviz # will be used for tree visualization\n",
    "from matplotlib import pyplot as plt\n",
    "from sklearn.cross_decomposition import PLSRegression\n",
    "from sklearn.ensemble import GradientBoostingRegressor\n",
    "alt.data_transformers.disable_max_rows()"
   ]
  },
  {
   "cell_type": "markdown",
   "metadata": {},
   "source": [
    "## File Import"
   ]
  },
  {
   "cell_type": "code",
   "execution_count": 3,
   "metadata": {},
   "outputs": [
    {
     "data": {
      "text/html": [
       "<div>\n",
       "<style scoped>\n",
       "    .dataframe tbody tr th:only-of-type {\n",
       "        vertical-align: middle;\n",
       "    }\n",
       "\n",
       "    .dataframe tbody tr th {\n",
       "        vertical-align: top;\n",
       "    }\n",
       "\n",
       "    .dataframe thead th {\n",
       "        text-align: right;\n",
       "    }\n",
       "</style>\n",
       "<table border=\"1\" class=\"dataframe\">\n",
       "  <thead>\n",
       "    <tr style=\"text-align: right;\">\n",
       "      <th></th>\n",
       "      <th>Ts</th>\n",
       "      <th>t</th>\n",
       "      <th>HF</th>\n",
       "      <th>Weight</th>\n",
       "      <th>Tr</th>\n",
       "      <th>sheet_name</th>\n",
       "      <th>compound</th>\n",
       "      <th>condition</th>\n",
       "      <th>exp_no</th>\n",
       "    </tr>\n",
       "  </thead>\n",
       "  <tbody>\n",
       "    <tr>\n",
       "      <th>0</th>\n",
       "      <td>37.9761</td>\n",
       "      <td>0</td>\n",
       "      <td>0.688240</td>\n",
       "      <td>100.0000</td>\n",
       "      <td>25.0000</td>\n",
       "      <td>I1-30-1</td>\n",
       "      <td>I1</td>\n",
       "      <td>30</td>\n",
       "      <td>1</td>\n",
       "    </tr>\n",
       "    <tr>\n",
       "      <th>1</th>\n",
       "      <td>37.9745</td>\n",
       "      <td>1</td>\n",
       "      <td>0.669934</td>\n",
       "      <td>99.9798</td>\n",
       "      <td>25.1667</td>\n",
       "      <td>I1-30-1</td>\n",
       "      <td>I1</td>\n",
       "      <td>30</td>\n",
       "      <td>1</td>\n",
       "    </tr>\n",
       "    <tr>\n",
       "      <th>2</th>\n",
       "      <td>37.9844</td>\n",
       "      <td>2</td>\n",
       "      <td>0.657603</td>\n",
       "      <td>99.9667</td>\n",
       "      <td>25.3333</td>\n",
       "      <td>I1-30-1</td>\n",
       "      <td>I1</td>\n",
       "      <td>30</td>\n",
       "      <td>1</td>\n",
       "    </tr>\n",
       "    <tr>\n",
       "      <th>3</th>\n",
       "      <td>38.0142</td>\n",
       "      <td>3</td>\n",
       "      <td>0.645318</td>\n",
       "      <td>99.9584</td>\n",
       "      <td>25.5000</td>\n",
       "      <td>I1-30-1</td>\n",
       "      <td>I1</td>\n",
       "      <td>30</td>\n",
       "      <td>1</td>\n",
       "    </tr>\n",
       "    <tr>\n",
       "      <th>4</th>\n",
       "      <td>38.0930</td>\n",
       "      <td>4</td>\n",
       "      <td>0.653498</td>\n",
       "      <td>99.9616</td>\n",
       "      <td>25.6667</td>\n",
       "      <td>I1-30-1</td>\n",
       "      <td>I1</td>\n",
       "      <td>30</td>\n",
       "      <td>1</td>\n",
       "    </tr>\n",
       "    <tr>\n",
       "      <th>...</th>\n",
       "      <td>...</td>\n",
       "      <td>...</td>\n",
       "      <td>...</td>\n",
       "      <td>...</td>\n",
       "      <td>...</td>\n",
       "      <td>...</td>\n",
       "      <td>...</td>\n",
       "      <td>...</td>\n",
       "      <td>...</td>\n",
       "    </tr>\n",
       "    <tr>\n",
       "      <th>144176</th>\n",
       "      <td>505.7480</td>\n",
       "      <td>4646</td>\n",
       "      <td>222.131000</td>\n",
       "      <td>51.6847</td>\n",
       "      <td>500.0000</td>\n",
       "      <td>DAO-60-3</td>\n",
       "      <td>DAO</td>\n",
       "      <td>60</td>\n",
       "      <td>3</td>\n",
       "    </tr>\n",
       "    <tr>\n",
       "      <th>144177</th>\n",
       "      <td>505.7490</td>\n",
       "      <td>4647</td>\n",
       "      <td>222.124000</td>\n",
       "      <td>51.6847</td>\n",
       "      <td>500.0000</td>\n",
       "      <td>DAO-60-3</td>\n",
       "      <td>DAO</td>\n",
       "      <td>60</td>\n",
       "      <td>3</td>\n",
       "    </tr>\n",
       "    <tr>\n",
       "      <th>144178</th>\n",
       "      <td>505.7480</td>\n",
       "      <td>4648</td>\n",
       "      <td>222.116000</td>\n",
       "      <td>51.6847</td>\n",
       "      <td>500.0000</td>\n",
       "      <td>DAO-60-3</td>\n",
       "      <td>DAO</td>\n",
       "      <td>60</td>\n",
       "      <td>3</td>\n",
       "    </tr>\n",
       "    <tr>\n",
       "      <th>144179</th>\n",
       "      <td>505.7430</td>\n",
       "      <td>4649</td>\n",
       "      <td>222.110000</td>\n",
       "      <td>51.6847</td>\n",
       "      <td>500.0000</td>\n",
       "      <td>DAO-60-3</td>\n",
       "      <td>DAO</td>\n",
       "      <td>60</td>\n",
       "      <td>3</td>\n",
       "    </tr>\n",
       "    <tr>\n",
       "      <th>144180</th>\n",
       "      <td>505.7540</td>\n",
       "      <td>4650</td>\n",
       "      <td>222.107000</td>\n",
       "      <td>51.6847</td>\n",
       "      <td>500.0000</td>\n",
       "      <td>DAO-60-3</td>\n",
       "      <td>DAO</td>\n",
       "      <td>60</td>\n",
       "      <td>3</td>\n",
       "    </tr>\n",
       "  </tbody>\n",
       "</table>\n",
       "<p>144181 rows × 9 columns</p>\n",
       "</div>"
      ],
      "text/plain": [
       "              Ts     t          HF    Weight        Tr sheet_name compound  \\\n",
       "0        37.9761     0    0.688240  100.0000   25.0000    I1-30-1       I1   \n",
       "1        37.9745     1    0.669934   99.9798   25.1667    I1-30-1       I1   \n",
       "2        37.9844     2    0.657603   99.9667   25.3333    I1-30-1       I1   \n",
       "3        38.0142     3    0.645318   99.9584   25.5000    I1-30-1       I1   \n",
       "4        38.0930     4    0.653498   99.9616   25.6667    I1-30-1       I1   \n",
       "...          ...   ...         ...       ...       ...        ...      ...   \n",
       "144176  505.7480  4646  222.131000   51.6847  500.0000   DAO-60-3      DAO   \n",
       "144177  505.7490  4647  222.124000   51.6847  500.0000   DAO-60-3      DAO   \n",
       "144178  505.7480  4648  222.116000   51.6847  500.0000   DAO-60-3      DAO   \n",
       "144179  505.7430  4649  222.110000   51.6847  500.0000   DAO-60-3      DAO   \n",
       "144180  505.7540  4650  222.107000   51.6847  500.0000   DAO-60-3      DAO   \n",
       "\n",
       "        condition  exp_no  \n",
       "0              30       1  \n",
       "1              30       1  \n",
       "2              30       1  \n",
       "3              30       1  \n",
       "4              30       1  \n",
       "...           ...     ...  \n",
       "144176         60       3  \n",
       "144177         60       3  \n",
       "144178         60       3  \n",
       "144179         60       3  \n",
       "144180         60       3  \n",
       "\n",
       "[144181 rows x 9 columns]"
      ]
     },
     "execution_count": 3,
     "metadata": {},
     "output_type": "execute_result"
    }
   ],
   "source": [
    "df = pd.read_csv(\"../data_input/prod_v1.csv\", index_col = None)\n",
    "df = df.drop(columns = 'Unnamed: 0')\n",
    "df"
   ]
  },
  {
   "cell_type": "code",
   "execution_count": 4,
   "metadata": {},
   "outputs": [
    {
     "data": {
      "text/html": [
       "<div>\n",
       "<style scoped>\n",
       "    .dataframe tbody tr th:only-of-type {\n",
       "        vertical-align: middle;\n",
       "    }\n",
       "\n",
       "    .dataframe tbody tr th {\n",
       "        vertical-align: top;\n",
       "    }\n",
       "\n",
       "    .dataframe thead th {\n",
       "        text-align: right;\n",
       "    }\n",
       "</style>\n",
       "<table border=\"1\" class=\"dataframe\">\n",
       "  <thead>\n",
       "    <tr style=\"text-align: right;\">\n",
       "      <th></th>\n",
       "      <th>compound</th>\n",
       "      <th>condition</th>\n",
       "      <th>exp_no</th>\n",
       "      <th>Ts</th>\n",
       "      <th>t</th>\n",
       "      <th>HF</th>\n",
       "      <th>Weight</th>\n",
       "      <th>Tr</th>\n",
       "      <th>sheet_name</th>\n",
       "    </tr>\n",
       "  </thead>\n",
       "  <tbody>\n",
       "    <tr>\n",
       "      <th>0</th>\n",
       "      <td>DAO</td>\n",
       "      <td>30</td>\n",
       "      <td>1</td>\n",
       "      <td>4651</td>\n",
       "      <td>4651</td>\n",
       "      <td>4651</td>\n",
       "      <td>4651</td>\n",
       "      <td>4651</td>\n",
       "      <td>4651</td>\n",
       "    </tr>\n",
       "    <tr>\n",
       "      <th>1</th>\n",
       "      <td>DAO</td>\n",
       "      <td>30</td>\n",
       "      <td>2</td>\n",
       "      <td>4651</td>\n",
       "      <td>4651</td>\n",
       "      <td>4651</td>\n",
       "      <td>4651</td>\n",
       "      <td>4651</td>\n",
       "      <td>4651</td>\n",
       "    </tr>\n",
       "    <tr>\n",
       "      <th>2</th>\n",
       "      <td>DAO</td>\n",
       "      <td>30</td>\n",
       "      <td>3</td>\n",
       "      <td>4651</td>\n",
       "      <td>4651</td>\n",
       "      <td>4651</td>\n",
       "      <td>4651</td>\n",
       "      <td>4651</td>\n",
       "      <td>4651</td>\n",
       "    </tr>\n",
       "    <tr>\n",
       "      <th>3</th>\n",
       "      <td>DAO</td>\n",
       "      <td>45</td>\n",
       "      <td>1</td>\n",
       "      <td>4651</td>\n",
       "      <td>4651</td>\n",
       "      <td>4651</td>\n",
       "      <td>4651</td>\n",
       "      <td>4651</td>\n",
       "      <td>4651</td>\n",
       "    </tr>\n",
       "    <tr>\n",
       "      <th>4</th>\n",
       "      <td>DAO</td>\n",
       "      <td>45</td>\n",
       "      <td>2</td>\n",
       "      <td>4651</td>\n",
       "      <td>4651</td>\n",
       "      <td>4651</td>\n",
       "      <td>4651</td>\n",
       "      <td>4651</td>\n",
       "      <td>4651</td>\n",
       "    </tr>\n",
       "    <tr>\n",
       "      <th>5</th>\n",
       "      <td>DAO</td>\n",
       "      <td>45</td>\n",
       "      <td>3</td>\n",
       "      <td>4651</td>\n",
       "      <td>4651</td>\n",
       "      <td>4651</td>\n",
       "      <td>4651</td>\n",
       "      <td>4651</td>\n",
       "      <td>4651</td>\n",
       "    </tr>\n",
       "    <tr>\n",
       "      <th>6</th>\n",
       "      <td>DAO</td>\n",
       "      <td>60</td>\n",
       "      <td>1</td>\n",
       "      <td>4651</td>\n",
       "      <td>4651</td>\n",
       "      <td>4651</td>\n",
       "      <td>4651</td>\n",
       "      <td>4651</td>\n",
       "      <td>4651</td>\n",
       "    </tr>\n",
       "    <tr>\n",
       "      <th>7</th>\n",
       "      <td>DAO</td>\n",
       "      <td>60</td>\n",
       "      <td>2</td>\n",
       "      <td>4651</td>\n",
       "      <td>4651</td>\n",
       "      <td>4651</td>\n",
       "      <td>4651</td>\n",
       "      <td>4651</td>\n",
       "      <td>4651</td>\n",
       "    </tr>\n",
       "    <tr>\n",
       "      <th>8</th>\n",
       "      <td>DAO</td>\n",
       "      <td>60</td>\n",
       "      <td>3</td>\n",
       "      <td>4651</td>\n",
       "      <td>4651</td>\n",
       "      <td>4651</td>\n",
       "      <td>4651</td>\n",
       "      <td>4651</td>\n",
       "      <td>4651</td>\n",
       "    </tr>\n",
       "    <tr>\n",
       "      <th>9</th>\n",
       "      <td>I05</td>\n",
       "      <td>30</td>\n",
       "      <td>1</td>\n",
       "      <td>4651</td>\n",
       "      <td>4651</td>\n",
       "      <td>4651</td>\n",
       "      <td>4651</td>\n",
       "      <td>4651</td>\n",
       "      <td>4651</td>\n",
       "    </tr>\n",
       "    <tr>\n",
       "      <th>10</th>\n",
       "      <td>I05</td>\n",
       "      <td>30</td>\n",
       "      <td>2</td>\n",
       "      <td>4651</td>\n",
       "      <td>4651</td>\n",
       "      <td>4651</td>\n",
       "      <td>4651</td>\n",
       "      <td>4651</td>\n",
       "      <td>4651</td>\n",
       "    </tr>\n",
       "    <tr>\n",
       "      <th>11</th>\n",
       "      <td>I05</td>\n",
       "      <td>30</td>\n",
       "      <td>3</td>\n",
       "      <td>4651</td>\n",
       "      <td>4651</td>\n",
       "      <td>4651</td>\n",
       "      <td>4651</td>\n",
       "      <td>4651</td>\n",
       "      <td>4651</td>\n",
       "    </tr>\n",
       "    <tr>\n",
       "      <th>12</th>\n",
       "      <td>I05</td>\n",
       "      <td>45</td>\n",
       "      <td>1</td>\n",
       "      <td>4651</td>\n",
       "      <td>4651</td>\n",
       "      <td>4651</td>\n",
       "      <td>4651</td>\n",
       "      <td>4651</td>\n",
       "      <td>4651</td>\n",
       "    </tr>\n",
       "    <tr>\n",
       "      <th>13</th>\n",
       "      <td>I05</td>\n",
       "      <td>45</td>\n",
       "      <td>2</td>\n",
       "      <td>4651</td>\n",
       "      <td>4651</td>\n",
       "      <td>4651</td>\n",
       "      <td>4651</td>\n",
       "      <td>4651</td>\n",
       "      <td>4651</td>\n",
       "    </tr>\n",
       "    <tr>\n",
       "      <th>14</th>\n",
       "      <td>I05</td>\n",
       "      <td>45</td>\n",
       "      <td>3</td>\n",
       "      <td>4651</td>\n",
       "      <td>4651</td>\n",
       "      <td>4651</td>\n",
       "      <td>4651</td>\n",
       "      <td>4651</td>\n",
       "      <td>4651</td>\n",
       "    </tr>\n",
       "    <tr>\n",
       "      <th>15</th>\n",
       "      <td>I05</td>\n",
       "      <td>60</td>\n",
       "      <td>1</td>\n",
       "      <td>9302</td>\n",
       "      <td>9302</td>\n",
       "      <td>9302</td>\n",
       "      <td>9302</td>\n",
       "      <td>9302</td>\n",
       "      <td>9302</td>\n",
       "    </tr>\n",
       "    <tr>\n",
       "      <th>16</th>\n",
       "      <td>I05</td>\n",
       "      <td>60</td>\n",
       "      <td>2</td>\n",
       "      <td>9302</td>\n",
       "      <td>9302</td>\n",
       "      <td>9302</td>\n",
       "      <td>9302</td>\n",
       "      <td>9302</td>\n",
       "      <td>9302</td>\n",
       "    </tr>\n",
       "    <tr>\n",
       "      <th>17</th>\n",
       "      <td>I05</td>\n",
       "      <td>60</td>\n",
       "      <td>3</td>\n",
       "      <td>9302</td>\n",
       "      <td>9302</td>\n",
       "      <td>9302</td>\n",
       "      <td>9302</td>\n",
       "      <td>9302</td>\n",
       "      <td>9302</td>\n",
       "    </tr>\n",
       "    <tr>\n",
       "      <th>18</th>\n",
       "      <td>I1</td>\n",
       "      <td>30</td>\n",
       "      <td>1</td>\n",
       "      <td>4651</td>\n",
       "      <td>4651</td>\n",
       "      <td>4651</td>\n",
       "      <td>4651</td>\n",
       "      <td>4651</td>\n",
       "      <td>4651</td>\n",
       "    </tr>\n",
       "    <tr>\n",
       "      <th>19</th>\n",
       "      <td>I1</td>\n",
       "      <td>30</td>\n",
       "      <td>2</td>\n",
       "      <td>9302</td>\n",
       "      <td>9302</td>\n",
       "      <td>9302</td>\n",
       "      <td>9302</td>\n",
       "      <td>9302</td>\n",
       "      <td>9302</td>\n",
       "    </tr>\n",
       "    <tr>\n",
       "      <th>20</th>\n",
       "      <td>I1</td>\n",
       "      <td>30</td>\n",
       "      <td>3</td>\n",
       "      <td>4651</td>\n",
       "      <td>4651</td>\n",
       "      <td>4651</td>\n",
       "      <td>4651</td>\n",
       "      <td>4651</td>\n",
       "      <td>4651</td>\n",
       "    </tr>\n",
       "    <tr>\n",
       "      <th>21</th>\n",
       "      <td>I1</td>\n",
       "      <td>45</td>\n",
       "      <td>1</td>\n",
       "      <td>4651</td>\n",
       "      <td>4651</td>\n",
       "      <td>4651</td>\n",
       "      <td>4651</td>\n",
       "      <td>4651</td>\n",
       "      <td>4651</td>\n",
       "    </tr>\n",
       "    <tr>\n",
       "      <th>22</th>\n",
       "      <td>I1</td>\n",
       "      <td>45</td>\n",
       "      <td>2</td>\n",
       "      <td>4651</td>\n",
       "      <td>4651</td>\n",
       "      <td>4651</td>\n",
       "      <td>4651</td>\n",
       "      <td>4651</td>\n",
       "      <td>4651</td>\n",
       "    </tr>\n",
       "    <tr>\n",
       "      <th>23</th>\n",
       "      <td>I1</td>\n",
       "      <td>45</td>\n",
       "      <td>3</td>\n",
       "      <td>4651</td>\n",
       "      <td>4651</td>\n",
       "      <td>4651</td>\n",
       "      <td>4651</td>\n",
       "      <td>4651</td>\n",
       "      <td>4651</td>\n",
       "    </tr>\n",
       "    <tr>\n",
       "      <th>24</th>\n",
       "      <td>I1</td>\n",
       "      <td>60</td>\n",
       "      <td>1</td>\n",
       "      <td>4651</td>\n",
       "      <td>4651</td>\n",
       "      <td>4651</td>\n",
       "      <td>4651</td>\n",
       "      <td>4651</td>\n",
       "      <td>4651</td>\n",
       "    </tr>\n",
       "    <tr>\n",
       "      <th>25</th>\n",
       "      <td>I1</td>\n",
       "      <td>60</td>\n",
       "      <td>2</td>\n",
       "      <td>4651</td>\n",
       "      <td>4651</td>\n",
       "      <td>4651</td>\n",
       "      <td>4651</td>\n",
       "      <td>4651</td>\n",
       "      <td>4651</td>\n",
       "    </tr>\n",
       "    <tr>\n",
       "      <th>26</th>\n",
       "      <td>I1</td>\n",
       "      <td>60</td>\n",
       "      <td>3</td>\n",
       "      <td>4651</td>\n",
       "      <td>4651</td>\n",
       "      <td>4651</td>\n",
       "      <td>4651</td>\n",
       "      <td>4651</td>\n",
       "      <td>4651</td>\n",
       "    </tr>\n",
       "  </tbody>\n",
       "</table>\n",
       "</div>"
      ],
      "text/plain": [
       "   compound  condition  exp_no    Ts     t    HF  Weight    Tr  sheet_name\n",
       "0       DAO         30       1  4651  4651  4651    4651  4651        4651\n",
       "1       DAO         30       2  4651  4651  4651    4651  4651        4651\n",
       "2       DAO         30       3  4651  4651  4651    4651  4651        4651\n",
       "3       DAO         45       1  4651  4651  4651    4651  4651        4651\n",
       "4       DAO         45       2  4651  4651  4651    4651  4651        4651\n",
       "5       DAO         45       3  4651  4651  4651    4651  4651        4651\n",
       "6       DAO         60       1  4651  4651  4651    4651  4651        4651\n",
       "7       DAO         60       2  4651  4651  4651    4651  4651        4651\n",
       "8       DAO         60       3  4651  4651  4651    4651  4651        4651\n",
       "9       I05         30       1  4651  4651  4651    4651  4651        4651\n",
       "10      I05         30       2  4651  4651  4651    4651  4651        4651\n",
       "11      I05         30       3  4651  4651  4651    4651  4651        4651\n",
       "12      I05         45       1  4651  4651  4651    4651  4651        4651\n",
       "13      I05         45       2  4651  4651  4651    4651  4651        4651\n",
       "14      I05         45       3  4651  4651  4651    4651  4651        4651\n",
       "15      I05         60       1  9302  9302  9302    9302  9302        9302\n",
       "16      I05         60       2  9302  9302  9302    9302  9302        9302\n",
       "17      I05         60       3  9302  9302  9302    9302  9302        9302\n",
       "18       I1         30       1  4651  4651  4651    4651  4651        4651\n",
       "19       I1         30       2  9302  9302  9302    9302  9302        9302\n",
       "20       I1         30       3  4651  4651  4651    4651  4651        4651\n",
       "21       I1         45       1  4651  4651  4651    4651  4651        4651\n",
       "22       I1         45       2  4651  4651  4651    4651  4651        4651\n",
       "23       I1         45       3  4651  4651  4651    4651  4651        4651\n",
       "24       I1         60       1  4651  4651  4651    4651  4651        4651\n",
       "25       I1         60       2  4651  4651  4651    4651  4651        4651\n",
       "26       I1         60       3  4651  4651  4651    4651  4651        4651"
      ]
     },
     "execution_count": 4,
     "metadata": {},
     "output_type": "execute_result"
    }
   ],
   "source": [
    "df.groupby(['compound', 'condition', 'exp_no']).agg('count').reset_index()"
   ]
  },
  {
   "cell_type": "code",
   "execution_count": 5,
   "metadata": {},
   "outputs": [
    {
     "data": {
      "text/plain": [
       "I05    55812\n",
       "I1     46510\n",
       "DAO    41859\n",
       "Name: compound, dtype: int64"
      ]
     },
     "execution_count": 5,
     "metadata": {},
     "output_type": "execute_result"
    }
   ],
   "source": [
    "df.compound.value_counts()"
   ]
  },
  {
   "cell_type": "code",
   "execution_count": 6,
   "metadata": {},
   "outputs": [],
   "source": [
    "def test_train_compound(df, product):\n",
    "    \"\"\"\n",
    "    Function to split test/train data for each compound\n",
    "    \n",
    "    Argument:\n",
    "        df      : pandas dataframe\n",
    "        product : tbbpa, caoh2, both\n",
    "        \n",
    "    Output:\n",
    "        X_train, X_test, y_train, y_test : 4 pandas dataframe which have the split data \n",
    "    \"\"\"\n",
    "    df = df.query('compound == @product')\n",
    "    \n",
    "    X_train = df.query('exp_no == 1')[[\"Ts\", 't', 'HF', 'Tr', 'condition']]\n",
    "    y_train = df.query('exp_no == 1')[\"Weight\"]\n",
    "    \n",
    "    X_test = df.query('exp_no != 1')[[\"Ts\", 't', 'HF', 'Tr', 'condition']]\n",
    "    y_test = df.query('exp_no != 1')[\"Weight\"]\n",
    "    \n",
    "    return X_train, X_test, y_train, y_test"
   ]
  },
  {
   "cell_type": "code",
   "execution_count": 6,
   "metadata": {},
   "outputs": [
    {
     "data": {
      "text/html": [
       "<div>\n",
       "<style scoped>\n",
       "    .dataframe tbody tr th:only-of-type {\n",
       "        vertical-align: middle;\n",
       "    }\n",
       "\n",
       "    .dataframe tbody tr th {\n",
       "        vertical-align: top;\n",
       "    }\n",
       "\n",
       "    .dataframe thead th {\n",
       "        text-align: right;\n",
       "    }\n",
       "</style>\n",
       "<table border=\"1\" class=\"dataframe\">\n",
       "  <thead>\n",
       "    <tr style=\"text-align: right;\">\n",
       "      <th></th>\n",
       "      <th>Model</th>\n",
       "      <th>Compound</th>\n",
       "      <th>Train Accuracy</th>\n",
       "      <th>Test Accuracy</th>\n",
       "    </tr>\n",
       "  </thead>\n",
       "  <tbody>\n",
       "  </tbody>\n",
       "</table>\n",
       "</div>"
      ],
      "text/plain": [
       "Empty DataFrame\n",
       "Columns: [Model, Compound, Train Accuracy, Test Accuracy]\n",
       "Index: []"
      ]
     },
     "execution_count": 6,
     "metadata": {},
     "output_type": "execute_result"
    }
   ],
   "source": [
    "df_results = pd.DataFrame({'Model': [],\n",
    "                           'Compound' : [],\n",
    "                           'Train Accuracy': [],\n",
    "                           'Test Accuracy' : []\n",
    "                           })\n",
    "df_results"
   ]
  },
  {
   "cell_type": "markdown",
   "metadata": {},
   "source": [
    "## Summary"
   ]
  },
  {
   "cell_type": "code",
   "execution_count": 7,
   "metadata": {},
   "outputs": [
    {
     "data": {
      "text/html": [
       "<div>\n",
       "<style scoped>\n",
       "    .dataframe tbody tr th:only-of-type {\n",
       "        vertical-align: middle;\n",
       "    }\n",
       "\n",
       "    .dataframe tbody tr th {\n",
       "        vertical-align: top;\n",
       "    }\n",
       "\n",
       "    .dataframe thead th {\n",
       "        text-align: right;\n",
       "    }\n",
       "</style>\n",
       "<table border=\"1\" class=\"dataframe\">\n",
       "  <thead>\n",
       "    <tr style=\"text-align: right;\">\n",
       "      <th></th>\n",
       "      <th>Model</th>\n",
       "      <th>Compound</th>\n",
       "      <th>Train Accuracy</th>\n",
       "      <th>Test Accuracy</th>\n",
       "    </tr>\n",
       "  </thead>\n",
       "  <tbody>\n",
       "  </tbody>\n",
       "</table>\n",
       "</div>"
      ],
      "text/plain": [
       "Empty DataFrame\n",
       "Columns: [Model, Compound, Train Accuracy, Test Accuracy]\n",
       "Index: []"
      ]
     },
     "execution_count": 7,
     "metadata": {},
     "output_type": "execute_result"
    }
   ],
   "source": [
    "df_results"
   ]
  },
  {
   "cell_type": "markdown",
   "metadata": {},
   "source": [
    "## Linear Modelling"
   ]
  },
  {
   "cell_type": "code",
   "execution_count": 8,
   "metadata": {},
   "outputs": [
    {
     "name": "stdout",
     "output_type": "stream",
     "text": [
      "The 4 matrices for -- I05 -- are of sizes:  (18604, 5) (37208, 5) (18604,) (37208,)\n",
      "The training accuracy for the model is  0.9803701586236311\n",
      "The testing accuracy for the model is  0.9603628475665974\n",
      "The 4 matrices for -- I1 -- are of sizes:  (13953, 5) (32557, 5) (13953,) (32557,)\n",
      "The training accuracy for the model is  0.9492341092432033\n",
      "The testing accuracy for the model is  0.898807315791032\n",
      "The 4 matrices for -- DAO -- are of sizes:  (13953, 5) (27906, 5) (13953,) (27906,)\n",
      "The training accuracy for the model is  0.9353786214286923\n",
      "The testing accuracy for the model is  0.9097679703030204\n"
     ]
    }
   ],
   "source": [
    "def linear_model(df, product):\n",
    "    X_train, X_test, y_train, y_test = test_train_compound(df, product)\n",
    "    print(\"The 4 matrices for --\", product, \"-- are of sizes: \", X_train.shape, X_test.shape, y_train.shape, y_test.shape)\n",
    "    lr = LinearRegression().fit(X_train, y_train.ravel())\n",
    "    \n",
    "    \n",
    "    df_pred = pd.concat([X_test, y_test], axis = 1)\n",
    "    df_pred['predicted_wt'] = lr.predict(X_test)\n",
    "    df_pred.to_csv(r'../output/scenario3/prediction_lr_{}.csv'.format(product))\n",
    "    \n",
    "    \n",
    "    print(\"The training accuracy for the model is \", lr.score(X_train, y_train))\n",
    "    print(\"The testing accuracy for the model is \", lr.score(X_test, y_test))\n",
    "    return pd.DataFrame({'Model': 'Linear Regression',\n",
    "                           'Train Accuracy': lr.score(X_train, y_train),\n",
    "                           'Test Accuracy' : lr.score(X_test, y_test),\n",
    "                           'Compound' : product}, index = [None])\n",
    "    \n",
    "for i in df.compound.value_counts().index:\n",
    "    df_results = df_results.append(linear_model(df, i))\n",
    "    "
   ]
  },
  {
   "cell_type": "markdown",
   "metadata": {},
   "source": [
    "## PLSR"
   ]
  },
  {
   "cell_type": "code",
   "execution_count": 9,
   "metadata": {},
   "outputs": [
    {
     "name": "stdout",
     "output_type": "stream",
     "text": [
      "The 4 matrices for -- I05 -- are of sizes:  (18604, 5) (37208, 5) (18604,) (37208,)\n",
      "The training accuracy for the model is  0.9308658938438223\n",
      "The testing accuracy for the model is  0.916533055740682\n",
      "The 4 matrices for -- I1 -- are of sizes:  (13953, 5) (32557, 5) (13953,) (32557,)\n",
      "The training accuracy for the model is  0.8759759987638893\n",
      "The testing accuracy for the model is  0.8462244291701693\n",
      "The 4 matrices for -- DAO -- are of sizes:  (13953, 5) (27906, 5) (13953,) (27906,)\n",
      "The training accuracy for the model is  0.8632465260768909\n",
      "The testing accuracy for the model is  0.8026219428142913\n"
     ]
    }
   ],
   "source": [
    "def pls2(df, product):\n",
    "    X_train, X_test, y_train, y_test = test_train_compound(df, product)\n",
    "    print(\"The 4 matrices for --\", product, \"-- are of sizes: \", X_train.shape, X_test.shape, y_train.shape, y_test.shape)\n",
    "    pls2 = PLSRegression(n_components=2).fit(X_train, y_train)\n",
    "    \n",
    "    df_pred = pd.concat([X_test, y_test], axis = 1)\n",
    "    df_pred['predicted_wt'] = pls2.predict(X_test)\n",
    "    df_pred.to_csv(r'../output/scenario3/prediction_plsr2_{}.csv'.format(product))\n",
    "    \n",
    "    print(\"The training accuracy for the model is \", pls2.score(X_train, y_train))\n",
    "    print(\"The testing accuracy for the model is \", pls2.score(X_test, y_test))\n",
    "    return pd.DataFrame({'Model': 'Partial Least Squares (n=2)',\n",
    "                           'Train Accuracy': pls2.score(X_train, y_train),\n",
    "                           'Test Accuracy' : pls2.score(X_test, y_test),\n",
    "                           'Compound' : i}, index = [None])\n",
    "\n",
    "for i in df.compound.value_counts().index:\n",
    "    df_results = df_results.append(pls2(df, i))"
   ]
  },
  {
   "cell_type": "code",
   "execution_count": 10,
   "metadata": {},
   "outputs": [
    {
     "data": {
      "text/html": [
       "<div>\n",
       "<style scoped>\n",
       "    .dataframe tbody tr th:only-of-type {\n",
       "        vertical-align: middle;\n",
       "    }\n",
       "\n",
       "    .dataframe tbody tr th {\n",
       "        vertical-align: top;\n",
       "    }\n",
       "\n",
       "    .dataframe thead th {\n",
       "        text-align: right;\n",
       "    }\n",
       "</style>\n",
       "<table border=\"1\" class=\"dataframe\">\n",
       "  <thead>\n",
       "    <tr style=\"text-align: right;\">\n",
       "      <th></th>\n",
       "      <th>Model</th>\n",
       "      <th>Compound</th>\n",
       "      <th>Train Accuracy</th>\n",
       "      <th>Test Accuracy</th>\n",
       "    </tr>\n",
       "  </thead>\n",
       "  <tbody>\n",
       "    <tr>\n",
       "      <th>NaN</th>\n",
       "      <td>Linear Regression</td>\n",
       "      <td>I05</td>\n",
       "      <td>0.980370</td>\n",
       "      <td>0.960363</td>\n",
       "    </tr>\n",
       "    <tr>\n",
       "      <th>NaN</th>\n",
       "      <td>Linear Regression</td>\n",
       "      <td>I1</td>\n",
       "      <td>0.949234</td>\n",
       "      <td>0.898807</td>\n",
       "    </tr>\n",
       "    <tr>\n",
       "      <th>NaN</th>\n",
       "      <td>Linear Regression</td>\n",
       "      <td>DAO</td>\n",
       "      <td>0.935379</td>\n",
       "      <td>0.909768</td>\n",
       "    </tr>\n",
       "    <tr>\n",
       "      <th>NaN</th>\n",
       "      <td>Partial Least Squares (n=2)</td>\n",
       "      <td>I05</td>\n",
       "      <td>0.930866</td>\n",
       "      <td>0.916533</td>\n",
       "    </tr>\n",
       "    <tr>\n",
       "      <th>NaN</th>\n",
       "      <td>Partial Least Squares (n=2)</td>\n",
       "      <td>I1</td>\n",
       "      <td>0.875976</td>\n",
       "      <td>0.846224</td>\n",
       "    </tr>\n",
       "    <tr>\n",
       "      <th>NaN</th>\n",
       "      <td>Partial Least Squares (n=2)</td>\n",
       "      <td>DAO</td>\n",
       "      <td>0.863247</td>\n",
       "      <td>0.802622</td>\n",
       "    </tr>\n",
       "  </tbody>\n",
       "</table>\n",
       "</div>"
      ],
      "text/plain": [
       "                           Model Compound  Train Accuracy  Test Accuracy\n",
       "NaN            Linear Regression      I05        0.980370       0.960363\n",
       "NaN            Linear Regression       I1        0.949234       0.898807\n",
       "NaN            Linear Regression      DAO        0.935379       0.909768\n",
       "NaN  Partial Least Squares (n=2)      I05        0.930866       0.916533\n",
       "NaN  Partial Least Squares (n=2)       I1        0.875976       0.846224\n",
       "NaN  Partial Least Squares (n=2)      DAO        0.863247       0.802622"
      ]
     },
     "execution_count": 10,
     "metadata": {},
     "output_type": "execute_result"
    }
   ],
   "source": [
    "df_results"
   ]
  },
  {
   "cell_type": "code",
   "execution_count": 11,
   "metadata": {},
   "outputs": [
    {
     "name": "stdout",
     "output_type": "stream",
     "text": [
      "The 4 matrices for -- I05 -- are of sizes:  (18604, 5) (37208, 5) (18604,) (37208,)\n",
      "The training accuracy for the model is  0.9356375155240741\n",
      "The testing accuracy for the model is  0.9211207557828374\n",
      "The 4 matrices for -- I1 -- are of sizes:  (13953, 5) (32557, 5) (13953,) (32557,)\n",
      "The training accuracy for the model is  0.9110518578872506\n",
      "The testing accuracy for the model is  0.8736142551320809\n",
      "The 4 matrices for -- DAO -- are of sizes:  (13953, 5) (27906, 5) (13953,) (27906,)\n",
      "The training accuracy for the model is  0.9006413806438867\n",
      "The testing accuracy for the model is  0.8645097309838579\n"
     ]
    }
   ],
   "source": [
    "def pls3(df, product):\n",
    "    X_train, X_test, y_train, y_test = test_train_compound(df, product)\n",
    "    print(\"The 4 matrices for --\", product, \"-- are of sizes: \", X_train.shape, X_test.shape, y_train.shape, y_test.shape)\n",
    "    pls3 = PLSRegression(n_components=3).fit(X_train, y_train)\n",
    "    print(\"The training accuracy for the model is \", pls3.score(X_train, y_train))\n",
    "    print(\"The testing accuracy for the model is \", pls3.score(X_test, y_test))\n",
    "    \n",
    "    df_pred = pd.concat([X_test, y_test], axis = 1)\n",
    "    df_pred['predicted_wt'] = pls3.predict(X_test)\n",
    "    df_pred.to_csv(r'../output/scenario3/prediction_plsr3_{}.csv'.format(product))\n",
    "    \n",
    "    return pd.DataFrame({'Model': 'Partial Least Squares (n=3)',\n",
    "                           'Train Accuracy': pls3.score(X_train, y_train),\n",
    "                           'Test Accuracy' : pls3.score(X_test, y_test),\n",
    "                           'Compound' : i}, index = [None])\n",
    "for i in df.compound.value_counts().index:\n",
    "    df_results = df_results.append(pls3(df, i))"
   ]
  },
  {
   "cell_type": "markdown",
   "metadata": {},
   "source": [
    "## Random forest"
   ]
  },
  {
   "cell_type": "code",
   "execution_count": 12,
   "metadata": {},
   "outputs": [
    {
     "name": "stdout",
     "output_type": "stream",
     "text": [
      "The 4 matrices for -- I05 -- are of sizes:  (18604, 5) (37208, 5) (18604,) (37208,)\n",
      "The training accuracy for the model is  0.9870502885359504\n",
      "The testing accuracy for the model is  0.970729804450318\n",
      "The 4 matrices for -- I1 -- are of sizes:  (13953, 5) (32557, 5) (13953,) (32557,)\n",
      "The training accuracy for the model is  0.9786007607300333\n",
      "The testing accuracy for the model is  0.8567466674095282\n",
      "The 4 matrices for -- DAO -- are of sizes:  (13953, 5) (27906, 5) (13953,) (27906,)\n",
      "The training accuracy for the model is  0.9773032085438987\n",
      "The testing accuracy for the model is  0.8344407332086599\n"
     ]
    }
   ],
   "source": [
    "def random_forest(df, product):\n",
    "    X_train, X_test, y_train, y_test = test_train_compound(df, product)\n",
    "    print(\"The 4 matrices for --\", product, \"-- are of sizes: \", X_train.shape, X_test.shape, y_train.shape, y_test.shape)\n",
    "    rf2 = RandomForestRegressor(random_state=0, max_depth = 2).fit(X_train, y_train)\n",
    "    \n",
    "    \n",
    "    df_pred = pd.concat([X_test, y_test], axis = 1)\n",
    "    df_pred['predicted_wt'] = rf2.predict(X_test)\n",
    "    df_pred.to_csv(r'../output/scenario3/prediction_rf2_{}.csv'.format(product))\n",
    "    \n",
    "    \n",
    "    print(\"The training accuracy for the model is \", rf2.score(X_train, y_train))\n",
    "    print(\"The testing accuracy for the model is \", rf2.score(X_test, y_test))\n",
    "    \n",
    "    return pd.DataFrame({'Model': 'Random Forest Regression (max_depth = 2)',\n",
    "                           'Train Accuracy': rf2.score(X_train, y_train),\n",
    "                           'Test Accuracy' : rf2.score(X_test, y_test),\n",
    "                           'Compound' : i}, index=[None])\n",
    "\n",
    "for i in df.compound.value_counts().index:\n",
    "    df_results = df_results.append(random_forest(df, i))"
   ]
  },
  {
   "cell_type": "code",
   "execution_count": 13,
   "metadata": {},
   "outputs": [
    {
     "name": "stdout",
     "output_type": "stream",
     "text": [
      "The 4 matrices for -- I05 -- are of sizes:  (18604, 5) (37208, 5) (18604,) (37208,)\n",
      "The training accuracy for the model is  0.9995666989882119\n",
      "The testing accuracy for the model is  0.9804387560731774\n",
      "The 4 matrices for -- I1 -- are of sizes:  (13953, 5) (32557, 5) (13953,) (32557,)\n",
      "The training accuracy for the model is  0.998888491714853\n",
      "The testing accuracy for the model is  0.9262318764369853\n",
      "The 4 matrices for -- DAO -- are of sizes:  (13953, 5) (27906, 5) (13953,) (27906,)\n",
      "The training accuracy for the model is  0.9996370288454381\n",
      "The testing accuracy for the model is  0.8426021238918031\n"
     ]
    }
   ],
   "source": [
    "def random_forest(df, product):\n",
    "    X_train, X_test, y_train, y_test = test_train_compound(df, product)\n",
    "    print(\"The 4 matrices for --\", product, \"-- are of sizes: \", X_train.shape, X_test.shape, y_train.shape, y_test.shape)\n",
    "    rf5 = RandomForestRegressor(random_state=0, max_depth = 5).fit(X_train, y_train)\n",
    "    \n",
    "    df_pred = pd.concat([X_test, y_test], axis = 1)\n",
    "    df_pred['predicted_wt'] = rf5.predict(X_test)\n",
    "    df_pred.to_csv(r'../output/scenario3/prediction_rf5_{}.csv'.format(product))\n",
    "    \n",
    "    print(\"The training accuracy for the model is \", rf5.score(X_train, y_train))\n",
    "    print(\"The testing accuracy for the model is \", rf5.score(X_test, y_test))\n",
    "    \n",
    "    return pd.DataFrame({'Model': 'Random Forest Regression (max_depth = 5)',\n",
    "                           'Train Accuracy': rf5.score(X_train, y_train),\n",
    "                           'Test Accuracy' : rf5.score(X_test, y_test),\n",
    "                           'Compound' : i}, index=[None])\n",
    "\n",
    "for i in df.compound.value_counts().index:\n",
    "    df_results = df_results.append(random_forest(df, i))"
   ]
  },
  {
   "cell_type": "code",
   "execution_count": 14,
   "metadata": {},
   "outputs": [
    {
     "name": "stdout",
     "output_type": "stream",
     "text": [
      "The 4 matrices for -- I05 -- are of sizes:  (18604, 5) (37208, 5) (18604,) (37208,)\n",
      "The training accuracy for the model is  0.9999297262259835\n",
      "The testing accuracy for the model is  0.9807549263248933\n",
      "The 4 matrices for -- I1 -- are of sizes:  (13953, 5) (32557, 5) (13953,) (32557,)\n",
      "The training accuracy for the model is  0.9999448614746217\n",
      "The testing accuracy for the model is  0.9352716139641717\n",
      "The 4 matrices for -- DAO -- are of sizes:  (13953, 5) (27906, 5) (13953,) (27906,)\n",
      "The training accuracy for the model is  0.9999741125786494\n",
      "The testing accuracy for the model is  0.8426488771865699\n"
     ]
    }
   ],
   "source": [
    "def random_forest(df, product):\n",
    "    X_train, X_test, y_train, y_test = test_train_compound(df, product)\n",
    "    print(\"The 4 matrices for --\", product, \"-- are of sizes: \", X_train.shape, X_test.shape, y_train.shape, y_test.shape)\n",
    "    rf7 = RandomForestRegressor(random_state=0, max_depth = 7).fit(X_train, y_train)\n",
    "    \n",
    "    df_pred = pd.concat([X_test, y_test], axis = 1)\n",
    "    df_pred['predicted_wt'] = rf7.predict(X_test)\n",
    "    df_pred.to_csv(r'../output/scenario3/prediction_rf7_{}.csv'.format(product))\n",
    "    \n",
    "    print(\"The training accuracy for the model is \", rf7.score(X_train, y_train))\n",
    "    print(\"The testing accuracy for the model is \", rf7.score(X_test, y_test))\n",
    "    \n",
    "    return pd.DataFrame({'Model': 'Random Forest Regression (max_depth = 7)',\n",
    "                           'Train Accuracy': rf7.score(X_train, y_train),\n",
    "                           'Test Accuracy' : rf7.score(X_test, y_test),\n",
    "                           'Compound' : i}, index=[None])\n",
    "\n",
    "for i in df.compound.value_counts().index:\n",
    "    df_results = df_results.append(random_forest(df, i))"
   ]
  },
  {
   "cell_type": "code",
   "execution_count": 15,
   "metadata": {},
   "outputs": [
    {
     "name": "stdout",
     "output_type": "stream",
     "text": [
      "The 4 matrices for -- I05 -- are of sizes:  (18604, 5) (37208, 5) (18604,) (37208,)\n",
      "The training accuracy for the model is  0.9999978280415228\n",
      "The testing accuracy for the model is  0.9806712599543587\n",
      "The 4 matrices for -- I1 -- are of sizes:  (13953, 5) (32557, 5) (13953,) (32557,)\n",
      "The training accuracy for the model is  0.9999994080424899\n",
      "The testing accuracy for the model is  0.9370959288666698\n",
      "The 4 matrices for -- DAO -- are of sizes:  (13953, 5) (27906, 5) (13953,) (27906,)\n",
      "The training accuracy for the model is  0.9999981358387684\n",
      "The testing accuracy for the model is  0.8431357489136395\n"
     ]
    }
   ],
   "source": [
    "def random_forest(df, product):\n",
    "    X_train, X_test, y_train, y_test = test_train_compound(df, product)\n",
    "    print(\"The 4 matrices for --\", product, \"-- are of sizes: \", X_train.shape, X_test.shape, y_train.shape, y_test.shape)\n",
    "    rf10 = RandomForestRegressor(random_state=0, max_depth = 10).fit(X_train, y_train)\n",
    "    \n",
    "    df_pred = pd.concat([X_test, y_test], axis = 1)\n",
    "    df_pred['predicted_wt'] = rf10.predict(X_test)\n",
    "    df_pred.to_csv(r'../output/scenario3/prediction_rf10_{}.csv'.format(product))\n",
    "    \n",
    "    print(\"The training accuracy for the model is \", rf10.score(X_train, y_train))\n",
    "    print(\"The testing accuracy for the model is \", rf10.score(X_test, y_test))\n",
    "    \n",
    "    return pd.DataFrame({'Model': 'Random Forest Regression (max_depth = 10)',\n",
    "                           'Train Accuracy': rf10.score(X_train, y_train),\n",
    "                           'Test Accuracy' : rf10.score(X_test, y_test),\n",
    "                           'Compound' : i}, index=[None])\n",
    "\n",
    "for i in df.compound.value_counts().index:\n",
    "    df_results = df_results.append(random_forest(df, i))"
   ]
  },
  {
   "cell_type": "code",
   "execution_count": 16,
   "metadata": {},
   "outputs": [
    {
     "data": {
      "application/vnd.vegalite.v3+json": {
       "$schema": "https://vega.github.io/schema/vega-lite/v3.4.0.json",
       "columns": 3,
       "config": {
        "mark": {
         "tooltip": null
        },
        "view": {
         "height": 300,
         "width": 400
        }
       },
       "data": {
        "name": "data-24e9becb3e4800715dfd8e7794d7afbf"
       },
       "datasets": {
        "data-24e9becb3e4800715dfd8e7794d7afbf": [
         {
          "Accuracy": 0.9376600934324458,
          "Type": "training",
          "max_depth": 1,
          "n_estimator": 1
         },
         {
          "Accuracy": 0.9386896500480779,
          "Type": "training",
          "max_depth": 1,
          "n_estimator": 2
         },
         {
          "Accuracy": 0.9385791132626878,
          "Type": "training",
          "max_depth": 1,
          "n_estimator": 3
         },
         {
          "Accuracy": 0.9386038993298631,
          "Type": "training",
          "max_depth": 1,
          "n_estimator": 5
         },
         {
          "Accuracy": 0.9384845525798584,
          "Type": "training",
          "max_depth": 1,
          "n_estimator": 10
         },
         {
          "Accuracy": 0.9388020012737509,
          "Type": "training",
          "max_depth": 1,
          "n_estimator": 20
         },
         {
          "Accuracy": 0.9387210284746313,
          "Type": "training",
          "max_depth": 1,
          "n_estimator": 30
         },
         {
          "Accuracy": 0.938663438986758,
          "Type": "training",
          "max_depth": 1,
          "n_estimator": 50
         },
         {
          "Accuracy": 0.9387745611507127,
          "Type": "training",
          "max_depth": 1,
          "n_estimator": 100
         },
         {
          "Accuracy": 0.9861185171673884,
          "Type": "training",
          "max_depth": 2,
          "n_estimator": 1
         },
         {
          "Accuracy": 0.9868312054212557,
          "Type": "training",
          "max_depth": 2,
          "n_estimator": 2
         },
         {
          "Accuracy": 0.9869384394529469,
          "Type": "training",
          "max_depth": 2,
          "n_estimator": 3
         },
         {
          "Accuracy": 0.986892560738281,
          "Type": "training",
          "max_depth": 2,
          "n_estimator": 5
         },
         {
          "Accuracy": 0.9869360219151581,
          "Type": "training",
          "max_depth": 2,
          "n_estimator": 10
         },
         {
          "Accuracy": 0.9871392638490164,
          "Type": "training",
          "max_depth": 2,
          "n_estimator": 20
         },
         {
          "Accuracy": 0.9871204937261733,
          "Type": "training",
          "max_depth": 2,
          "n_estimator": 30
         },
         {
          "Accuracy": 0.9870803166450586,
          "Type": "training",
          "max_depth": 2,
          "n_estimator": 50
         },
         {
          "Accuracy": 0.9870502885359504,
          "Type": "training",
          "max_depth": 2,
          "n_estimator": 100
         },
         {
          "Accuracy": 0.9954914032638895,
          "Type": "training",
          "max_depth": 3,
          "n_estimator": 1
         },
         {
          "Accuracy": 0.9958050649105422,
          "Type": "training",
          "max_depth": 3,
          "n_estimator": 2
         },
         {
          "Accuracy": 0.9958617597115769,
          "Type": "training",
          "max_depth": 3,
          "n_estimator": 3
         },
         {
          "Accuracy": 0.9959418365952357,
          "Type": "training",
          "max_depth": 3,
          "n_estimator": 5
         },
         {
          "Accuracy": 0.9959796914270124,
          "Type": "training",
          "max_depth": 3,
          "n_estimator": 10
         },
         {
          "Accuracy": 0.9960805509474574,
          "Type": "training",
          "max_depth": 3,
          "n_estimator": 20
         },
         {
          "Accuracy": 0.9960493155913913,
          "Type": "training",
          "max_depth": 3,
          "n_estimator": 30
         },
         {
          "Accuracy": 0.9960351565792861,
          "Type": "training",
          "max_depth": 3,
          "n_estimator": 50
         },
         {
          "Accuracy": 0.9960219501069068,
          "Type": "training",
          "max_depth": 3,
          "n_estimator": 100
         },
         {
          "Accuracy": 0.9985940111494502,
          "Type": "training",
          "max_depth": 4,
          "n_estimator": 1
         },
         {
          "Accuracy": 0.99873727448847,
          "Type": "training",
          "max_depth": 4,
          "n_estimator": 2
         },
         {
          "Accuracy": 0.998783415047034,
          "Type": "training",
          "max_depth": 4,
          "n_estimator": 3
         },
         {
          "Accuracy": 0.9988167903504992,
          "Type": "training",
          "max_depth": 4,
          "n_estimator": 5
         },
         {
          "Accuracy": 0.9988422473876494,
          "Type": "training",
          "max_depth": 4,
          "n_estimator": 10
         },
         {
          "Accuracy": 0.9988934112842449,
          "Type": "training",
          "max_depth": 4,
          "n_estimator": 20
         },
         {
          "Accuracy": 0.9988924583913021,
          "Type": "training",
          "max_depth": 4,
          "n_estimator": 30
         },
         {
          "Accuracy": 0.9988910552789328,
          "Type": "training",
          "max_depth": 4,
          "n_estimator": 50
         },
         {
          "Accuracy": 0.9988943251635921,
          "Type": "training",
          "max_depth": 4,
          "n_estimator": 100
         },
         {
          "Accuracy": 0.9993647561679652,
          "Type": "training",
          "max_depth": 5,
          "n_estimator": 1
         },
         {
          "Accuracy": 0.9994682828505754,
          "Type": "training",
          "max_depth": 5,
          "n_estimator": 2
         },
         {
          "Accuracy": 0.9995086662230984,
          "Type": "training",
          "max_depth": 5,
          "n_estimator": 3
         },
         {
          "Accuracy": 0.9995257188568971,
          "Type": "training",
          "max_depth": 5,
          "n_estimator": 5
         },
         {
          "Accuracy": 0.9995346396949979,
          "Type": "training",
          "max_depth": 5,
          "n_estimator": 10
         },
         {
          "Accuracy": 0.9995614975450382,
          "Type": "training",
          "max_depth": 5,
          "n_estimator": 20
         },
         {
          "Accuracy": 0.9995668653568461,
          "Type": "training",
          "max_depth": 5,
          "n_estimator": 30
         },
         {
          "Accuracy": 0.999565064606583,
          "Type": "training",
          "max_depth": 5,
          "n_estimator": 50
         },
         {
          "Accuracy": 0.9995666989882119,
          "Type": "training",
          "max_depth": 5,
          "n_estimator": 100
         },
         {
          "Accuracy": 0.9997301712428389,
          "Type": "training",
          "max_depth": 6,
          "n_estimator": 1
         },
         {
          "Accuracy": 0.9997723164315461,
          "Type": "training",
          "max_depth": 6,
          "n_estimator": 2
         },
         {
          "Accuracy": 0.9997953352799208,
          "Type": "training",
          "max_depth": 6,
          "n_estimator": 3
         },
         {
          "Accuracy": 0.99981082882465,
          "Type": "training",
          "max_depth": 6,
          "n_estimator": 5
         },
         {
          "Accuracy": 0.9998248700918845,
          "Type": "training",
          "max_depth": 6,
          "n_estimator": 10
         },
         {
          "Accuracy": 0.9998336630726554,
          "Type": "training",
          "max_depth": 6,
          "n_estimator": 20
         },
         {
          "Accuracy": 0.9998350726751982,
          "Type": "training",
          "max_depth": 6,
          "n_estimator": 30
         },
         {
          "Accuracy": 0.9998365201683498,
          "Type": "training",
          "max_depth": 6,
          "n_estimator": 50
         },
         {
          "Accuracy": 0.9998365188154654,
          "Type": "training",
          "max_depth": 6,
          "n_estimator": 100
         },
         {
          "Accuracy": 0.9998690764587632,
          "Type": "training",
          "max_depth": 7,
          "n_estimator": 1
         },
         {
          "Accuracy": 0.9998967818515117,
          "Type": "training",
          "max_depth": 7,
          "n_estimator": 2
         },
         {
          "Accuracy": 0.9999075048481604,
          "Type": "training",
          "max_depth": 7,
          "n_estimator": 3
         },
         {
          "Accuracy": 0.9999152425451532,
          "Type": "training",
          "max_depth": 7,
          "n_estimator": 5
         },
         {
          "Accuracy": 0.999922581431814,
          "Type": "training",
          "max_depth": 7,
          "n_estimator": 10
         },
         {
          "Accuracy": 0.9999274966620297,
          "Type": "training",
          "max_depth": 7,
          "n_estimator": 20
         },
         {
          "Accuracy": 0.9999286402881733,
          "Type": "training",
          "max_depth": 7,
          "n_estimator": 30
         },
         {
          "Accuracy": 0.9999291820692476,
          "Type": "training",
          "max_depth": 7,
          "n_estimator": 50
         },
         {
          "Accuracy": 0.9999297262259835,
          "Type": "training",
          "max_depth": 7,
          "n_estimator": 100
         },
         {
          "Accuracy": 0.9168417621686137,
          "Type": "testing",
          "max_depth": 1,
          "n_estimator": 1
         },
         {
          "Accuracy": 0.9182148395772002,
          "Type": "testing",
          "max_depth": 1,
          "n_estimator": 2
         },
         {
          "Accuracy": 0.9180573824118647,
          "Type": "testing",
          "max_depth": 1,
          "n_estimator": 3
         },
         {
          "Accuracy": 0.917960617586291,
          "Type": "testing",
          "max_depth": 1,
          "n_estimator": 5
         },
         {
          "Accuracy": 0.9177792839370512,
          "Type": "testing",
          "max_depth": 1,
          "n_estimator": 10
         },
         {
          "Accuracy": 0.9181192169520818,
          "Type": "testing",
          "max_depth": 1,
          "n_estimator": 20
         },
         {
          "Accuracy": 0.9181044576574419,
          "Type": "testing",
          "max_depth": 1,
          "n_estimator": 30
         },
         {
          "Accuracy": 0.9180647368217714,
          "Type": "testing",
          "max_depth": 1,
          "n_estimator": 50
         },
         {
          "Accuracy": 0.9181400430141532,
          "Type": "testing",
          "max_depth": 1,
          "n_estimator": 100
         },
         {
          "Accuracy": 0.9696389950103612,
          "Type": "testing",
          "max_depth": 2,
          "n_estimator": 1
         },
         {
          "Accuracy": 0.9704611540414645,
          "Type": "testing",
          "max_depth": 2,
          "n_estimator": 2
         },
         {
          "Accuracy": 0.9706763639979462,
          "Type": "testing",
          "max_depth": 2,
          "n_estimator": 3
         },
         {
          "Accuracy": 0.9705940085971988,
          "Type": "testing",
          "max_depth": 2,
          "n_estimator": 5
         },
         {
          "Accuracy": 0.9706479507777511,
          "Type": "testing",
          "max_depth": 2,
          "n_estimator": 10
         },
         {
          "Accuracy": 0.9708535385296324,
          "Type": "testing",
          "max_depth": 2,
          "n_estimator": 20
         },
         {
          "Accuracy": 0.9708375110684445,
          "Type": "testing",
          "max_depth": 2,
          "n_estimator": 30
         },
         {
          "Accuracy": 0.9707887852360942,
          "Type": "testing",
          "max_depth": 2,
          "n_estimator": 50
         },
         {
          "Accuracy": 0.970729804450318,
          "Type": "testing",
          "max_depth": 2,
          "n_estimator": 100
         },
         {
          "Accuracy": 0.9756455271942504,
          "Type": "testing",
          "max_depth": 3,
          "n_estimator": 1
         },
         {
          "Accuracy": 0.9759772137675359,
          "Type": "testing",
          "max_depth": 3,
          "n_estimator": 2
         },
         {
          "Accuracy": 0.976082843029093,
          "Type": "testing",
          "max_depth": 3,
          "n_estimator": 3
         },
         {
          "Accuracy": 0.9764440004354896,
          "Type": "testing",
          "max_depth": 3,
          "n_estimator": 5
         },
         {
          "Accuracy": 0.9763354103473134,
          "Type": "testing",
          "max_depth": 3,
          "n_estimator": 10
         },
         {
          "Accuracy": 0.9764357892390351,
          "Type": "testing",
          "max_depth": 3,
          "n_estimator": 20
         },
         {
          "Accuracy": 0.9763669049384925,
          "Type": "testing",
          "max_depth": 3,
          "n_estimator": 30
         },
         {
          "Accuracy": 0.9763190407903037,
          "Type": "testing",
          "max_depth": 3,
          "n_estimator": 50
         },
         {
          "Accuracy": 0.9762974987634963,
          "Type": "testing",
          "max_depth": 3,
          "n_estimator": 100
         },
         {
          "Accuracy": 0.9801676058523827,
          "Type": "testing",
          "max_depth": 4,
          "n_estimator": 1
         },
         {
          "Accuracy": 0.9802570402037779,
          "Type": "testing",
          "max_depth": 4,
          "n_estimator": 2
         },
         {
          "Accuracy": 0.9803222944807057,
          "Type": "testing",
          "max_depth": 4,
          "n_estimator": 3
         },
         {
          "Accuracy": 0.980428788844677,
          "Type": "testing",
          "max_depth": 4,
          "n_estimator": 5
         },
         {
          "Accuracy": 0.980362342980373,
          "Type": "testing",
          "max_depth": 4,
          "n_estimator": 10
         },
         {
          "Accuracy": 0.9803859767859395,
          "Type": "testing",
          "max_depth": 4,
          "n_estimator": 20
         },
         {
          "Accuracy": 0.9803723713800399,
          "Type": "testing",
          "max_depth": 4,
          "n_estimator": 30
         },
         {
          "Accuracy": 0.9803743048029224,
          "Type": "testing",
          "max_depth": 4,
          "n_estimator": 50
         },
         {
          "Accuracy": 0.9803518856136418,
          "Type": "testing",
          "max_depth": 4,
          "n_estimator": 100
         },
         {
          "Accuracy": 0.9802982825009042,
          "Type": "testing",
          "max_depth": 5,
          "n_estimator": 1
         },
         {
          "Accuracy": 0.9803204209938139,
          "Type": "testing",
          "max_depth": 5,
          "n_estimator": 2
         },
         {
          "Accuracy": 0.9803340486366462,
          "Type": "testing",
          "max_depth": 5,
          "n_estimator": 3
         },
         {
          "Accuracy": 0.9804444995910385,
          "Type": "testing",
          "max_depth": 5,
          "n_estimator": 5
         },
         {
          "Accuracy": 0.9804213295309022,
          "Type": "testing",
          "max_depth": 5,
          "n_estimator": 10
         },
         {
          "Accuracy": 0.9804320292723928,
          "Type": "testing",
          "max_depth": 5,
          "n_estimator": 20
         },
         {
          "Accuracy": 0.9804362281279474,
          "Type": "testing",
          "max_depth": 5,
          "n_estimator": 30
         },
         {
          "Accuracy": 0.9804517968195189,
          "Type": "testing",
          "max_depth": 5,
          "n_estimator": 50
         },
         {
          "Accuracy": 0.9804387560731774,
          "Type": "testing",
          "max_depth": 5,
          "n_estimator": 100
         },
         {
          "Accuracy": 0.9802795224524107,
          "Type": "testing",
          "max_depth": 6,
          "n_estimator": 1
         },
         {
          "Accuracy": 0.9802747800976407,
          "Type": "testing",
          "max_depth": 6,
          "n_estimator": 2
         },
         {
          "Accuracy": 0.9802984484362368,
          "Type": "testing",
          "max_depth": 6,
          "n_estimator": 3
         },
         {
          "Accuracy": 0.9803700399829478,
          "Type": "testing",
          "max_depth": 6,
          "n_estimator": 5
         },
         {
          "Accuracy": 0.9806216907311321,
          "Type": "testing",
          "max_depth": 6,
          "n_estimator": 10
         },
         {
          "Accuracy": 0.9806716544578656,
          "Type": "testing",
          "max_depth": 6,
          "n_estimator": 20
         },
         {
          "Accuracy": 0.9806487504752086,
          "Type": "testing",
          "max_depth": 6,
          "n_estimator": 30
         },
         {
          "Accuracy": 0.9806332156921848,
          "Type": "testing",
          "max_depth": 6,
          "n_estimator": 50
         },
         {
          "Accuracy": 0.9805969108699667,
          "Type": "testing",
          "max_depth": 6,
          "n_estimator": 100
         },
         {
          "Accuracy": 0.980402069735055,
          "Type": "testing",
          "max_depth": 7,
          "n_estimator": 1
         },
         {
          "Accuracy": 0.9807920967843615,
          "Type": "testing",
          "max_depth": 7,
          "n_estimator": 2
         },
         {
          "Accuracy": 0.9806483338109075,
          "Type": "testing",
          "max_depth": 7,
          "n_estimator": 3
         },
         {
          "Accuracy": 0.9805656180521115,
          "Type": "testing",
          "max_depth": 7,
          "n_estimator": 5
         },
         {
          "Accuracy": 0.9807322634761412,
          "Type": "testing",
          "max_depth": 7,
          "n_estimator": 10
         },
         {
          "Accuracy": 0.9807547370962798,
          "Type": "testing",
          "max_depth": 7,
          "n_estimator": 20
         },
         {
          "Accuracy": 0.9808026783745116,
          "Type": "testing",
          "max_depth": 7,
          "n_estimator": 30
         },
         {
          "Accuracy": 0.9808144973318538,
          "Type": "testing",
          "max_depth": 7,
          "n_estimator": 50
         },
         {
          "Accuracy": 0.9807549263248933,
          "Type": "testing",
          "max_depth": 7,
          "n_estimator": 100
         }
        ]
       },
       "encoding": {
        "color": {
         "field": "Type",
         "type": "nominal"
        },
        "facet": {
         "field": "n_estimator",
         "type": "quantitative"
        },
        "x": {
         "field": "max_depth",
         "type": "quantitative"
        },
        "y": {
         "field": "Accuracy",
         "scale": {
          "domain": [
           0.7,
           1
          ]
         },
         "type": "quantitative"
        }
       },
       "height": 200,
       "mark": "line",
       "width": 200
      },
      "image/png": "[encoded data removed]",
      "text/plain": [
       "<VegaLite 3 object>\n",
       "\n",
       "If you see this message, it means the renderer has not been properly enabled\n",
       "for the frontend that you are using. For more information, see\n",
       "https://altair-viz.github.io/user_guide/troubleshooting.html\n"
      ]
     },
     "execution_count": 16,
     "metadata": {},
     "output_type": "execute_result"
    }
   ],
   "source": [
    "n_est = [1,2,3,5,10,20,30,50,100]\n",
    "max_depth = range(1,8)\n",
    "X_train, X_test, y_train, y_test = test_train_compound(df, \"I05\")\n",
    "trees = []\n",
    "train_acc = []\n",
    "test_acc = []\n",
    "depth = []\n",
    "for j in max_depth:\n",
    "    for i in n_est:\n",
    "        trees.append(i)\n",
    "        depth.append(j)\n",
    "        rf = RandomForestRegressor(n_estimators = i, max_depth = j, random_state=0).fit(X_train, y_train)\n",
    "        train_acc.append(rf.score(X_train, y_train))\n",
    "        test_acc.append(rf.score(X_test, y_test))\n",
    "        #print(j,i)\n",
    "df_rf = pd.DataFrame({'training' : train_acc,\n",
    "                      'testing' : test_acc,\n",
    "                      'n_estimator' : trees,\n",
    "                      'max_depth' : depth})\n",
    "df_rf = df_rf.melt(id_vars = ['n_estimator', 'max_depth'], var_name = 'Type', value_name = 'Accuracy')\n",
    "df_rf\n",
    "alt.Chart(df_rf).mark_line().encode(\n",
    "    alt.X('max_depth'),\n",
    "    alt.Y('Accuracy', scale=alt.Scale(domain=[0.7, 1])),\n",
    "    alt.Color('Type'),\n",
    "    alt.Facet('n_estimator')\n",
    "    ).properties(width = 200, height = 200, columns = 3)"
   ]
  },
  {
   "cell_type": "markdown",
   "metadata": {},
   "source": [
    "## SVR"
   ]
  },
  {
   "cell_type": "code",
   "execution_count": 17,
   "metadata": {},
   "outputs": [
    {
     "name": "stdout",
     "output_type": "stream",
     "text": [
      "The 4 matrices for -- I05 -- are of sizes:  (18604, 5) (37208, 5) (18604,) (37208,)\n",
      "The training accuracy for the model is  0.9836350890026736\n",
      "The testing accuracy for the model is  0.9665478229785168\n",
      "The 4 matrices for -- I1 -- are of sizes:  (13953, 5) (32557, 5) (13953,) (32557,)\n",
      "The training accuracy for the model is  0.9208341585258116\n",
      "The testing accuracy for the model is  0.876823558571829\n",
      "The 4 matrices for -- DAO -- are of sizes:  (13953, 5) (27906, 5) (13953,) (27906,)\n",
      "The training accuracy for the model is  0.9231098627496396\n",
      "The testing accuracy for the model is  0.8888684423226497\n"
     ]
    }
   ],
   "source": [
    "def svr_rbf(df, product):\n",
    "    X_train, X_test, y_train, y_test = test_train_compound(df, product)\n",
    "    print(\"The 4 matrices for --\", product, \"-- are of sizes: \", X_train.shape, X_test.shape, y_train.shape, y_test.shape)\n",
    "    svr_rbf = SVR(kernel=\"rbf\").fit(X_train, y_train)\n",
    "    \n",
    "    df_pred = pd.concat([X_test, y_test], axis = 1)\n",
    "    df_pred['predicted_wt'] = svr_rbf.predict(X_test)\n",
    "    df_pred.to_csv(r'../output/scenario3/prediction_svr_rbf_{}.csv'.format(product))\n",
    "    \n",
    "    print(\"The training accuracy for the model is \", svr_rbf.score(X_train, y_train))\n",
    "    print(\"The testing accuracy for the model is \", svr_rbf.score(X_test, y_test))\n",
    "    \n",
    "    return pd.DataFrame({'Model': 'SVR RBF Kernel',\n",
    "                           'Train Accuracy': svr_rbf.score(X_train, y_train),\n",
    "                           'Test Accuracy' : svr_rbf.score(X_test, y_test),\n",
    "                           'Compound' : i}, index=[None])\n",
    "\n",
    "for i in df.compound.value_counts().index:\n",
    "    df_results = df_results.append(svr_rbf(df, i))"
   ]
  },
  {
   "cell_type": "markdown",
   "metadata": {},
   "source": [
    "## GBR"
   ]
  },
  {
   "cell_type": "code",
   "execution_count": 18,
   "metadata": {},
   "outputs": [
    {
     "name": "stdout",
     "output_type": "stream",
     "text": [
      "The 4 matrices for -- I05 -- are of sizes:  (18604, 5) (37208, 5) (18604,) (37208,)\n",
      "The training accuracy for the model is  0.9999332256449887\n",
      "The testing accuracy for the model is  0.9808047009402228\n",
      "The 4 matrices for -- I1 -- are of sizes:  (13953, 5) (32557, 5) (13953,) (32557,)\n",
      "The training accuracy for the model is  0.9998945556437243\n",
      "The testing accuracy for the model is  0.9415588127405583\n",
      "The 4 matrices for -- DAO -- are of sizes:  (13953, 5) (27906, 5) (13953,) (27906,)\n",
      "The training accuracy for the model is  0.9999547193854126\n",
      "The testing accuracy for the model is  0.8521954312505688\n"
     ]
    }
   ],
   "source": [
    "def gbr(df, product):\n",
    "    X_train, X_test, y_train, y_test = test_train_compound(df, product)\n",
    "    print(\"The 4 matrices for --\", product, \"-- are of sizes: \", X_train.shape, X_test.shape, y_train.shape, y_test.shape)\n",
    "    gbr = GradientBoostingRegressor().fit(X_train,y_train)\n",
    "    \n",
    "    df_pred = pd.concat([X_test, y_test], axis = 1)\n",
    "    df_pred['predicted_wt'] = gbr.predict(X_test)\n",
    "    df_pred.to_csv(r'../output/scenario3/prediction_gbr_{}.csv'.format(product))\n",
    "    \n",
    "    print(\"The training accuracy for the model is \", gbr.score(X_train, y_train))\n",
    "    print(\"The testing accuracy for the model is \", gbr.score(X_test, y_test))\n",
    "    \n",
    "    return pd.DataFrame({'Model': 'Gradient Boost Regressor',\n",
    "                           'Train Accuracy': gbr.score(X_train, y_train),\n",
    "                           'Test Accuracy' : gbr.score(X_test, y_test),\n",
    "                           'Compound' : i}, index=[None])\n",
    "\n",
    "for i in df.compound.value_counts().index:\n",
    "    df_results = df_results.append(gbr(df, i))"
   ]
  },
  {
   "cell_type": "code",
   "execution_count": null,
   "metadata": {},
   "outputs": [],
   "source": [
    "n_est = [1,2,3,5,10,20,30,50,100]\n",
    "max_depth = range(1,8)\n",
    "X_train, X_test, y_train, y_test = test_train_compound(df, \"I05\")\n",
    "trees = []\n",
    "train_acc = []\n",
    "test_acc = []\n",
    "depth = []\n",
    "for j in max_depth:\n",
    "    for i in n_est:\n",
    "        trees.append(i)\n",
    "        depth.append(j)\n",
    "        gbr = GradientBoostingRegressor(n_estimators = i, max_depth = j, random_state=0).fit(X_train, y_train)\n",
    "        train_acc.append(gbr.score(X_train, y_train))\n",
    "        test_acc.append(gbr.score(X_test, y_test))\n",
    "        #print(j,i)"
   ]
  },
  {
   "cell_type": "code",
   "execution_count": 8,
   "metadata": {},
   "outputs": [
    {
     "data": {
      "application/vnd.vegalite.v3+json": {
       "$schema": "https://vega.github.io/schema/vega-lite/v3.4.0.json",
       "columns": 3,
       "config": {
        "mark": {
         "tooltip": null
        },
        "view": {
         "height": 300,
         "width": 400
        }
       },
       "data": {
        "name": "data-53a6684f5d05013d279c84f1c2a2a02e"
       },
       "datasets": {
        "data-53a6684f5d05013d279c84f1c2a2a02e": [
         {
          "Accuracy": 0.1781598356027485,
          "Type": "training",
          "max_depth": 1,
          "n_estimator": 1
         },
         {
          "Accuracy": 0.3227359001566934,
          "Type": "training",
          "max_depth": 1,
          "n_estimator": 2
         },
         {
          "Accuracy": 0.44081680600361406,
          "Type": "training",
          "max_depth": 1,
          "n_estimator": 3
         },
         {
          "Accuracy": 0.6162465379744486,
          "Type": "training",
          "max_depth": 1,
          "n_estimator": 5
         },
         {
          "Accuracy": 0.8450609088027673,
          "Type": "training",
          "max_depth": 1,
          "n_estimator": 10
         },
         {
          "Accuracy": 0.9702831815441323,
          "Type": "training",
          "max_depth": 1,
          "n_estimator": 20
         },
         {
          "Accuracy": 0.9921025770296035,
          "Type": "training",
          "max_depth": 1,
          "n_estimator": 30
         },
         {
          "Accuracy": 0.9982066647851603,
          "Type": "training",
          "max_depth": 1,
          "n_estimator": 50
         },
         {
          "Accuracy": 0.9991583174311344,
          "Type": "training",
          "max_depth": 1,
          "n_estimator": 100
         },
         {
          "Accuracy": 0.18738526984488013,
          "Type": "training",
          "max_depth": 2,
          "n_estimator": 1
         },
         {
          "Accuracy": 0.339338287549393,
          "Type": "training",
          "max_depth": 2,
          "n_estimator": 2
         },
         {
          "Accuracy": 0.46260391456414435,
          "Type": "training",
          "max_depth": 2,
          "n_estimator": 3
         },
         {
          "Accuracy": 0.6441853758589118,
          "Type": "training",
          "max_depth": 2,
          "n_estimator": 5
         },
         {
          "Accuracy": 0.8720799028873483,
          "Type": "training",
          "max_depth": 2,
          "n_estimator": 10
         },
         {
          "Accuracy": 0.9824752565012269,
          "Type": "training",
          "max_depth": 2,
          "n_estimator": 20
         },
         {
          "Accuracy": 0.9970263176368033,
          "Type": "training",
          "max_depth": 2,
          "n_estimator": 30
         },
         {
          "Accuracy": 0.999617377690596,
          "Type": "training",
          "max_depth": 2,
          "n_estimator": 50
         },
         {
          "Accuracy": 0.9997878283179339,
          "Type": "training",
          "max_depth": 2,
          "n_estimator": 100
         },
         {
          "Accuracy": 0.1891454187732704,
          "Type": "training",
          "max_depth": 3,
          "n_estimator": 1
         },
         {
          "Accuracy": 0.3424196096836003,
          "Type": "training",
          "max_depth": 3,
          "n_estimator": 2
         },
         {
          "Accuracy": 0.4667000962604657,
          "Type": "training",
          "max_depth": 3,
          "n_estimator": 3
         },
         {
          "Accuracy": 0.649097094723581,
          "Type": "training",
          "max_depth": 3,
          "n_estimator": 5
         },
         {
          "Accuracy": 0.8764861075479018,
          "Type": "training",
          "max_depth": 3,
          "n_estimator": 10
         },
         {
          "Accuracy": 0.9842467428869972,
          "Type": "training",
          "max_depth": 3,
          "n_estimator": 20
         },
         {
          "Accuracy": 0.9978089596891807,
          "Type": "training",
          "max_depth": 3,
          "n_estimator": 30
         },
         {
          "Accuracy": 0.999839258218787,
          "Type": "training",
          "max_depth": 3,
          "n_estimator": 50
         },
         {
          "Accuracy": 0.9999332256449887,
          "Type": "training",
          "max_depth": 3,
          "n_estimator": 100
         },
         {
          "Accuracy": 0.18973671471369458,
          "Type": "training",
          "max_depth": 4,
          "n_estimator": 1
         },
         {
          "Accuracy": 0.3434387794852829,
          "Type": "training",
          "max_depth": 4,
          "n_estimator": 2
         },
         {
          "Accuracy": 0.46796898805629983,
          "Type": "training",
          "max_depth": 4,
          "n_estimator": 3
         },
         {
          "Accuracy": 0.65059253585015,
          "Type": "training",
          "max_depth": 4,
          "n_estimator": 5
         },
         {
          "Accuracy": 0.8777689109675076,
          "Type": "training",
          "max_depth": 4,
          "n_estimator": 10
         },
         {
          "Accuracy": 0.9849221809646832,
          "Type": "training",
          "max_depth": 4,
          "n_estimator": 20
         },
         {
          "Accuracy": 0.9980829223932536,
          "Type": "training",
          "max_depth": 4,
          "n_estimator": 30
         },
         {
          "Accuracy": 0.9999387735585378,
          "Type": "training",
          "max_depth": 4,
          "n_estimator": 50
         },
         {
          "Accuracy": 0.9999840837745352,
          "Type": "training",
          "max_depth": 4,
          "n_estimator": 100
         },
         {
          "Accuracy": 0.1898836724462507,
          "Type": "training",
          "max_depth": 5,
          "n_estimator": 1
         },
         {
          "Accuracy": 0.3436984365896206,
          "Type": "training",
          "max_depth": 5,
          "n_estimator": 2
         },
         {
          "Accuracy": 0.46830197039400817,
          "Type": "training",
          "max_depth": 5,
          "n_estimator": 3
         },
         {
          "Accuracy": 0.6510013841357556,
          "Type": "training",
          "max_depth": 5,
          "n_estimator": 5
         },
         {
          "Accuracy": 0.8781431995646142,
          "Type": "training",
          "max_depth": 5,
          "n_estimator": 10
         },
         {
          "Accuracy": 0.9850991730102924,
          "Type": "training",
          "max_depth": 5,
          "n_estimator": 20
         },
         {
          "Accuracy": 0.9981498245138533,
          "Type": "training",
          "max_depth": 5,
          "n_estimator": 30
         },
         {
          "Accuracy": 0.9999592468990507,
          "Type": "training",
          "max_depth": 5,
          "n_estimator": 50
         },
         {
          "Accuracy": 0.9999941593566403,
          "Type": "training",
          "max_depth": 5,
          "n_estimator": 100
         },
         {
          "Accuracy": 0.18995038891872107,
          "Type": "training",
          "max_depth": 6,
          "n_estimator": 1
         },
         {
          "Accuracy": 0.34381539895378976,
          "Type": "training",
          "max_depth": 6,
          "n_estimator": 2
         },
         {
          "Accuracy": 0.46845169320260605,
          "Type": "training",
          "max_depth": 6,
          "n_estimator": 3
         },
         {
          "Accuracy": 0.651192892929467,
          "Type": "training",
          "max_depth": 6,
          "n_estimator": 5
         },
         {
          "Accuracy": 0.8783066022259717,
          "Type": "training",
          "max_depth": 6,
          "n_estimator": 10
         },
         {
          "Accuracy": 0.9851645510124967,
          "Type": "training",
          "max_depth": 6,
          "n_estimator": 20
         },
         {
          "Accuracy": 0.9981836553375873,
          "Type": "training",
          "max_depth": 6,
          "n_estimator": 30
         },
         {
          "Accuracy": 0.9999674626446219,
          "Type": "training",
          "max_depth": 6,
          "n_estimator": 50
         },
         {
          "Accuracy": 0.9999976026504471,
          "Type": "training",
          "max_depth": 6,
          "n_estimator": 100
         },
         {
          "Accuracy": 0.18997708282365777,
          "Type": "training",
          "max_depth": 7,
          "n_estimator": 1
         },
         {
          "Accuracy": 0.3438607065409215,
          "Type": "training",
          "max_depth": 7,
          "n_estimator": 2
         },
         {
          "Accuracy": 0.468508432593359,
          "Type": "training",
          "max_depth": 7,
          "n_estimator": 3
         },
         {
          "Accuracy": 0.6512609733520659,
          "Type": "training",
          "max_depth": 7,
          "n_estimator": 5
         },
         {
          "Accuracy": 0.8783668394326994,
          "Type": "training",
          "max_depth": 7,
          "n_estimator": 10
         },
         {
          "Accuracy": 0.9851986357988685,
          "Type": "training",
          "max_depth": 7,
          "n_estimator": 20
         },
         {
          "Accuracy": 0.9981960615964138,
          "Type": "training",
          "max_depth": 7,
          "n_estimator": 30
         },
         {
          "Accuracy": 0.999971298977435,
          "Type": "training",
          "max_depth": 7,
          "n_estimator": 50
         },
         {
          "Accuracy": 0.9999988980205139,
          "Type": "training",
          "max_depth": 7,
          "n_estimator": 100
         },
         {
          "Accuracy": 0.15818660400933904,
          "Type": "testing",
          "max_depth": 1,
          "n_estimator": 1
         },
         {
          "Accuracy": 0.29506252848155967,
          "Type": "testing",
          "max_depth": 1,
          "n_estimator": 2
         },
         {
          "Accuracy": 0.4070459969223937,
          "Type": "testing",
          "max_depth": 1,
          "n_estimator": 3
         },
         {
          "Accuracy": 0.5758397672752251,
          "Type": "testing",
          "max_depth": 1,
          "n_estimator": 5
         },
         {
          "Accuracy": 0.8035855256257403,
          "Type": "testing",
          "max_depth": 1,
          "n_estimator": 10
         },
         {
          "Accuracy": 0.9399539802588848,
          "Type": "testing",
          "max_depth": 1,
          "n_estimator": 20
         },
         {
          "Accuracy": 0.9698002367897496,
          "Type": "testing",
          "max_depth": 1,
          "n_estimator": 30
         },
         {
          "Accuracy": 0.9783085838544319,
          "Type": "testing",
          "max_depth": 1,
          "n_estimator": 50
         },
         {
          "Accuracy": 0.9802993577713145,
          "Type": "testing",
          "max_depth": 1,
          "n_estimator": 100
         },
         {
          "Accuracy": 0.16735791975818148,
          "Type": "testing",
          "max_depth": 2,
          "n_estimator": 1
         },
         {
          "Accuracy": 0.3114976703685626,
          "Type": "testing",
          "max_depth": 2,
          "n_estimator": 2
         },
         {
          "Accuracy": 0.42896222588693794,
          "Type": "testing",
          "max_depth": 2,
          "n_estimator": 3
         },
         {
          "Accuracy": 0.6047375683054141,
          "Type": "testing",
          "max_depth": 2,
          "n_estimator": 5
         },
         {
          "Accuracy": 0.832431249663584,
          "Type": "testing",
          "max_depth": 2,
          "n_estimator": 10
         },
         {
          "Accuracy": 0.9534098981411365,
          "Type": "testing",
          "max_depth": 2,
          "n_estimator": 20
         },
         {
          "Accuracy": 0.9745923290614599,
          "Type": "testing",
          "max_depth": 2,
          "n_estimator": 30
         },
         {
          "Accuracy": 0.9801625921964694,
          "Type": "testing",
          "max_depth": 2,
          "n_estimator": 50
         },
         {
          "Accuracy": 0.9806269950109802,
          "Type": "testing",
          "max_depth": 2,
          "n_estimator": 100
         },
         {
          "Accuracy": 0.1667984393199743,
          "Type": "testing",
          "max_depth": 3,
          "n_estimator": 1
         },
         {
          "Accuracy": 0.31047298680184654,
          "Type": "testing",
          "max_depth": 3,
          "n_estimator": 2
         },
         {
          "Accuracy": 0.42934273353972446,
          "Type": "testing",
          "max_depth": 3,
          "n_estimator": 3
         },
         {
          "Accuracy": 0.6063574077452218,
          "Type": "testing",
          "max_depth": 3,
          "n_estimator": 5
         },
         {
          "Accuracy": 0.8337048930712876,
          "Type": "testing",
          "max_depth": 3,
          "n_estimator": 10
         },
         {
          "Accuracy": 0.9541470585950693,
          "Type": "testing",
          "max_depth": 3,
          "n_estimator": 20
         },
         {
          "Accuracy": 0.9745221913112864,
          "Type": "testing",
          "max_depth": 3,
          "n_estimator": 30
         },
         {
          "Accuracy": 0.9801670707878704,
          "Type": "testing",
          "max_depth": 3,
          "n_estimator": 50
         },
         {
          "Accuracy": 0.980804562720188,
          "Type": "testing",
          "max_depth": 3,
          "n_estimator": 100
         },
         {
          "Accuracy": 0.16833132609264245,
          "Type": "testing",
          "max_depth": 4,
          "n_estimator": 1
         },
         {
          "Accuracy": 0.3131703419908892,
          "Type": "testing",
          "max_depth": 4,
          "n_estimator": 2
         },
         {
          "Accuracy": 0.43147125651686924,
          "Type": "testing",
          "max_depth": 4,
          "n_estimator": 3
         },
         {
          "Accuracy": 0.6075444983482525,
          "Type": "testing",
          "max_depth": 4,
          "n_estimator": 5
         },
         {
          "Accuracy": 0.8347871849754952,
          "Type": "testing",
          "max_depth": 4,
          "n_estimator": 10
         },
         {
          "Accuracy": 0.9546684526976964,
          "Type": "testing",
          "max_depth": 4,
          "n_estimator": 20
         },
         {
          "Accuracy": 0.9748831612936757,
          "Type": "testing",
          "max_depth": 4,
          "n_estimator": 30
         },
         {
          "Accuracy": 0.9807174327089868,
          "Type": "testing",
          "max_depth": 4,
          "n_estimator": 50
         },
         {
          "Accuracy": 0.9814645635669201,
          "Type": "testing",
          "max_depth": 4,
          "n_estimator": 100
         },
         {
          "Accuracy": 0.16798438758360157,
          "Type": "testing",
          "max_depth": 5,
          "n_estimator": 1
         },
         {
          "Accuracy": 0.3127204192169617,
          "Type": "testing",
          "max_depth": 5,
          "n_estimator": 2
         },
         {
          "Accuracy": 0.4307499055052912,
          "Type": "testing",
          "max_depth": 5,
          "n_estimator": 3
         },
         {
          "Accuracy": 0.6062277308881527,
          "Type": "testing",
          "max_depth": 5,
          "n_estimator": 5
         },
         {
          "Accuracy": 0.8331841971154369,
          "Type": "testing",
          "max_depth": 5,
          "n_estimator": 10
         },
         {
          "Accuracy": 0.9537105696935955,
          "Type": "testing",
          "max_depth": 5,
          "n_estimator": 20
         },
         {
          "Accuracy": 0.9744306922394835,
          "Type": "testing",
          "max_depth": 5,
          "n_estimator": 30
         },
         {
          "Accuracy": 0.98041501352192,
          "Type": "testing",
          "max_depth": 5,
          "n_estimator": 50
         },
         {
          "Accuracy": 0.9810759431189644,
          "Type": "testing",
          "max_depth": 5,
          "n_estimator": 100
         },
         {
          "Accuracy": 0.1677916450442154,
          "Type": "testing",
          "max_depth": 6,
          "n_estimator": 1
         },
         {
          "Accuracy": 0.3121989542597695,
          "Type": "testing",
          "max_depth": 6,
          "n_estimator": 2
         },
         {
          "Accuracy": 0.43020300546126056,
          "Type": "testing",
          "max_depth": 6,
          "n_estimator": 3
         },
         {
          "Accuracy": 0.605562215199007,
          "Type": "testing",
          "max_depth": 6,
          "n_estimator": 5
         },
         {
          "Accuracy": 0.832304715689137,
          "Type": "testing",
          "max_depth": 6,
          "n_estimator": 10
         },
         {
          "Accuracy": 0.9531233371746473,
          "Type": "testing",
          "max_depth": 6,
          "n_estimator": 20
         },
         {
          "Accuracy": 0.9739401664742254,
          "Type": "testing",
          "max_depth": 6,
          "n_estimator": 30
         },
         {
          "Accuracy": 0.9799432727723126,
          "Type": "testing",
          "max_depth": 6,
          "n_estimator": 50
         },
         {
          "Accuracy": 0.9806132475291571,
          "Type": "testing",
          "max_depth": 6,
          "n_estimator": 100
         },
         {
          "Accuracy": 0.16783489292734055,
          "Type": "testing",
          "max_depth": 7,
          "n_estimator": 1
         },
         {
          "Accuracy": 0.31227907364434215,
          "Type": "testing",
          "max_depth": 7,
          "n_estimator": 2
         },
         {
          "Accuracy": 0.43028392471219806,
          "Type": "testing",
          "max_depth": 7,
          "n_estimator": 3
         },
         {
          "Accuracy": 0.6058073907302906,
          "Type": "testing",
          "max_depth": 7,
          "n_estimator": 5
         },
         {
          "Accuracy": 0.8323772251848263,
          "Type": "testing",
          "max_depth": 7,
          "n_estimator": 10
         },
         {
          "Accuracy": 0.952867570317624,
          "Type": "testing",
          "max_depth": 7,
          "n_estimator": 20
         },
         {
          "Accuracy": 0.9738804420387269,
          "Type": "testing",
          "max_depth": 7,
          "n_estimator": 30
         },
         {
          "Accuracy": 0.9799544076837401,
          "Type": "testing",
          "max_depth": 7,
          "n_estimator": 50
         },
         {
          "Accuracy": 0.9805847717946108,
          "Type": "testing",
          "max_depth": 7,
          "n_estimator": 100
         }
        ]
       },
       "encoding": {
        "color": {
         "field": "Type",
         "type": "nominal"
        },
        "facet": {
         "field": "max_depth",
         "type": "quantitative"
        },
        "x": {
         "field": "n_estimator",
         "type": "quantitative"
        },
        "y": {
         "field": "Accuracy",
         "scale": {
          "domain": [
           0,
           1
          ]
         },
         "type": "quantitative"
        }
       },
       "height": 200,
       "mark": "line",
       "width": 200
      },
      "image/png": "[encoded data removed]",
      "text/plain": [
       "<VegaLite 3 object>\n",
       "\n",
       "If you see this message, it means the renderer has not been properly enabled\n",
       "for the frontend that you are using. For more information, see\n",
       "https://altair-viz.github.io/user_guide/troubleshooting.html\n"
      ]
     },
     "execution_count": 8,
     "metadata": {},
     "output_type": "execute_result"
    }
   ],
   "source": [
    "df_gbr = pd.DataFrame({'training' : train_acc,\n",
    "                      'testing' : test_acc,\n",
    "                      'n_estimator' : trees,\n",
    "                      'max_depth' : depth})\n",
    "df_gbr = df_gbr.melt(id_vars = ['n_estimator', 'max_depth'], var_name = 'Type', value_name = 'Accuracy')\n",
    "df_gbr\n",
    "alt.Chart(df_gbr).mark_line().encode(\n",
    "    alt.X('n_estimator'),\n",
    "    alt.Y('Accuracy', scale=alt.Scale(domain=[0, 1])),\n",
    "    alt.Color('Type'),\n",
    "    alt.Facet('max_depth')\n",
    "    ).properties(width = 200, height = 200, columns = 3)"
   ]
  },
  {
   "cell_type": "code",
   "execution_count": 19,
   "metadata": {},
   "outputs": [],
   "source": [
    "df_results.to_csv('../output/scenario3/results_table.csv')"
   ]
  },
  {
   "cell_type": "code",
   "execution_count": null,
   "metadata": {},
   "outputs": [],
   "source": []
  }
 ],
 "metadata": {
  "kernelspec": {
   "display_name": "Python 3",
   "language": "python",
   "name": "python3"
  },
  "language_info": {
   "codemirror_mode": {
    "name": "ipython",
    "version": 3
   },
   "file_extension": ".py",
   "mimetype": "text/x-python",
   "name": "python",
   "nbconvert_exporter": "python",
   "pygments_lexer": "ipython3",
   "version": "3.7.6"
  }
 },
 "nbformat": 4,
 "nbformat_minor": 4
}
