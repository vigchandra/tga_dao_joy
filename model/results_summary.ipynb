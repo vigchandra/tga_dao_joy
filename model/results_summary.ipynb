{
 "cells": [
  {
   "cell_type": "code",
   "execution_count": 91,
   "metadata": {},
   "outputs": [],
   "source": [
    "import pandas as pd\n",
    "import altair as alt"
   ]
  },
  {
   "cell_type": "code",
   "execution_count": 92,
   "metadata": {},
   "outputs": [],
   "source": [
    "dfr1 = pd.read_csv('../output/scenario1/results_table.csv')\n",
    "dfr2 = pd.read_csv('../output/scenario2/results_table.csv')\n",
    "dfr3 = pd.read_csv('../output/scenario3/results_table.csv')\n",
    "dfr4 = pd.read_csv('../output/scenario4/results_table.csv')\n",
    "dfr5 = pd.read_csv('../output/scenario5/results_table.csv')\n",
    "dfr6 = pd.read_csv('../output/scenario6/results_table.csv')"
   ]
  },
  {
   "cell_type": "code",
   "execution_count": 93,
   "metadata": {},
   "outputs": [],
   "source": [
    "m1 = dfr1.drop(columns = 'Unnamed: 0').melt(id_vars = ['Model', 'Compound'], var_name = 'Accuracy', value_name = 's1')\n",
    "m2 = dfr2.drop(columns = 'Unnamed: 0').melt(id_vars = ['Model', 'Compound'], var_name = 'Accuracy', value_name = 's2')\n",
    "m3 = dfr3.drop(columns = 'Unnamed: 0').melt(id_vars = ['Model', 'Compound'], var_name = 'Accuracy', value_name = 's3')\n",
    "m4 = dfr4.drop(columns = 'Unnamed: 0').melt(id_vars = ['Model', 'Compound'], var_name = 'Accuracy', value_name = 's4')\n",
    "m5 = dfr5.drop(columns = 'Unnamed: 0').melt(id_vars = ['Model', 'Compound'], var_name = 'Accuracy', value_name = 's5')\n",
    "m6 = dfr6.drop(columns = 'Unnamed: 0').melt(id_vars = ['Model', 'Compound'], var_name = 'Accuracy', value_name = 's6')"
   ]
  },
  {
   "cell_type": "markdown",
   "metadata": {},
   "source": [
    "## Prod results visualization"
   ]
  },
  {
   "cell_type": "code",
   "execution_count": 94,
   "metadata": {},
   "outputs": [
    {
     "data": {
      "text/html": [
       "<div>\n",
       "<style scoped>\n",
       "    .dataframe tbody tr th:only-of-type {\n",
       "        vertical-align: middle;\n",
       "    }\n",
       "\n",
       "    .dataframe tbody tr th {\n",
       "        vertical-align: top;\n",
       "    }\n",
       "\n",
       "    .dataframe thead th {\n",
       "        text-align: right;\n",
       "    }\n",
       "</style>\n",
       "<table border=\"1\" class=\"dataframe\">\n",
       "  <thead>\n",
       "    <tr style=\"text-align: right;\">\n",
       "      <th></th>\n",
       "      <th>s1</th>\n",
       "      <th>s3</th>\n",
       "      <th>s5</th>\n",
       "      <th>model</th>\n",
       "      <th>compound</th>\n",
       "      <th>accuracy_type</th>\n",
       "    </tr>\n",
       "  </thead>\n",
       "  <tbody>\n",
       "    <tr>\n",
       "      <th>0</th>\n",
       "      <td>0.974493</td>\n",
       "      <td>0.980370</td>\n",
       "      <td>0.974158</td>\n",
       "      <td>Linear Regression</td>\n",
       "      <td>I05</td>\n",
       "      <td>Train Accuracy</td>\n",
       "    </tr>\n",
       "    <tr>\n",
       "      <th>1</th>\n",
       "      <td>0.923832</td>\n",
       "      <td>0.949234</td>\n",
       "      <td>0.910002</td>\n",
       "      <td>Linear Regression</td>\n",
       "      <td>I1</td>\n",
       "      <td>Train Accuracy</td>\n",
       "    </tr>\n",
       "    <tr>\n",
       "      <th>2</th>\n",
       "      <td>0.921326</td>\n",
       "      <td>0.935379</td>\n",
       "      <td>0.910116</td>\n",
       "      <td>Linear Regression</td>\n",
       "      <td>DAO</td>\n",
       "      <td>Train Accuracy</td>\n",
       "    </tr>\n",
       "    <tr>\n",
       "      <th>3</th>\n",
       "      <td>0.930609</td>\n",
       "      <td>0.930866</td>\n",
       "      <td>0.929933</td>\n",
       "      <td>Partial Least Squares (n=2)</td>\n",
       "      <td>I05</td>\n",
       "      <td>Train Accuracy</td>\n",
       "    </tr>\n",
       "    <tr>\n",
       "      <th>4</th>\n",
       "      <td>0.840126</td>\n",
       "      <td>0.875976</td>\n",
       "      <td>0.818482</td>\n",
       "      <td>Partial Least Squares (n=2)</td>\n",
       "      <td>I1</td>\n",
       "      <td>Train Accuracy</td>\n",
       "    </tr>\n",
       "    <tr>\n",
       "      <th>5</th>\n",
       "      <td>0.873966</td>\n",
       "      <td>0.863247</td>\n",
       "      <td>0.860540</td>\n",
       "      <td>Partial Least Squares (n=2)</td>\n",
       "      <td>DAO</td>\n",
       "      <td>Train Accuracy</td>\n",
       "    </tr>\n",
       "    <tr>\n",
       "      <th>6</th>\n",
       "      <td>0.945850</td>\n",
       "      <td>0.935638</td>\n",
       "      <td>0.937406</td>\n",
       "      <td>Partial Least Squares (n=3)</td>\n",
       "      <td>I05</td>\n",
       "      <td>Train Accuracy</td>\n",
       "    </tr>\n",
       "    <tr>\n",
       "      <th>7</th>\n",
       "      <td>0.888972</td>\n",
       "      <td>0.911052</td>\n",
       "      <td>0.876784</td>\n",
       "      <td>Partial Least Squares (n=3)</td>\n",
       "      <td>I1</td>\n",
       "      <td>Train Accuracy</td>\n",
       "    </tr>\n",
       "    <tr>\n",
       "      <th>8</th>\n",
       "      <td>0.880899</td>\n",
       "      <td>0.900641</td>\n",
       "      <td>0.868185</td>\n",
       "      <td>Partial Least Squares (n=3)</td>\n",
       "      <td>DAO</td>\n",
       "      <td>Train Accuracy</td>\n",
       "    </tr>\n",
       "    <tr>\n",
       "      <th>9</th>\n",
       "      <td>0.983214</td>\n",
       "      <td>0.987050</td>\n",
       "      <td>0.981835</td>\n",
       "      <td>Random Forest Regression (max_depth = 2)</td>\n",
       "      <td>I05</td>\n",
       "      <td>Train Accuracy</td>\n",
       "    </tr>\n",
       "    <tr>\n",
       "      <th>10</th>\n",
       "      <td>0.945350</td>\n",
       "      <td>0.978601</td>\n",
       "      <td>0.953295</td>\n",
       "      <td>Random Forest Regression (max_depth = 2)</td>\n",
       "      <td>I1</td>\n",
       "      <td>Train Accuracy</td>\n",
       "    </tr>\n",
       "    <tr>\n",
       "      <th>11</th>\n",
       "      <td>0.943801</td>\n",
       "      <td>0.977303</td>\n",
       "      <td>0.937048</td>\n",
       "      <td>Random Forest Regression (max_depth = 2)</td>\n",
       "      <td>DAO</td>\n",
       "      <td>Train Accuracy</td>\n",
       "    </tr>\n",
       "    <tr>\n",
       "      <th>12</th>\n",
       "      <td>0.995641</td>\n",
       "      <td>0.999567</td>\n",
       "      <td>0.995206</td>\n",
       "      <td>Random Forest Regression (max_depth = 5)</td>\n",
       "      <td>I05</td>\n",
       "      <td>Train Accuracy</td>\n",
       "    </tr>\n",
       "    <tr>\n",
       "      <th>13</th>\n",
       "      <td>0.989845</td>\n",
       "      <td>0.998888</td>\n",
       "      <td>0.994504</td>\n",
       "      <td>Random Forest Regression (max_depth = 5)</td>\n",
       "      <td>I1</td>\n",
       "      <td>Train Accuracy</td>\n",
       "    </tr>\n",
       "    <tr>\n",
       "      <th>14</th>\n",
       "      <td>0.983406</td>\n",
       "      <td>0.999637</td>\n",
       "      <td>0.983104</td>\n",
       "      <td>Random Forest Regression (max_depth = 5)</td>\n",
       "      <td>DAO</td>\n",
       "      <td>Train Accuracy</td>\n",
       "    </tr>\n",
       "    <tr>\n",
       "      <th>15</th>\n",
       "      <td>0.997099</td>\n",
       "      <td>0.999930</td>\n",
       "      <td>0.996980</td>\n",
       "      <td>Random Forest Regression (max_depth = 7)</td>\n",
       "      <td>I05</td>\n",
       "      <td>Train Accuracy</td>\n",
       "    </tr>\n",
       "    <tr>\n",
       "      <th>16</th>\n",
       "      <td>0.996684</td>\n",
       "      <td>0.999945</td>\n",
       "      <td>0.998444</td>\n",
       "      <td>Random Forest Regression (max_depth = 7)</td>\n",
       "      <td>I1</td>\n",
       "      <td>Train Accuracy</td>\n",
       "    </tr>\n",
       "    <tr>\n",
       "      <th>17</th>\n",
       "      <td>0.991888</td>\n",
       "      <td>0.999974</td>\n",
       "      <td>0.991234</td>\n",
       "      <td>Random Forest Regression (max_depth = 7)</td>\n",
       "      <td>DAO</td>\n",
       "      <td>Train Accuracy</td>\n",
       "    </tr>\n",
       "    <tr>\n",
       "      <th>18</th>\n",
       "      <td>0.999068</td>\n",
       "      <td>0.999998</td>\n",
       "      <td>0.999223</td>\n",
       "      <td>Random Forest Regression (max_depth = 10)</td>\n",
       "      <td>I05</td>\n",
       "      <td>Train Accuracy</td>\n",
       "    </tr>\n",
       "    <tr>\n",
       "      <th>19</th>\n",
       "      <td>0.999322</td>\n",
       "      <td>0.999999</td>\n",
       "      <td>0.999537</td>\n",
       "      <td>Random Forest Regression (max_depth = 10)</td>\n",
       "      <td>I1</td>\n",
       "      <td>Train Accuracy</td>\n",
       "    </tr>\n",
       "    <tr>\n",
       "      <th>20</th>\n",
       "      <td>0.996817</td>\n",
       "      <td>0.999998</td>\n",
       "      <td>0.996670</td>\n",
       "      <td>Random Forest Regression (max_depth = 10)</td>\n",
       "      <td>DAO</td>\n",
       "      <td>Train Accuracy</td>\n",
       "    </tr>\n",
       "    <tr>\n",
       "      <th>21</th>\n",
       "      <td>0.986913</td>\n",
       "      <td>0.983635</td>\n",
       "      <td>0.984217</td>\n",
       "      <td>SVR RBF Kernel</td>\n",
       "      <td>I05</td>\n",
       "      <td>Train Accuracy</td>\n",
       "    </tr>\n",
       "    <tr>\n",
       "      <th>22</th>\n",
       "      <td>0.904973</td>\n",
       "      <td>0.920834</td>\n",
       "      <td>0.873716</td>\n",
       "      <td>SVR RBF Kernel</td>\n",
       "      <td>I1</td>\n",
       "      <td>Train Accuracy</td>\n",
       "    </tr>\n",
       "    <tr>\n",
       "      <th>23</th>\n",
       "      <td>0.912509</td>\n",
       "      <td>0.923110</td>\n",
       "      <td>0.890006</td>\n",
       "      <td>SVR RBF Kernel</td>\n",
       "      <td>DAO</td>\n",
       "      <td>Train Accuracy</td>\n",
       "    </tr>\n",
       "    <tr>\n",
       "      <th>24</th>\n",
       "      <td>0.997567</td>\n",
       "      <td>0.999933</td>\n",
       "      <td>0.997561</td>\n",
       "      <td>Gradient Boost Regressor</td>\n",
       "      <td>I05</td>\n",
       "      <td>Train Accuracy</td>\n",
       "    </tr>\n",
       "    <tr>\n",
       "      <th>25</th>\n",
       "      <td>0.996053</td>\n",
       "      <td>0.999895</td>\n",
       "      <td>0.997980</td>\n",
       "      <td>Gradient Boost Regressor</td>\n",
       "      <td>I1</td>\n",
       "      <td>Train Accuracy</td>\n",
       "    </tr>\n",
       "    <tr>\n",
       "      <th>26</th>\n",
       "      <td>0.994465</td>\n",
       "      <td>0.999955</td>\n",
       "      <td>0.993685</td>\n",
       "      <td>Gradient Boost Regressor</td>\n",
       "      <td>DAO</td>\n",
       "      <td>Train Accuracy</td>\n",
       "    </tr>\n",
       "    <tr>\n",
       "      <th>27</th>\n",
       "      <td>0.974227</td>\n",
       "      <td>0.960363</td>\n",
       "      <td>0.973586</td>\n",
       "      <td>Linear Regression</td>\n",
       "      <td>I05</td>\n",
       "      <td>Test Accuracy</td>\n",
       "    </tr>\n",
       "    <tr>\n",
       "      <th>28</th>\n",
       "      <td>0.922688</td>\n",
       "      <td>0.898807</td>\n",
       "      <td>0.952303</td>\n",
       "      <td>Linear Regression</td>\n",
       "      <td>I1</td>\n",
       "      <td>Test Accuracy</td>\n",
       "    </tr>\n",
       "    <tr>\n",
       "      <th>29</th>\n",
       "      <td>0.921061</td>\n",
       "      <td>0.909768</td>\n",
       "      <td>0.934134</td>\n",
       "      <td>Linear Regression</td>\n",
       "      <td>DAO</td>\n",
       "      <td>Test Accuracy</td>\n",
       "    </tr>\n",
       "    <tr>\n",
       "      <th>30</th>\n",
       "      <td>0.930020</td>\n",
       "      <td>0.916533</td>\n",
       "      <td>0.930002</td>\n",
       "      <td>Partial Least Squares (n=2)</td>\n",
       "      <td>I05</td>\n",
       "      <td>Test Accuracy</td>\n",
       "    </tr>\n",
       "    <tr>\n",
       "      <th>31</th>\n",
       "      <td>0.844902</td>\n",
       "      <td>0.846224</td>\n",
       "      <td>0.791990</td>\n",
       "      <td>Partial Least Squares (n=2)</td>\n",
       "      <td>I1</td>\n",
       "      <td>Test Accuracy</td>\n",
       "    </tr>\n",
       "    <tr>\n",
       "      <th>32</th>\n",
       "      <td>0.873322</td>\n",
       "      <td>0.802622</td>\n",
       "      <td>0.893599</td>\n",
       "      <td>Partial Least Squares (n=2)</td>\n",
       "      <td>DAO</td>\n",
       "      <td>Test Accuracy</td>\n",
       "    </tr>\n",
       "    <tr>\n",
       "      <th>33</th>\n",
       "      <td>0.946298</td>\n",
       "      <td>0.921121</td>\n",
       "      <td>0.941198</td>\n",
       "      <td>Partial Least Squares (n=3)</td>\n",
       "      <td>I05</td>\n",
       "      <td>Test Accuracy</td>\n",
       "    </tr>\n",
       "    <tr>\n",
       "      <th>34</th>\n",
       "      <td>0.888496</td>\n",
       "      <td>0.873614</td>\n",
       "      <td>0.914750</td>\n",
       "      <td>Partial Least Squares (n=3)</td>\n",
       "      <td>I1</td>\n",
       "      <td>Test Accuracy</td>\n",
       "    </tr>\n",
       "    <tr>\n",
       "      <th>35</th>\n",
       "      <td>0.879440</td>\n",
       "      <td>0.864510</td>\n",
       "      <td>0.896427</td>\n",
       "      <td>Partial Least Squares (n=3)</td>\n",
       "      <td>DAO</td>\n",
       "      <td>Test Accuracy</td>\n",
       "    </tr>\n",
       "    <tr>\n",
       "      <th>36</th>\n",
       "      <td>0.982906</td>\n",
       "      <td>0.970730</td>\n",
       "      <td>0.985314</td>\n",
       "      <td>Random Forest Regression (max_depth = 2)</td>\n",
       "      <td>I05</td>\n",
       "      <td>Test Accuracy</td>\n",
       "    </tr>\n",
       "    <tr>\n",
       "      <th>37</th>\n",
       "      <td>0.944503</td>\n",
       "      <td>0.856747</td>\n",
       "      <td>0.896152</td>\n",
       "      <td>Random Forest Regression (max_depth = 2)</td>\n",
       "      <td>I1</td>\n",
       "      <td>Test Accuracy</td>\n",
       "    </tr>\n",
       "    <tr>\n",
       "      <th>38</th>\n",
       "      <td>0.942820</td>\n",
       "      <td>0.834441</td>\n",
       "      <td>0.946052</td>\n",
       "      <td>Random Forest Regression (max_depth = 2)</td>\n",
       "      <td>DAO</td>\n",
       "      <td>Test Accuracy</td>\n",
       "    </tr>\n",
       "    <tr>\n",
       "      <th>39</th>\n",
       "      <td>0.995418</td>\n",
       "      <td>0.980439</td>\n",
       "      <td>0.993747</td>\n",
       "      <td>Random Forest Regression (max_depth = 5)</td>\n",
       "      <td>I05</td>\n",
       "      <td>Test Accuracy</td>\n",
       "    </tr>\n",
       "    <tr>\n",
       "      <th>40</th>\n",
       "      <td>0.989679</td>\n",
       "      <td>0.926232</td>\n",
       "      <td>0.939842</td>\n",
       "      <td>Random Forest Regression (max_depth = 5)</td>\n",
       "      <td>I1</td>\n",
       "      <td>Test Accuracy</td>\n",
       "    </tr>\n",
       "    <tr>\n",
       "      <th>41</th>\n",
       "      <td>0.983209</td>\n",
       "      <td>0.842602</td>\n",
       "      <td>0.965044</td>\n",
       "      <td>Random Forest Regression (max_depth = 5)</td>\n",
       "      <td>DAO</td>\n",
       "      <td>Test Accuracy</td>\n",
       "    </tr>\n",
       "    <tr>\n",
       "      <th>42</th>\n",
       "      <td>0.996906</td>\n",
       "      <td>0.980755</td>\n",
       "      <td>0.992936</td>\n",
       "      <td>Random Forest Regression (max_depth = 7)</td>\n",
       "      <td>I05</td>\n",
       "      <td>Test Accuracy</td>\n",
       "    </tr>\n",
       "    <tr>\n",
       "      <th>43</th>\n",
       "      <td>0.996523</td>\n",
       "      <td>0.935272</td>\n",
       "      <td>0.933851</td>\n",
       "      <td>Random Forest Regression (max_depth = 7)</td>\n",
       "      <td>I1</td>\n",
       "      <td>Test Accuracy</td>\n",
       "    </tr>\n",
       "    <tr>\n",
       "      <th>44</th>\n",
       "      <td>0.991711</td>\n",
       "      <td>0.842649</td>\n",
       "      <td>0.974265</td>\n",
       "      <td>Random Forest Regression (max_depth = 7)</td>\n",
       "      <td>DAO</td>\n",
       "      <td>Test Accuracy</td>\n",
       "    </tr>\n",
       "    <tr>\n",
       "      <th>45</th>\n",
       "      <td>0.998856</td>\n",
       "      <td>0.980671</td>\n",
       "      <td>0.990333</td>\n",
       "      <td>Random Forest Regression (max_depth = 10)</td>\n",
       "      <td>I05</td>\n",
       "      <td>Test Accuracy</td>\n",
       "    </tr>\n",
       "    <tr>\n",
       "      <th>46</th>\n",
       "      <td>0.999039</td>\n",
       "      <td>0.937096</td>\n",
       "      <td>0.940412</td>\n",
       "      <td>Random Forest Regression (max_depth = 10)</td>\n",
       "      <td>I1</td>\n",
       "      <td>Test Accuracy</td>\n",
       "    </tr>\n",
       "    <tr>\n",
       "      <th>47</th>\n",
       "      <td>0.996872</td>\n",
       "      <td>0.843136</td>\n",
       "      <td>0.974974</td>\n",
       "      <td>Random Forest Regression (max_depth = 10)</td>\n",
       "      <td>DAO</td>\n",
       "      <td>Test Accuracy</td>\n",
       "    </tr>\n",
       "    <tr>\n",
       "      <th>48</th>\n",
       "      <td>0.986719</td>\n",
       "      <td>0.966548</td>\n",
       "      <td>0.987389</td>\n",
       "      <td>SVR RBF Kernel</td>\n",
       "      <td>I05</td>\n",
       "      <td>Test Accuracy</td>\n",
       "    </tr>\n",
       "    <tr>\n",
       "      <th>49</th>\n",
       "      <td>0.901034</td>\n",
       "      <td>0.876824</td>\n",
       "      <td>0.967371</td>\n",
       "      <td>SVR RBF Kernel</td>\n",
       "      <td>I1</td>\n",
       "      <td>Test Accuracy</td>\n",
       "    </tr>\n",
       "    <tr>\n",
       "      <th>50</th>\n",
       "      <td>0.911180</td>\n",
       "      <td>0.888868</td>\n",
       "      <td>0.934517</td>\n",
       "      <td>SVR RBF Kernel</td>\n",
       "      <td>DAO</td>\n",
       "      <td>Test Accuracy</td>\n",
       "    </tr>\n",
       "    <tr>\n",
       "      <th>51</th>\n",
       "      <td>0.997397</td>\n",
       "      <td>0.980805</td>\n",
       "      <td>0.995261</td>\n",
       "      <td>Gradient Boost Regressor</td>\n",
       "      <td>I05</td>\n",
       "      <td>Test Accuracy</td>\n",
       "    </tr>\n",
       "    <tr>\n",
       "      <th>52</th>\n",
       "      <td>0.996081</td>\n",
       "      <td>0.941559</td>\n",
       "      <td>0.951425</td>\n",
       "      <td>Gradient Boost Regressor</td>\n",
       "      <td>I1</td>\n",
       "      <td>Test Accuracy</td>\n",
       "    </tr>\n",
       "    <tr>\n",
       "      <th>53</th>\n",
       "      <td>0.994648</td>\n",
       "      <td>0.852195</td>\n",
       "      <td>0.972799</td>\n",
       "      <td>Gradient Boost Regressor</td>\n",
       "      <td>DAO</td>\n",
       "      <td>Test Accuracy</td>\n",
       "    </tr>\n",
       "  </tbody>\n",
       "</table>\n",
       "</div>"
      ],
      "text/plain": [
       "          s1        s3        s5                                      model  \\\n",
       "0   0.974493  0.980370  0.974158                          Linear Regression   \n",
       "1   0.923832  0.949234  0.910002                          Linear Regression   \n",
       "2   0.921326  0.935379  0.910116                          Linear Regression   \n",
       "3   0.930609  0.930866  0.929933                Partial Least Squares (n=2)   \n",
       "4   0.840126  0.875976  0.818482                Partial Least Squares (n=2)   \n",
       "5   0.873966  0.863247  0.860540                Partial Least Squares (n=2)   \n",
       "6   0.945850  0.935638  0.937406                Partial Least Squares (n=3)   \n",
       "7   0.888972  0.911052  0.876784                Partial Least Squares (n=3)   \n",
       "8   0.880899  0.900641  0.868185                Partial Least Squares (n=3)   \n",
       "9   0.983214  0.987050  0.981835   Random Forest Regression (max_depth = 2)   \n",
       "10  0.945350  0.978601  0.953295   Random Forest Regression (max_depth = 2)   \n",
       "11  0.943801  0.977303  0.937048   Random Forest Regression (max_depth = 2)   \n",
       "12  0.995641  0.999567  0.995206   Random Forest Regression (max_depth = 5)   \n",
       "13  0.989845  0.998888  0.994504   Random Forest Regression (max_depth = 5)   \n",
       "14  0.983406  0.999637  0.983104   Random Forest Regression (max_depth = 5)   \n",
       "15  0.997099  0.999930  0.996980   Random Forest Regression (max_depth = 7)   \n",
       "16  0.996684  0.999945  0.998444   Random Forest Regression (max_depth = 7)   \n",
       "17  0.991888  0.999974  0.991234   Random Forest Regression (max_depth = 7)   \n",
       "18  0.999068  0.999998  0.999223  Random Forest Regression (max_depth = 10)   \n",
       "19  0.999322  0.999999  0.999537  Random Forest Regression (max_depth = 10)   \n",
       "20  0.996817  0.999998  0.996670  Random Forest Regression (max_depth = 10)   \n",
       "21  0.986913  0.983635  0.984217                             SVR RBF Kernel   \n",
       "22  0.904973  0.920834  0.873716                             SVR RBF Kernel   \n",
       "23  0.912509  0.923110  0.890006                             SVR RBF Kernel   \n",
       "24  0.997567  0.999933  0.997561                   Gradient Boost Regressor   \n",
       "25  0.996053  0.999895  0.997980                   Gradient Boost Regressor   \n",
       "26  0.994465  0.999955  0.993685                   Gradient Boost Regressor   \n",
       "27  0.974227  0.960363  0.973586                          Linear Regression   \n",
       "28  0.922688  0.898807  0.952303                          Linear Regression   \n",
       "29  0.921061  0.909768  0.934134                          Linear Regression   \n",
       "30  0.930020  0.916533  0.930002                Partial Least Squares (n=2)   \n",
       "31  0.844902  0.846224  0.791990                Partial Least Squares (n=2)   \n",
       "32  0.873322  0.802622  0.893599                Partial Least Squares (n=2)   \n",
       "33  0.946298  0.921121  0.941198                Partial Least Squares (n=3)   \n",
       "34  0.888496  0.873614  0.914750                Partial Least Squares (n=3)   \n",
       "35  0.879440  0.864510  0.896427                Partial Least Squares (n=3)   \n",
       "36  0.982906  0.970730  0.985314   Random Forest Regression (max_depth = 2)   \n",
       "37  0.944503  0.856747  0.896152   Random Forest Regression (max_depth = 2)   \n",
       "38  0.942820  0.834441  0.946052   Random Forest Regression (max_depth = 2)   \n",
       "39  0.995418  0.980439  0.993747   Random Forest Regression (max_depth = 5)   \n",
       "40  0.989679  0.926232  0.939842   Random Forest Regression (max_depth = 5)   \n",
       "41  0.983209  0.842602  0.965044   Random Forest Regression (max_depth = 5)   \n",
       "42  0.996906  0.980755  0.992936   Random Forest Regression (max_depth = 7)   \n",
       "43  0.996523  0.935272  0.933851   Random Forest Regression (max_depth = 7)   \n",
       "44  0.991711  0.842649  0.974265   Random Forest Regression (max_depth = 7)   \n",
       "45  0.998856  0.980671  0.990333  Random Forest Regression (max_depth = 10)   \n",
       "46  0.999039  0.937096  0.940412  Random Forest Regression (max_depth = 10)   \n",
       "47  0.996872  0.843136  0.974974  Random Forest Regression (max_depth = 10)   \n",
       "48  0.986719  0.966548  0.987389                             SVR RBF Kernel   \n",
       "49  0.901034  0.876824  0.967371                             SVR RBF Kernel   \n",
       "50  0.911180  0.888868  0.934517                             SVR RBF Kernel   \n",
       "51  0.997397  0.980805  0.995261                   Gradient Boost Regressor   \n",
       "52  0.996081  0.941559  0.951425                   Gradient Boost Regressor   \n",
       "53  0.994648  0.852195  0.972799                   Gradient Boost Regressor   \n",
       "\n",
       "   compound   accuracy_type  \n",
       "0       I05  Train Accuracy  \n",
       "1        I1  Train Accuracy  \n",
       "2       DAO  Train Accuracy  \n",
       "3       I05  Train Accuracy  \n",
       "4        I1  Train Accuracy  \n",
       "5       DAO  Train Accuracy  \n",
       "6       I05  Train Accuracy  \n",
       "7        I1  Train Accuracy  \n",
       "8       DAO  Train Accuracy  \n",
       "9       I05  Train Accuracy  \n",
       "10       I1  Train Accuracy  \n",
       "11      DAO  Train Accuracy  \n",
       "12      I05  Train Accuracy  \n",
       "13       I1  Train Accuracy  \n",
       "14      DAO  Train Accuracy  \n",
       "15      I05  Train Accuracy  \n",
       "16       I1  Train Accuracy  \n",
       "17      DAO  Train Accuracy  \n",
       "18      I05  Train Accuracy  \n",
       "19       I1  Train Accuracy  \n",
       "20      DAO  Train Accuracy  \n",
       "21      I05  Train Accuracy  \n",
       "22       I1  Train Accuracy  \n",
       "23      DAO  Train Accuracy  \n",
       "24      I05  Train Accuracy  \n",
       "25       I1  Train Accuracy  \n",
       "26      DAO  Train Accuracy  \n",
       "27      I05   Test Accuracy  \n",
       "28       I1   Test Accuracy  \n",
       "29      DAO   Test Accuracy  \n",
       "30      I05   Test Accuracy  \n",
       "31       I1   Test Accuracy  \n",
       "32      DAO   Test Accuracy  \n",
       "33      I05   Test Accuracy  \n",
       "34       I1   Test Accuracy  \n",
       "35      DAO   Test Accuracy  \n",
       "36      I05   Test Accuracy  \n",
       "37       I1   Test Accuracy  \n",
       "38      DAO   Test Accuracy  \n",
       "39      I05   Test Accuracy  \n",
       "40       I1   Test Accuracy  \n",
       "41      DAO   Test Accuracy  \n",
       "42      I05   Test Accuracy  \n",
       "43       I1   Test Accuracy  \n",
       "44      DAO   Test Accuracy  \n",
       "45      I05   Test Accuracy  \n",
       "46       I1   Test Accuracy  \n",
       "47      DAO   Test Accuracy  \n",
       "48      I05   Test Accuracy  \n",
       "49       I1   Test Accuracy  \n",
       "50      DAO   Test Accuracy  \n",
       "51      I05   Test Accuracy  \n",
       "52       I1   Test Accuracy  \n",
       "53      DAO   Test Accuracy  "
      ]
     },
     "execution_count": 94,
     "metadata": {},
     "output_type": "execute_result"
    }
   ],
   "source": [
    "df_prod = pd.concat([m1,m3,m5], axis = 1)\n",
    "df_prod['model'] = m1['Model']\n",
    "df_prod['compound'] = m1['Compound']\n",
    "df_prod['accuracy_type'] = m1['Accuracy']\n",
    "df_prod = df_prod.drop(columns = ['Model', 'Compound', 'Accuracy'])\n",
    "df_prod"
   ]
  },
  {
   "cell_type": "code",
   "execution_count": 95,
   "metadata": {},
   "outputs": [
    {
     "data": {
      "text/html": [
       "<div>\n",
       "<style scoped>\n",
       "    .dataframe tbody tr th:only-of-type {\n",
       "        vertical-align: middle;\n",
       "    }\n",
       "\n",
       "    .dataframe tbody tr th {\n",
       "        vertical-align: top;\n",
       "    }\n",
       "\n",
       "    .dataframe thead th {\n",
       "        text-align: right;\n",
       "    }\n",
       "</style>\n",
       "<table border=\"1\" class=\"dataframe\">\n",
       "  <thead>\n",
       "    <tr style=\"text-align: right;\">\n",
       "      <th></th>\n",
       "      <th>model</th>\n",
       "      <th>compound</th>\n",
       "      <th>accuracy_type</th>\n",
       "      <th>scenario</th>\n",
       "      <th>accuracy_val</th>\n",
       "    </tr>\n",
       "  </thead>\n",
       "  <tbody>\n",
       "    <tr>\n",
       "      <th>0</th>\n",
       "      <td>Linear Regression</td>\n",
       "      <td>I05</td>\n",
       "      <td>Train Accuracy</td>\n",
       "      <td>s1</td>\n",
       "      <td>0.974493</td>\n",
       "    </tr>\n",
       "    <tr>\n",
       "      <th>1</th>\n",
       "      <td>Linear Regression</td>\n",
       "      <td>I1</td>\n",
       "      <td>Train Accuracy</td>\n",
       "      <td>s1</td>\n",
       "      <td>0.923832</td>\n",
       "    </tr>\n",
       "    <tr>\n",
       "      <th>2</th>\n",
       "      <td>Linear Regression</td>\n",
       "      <td>DAO</td>\n",
       "      <td>Train Accuracy</td>\n",
       "      <td>s1</td>\n",
       "      <td>0.921326</td>\n",
       "    </tr>\n",
       "    <tr>\n",
       "      <th>3</th>\n",
       "      <td>Partial Least Squares (n=2)</td>\n",
       "      <td>I05</td>\n",
       "      <td>Train Accuracy</td>\n",
       "      <td>s1</td>\n",
       "      <td>0.930609</td>\n",
       "    </tr>\n",
       "    <tr>\n",
       "      <th>4</th>\n",
       "      <td>Partial Least Squares (n=2)</td>\n",
       "      <td>I1</td>\n",
       "      <td>Train Accuracy</td>\n",
       "      <td>s1</td>\n",
       "      <td>0.840126</td>\n",
       "    </tr>\n",
       "    <tr>\n",
       "      <th>...</th>\n",
       "      <td>...</td>\n",
       "      <td>...</td>\n",
       "      <td>...</td>\n",
       "      <td>...</td>\n",
       "      <td>...</td>\n",
       "    </tr>\n",
       "    <tr>\n",
       "      <th>157</th>\n",
       "      <td>SVR RBF Kernel</td>\n",
       "      <td>I1</td>\n",
       "      <td>Test Accuracy</td>\n",
       "      <td>s5</td>\n",
       "      <td>0.967371</td>\n",
       "    </tr>\n",
       "    <tr>\n",
       "      <th>158</th>\n",
       "      <td>SVR RBF Kernel</td>\n",
       "      <td>DAO</td>\n",
       "      <td>Test Accuracy</td>\n",
       "      <td>s5</td>\n",
       "      <td>0.934517</td>\n",
       "    </tr>\n",
       "    <tr>\n",
       "      <th>159</th>\n",
       "      <td>Gradient Boost Regressor</td>\n",
       "      <td>I05</td>\n",
       "      <td>Test Accuracy</td>\n",
       "      <td>s5</td>\n",
       "      <td>0.995261</td>\n",
       "    </tr>\n",
       "    <tr>\n",
       "      <th>160</th>\n",
       "      <td>Gradient Boost Regressor</td>\n",
       "      <td>I1</td>\n",
       "      <td>Test Accuracy</td>\n",
       "      <td>s5</td>\n",
       "      <td>0.951425</td>\n",
       "    </tr>\n",
       "    <tr>\n",
       "      <th>161</th>\n",
       "      <td>Gradient Boost Regressor</td>\n",
       "      <td>DAO</td>\n",
       "      <td>Test Accuracy</td>\n",
       "      <td>s5</td>\n",
       "      <td>0.972799</td>\n",
       "    </tr>\n",
       "  </tbody>\n",
       "</table>\n",
       "<p>162 rows × 5 columns</p>\n",
       "</div>"
      ],
      "text/plain": [
       "                           model compound   accuracy_type scenario  \\\n",
       "0              Linear Regression      I05  Train Accuracy       s1   \n",
       "1              Linear Regression       I1  Train Accuracy       s1   \n",
       "2              Linear Regression      DAO  Train Accuracy       s1   \n",
       "3    Partial Least Squares (n=2)      I05  Train Accuracy       s1   \n",
       "4    Partial Least Squares (n=2)       I1  Train Accuracy       s1   \n",
       "..                           ...      ...             ...      ...   \n",
       "157               SVR RBF Kernel       I1   Test Accuracy       s5   \n",
       "158               SVR RBF Kernel      DAO   Test Accuracy       s5   \n",
       "159     Gradient Boost Regressor      I05   Test Accuracy       s5   \n",
       "160     Gradient Boost Regressor       I1   Test Accuracy       s5   \n",
       "161     Gradient Boost Regressor      DAO   Test Accuracy       s5   \n",
       "\n",
       "     accuracy_val  \n",
       "0        0.974493  \n",
       "1        0.923832  \n",
       "2        0.921326  \n",
       "3        0.930609  \n",
       "4        0.840126  \n",
       "..            ...  \n",
       "157      0.967371  \n",
       "158      0.934517  \n",
       "159      0.995261  \n",
       "160      0.951425  \n",
       "161      0.972799  \n",
       "\n",
       "[162 rows x 5 columns]"
      ]
     },
     "execution_count": 95,
     "metadata": {},
     "output_type": "execute_result"
    }
   ],
   "source": [
    "df_prod = df_prod.melt(id_vars = ['model', 'compound', 'accuracy_type'], var_name = 'scenario', value_name = 'accuracy_val')\n",
    "df_prod"
   ]
  },
  {
   "cell_type": "code",
   "execution_count": 107,
   "metadata": {},
   "outputs": [
    {
     "data": {
      "application/vnd.vegalite.v3+json": {
       "$schema": "https://vega.github.io/schema/vega-lite/v3.4.0.json",
       "config": {
        "mark": {
         "tooltip": null
        },
        "view": {
         "height": 300,
         "width": 400
        }
       },
       "data": {
        "name": "data-008a74a00925eaf6bd1b4c67894a65c9"
       },
       "datasets": {
        "data-008a74a00925eaf6bd1b4c67894a65c9": [
         {
          "accuracy_type": "Train Accuracy",
          "accuracy_val": 0.974492564330456,
          "compound": "I05",
          "model": "Linear Regression",
          "scenario": "s1"
         },
         {
          "accuracy_type": "Train Accuracy",
          "accuracy_val": 0.9238318696057964,
          "compound": "I1",
          "model": "Linear Regression",
          "scenario": "s1"
         },
         {
          "accuracy_type": "Train Accuracy",
          "accuracy_val": 0.9213258292476312,
          "compound": "DAO",
          "model": "Linear Regression",
          "scenario": "s1"
         },
         {
          "accuracy_type": "Train Accuracy",
          "accuracy_val": 0.9306094690878944,
          "compound": "I05",
          "model": "Partial Least Squares (n=2)",
          "scenario": "s1"
         },
         {
          "accuracy_type": "Train Accuracy",
          "accuracy_val": 0.8401264414769208,
          "compound": "I1",
          "model": "Partial Least Squares (n=2)",
          "scenario": "s1"
         },
         {
          "accuracy_type": "Train Accuracy",
          "accuracy_val": 0.8739661723333536,
          "compound": "DAO",
          "model": "Partial Least Squares (n=2)",
          "scenario": "s1"
         },
         {
          "accuracy_type": "Train Accuracy",
          "accuracy_val": 0.945850237493486,
          "compound": "I05",
          "model": "Partial Least Squares (n=3)",
          "scenario": "s1"
         },
         {
          "accuracy_type": "Train Accuracy",
          "accuracy_val": 0.8889716874522685,
          "compound": "I1",
          "model": "Partial Least Squares (n=3)",
          "scenario": "s1"
         },
         {
          "accuracy_type": "Train Accuracy",
          "accuracy_val": 0.8808986677754329,
          "compound": "DAO",
          "model": "Partial Least Squares (n=3)",
          "scenario": "s1"
         },
         {
          "accuracy_type": "Train Accuracy",
          "accuracy_val": 0.9832136678728955,
          "compound": "I05",
          "model": "Random Forest Regression (max_depth = 2)",
          "scenario": "s1"
         },
         {
          "accuracy_type": "Train Accuracy",
          "accuracy_val": 0.9453495114603192,
          "compound": "I1",
          "model": "Random Forest Regression (max_depth = 2)",
          "scenario": "s1"
         },
         {
          "accuracy_type": "Train Accuracy",
          "accuracy_val": 0.9438009245382104,
          "compound": "DAO",
          "model": "Random Forest Regression (max_depth = 2)",
          "scenario": "s1"
         },
         {
          "accuracy_type": "Train Accuracy",
          "accuracy_val": 0.9956407159757656,
          "compound": "I05",
          "model": "Random Forest Regression (max_depth = 5)",
          "scenario": "s1"
         },
         {
          "accuracy_type": "Train Accuracy",
          "accuracy_val": 0.9898450070455634,
          "compound": "I1",
          "model": "Random Forest Regression (max_depth = 5)",
          "scenario": "s1"
         },
         {
          "accuracy_type": "Train Accuracy",
          "accuracy_val": 0.9834061855274688,
          "compound": "DAO",
          "model": "Random Forest Regression (max_depth = 5)",
          "scenario": "s1"
         },
         {
          "accuracy_type": "Train Accuracy",
          "accuracy_val": 0.9970990936071876,
          "compound": "I05",
          "model": "Random Forest Regression (max_depth = 7)",
          "scenario": "s1"
         },
         {
          "accuracy_type": "Train Accuracy",
          "accuracy_val": 0.9966838617124372,
          "compound": "I1",
          "model": "Random Forest Regression (max_depth = 7)",
          "scenario": "s1"
         },
         {
          "accuracy_type": "Train Accuracy",
          "accuracy_val": 0.99188800832589,
          "compound": "DAO",
          "model": "Random Forest Regression (max_depth = 7)",
          "scenario": "s1"
         },
         {
          "accuracy_type": "Train Accuracy",
          "accuracy_val": 0.9990680695525512,
          "compound": "I05",
          "model": "Random Forest Regression (max_depth = 10)",
          "scenario": "s1"
         },
         {
          "accuracy_type": "Train Accuracy",
          "accuracy_val": 0.9993221554653484,
          "compound": "I1",
          "model": "Random Forest Regression (max_depth = 10)",
          "scenario": "s1"
         },
         {
          "accuracy_type": "Train Accuracy",
          "accuracy_val": 0.9968171688542854,
          "compound": "DAO",
          "model": "Random Forest Regression (max_depth = 10)",
          "scenario": "s1"
         },
         {
          "accuracy_type": "Train Accuracy",
          "accuracy_val": 0.986913473926744,
          "compound": "I05",
          "model": "SVR RBF Kernel",
          "scenario": "s1"
         },
         {
          "accuracy_type": "Train Accuracy",
          "accuracy_val": 0.90497290253939,
          "compound": "I1",
          "model": "SVR RBF Kernel",
          "scenario": "s1"
         },
         {
          "accuracy_type": "Train Accuracy",
          "accuracy_val": 0.9125092365295501,
          "compound": "DAO",
          "model": "SVR RBF Kernel",
          "scenario": "s1"
         },
         {
          "accuracy_type": "Train Accuracy",
          "accuracy_val": 0.9975674173905842,
          "compound": "I05",
          "model": "Gradient Boost Regressor",
          "scenario": "s1"
         },
         {
          "accuracy_type": "Train Accuracy",
          "accuracy_val": 0.9960526616928096,
          "compound": "I1",
          "model": "Gradient Boost Regressor",
          "scenario": "s1"
         },
         {
          "accuracy_type": "Train Accuracy",
          "accuracy_val": 0.9944650050156899,
          "compound": "DAO",
          "model": "Gradient Boost Regressor",
          "scenario": "s1"
         },
         {
          "accuracy_type": "Test Accuracy",
          "accuracy_val": 0.9742267992794332,
          "compound": "I05",
          "model": "Linear Regression",
          "scenario": "s1"
         },
         {
          "accuracy_type": "Test Accuracy",
          "accuracy_val": 0.9226880056933088,
          "compound": "I1",
          "model": "Linear Regression",
          "scenario": "s1"
         },
         {
          "accuracy_type": "Test Accuracy",
          "accuracy_val": 0.9210605802258272,
          "compound": "DAO",
          "model": "Linear Regression",
          "scenario": "s1"
         },
         {
          "accuracy_type": "Test Accuracy",
          "accuracy_val": 0.9300204157066848,
          "compound": "I05",
          "model": "Partial Least Squares (n=2)",
          "scenario": "s1"
         },
         {
          "accuracy_type": "Test Accuracy",
          "accuracy_val": 0.8449019091632566,
          "compound": "I1",
          "model": "Partial Least Squares (n=2)",
          "scenario": "s1"
         },
         {
          "accuracy_type": "Test Accuracy",
          "accuracy_val": 0.8733223557909786,
          "compound": "DAO",
          "model": "Partial Least Squares (n=2)",
          "scenario": "s1"
         },
         {
          "accuracy_type": "Test Accuracy",
          "accuracy_val": 0.9462982416698216,
          "compound": "I05",
          "model": "Partial Least Squares (n=3)",
          "scenario": "s1"
         },
         {
          "accuracy_type": "Test Accuracy",
          "accuracy_val": 0.8884964505912523,
          "compound": "I1",
          "model": "Partial Least Squares (n=3)",
          "scenario": "s1"
         },
         {
          "accuracy_type": "Test Accuracy",
          "accuracy_val": 0.8794395762037411,
          "compound": "DAO",
          "model": "Partial Least Squares (n=3)",
          "scenario": "s1"
         },
         {
          "accuracy_type": "Test Accuracy",
          "accuracy_val": 0.9829063861188712,
          "compound": "I05",
          "model": "Random Forest Regression (max_depth = 2)",
          "scenario": "s1"
         },
         {
          "accuracy_type": "Test Accuracy",
          "accuracy_val": 0.9445032112642636,
          "compound": "I1",
          "model": "Random Forest Regression (max_depth = 2)",
          "scenario": "s1"
         },
         {
          "accuracy_type": "Test Accuracy",
          "accuracy_val": 0.9428196581991692,
          "compound": "DAO",
          "model": "Random Forest Regression (max_depth = 2)",
          "scenario": "s1"
         },
         {
          "accuracy_type": "Test Accuracy",
          "accuracy_val": 0.9954179379844236,
          "compound": "I05",
          "model": "Random Forest Regression (max_depth = 5)",
          "scenario": "s1"
         },
         {
          "accuracy_type": "Test Accuracy",
          "accuracy_val": 0.9896787550999444,
          "compound": "I1",
          "model": "Random Forest Regression (max_depth = 5)",
          "scenario": "s1"
         },
         {
          "accuracy_type": "Test Accuracy",
          "accuracy_val": 0.9832094864499784,
          "compound": "DAO",
          "model": "Random Forest Regression (max_depth = 5)",
          "scenario": "s1"
         },
         {
          "accuracy_type": "Test Accuracy",
          "accuracy_val": 0.9969064067794904,
          "compound": "I05",
          "model": "Random Forest Regression (max_depth = 7)",
          "scenario": "s1"
         },
         {
          "accuracy_type": "Test Accuracy",
          "accuracy_val": 0.9965229416226616,
          "compound": "I1",
          "model": "Random Forest Regression (max_depth = 7)",
          "scenario": "s1"
         },
         {
          "accuracy_type": "Test Accuracy",
          "accuracy_val": 0.9917110599632152,
          "compound": "DAO",
          "model": "Random Forest Regression (max_depth = 7)",
          "scenario": "s1"
         },
         {
          "accuracy_type": "Test Accuracy",
          "accuracy_val": 0.9988564450114809,
          "compound": "I05",
          "model": "Random Forest Regression (max_depth = 10)",
          "scenario": "s1"
         },
         {
          "accuracy_type": "Test Accuracy",
          "accuracy_val": 0.9990386637866072,
          "compound": "I1",
          "model": "Random Forest Regression (max_depth = 10)",
          "scenario": "s1"
         },
         {
          "accuracy_type": "Test Accuracy",
          "accuracy_val": 0.9968716067711272,
          "compound": "DAO",
          "model": "Random Forest Regression (max_depth = 10)",
          "scenario": "s1"
         },
         {
          "accuracy_type": "Test Accuracy",
          "accuracy_val": 0.9867191015699645,
          "compound": "I05",
          "model": "SVR RBF Kernel",
          "scenario": "s1"
         },
         {
          "accuracy_type": "Test Accuracy",
          "accuracy_val": 0.9010343504492072,
          "compound": "I1",
          "model": "SVR RBF Kernel",
          "scenario": "s1"
         },
         {
          "accuracy_type": "Test Accuracy",
          "accuracy_val": 0.9111800040508268,
          "compound": "DAO",
          "model": "SVR RBF Kernel",
          "scenario": "s1"
         },
         {
          "accuracy_type": "Test Accuracy",
          "accuracy_val": 0.9973974550660294,
          "compound": "I05",
          "model": "Gradient Boost Regressor",
          "scenario": "s1"
         },
         {
          "accuracy_type": "Test Accuracy",
          "accuracy_val": 0.9960807658989932,
          "compound": "I1",
          "model": "Gradient Boost Regressor",
          "scenario": "s1"
         },
         {
          "accuracy_type": "Test Accuracy",
          "accuracy_val": 0.9946478324064552,
          "compound": "DAO",
          "model": "Gradient Boost Regressor",
          "scenario": "s1"
         }
        ]
       },
       "encoding": {
        "color": {
         "field": "accuracy_type",
         "type": "ordinal"
        },
        "facet": {
         "field": "compound",
         "type": "nominal"
        },
        "x": {
         "field": "model",
         "type": "nominal"
        },
        "y": {
         "field": "accuracy_val",
         "scale": {
          "domain": [
           0.85,
           1
          ]
         },
         "stack": false,
         "type": "quantitative"
        }
       },
       "mark": "bar",
       "title": "Scenario 1",
       "width": 400
      },
      "image/png": "[encoded data removed]",
      "text/plain": [
       "<VegaLite 3 object>\n",
       "\n",
       "If you see this message, it means the renderer has not been properly enabled\n",
       "for the frontend that you are using. For more information, see\n",
       "https://altair-viz.github.io/user_guide/troubleshooting.html\n"
      ]
     },
     "execution_count": 107,
     "metadata": {},
     "output_type": "execute_result"
    }
   ],
   "source": [
    "alt.Chart(df_prod.query('scenario == \"s1\"')).mark_bar().encode(\n",
    "    alt.X('model'),\n",
    "    alt.Y('accuracy_val', stack = False, scale = alt.Scale(domain = [0.85,1])),\n",
    "    alt.Color('accuracy_type:O'),\n",
    "    alt.Facet('compound')\n",
    "    ).properties(width = 400).properties(title = 'Scenario 1')"
   ]
  },
  {
   "cell_type": "code",
   "execution_count": 110,
   "metadata": {},
   "outputs": [
    {
     "data": {
      "application/vnd.vegalite.v3+json": {
       "$schema": "https://vega.github.io/schema/vega-lite/v3.4.0.json",
       "config": {
        "mark": {
         "tooltip": null
        },
        "view": {
         "height": 300,
         "width": 400
        }
       },
       "data": {
        "name": "data-559a356ffe432bfcc3e2b968671be7d3"
       },
       "datasets": {
        "data-559a356ffe432bfcc3e2b968671be7d3": [
         {
          "accuracy_type": "Train Accuracy",
          "accuracy_val": 0.9803701586236312,
          "compound": "I05",
          "model": "Linear Regression",
          "scenario": "s3"
         },
         {
          "accuracy_type": "Train Accuracy",
          "accuracy_val": 0.9492341092432032,
          "compound": "I1",
          "model": "Linear Regression",
          "scenario": "s3"
         },
         {
          "accuracy_type": "Train Accuracy",
          "accuracy_val": 0.9353786214286924,
          "compound": "DAO",
          "model": "Linear Regression",
          "scenario": "s3"
         },
         {
          "accuracy_type": "Train Accuracy",
          "accuracy_val": 0.9308658938438223,
          "compound": "I05",
          "model": "Partial Least Squares (n=2)",
          "scenario": "s3"
         },
         {
          "accuracy_type": "Train Accuracy",
          "accuracy_val": 0.8759759987638893,
          "compound": "I1",
          "model": "Partial Least Squares (n=2)",
          "scenario": "s3"
         },
         {
          "accuracy_type": "Train Accuracy",
          "accuracy_val": 0.8632465260768909,
          "compound": "DAO",
          "model": "Partial Least Squares (n=2)",
          "scenario": "s3"
         },
         {
          "accuracy_type": "Train Accuracy",
          "accuracy_val": 0.935637515524074,
          "compound": "I05",
          "model": "Partial Least Squares (n=3)",
          "scenario": "s3"
         },
         {
          "accuracy_type": "Train Accuracy",
          "accuracy_val": 0.9110518578872506,
          "compound": "I1",
          "model": "Partial Least Squares (n=3)",
          "scenario": "s3"
         },
         {
          "accuracy_type": "Train Accuracy",
          "accuracy_val": 0.9006413806438867,
          "compound": "DAO",
          "model": "Partial Least Squares (n=3)",
          "scenario": "s3"
         },
         {
          "accuracy_type": "Train Accuracy",
          "accuracy_val": 0.9870502885359504,
          "compound": "I05",
          "model": "Random Forest Regression (max_depth = 2)",
          "scenario": "s3"
         },
         {
          "accuracy_type": "Train Accuracy",
          "accuracy_val": 0.9786007607300332,
          "compound": "I1",
          "model": "Random Forest Regression (max_depth = 2)",
          "scenario": "s3"
         },
         {
          "accuracy_type": "Train Accuracy",
          "accuracy_val": 0.9773032085438988,
          "compound": "DAO",
          "model": "Random Forest Regression (max_depth = 2)",
          "scenario": "s3"
         },
         {
          "accuracy_type": "Train Accuracy",
          "accuracy_val": 0.999566698988212,
          "compound": "I05",
          "model": "Random Forest Regression (max_depth = 5)",
          "scenario": "s3"
         },
         {
          "accuracy_type": "Train Accuracy",
          "accuracy_val": 0.998888491714853,
          "compound": "I1",
          "model": "Random Forest Regression (max_depth = 5)",
          "scenario": "s3"
         },
         {
          "accuracy_type": "Train Accuracy",
          "accuracy_val": 0.999637028845438,
          "compound": "DAO",
          "model": "Random Forest Regression (max_depth = 5)",
          "scenario": "s3"
         },
         {
          "accuracy_type": "Train Accuracy",
          "accuracy_val": 0.9999297262259836,
          "compound": "I05",
          "model": "Random Forest Regression (max_depth = 7)",
          "scenario": "s3"
         },
         {
          "accuracy_type": "Train Accuracy",
          "accuracy_val": 0.9999448614746216,
          "compound": "I1",
          "model": "Random Forest Regression (max_depth = 7)",
          "scenario": "s3"
         },
         {
          "accuracy_type": "Train Accuracy",
          "accuracy_val": 0.9999741125786494,
          "compound": "DAO",
          "model": "Random Forest Regression (max_depth = 7)",
          "scenario": "s3"
         },
         {
          "accuracy_type": "Train Accuracy",
          "accuracy_val": 0.9999978280415228,
          "compound": "I05",
          "model": "Random Forest Regression (max_depth = 10)",
          "scenario": "s3"
         },
         {
          "accuracy_type": "Train Accuracy",
          "accuracy_val": 0.99999940804249,
          "compound": "I1",
          "model": "Random Forest Regression (max_depth = 10)",
          "scenario": "s3"
         },
         {
          "accuracy_type": "Train Accuracy",
          "accuracy_val": 0.9999981358387684,
          "compound": "DAO",
          "model": "Random Forest Regression (max_depth = 10)",
          "scenario": "s3"
         },
         {
          "accuracy_type": "Train Accuracy",
          "accuracy_val": 0.9836350890026736,
          "compound": "I05",
          "model": "SVR RBF Kernel",
          "scenario": "s3"
         },
         {
          "accuracy_type": "Train Accuracy",
          "accuracy_val": 0.9208341585258116,
          "compound": "I1",
          "model": "SVR RBF Kernel",
          "scenario": "s3"
         },
         {
          "accuracy_type": "Train Accuracy",
          "accuracy_val": 0.9231098627496396,
          "compound": "DAO",
          "model": "SVR RBF Kernel",
          "scenario": "s3"
         },
         {
          "accuracy_type": "Train Accuracy",
          "accuracy_val": 0.9999332256449888,
          "compound": "I05",
          "model": "Gradient Boost Regressor",
          "scenario": "s3"
         },
         {
          "accuracy_type": "Train Accuracy",
          "accuracy_val": 0.9998945556437244,
          "compound": "I1",
          "model": "Gradient Boost Regressor",
          "scenario": "s3"
         },
         {
          "accuracy_type": "Train Accuracy",
          "accuracy_val": 0.9999547193854126,
          "compound": "DAO",
          "model": "Gradient Boost Regressor",
          "scenario": "s3"
         },
         {
          "accuracy_type": "Test Accuracy",
          "accuracy_val": 0.9603628475665974,
          "compound": "I05",
          "model": "Linear Regression",
          "scenario": "s3"
         },
         {
          "accuracy_type": "Test Accuracy",
          "accuracy_val": 0.898807315791032,
          "compound": "I1",
          "model": "Linear Regression",
          "scenario": "s3"
         },
         {
          "accuracy_type": "Test Accuracy",
          "accuracy_val": 0.9097679703030204,
          "compound": "DAO",
          "model": "Linear Regression",
          "scenario": "s3"
         },
         {
          "accuracy_type": "Test Accuracy",
          "accuracy_val": 0.916533055740682,
          "compound": "I05",
          "model": "Partial Least Squares (n=2)",
          "scenario": "s3"
         },
         {
          "accuracy_type": "Test Accuracy",
          "accuracy_val": 0.8462244291701693,
          "compound": "I1",
          "model": "Partial Least Squares (n=2)",
          "scenario": "s3"
         },
         {
          "accuracy_type": "Test Accuracy",
          "accuracy_val": 0.8026219428142913,
          "compound": "DAO",
          "model": "Partial Least Squares (n=2)",
          "scenario": "s3"
         },
         {
          "accuracy_type": "Test Accuracy",
          "accuracy_val": 0.9211207557828374,
          "compound": "I05",
          "model": "Partial Least Squares (n=3)",
          "scenario": "s3"
         },
         {
          "accuracy_type": "Test Accuracy",
          "accuracy_val": 0.8736142551320809,
          "compound": "I1",
          "model": "Partial Least Squares (n=3)",
          "scenario": "s3"
         },
         {
          "accuracy_type": "Test Accuracy",
          "accuracy_val": 0.8645097309838579,
          "compound": "DAO",
          "model": "Partial Least Squares (n=3)",
          "scenario": "s3"
         },
         {
          "accuracy_type": "Test Accuracy",
          "accuracy_val": 0.9707298044503179,
          "compound": "I05",
          "model": "Random Forest Regression (max_depth = 2)",
          "scenario": "s3"
         },
         {
          "accuracy_type": "Test Accuracy",
          "accuracy_val": 0.8567466674095282,
          "compound": "I1",
          "model": "Random Forest Regression (max_depth = 2)",
          "scenario": "s3"
         },
         {
          "accuracy_type": "Test Accuracy",
          "accuracy_val": 0.8344407332086599,
          "compound": "DAO",
          "model": "Random Forest Regression (max_depth = 2)",
          "scenario": "s3"
         },
         {
          "accuracy_type": "Test Accuracy",
          "accuracy_val": 0.9804387560731774,
          "compound": "I05",
          "model": "Random Forest Regression (max_depth = 5)",
          "scenario": "s3"
         },
         {
          "accuracy_type": "Test Accuracy",
          "accuracy_val": 0.9262318764369852,
          "compound": "I1",
          "model": "Random Forest Regression (max_depth = 5)",
          "scenario": "s3"
         },
         {
          "accuracy_type": "Test Accuracy",
          "accuracy_val": 0.8426021238918031,
          "compound": "DAO",
          "model": "Random Forest Regression (max_depth = 5)",
          "scenario": "s3"
         },
         {
          "accuracy_type": "Test Accuracy",
          "accuracy_val": 0.9807549263248933,
          "compound": "I05",
          "model": "Random Forest Regression (max_depth = 7)",
          "scenario": "s3"
         },
         {
          "accuracy_type": "Test Accuracy",
          "accuracy_val": 0.9352716139641716,
          "compound": "I1",
          "model": "Random Forest Regression (max_depth = 7)",
          "scenario": "s3"
         },
         {
          "accuracy_type": "Test Accuracy",
          "accuracy_val": 0.8426488771865699,
          "compound": "DAO",
          "model": "Random Forest Regression (max_depth = 7)",
          "scenario": "s3"
         },
         {
          "accuracy_type": "Test Accuracy",
          "accuracy_val": 0.9806712599543588,
          "compound": "I05",
          "model": "Random Forest Regression (max_depth = 10)",
          "scenario": "s3"
         },
         {
          "accuracy_type": "Test Accuracy",
          "accuracy_val": 0.9370959288666698,
          "compound": "I1",
          "model": "Random Forest Regression (max_depth = 10)",
          "scenario": "s3"
         },
         {
          "accuracy_type": "Test Accuracy",
          "accuracy_val": 0.8431357489136395,
          "compound": "DAO",
          "model": "Random Forest Regression (max_depth = 10)",
          "scenario": "s3"
         },
         {
          "accuracy_type": "Test Accuracy",
          "accuracy_val": 0.9665478229785168,
          "compound": "I05",
          "model": "SVR RBF Kernel",
          "scenario": "s3"
         },
         {
          "accuracy_type": "Test Accuracy",
          "accuracy_val": 0.876823558571829,
          "compound": "I1",
          "model": "SVR RBF Kernel",
          "scenario": "s3"
         },
         {
          "accuracy_type": "Test Accuracy",
          "accuracy_val": 0.8888684423226497,
          "compound": "DAO",
          "model": "SVR RBF Kernel",
          "scenario": "s3"
         },
         {
          "accuracy_type": "Test Accuracy",
          "accuracy_val": 0.9808047009402228,
          "compound": "I05",
          "model": "Gradient Boost Regressor",
          "scenario": "s3"
         },
         {
          "accuracy_type": "Test Accuracy",
          "accuracy_val": 0.9415588127405584,
          "compound": "I1",
          "model": "Gradient Boost Regressor",
          "scenario": "s3"
         },
         {
          "accuracy_type": "Test Accuracy",
          "accuracy_val": 0.8521954312505688,
          "compound": "DAO",
          "model": "Gradient Boost Regressor",
          "scenario": "s3"
         }
        ]
       },
       "encoding": {
        "color": {
         "field": "accuracy_type",
         "type": "ordinal"
        },
        "facet": {
         "field": "compound",
         "type": "nominal"
        },
        "x": {
         "field": "model",
         "type": "nominal"
        },
        "y": {
         "field": "accuracy_val",
         "scale": {
          "domain": [
           0.75,
           1
          ]
         },
         "stack": false,
         "type": "quantitative"
        }
       },
       "mark": "bar",
       "title": "Scenario 3",
       "width": 400
      },
      "image/png": "[encoded data removed]",
      "text/plain": [
       "<VegaLite 3 object>\n",
       "\n",
       "If you see this message, it means the renderer has not been properly enabled\n",
       "for the frontend that you are using. For more information, see\n",
       "https://altair-viz.github.io/user_guide/troubleshooting.html\n"
      ]
     },
     "execution_count": 110,
     "metadata": {},
     "output_type": "execute_result"
    }
   ],
   "source": [
    "alt.Chart(df_prod.query('scenario == \"s3\"')).mark_bar().encode(\n",
    "    alt.X('model'),\n",
    "    alt.Y('accuracy_val:Q', stack = False, scale = alt.Scale(domain = [0.75,1])),\n",
    "    alt.Color('accuracy_type:O'),\n",
    "    alt.Facet('compound')\n",
    "    ).properties(width = 400).properties(title = 'Scenario 3')"
   ]
  },
  {
   "cell_type": "code",
   "execution_count": 111,
   "metadata": {},
   "outputs": [
    {
     "data": {
      "application/vnd.vegalite.v3+json": {
       "$schema": "https://vega.github.io/schema/vega-lite/v3.4.0.json",
       "config": {
        "mark": {
         "tooltip": null
        },
        "view": {
         "height": 300,
         "width": 400
        }
       },
       "data": {
        "name": "data-8b81fd45c8764ee8a84303987c8f559d"
       },
       "datasets": {
        "data-8b81fd45c8764ee8a84303987c8f559d": [
         {
          "accuracy_type": "Train Accuracy",
          "accuracy_val": 0.9741576039681756,
          "compound": "I05",
          "model": "Linear Regression",
          "scenario": "s5"
         },
         {
          "accuracy_type": "Train Accuracy",
          "accuracy_val": 0.910001606634972,
          "compound": "I1",
          "model": "Linear Regression",
          "scenario": "s5"
         },
         {
          "accuracy_type": "Train Accuracy",
          "accuracy_val": 0.9101157954991386,
          "compound": "DAO",
          "model": "Linear Regression",
          "scenario": "s5"
         },
         {
          "accuracy_type": "Train Accuracy",
          "accuracy_val": 0.9299333139722192,
          "compound": "I05",
          "model": "Partial Least Squares (n=2)",
          "scenario": "s5"
         },
         {
          "accuracy_type": "Train Accuracy",
          "accuracy_val": 0.8184819224967155,
          "compound": "I1",
          "model": "Partial Least Squares (n=2)",
          "scenario": "s5"
         },
         {
          "accuracy_type": "Train Accuracy",
          "accuracy_val": 0.8605398947027638,
          "compound": "DAO",
          "model": "Partial Least Squares (n=2)",
          "scenario": "s5"
         },
         {
          "accuracy_type": "Train Accuracy",
          "accuracy_val": 0.9374063853575724,
          "compound": "I05",
          "model": "Partial Least Squares (n=3)",
          "scenario": "s5"
         },
         {
          "accuracy_type": "Train Accuracy",
          "accuracy_val": 0.8767838872567203,
          "compound": "I1",
          "model": "Partial Least Squares (n=3)",
          "scenario": "s5"
         },
         {
          "accuracy_type": "Train Accuracy",
          "accuracy_val": 0.8681848676530629,
          "compound": "DAO",
          "model": "Partial Least Squares (n=3)",
          "scenario": "s5"
         },
         {
          "accuracy_type": "Train Accuracy",
          "accuracy_val": 0.9818351904441154,
          "compound": "I05",
          "model": "Random Forest Regression (max_depth = 2)",
          "scenario": "s5"
         },
         {
          "accuracy_type": "Train Accuracy",
          "accuracy_val": 0.9532947387481756,
          "compound": "I1",
          "model": "Random Forest Regression (max_depth = 2)",
          "scenario": "s5"
         },
         {
          "accuracy_type": "Train Accuracy",
          "accuracy_val": 0.9370476931494356,
          "compound": "DAO",
          "model": "Random Forest Regression (max_depth = 2)",
          "scenario": "s5"
         },
         {
          "accuracy_type": "Train Accuracy",
          "accuracy_val": 0.995206200315732,
          "compound": "I05",
          "model": "Random Forest Regression (max_depth = 5)",
          "scenario": "s5"
         },
         {
          "accuracy_type": "Train Accuracy",
          "accuracy_val": 0.9945038659112672,
          "compound": "I1",
          "model": "Random Forest Regression (max_depth = 5)",
          "scenario": "s5"
         },
         {
          "accuracy_type": "Train Accuracy",
          "accuracy_val": 0.983104322656136,
          "compound": "DAO",
          "model": "Random Forest Regression (max_depth = 5)",
          "scenario": "s5"
         },
         {
          "accuracy_type": "Train Accuracy",
          "accuracy_val": 0.9969803306615491,
          "compound": "I05",
          "model": "Random Forest Regression (max_depth = 7)",
          "scenario": "s5"
         },
         {
          "accuracy_type": "Train Accuracy",
          "accuracy_val": 0.9984440027102,
          "compound": "I1",
          "model": "Random Forest Regression (max_depth = 7)",
          "scenario": "s5"
         },
         {
          "accuracy_type": "Train Accuracy",
          "accuracy_val": 0.9912344718842588,
          "compound": "DAO",
          "model": "Random Forest Regression (max_depth = 7)",
          "scenario": "s5"
         },
         {
          "accuracy_type": "Train Accuracy",
          "accuracy_val": 0.9992233888918308,
          "compound": "I05",
          "model": "Random Forest Regression (max_depth = 10)",
          "scenario": "s5"
         },
         {
          "accuracy_type": "Train Accuracy",
          "accuracy_val": 0.9995373468402904,
          "compound": "I1",
          "model": "Random Forest Regression (max_depth = 10)",
          "scenario": "s5"
         },
         {
          "accuracy_type": "Train Accuracy",
          "accuracy_val": 0.9966695588215492,
          "compound": "DAO",
          "model": "Random Forest Regression (max_depth = 10)",
          "scenario": "s5"
         },
         {
          "accuracy_type": "Train Accuracy",
          "accuracy_val": 0.9842168906032176,
          "compound": "I05",
          "model": "SVR RBF Kernel",
          "scenario": "s5"
         },
         {
          "accuracy_type": "Train Accuracy",
          "accuracy_val": 0.8737161259329066,
          "compound": "I1",
          "model": "SVR RBF Kernel",
          "scenario": "s5"
         },
         {
          "accuracy_type": "Train Accuracy",
          "accuracy_val": 0.8900064650186401,
          "compound": "DAO",
          "model": "SVR RBF Kernel",
          "scenario": "s5"
         },
         {
          "accuracy_type": "Train Accuracy",
          "accuracy_val": 0.9975613943626448,
          "compound": "I05",
          "model": "Gradient Boost Regressor",
          "scenario": "s5"
         },
         {
          "accuracy_type": "Train Accuracy",
          "accuracy_val": 0.997980315001308,
          "compound": "I1",
          "model": "Gradient Boost Regressor",
          "scenario": "s5"
         },
         {
          "accuracy_type": "Train Accuracy",
          "accuracy_val": 0.9936850390135884,
          "compound": "DAO",
          "model": "Gradient Boost Regressor",
          "scenario": "s5"
         },
         {
          "accuracy_type": "Test Accuracy",
          "accuracy_val": 0.9735857413586256,
          "compound": "I05",
          "model": "Linear Regression",
          "scenario": "s5"
         },
         {
          "accuracy_type": "Test Accuracy",
          "accuracy_val": 0.95230306932887,
          "compound": "I1",
          "model": "Linear Regression",
          "scenario": "s5"
         },
         {
          "accuracy_type": "Test Accuracy",
          "accuracy_val": 0.9341341316258166,
          "compound": "DAO",
          "model": "Linear Regression",
          "scenario": "s5"
         },
         {
          "accuracy_type": "Test Accuracy",
          "accuracy_val": 0.9300017903597618,
          "compound": "I05",
          "model": "Partial Least Squares (n=2)",
          "scenario": "s5"
         },
         {
          "accuracy_type": "Test Accuracy",
          "accuracy_val": 0.7919899916391515,
          "compound": "I1",
          "model": "Partial Least Squares (n=2)",
          "scenario": "s5"
         },
         {
          "accuracy_type": "Test Accuracy",
          "accuracy_val": 0.8935990292921117,
          "compound": "DAO",
          "model": "Partial Least Squares (n=2)",
          "scenario": "s5"
         },
         {
          "accuracy_type": "Test Accuracy",
          "accuracy_val": 0.9411981773894424,
          "compound": "I05",
          "model": "Partial Least Squares (n=3)",
          "scenario": "s5"
         },
         {
          "accuracy_type": "Test Accuracy",
          "accuracy_val": 0.9147498297221092,
          "compound": "I1",
          "model": "Partial Least Squares (n=3)",
          "scenario": "s5"
         },
         {
          "accuracy_type": "Test Accuracy",
          "accuracy_val": 0.8964274502058958,
          "compound": "DAO",
          "model": "Partial Least Squares (n=3)",
          "scenario": "s5"
         },
         {
          "accuracy_type": "Test Accuracy",
          "accuracy_val": 0.9853138529810064,
          "compound": "I05",
          "model": "Random Forest Regression (max_depth = 2)",
          "scenario": "s5"
         },
         {
          "accuracy_type": "Test Accuracy",
          "accuracy_val": 0.8961515344874892,
          "compound": "I1",
          "model": "Random Forest Regression (max_depth = 2)",
          "scenario": "s5"
         },
         {
          "accuracy_type": "Test Accuracy",
          "accuracy_val": 0.9460517041229975,
          "compound": "DAO",
          "model": "Random Forest Regression (max_depth = 2)",
          "scenario": "s5"
         },
         {
          "accuracy_type": "Test Accuracy",
          "accuracy_val": 0.9937473840401544,
          "compound": "I05",
          "model": "Random Forest Regression (max_depth = 5)",
          "scenario": "s5"
         },
         {
          "accuracy_type": "Test Accuracy",
          "accuracy_val": 0.9398424510818814,
          "compound": "I1",
          "model": "Random Forest Regression (max_depth = 5)",
          "scenario": "s5"
         },
         {
          "accuracy_type": "Test Accuracy",
          "accuracy_val": 0.9650438979838676,
          "compound": "DAO",
          "model": "Random Forest Regression (max_depth = 5)",
          "scenario": "s5"
         },
         {
          "accuracy_type": "Test Accuracy",
          "accuracy_val": 0.9929355007285346,
          "compound": "I05",
          "model": "Random Forest Regression (max_depth = 7)",
          "scenario": "s5"
         },
         {
          "accuracy_type": "Test Accuracy",
          "accuracy_val": 0.9338508977177312,
          "compound": "I1",
          "model": "Random Forest Regression (max_depth = 7)",
          "scenario": "s5"
         },
         {
          "accuracy_type": "Test Accuracy",
          "accuracy_val": 0.9742645965348884,
          "compound": "DAO",
          "model": "Random Forest Regression (max_depth = 7)",
          "scenario": "s5"
         },
         {
          "accuracy_type": "Test Accuracy",
          "accuracy_val": 0.9903332875932348,
          "compound": "I05",
          "model": "Random Forest Regression (max_depth = 10)",
          "scenario": "s5"
         },
         {
          "accuracy_type": "Test Accuracy",
          "accuracy_val": 0.940412194560271,
          "compound": "I1",
          "model": "Random Forest Regression (max_depth = 10)",
          "scenario": "s5"
         },
         {
          "accuracy_type": "Test Accuracy",
          "accuracy_val": 0.9749739406408204,
          "compound": "DAO",
          "model": "Random Forest Regression (max_depth = 10)",
          "scenario": "s5"
         },
         {
          "accuracy_type": "Test Accuracy",
          "accuracy_val": 0.9873893712540972,
          "compound": "I05",
          "model": "SVR RBF Kernel",
          "scenario": "s5"
         },
         {
          "accuracy_type": "Test Accuracy",
          "accuracy_val": 0.9673710363019372,
          "compound": "I1",
          "model": "SVR RBF Kernel",
          "scenario": "s5"
         },
         {
          "accuracy_type": "Test Accuracy",
          "accuracy_val": 0.9345166622170472,
          "compound": "DAO",
          "model": "SVR RBF Kernel",
          "scenario": "s5"
         },
         {
          "accuracy_type": "Test Accuracy",
          "accuracy_val": 0.9952612500901954,
          "compound": "I05",
          "model": "Gradient Boost Regressor",
          "scenario": "s5"
         },
         {
          "accuracy_type": "Test Accuracy",
          "accuracy_val": 0.9514246914436164,
          "compound": "I1",
          "model": "Gradient Boost Regressor",
          "scenario": "s5"
         },
         {
          "accuracy_type": "Test Accuracy",
          "accuracy_val": 0.9727986259261472,
          "compound": "DAO",
          "model": "Gradient Boost Regressor",
          "scenario": "s5"
         }
        ]
       },
       "encoding": {
        "color": {
         "field": "accuracy_type",
         "type": "ordinal"
        },
        "facet": {
         "field": "compound",
         "type": "nominal"
        },
        "x": {
         "field": "model",
         "type": "nominal"
        },
        "y": {
         "field": "accuracy_val",
         "scale": {
          "domain": [
           0.75,
           1
          ]
         },
         "stack": false,
         "type": "quantitative"
        }
       },
       "mark": "bar",
       "title": "Scenario 5",
       "width": 400
      },
      "image/png": "[encoded data removed]",
      "text/plain": [
       "<VegaLite 3 object>\n",
       "\n",
       "If you see this message, it means the renderer has not been properly enabled\n",
       "for the frontend that you are using. For more information, see\n",
       "https://altair-viz.github.io/user_guide/troubleshooting.html\n"
      ]
     },
     "execution_count": 111,
     "metadata": {},
     "output_type": "execute_result"
    }
   ],
   "source": [
    "alt.Chart(df_prod.query('scenario == \"s5\"')).mark_bar().encode(\n",
    "    alt.X('model'),\n",
    "    alt.Y('accuracy_val:Q', stack = False, scale = alt.Scale(domain = [0.75,1])),\n",
    "    alt.Color('accuracy_type:O'),\n",
    "    alt.Facet('compound')\n",
    "    ).properties(width = 400).properties(title = 'Scenario 5')"
   ]
  },
  {
   "cell_type": "markdown",
   "metadata": {},
   "source": [
    "## Feed results visualization"
   ]
  },
  {
   "cell_type": "code",
   "execution_count": 112,
   "metadata": {},
   "outputs": [
    {
     "data": {
      "text/html": [
       "<div>\n",
       "<style scoped>\n",
       "    .dataframe tbody tr th:only-of-type {\n",
       "        vertical-align: middle;\n",
       "    }\n",
       "\n",
       "    .dataframe tbody tr th {\n",
       "        vertical-align: top;\n",
       "    }\n",
       "\n",
       "    .dataframe thead th {\n",
       "        text-align: right;\n",
       "    }\n",
       "</style>\n",
       "<table border=\"1\" class=\"dataframe\">\n",
       "  <thead>\n",
       "    <tr style=\"text-align: right;\">\n",
       "      <th></th>\n",
       "      <th>s2</th>\n",
       "      <th>s4</th>\n",
       "      <th>s6</th>\n",
       "      <th>model</th>\n",
       "      <th>compound</th>\n",
       "      <th>accuracy_type</th>\n",
       "    </tr>\n",
       "  </thead>\n",
       "  <tbody>\n",
       "    <tr>\n",
       "      <th>0</th>\n",
       "      <td>0.950623</td>\n",
       "      <td>0.950985</td>\n",
       "      <td>0.946946</td>\n",
       "      <td>Linear Regression</td>\n",
       "      <td>05-85</td>\n",
       "      <td>Train Accuracy</td>\n",
       "    </tr>\n",
       "    <tr>\n",
       "      <th>1</th>\n",
       "      <td>0.944426</td>\n",
       "      <td>0.943727</td>\n",
       "      <td>0.956423</td>\n",
       "      <td>Linear Regression</td>\n",
       "      <td>1-8</td>\n",
       "      <td>Train Accuracy</td>\n",
       "    </tr>\n",
       "    <tr>\n",
       "      <th>2</th>\n",
       "      <td>0.943814</td>\n",
       "      <td>0.952289</td>\n",
       "      <td>0.944706</td>\n",
       "      <td>Linear Regression</td>\n",
       "      <td>DAO</td>\n",
       "      <td>Train Accuracy</td>\n",
       "    </tr>\n",
       "    <tr>\n",
       "      <th>3</th>\n",
       "      <td>0.898456</td>\n",
       "      <td>0.897625</td>\n",
       "      <td>0.897425</td>\n",
       "      <td>Partial Least Squares (n=2)</td>\n",
       "      <td>05-85</td>\n",
       "      <td>Train Accuracy</td>\n",
       "    </tr>\n",
       "    <tr>\n",
       "      <th>4</th>\n",
       "      <td>0.895012</td>\n",
       "      <td>0.896688</td>\n",
       "      <td>0.898550</td>\n",
       "      <td>Partial Least Squares (n=2)</td>\n",
       "      <td>1-8</td>\n",
       "      <td>Train Accuracy</td>\n",
       "    </tr>\n",
       "    <tr>\n",
       "      <th>5</th>\n",
       "      <td>0.894597</td>\n",
       "      <td>0.898955</td>\n",
       "      <td>0.892370</td>\n",
       "      <td>Partial Least Squares (n=2)</td>\n",
       "      <td>DAO</td>\n",
       "      <td>Train Accuracy</td>\n",
       "    </tr>\n",
       "    <tr>\n",
       "      <th>6</th>\n",
       "      <td>0.945137</td>\n",
       "      <td>0.945414</td>\n",
       "      <td>0.943296</td>\n",
       "      <td>Partial Least Squares (n=3)</td>\n",
       "      <td>05-85</td>\n",
       "      <td>Train Accuracy</td>\n",
       "    </tr>\n",
       "    <tr>\n",
       "      <th>7</th>\n",
       "      <td>0.939971</td>\n",
       "      <td>0.941710</td>\n",
       "      <td>0.950040</td>\n",
       "      <td>Partial Least Squares (n=3)</td>\n",
       "      <td>1-8</td>\n",
       "      <td>Train Accuracy</td>\n",
       "    </tr>\n",
       "    <tr>\n",
       "      <th>8</th>\n",
       "      <td>0.940255</td>\n",
       "      <td>0.947394</td>\n",
       "      <td>0.940133</td>\n",
       "      <td>Partial Least Squares (n=3)</td>\n",
       "      <td>DAO</td>\n",
       "      <td>Train Accuracy</td>\n",
       "    </tr>\n",
       "    <tr>\n",
       "      <th>9</th>\n",
       "      <td>0.993889</td>\n",
       "      <td>0.993956</td>\n",
       "      <td>0.993881</td>\n",
       "      <td>Random Forest Regression (max_depth = 2)</td>\n",
       "      <td>05-85</td>\n",
       "      <td>Train Accuracy</td>\n",
       "    </tr>\n",
       "    <tr>\n",
       "      <th>10</th>\n",
       "      <td>0.993656</td>\n",
       "      <td>0.993489</td>\n",
       "      <td>0.993948</td>\n",
       "      <td>Random Forest Regression (max_depth = 2)</td>\n",
       "      <td>1-8</td>\n",
       "      <td>Train Accuracy</td>\n",
       "    </tr>\n",
       "    <tr>\n",
       "      <th>11</th>\n",
       "      <td>0.993935</td>\n",
       "      <td>0.993627</td>\n",
       "      <td>0.993389</td>\n",
       "      <td>Random Forest Regression (max_depth = 2)</td>\n",
       "      <td>DAO</td>\n",
       "      <td>Train Accuracy</td>\n",
       "    </tr>\n",
       "    <tr>\n",
       "      <th>12</th>\n",
       "      <td>0.999812</td>\n",
       "      <td>0.999971</td>\n",
       "      <td>0.999789</td>\n",
       "      <td>Random Forest Regression (max_depth = 5)</td>\n",
       "      <td>05-85</td>\n",
       "      <td>Train Accuracy</td>\n",
       "    </tr>\n",
       "    <tr>\n",
       "      <th>13</th>\n",
       "      <td>0.999887</td>\n",
       "      <td>0.999967</td>\n",
       "      <td>0.999953</td>\n",
       "      <td>Random Forest Regression (max_depth = 5)</td>\n",
       "      <td>1-8</td>\n",
       "      <td>Train Accuracy</td>\n",
       "    </tr>\n",
       "    <tr>\n",
       "      <th>14</th>\n",
       "      <td>0.999728</td>\n",
       "      <td>0.999973</td>\n",
       "      <td>0.999925</td>\n",
       "      <td>Random Forest Regression (max_depth = 5)</td>\n",
       "      <td>DAO</td>\n",
       "      <td>Train Accuracy</td>\n",
       "    </tr>\n",
       "    <tr>\n",
       "      <th>15</th>\n",
       "      <td>0.999963</td>\n",
       "      <td>0.999999</td>\n",
       "      <td>0.999909</td>\n",
       "      <td>Random Forest Regression (max_depth = 7)</td>\n",
       "      <td>05-85</td>\n",
       "      <td>Train Accuracy</td>\n",
       "    </tr>\n",
       "    <tr>\n",
       "      <th>16</th>\n",
       "      <td>0.999980</td>\n",
       "      <td>1.000000</td>\n",
       "      <td>0.999993</td>\n",
       "      <td>Random Forest Regression (max_depth = 7)</td>\n",
       "      <td>1-8</td>\n",
       "      <td>Train Accuracy</td>\n",
       "    </tr>\n",
       "    <tr>\n",
       "      <th>17</th>\n",
       "      <td>0.999888</td>\n",
       "      <td>0.999999</td>\n",
       "      <td>0.999985</td>\n",
       "      <td>Random Forest Regression (max_depth = 7)</td>\n",
       "      <td>DAO</td>\n",
       "      <td>Train Accuracy</td>\n",
       "    </tr>\n",
       "    <tr>\n",
       "      <th>18</th>\n",
       "      <td>0.999993</td>\n",
       "      <td>1.000000</td>\n",
       "      <td>0.999956</td>\n",
       "      <td>Random Forest Regression (max_depth = 10)</td>\n",
       "      <td>05-85</td>\n",
       "      <td>Train Accuracy</td>\n",
       "    </tr>\n",
       "    <tr>\n",
       "      <th>19</th>\n",
       "      <td>0.999997</td>\n",
       "      <td>1.000000</td>\n",
       "      <td>0.999999</td>\n",
       "      <td>Random Forest Regression (max_depth = 10)</td>\n",
       "      <td>1-8</td>\n",
       "      <td>Train Accuracy</td>\n",
       "    </tr>\n",
       "    <tr>\n",
       "      <th>20</th>\n",
       "      <td>0.999955</td>\n",
       "      <td>1.000000</td>\n",
       "      <td>0.999998</td>\n",
       "      <td>Random Forest Regression (max_depth = 10)</td>\n",
       "      <td>DAO</td>\n",
       "      <td>Train Accuracy</td>\n",
       "    </tr>\n",
       "    <tr>\n",
       "      <th>21</th>\n",
       "      <td>0.961136</td>\n",
       "      <td>0.953663</td>\n",
       "      <td>0.959888</td>\n",
       "      <td>SVR RBF Kernel</td>\n",
       "      <td>05-85</td>\n",
       "      <td>Train Accuracy</td>\n",
       "    </tr>\n",
       "    <tr>\n",
       "      <th>22</th>\n",
       "      <td>0.963573</td>\n",
       "      <td>0.955847</td>\n",
       "      <td>0.959692</td>\n",
       "      <td>SVR RBF Kernel</td>\n",
       "      <td>1-8</td>\n",
       "      <td>Train Accuracy</td>\n",
       "    </tr>\n",
       "    <tr>\n",
       "      <th>23</th>\n",
       "      <td>0.962961</td>\n",
       "      <td>0.955620</td>\n",
       "      <td>0.961648</td>\n",
       "      <td>SVR RBF Kernel</td>\n",
       "      <td>DAO</td>\n",
       "      <td>Train Accuracy</td>\n",
       "    </tr>\n",
       "    <tr>\n",
       "      <th>24</th>\n",
       "      <td>0.999916</td>\n",
       "      <td>0.999995</td>\n",
       "      <td>0.999835</td>\n",
       "      <td>Gradient Boost Regressor</td>\n",
       "      <td>05-85</td>\n",
       "      <td>Train Accuracy</td>\n",
       "    </tr>\n",
       "    <tr>\n",
       "      <th>25</th>\n",
       "      <td>0.999979</td>\n",
       "      <td>0.999995</td>\n",
       "      <td>0.999990</td>\n",
       "      <td>Gradient Boost Regressor</td>\n",
       "      <td>1-8</td>\n",
       "      <td>Train Accuracy</td>\n",
       "    </tr>\n",
       "    <tr>\n",
       "      <th>26</th>\n",
       "      <td>0.999807</td>\n",
       "      <td>0.999995</td>\n",
       "      <td>0.999982</td>\n",
       "      <td>Gradient Boost Regressor</td>\n",
       "      <td>DAO</td>\n",
       "      <td>Train Accuracy</td>\n",
       "    </tr>\n",
       "    <tr>\n",
       "      <th>27</th>\n",
       "      <td>0.949445</td>\n",
       "      <td>0.945246</td>\n",
       "      <td>0.931452</td>\n",
       "      <td>Linear Regression</td>\n",
       "      <td>05-85</td>\n",
       "      <td>Test Accuracy</td>\n",
       "    </tr>\n",
       "    <tr>\n",
       "      <th>28</th>\n",
       "      <td>0.943092</td>\n",
       "      <td>0.941294</td>\n",
       "      <td>0.927052</td>\n",
       "      <td>Linear Regression</td>\n",
       "      <td>1-8</td>\n",
       "      <td>Test Accuracy</td>\n",
       "    </tr>\n",
       "    <tr>\n",
       "      <th>29</th>\n",
       "      <td>0.942346</td>\n",
       "      <td>0.939150</td>\n",
       "      <td>0.937710</td>\n",
       "      <td>Linear Regression</td>\n",
       "      <td>DAO</td>\n",
       "      <td>Test Accuracy</td>\n",
       "    </tr>\n",
       "    <tr>\n",
       "      <th>30</th>\n",
       "      <td>0.897495</td>\n",
       "      <td>0.896566</td>\n",
       "      <td>0.890823</td>\n",
       "      <td>Partial Least Squares (n=2)</td>\n",
       "      <td>05-85</td>\n",
       "      <td>Test Accuracy</td>\n",
       "    </tr>\n",
       "    <tr>\n",
       "      <th>31</th>\n",
       "      <td>0.893727</td>\n",
       "      <td>0.893820</td>\n",
       "      <td>0.893091</td>\n",
       "      <td>Partial Least Squares (n=2)</td>\n",
       "      <td>1-8</td>\n",
       "      <td>Test Accuracy</td>\n",
       "    </tr>\n",
       "    <tr>\n",
       "      <th>32</th>\n",
       "      <td>0.893963</td>\n",
       "      <td>0.893608</td>\n",
       "      <td>0.896028</td>\n",
       "      <td>Partial Least Squares (n=2)</td>\n",
       "      <td>DAO</td>\n",
       "      <td>Test Accuracy</td>\n",
       "    </tr>\n",
       "    <tr>\n",
       "      <th>33</th>\n",
       "      <td>0.945039</td>\n",
       "      <td>0.940529</td>\n",
       "      <td>0.929892</td>\n",
       "      <td>Partial Least Squares (n=3)</td>\n",
       "      <td>05-85</td>\n",
       "      <td>Test Accuracy</td>\n",
       "    </tr>\n",
       "    <tr>\n",
       "      <th>34</th>\n",
       "      <td>0.939680</td>\n",
       "      <td>0.937637</td>\n",
       "      <td>0.925675</td>\n",
       "      <td>Partial Least Squares (n=3)</td>\n",
       "      <td>1-8</td>\n",
       "      <td>Test Accuracy</td>\n",
       "    </tr>\n",
       "    <tr>\n",
       "      <th>35</th>\n",
       "      <td>0.939713</td>\n",
       "      <td>0.935019</td>\n",
       "      <td>0.934927</td>\n",
       "      <td>Partial Least Squares (n=3)</td>\n",
       "      <td>DAO</td>\n",
       "      <td>Test Accuracy</td>\n",
       "    </tr>\n",
       "    <tr>\n",
       "      <th>36</th>\n",
       "      <td>0.993096</td>\n",
       "      <td>0.993200</td>\n",
       "      <td>0.991804</td>\n",
       "      <td>Random Forest Regression (max_depth = 2)</td>\n",
       "      <td>05-85</td>\n",
       "      <td>Test Accuracy</td>\n",
       "    </tr>\n",
       "    <tr>\n",
       "      <th>37</th>\n",
       "      <td>0.992760</td>\n",
       "      <td>0.993449</td>\n",
       "      <td>0.992042</td>\n",
       "      <td>Random Forest Regression (max_depth = 2)</td>\n",
       "      <td>1-8</td>\n",
       "      <td>Test Accuracy</td>\n",
       "    </tr>\n",
       "    <tr>\n",
       "      <th>38</th>\n",
       "      <td>0.993329</td>\n",
       "      <td>0.993759</td>\n",
       "      <td>0.993732</td>\n",
       "      <td>Random Forest Regression (max_depth = 2)</td>\n",
       "      <td>DAO</td>\n",
       "      <td>Test Accuracy</td>\n",
       "    </tr>\n",
       "    <tr>\n",
       "      <th>39</th>\n",
       "      <td>0.999734</td>\n",
       "      <td>0.998771</td>\n",
       "      <td>0.997099</td>\n",
       "      <td>Random Forest Regression (max_depth = 5)</td>\n",
       "      <td>05-85</td>\n",
       "      <td>Test Accuracy</td>\n",
       "    </tr>\n",
       "    <tr>\n",
       "      <th>40</th>\n",
       "      <td>0.999868</td>\n",
       "      <td>0.998283</td>\n",
       "      <td>0.997672</td>\n",
       "      <td>Random Forest Regression (max_depth = 5)</td>\n",
       "      <td>1-8</td>\n",
       "      <td>Test Accuracy</td>\n",
       "    </tr>\n",
       "    <tr>\n",
       "      <th>41</th>\n",
       "      <td>0.999645</td>\n",
       "      <td>0.999127</td>\n",
       "      <td>0.999677</td>\n",
       "      <td>Random Forest Regression (max_depth = 5)</td>\n",
       "      <td>DAO</td>\n",
       "      <td>Test Accuracy</td>\n",
       "    </tr>\n",
       "    <tr>\n",
       "      <th>42</th>\n",
       "      <td>0.999929</td>\n",
       "      <td>0.998816</td>\n",
       "      <td>0.996899</td>\n",
       "      <td>Random Forest Regression (max_depth = 7)</td>\n",
       "      <td>05-85</td>\n",
       "      <td>Test Accuracy</td>\n",
       "    </tr>\n",
       "    <tr>\n",
       "      <th>43</th>\n",
       "      <td>0.999970</td>\n",
       "      <td>0.998349</td>\n",
       "      <td>0.997702</td>\n",
       "      <td>Random Forest Regression (max_depth = 7)</td>\n",
       "      <td>1-8</td>\n",
       "      <td>Test Accuracy</td>\n",
       "    </tr>\n",
       "    <tr>\n",
       "      <th>44</th>\n",
       "      <td>0.999833</td>\n",
       "      <td>0.999205</td>\n",
       "      <td>0.999717</td>\n",
       "      <td>Random Forest Regression (max_depth = 7)</td>\n",
       "      <td>DAO</td>\n",
       "      <td>Test Accuracy</td>\n",
       "    </tr>\n",
       "    <tr>\n",
       "      <th>45</th>\n",
       "      <td>0.999970</td>\n",
       "      <td>0.998794</td>\n",
       "      <td>0.997012</td>\n",
       "      <td>Random Forest Regression (max_depth = 10)</td>\n",
       "      <td>05-85</td>\n",
       "      <td>Test Accuracy</td>\n",
       "    </tr>\n",
       "    <tr>\n",
       "      <th>46</th>\n",
       "      <td>0.999991</td>\n",
       "      <td>0.998456</td>\n",
       "      <td>0.997777</td>\n",
       "      <td>Random Forest Regression (max_depth = 10)</td>\n",
       "      <td>1-8</td>\n",
       "      <td>Test Accuracy</td>\n",
       "    </tr>\n",
       "    <tr>\n",
       "      <th>47</th>\n",
       "      <td>0.999891</td>\n",
       "      <td>0.999241</td>\n",
       "      <td>0.999699</td>\n",
       "      <td>Random Forest Regression (max_depth = 10)</td>\n",
       "      <td>DAO</td>\n",
       "      <td>Test Accuracy</td>\n",
       "    </tr>\n",
       "    <tr>\n",
       "      <th>48</th>\n",
       "      <td>0.959807</td>\n",
       "      <td>0.953484</td>\n",
       "      <td>0.959652</td>\n",
       "      <td>SVR RBF Kernel</td>\n",
       "      <td>05-85</td>\n",
       "      <td>Test Accuracy</td>\n",
       "    </tr>\n",
       "    <tr>\n",
       "      <th>49</th>\n",
       "      <td>0.961812</td>\n",
       "      <td>0.951155</td>\n",
       "      <td>0.960380</td>\n",
       "      <td>SVR RBF Kernel</td>\n",
       "      <td>1-8</td>\n",
       "      <td>Test Accuracy</td>\n",
       "    </tr>\n",
       "    <tr>\n",
       "      <th>50</th>\n",
       "      <td>0.961275</td>\n",
       "      <td>0.952526</td>\n",
       "      <td>0.960323</td>\n",
       "      <td>SVR RBF Kernel</td>\n",
       "      <td>DAO</td>\n",
       "      <td>Test Accuracy</td>\n",
       "    </tr>\n",
       "    <tr>\n",
       "      <th>51</th>\n",
       "      <td>0.999857</td>\n",
       "      <td>0.998951</td>\n",
       "      <td>0.997738</td>\n",
       "      <td>Gradient Boost Regressor</td>\n",
       "      <td>05-85</td>\n",
       "      <td>Test Accuracy</td>\n",
       "    </tr>\n",
       "    <tr>\n",
       "      <th>52</th>\n",
       "      <td>0.999968</td>\n",
       "      <td>0.998348</td>\n",
       "      <td>0.997888</td>\n",
       "      <td>Gradient Boost Regressor</td>\n",
       "      <td>1-8</td>\n",
       "      <td>Test Accuracy</td>\n",
       "    </tr>\n",
       "    <tr>\n",
       "      <th>53</th>\n",
       "      <td>0.999707</td>\n",
       "      <td>0.999276</td>\n",
       "      <td>0.999153</td>\n",
       "      <td>Gradient Boost Regressor</td>\n",
       "      <td>DAO</td>\n",
       "      <td>Test Accuracy</td>\n",
       "    </tr>\n",
       "  </tbody>\n",
       "</table>\n",
       "</div>"
      ],
      "text/plain": [
       "          s2        s4        s6                                      model  \\\n",
       "0   0.950623  0.950985  0.946946                          Linear Regression   \n",
       "1   0.944426  0.943727  0.956423                          Linear Regression   \n",
       "2   0.943814  0.952289  0.944706                          Linear Regression   \n",
       "3   0.898456  0.897625  0.897425                Partial Least Squares (n=2)   \n",
       "4   0.895012  0.896688  0.898550                Partial Least Squares (n=2)   \n",
       "5   0.894597  0.898955  0.892370                Partial Least Squares (n=2)   \n",
       "6   0.945137  0.945414  0.943296                Partial Least Squares (n=3)   \n",
       "7   0.939971  0.941710  0.950040                Partial Least Squares (n=3)   \n",
       "8   0.940255  0.947394  0.940133                Partial Least Squares (n=3)   \n",
       "9   0.993889  0.993956  0.993881   Random Forest Regression (max_depth = 2)   \n",
       "10  0.993656  0.993489  0.993948   Random Forest Regression (max_depth = 2)   \n",
       "11  0.993935  0.993627  0.993389   Random Forest Regression (max_depth = 2)   \n",
       "12  0.999812  0.999971  0.999789   Random Forest Regression (max_depth = 5)   \n",
       "13  0.999887  0.999967  0.999953   Random Forest Regression (max_depth = 5)   \n",
       "14  0.999728  0.999973  0.999925   Random Forest Regression (max_depth = 5)   \n",
       "15  0.999963  0.999999  0.999909   Random Forest Regression (max_depth = 7)   \n",
       "16  0.999980  1.000000  0.999993   Random Forest Regression (max_depth = 7)   \n",
       "17  0.999888  0.999999  0.999985   Random Forest Regression (max_depth = 7)   \n",
       "18  0.999993  1.000000  0.999956  Random Forest Regression (max_depth = 10)   \n",
       "19  0.999997  1.000000  0.999999  Random Forest Regression (max_depth = 10)   \n",
       "20  0.999955  1.000000  0.999998  Random Forest Regression (max_depth = 10)   \n",
       "21  0.961136  0.953663  0.959888                             SVR RBF Kernel   \n",
       "22  0.963573  0.955847  0.959692                             SVR RBF Kernel   \n",
       "23  0.962961  0.955620  0.961648                             SVR RBF Kernel   \n",
       "24  0.999916  0.999995  0.999835                   Gradient Boost Regressor   \n",
       "25  0.999979  0.999995  0.999990                   Gradient Boost Regressor   \n",
       "26  0.999807  0.999995  0.999982                   Gradient Boost Regressor   \n",
       "27  0.949445  0.945246  0.931452                          Linear Regression   \n",
       "28  0.943092  0.941294  0.927052                          Linear Regression   \n",
       "29  0.942346  0.939150  0.937710                          Linear Regression   \n",
       "30  0.897495  0.896566  0.890823                Partial Least Squares (n=2)   \n",
       "31  0.893727  0.893820  0.893091                Partial Least Squares (n=2)   \n",
       "32  0.893963  0.893608  0.896028                Partial Least Squares (n=2)   \n",
       "33  0.945039  0.940529  0.929892                Partial Least Squares (n=3)   \n",
       "34  0.939680  0.937637  0.925675                Partial Least Squares (n=3)   \n",
       "35  0.939713  0.935019  0.934927                Partial Least Squares (n=3)   \n",
       "36  0.993096  0.993200  0.991804   Random Forest Regression (max_depth = 2)   \n",
       "37  0.992760  0.993449  0.992042   Random Forest Regression (max_depth = 2)   \n",
       "38  0.993329  0.993759  0.993732   Random Forest Regression (max_depth = 2)   \n",
       "39  0.999734  0.998771  0.997099   Random Forest Regression (max_depth = 5)   \n",
       "40  0.999868  0.998283  0.997672   Random Forest Regression (max_depth = 5)   \n",
       "41  0.999645  0.999127  0.999677   Random Forest Regression (max_depth = 5)   \n",
       "42  0.999929  0.998816  0.996899   Random Forest Regression (max_depth = 7)   \n",
       "43  0.999970  0.998349  0.997702   Random Forest Regression (max_depth = 7)   \n",
       "44  0.999833  0.999205  0.999717   Random Forest Regression (max_depth = 7)   \n",
       "45  0.999970  0.998794  0.997012  Random Forest Regression (max_depth = 10)   \n",
       "46  0.999991  0.998456  0.997777  Random Forest Regression (max_depth = 10)   \n",
       "47  0.999891  0.999241  0.999699  Random Forest Regression (max_depth = 10)   \n",
       "48  0.959807  0.953484  0.959652                             SVR RBF Kernel   \n",
       "49  0.961812  0.951155  0.960380                             SVR RBF Kernel   \n",
       "50  0.961275  0.952526  0.960323                             SVR RBF Kernel   \n",
       "51  0.999857  0.998951  0.997738                   Gradient Boost Regressor   \n",
       "52  0.999968  0.998348  0.997888                   Gradient Boost Regressor   \n",
       "53  0.999707  0.999276  0.999153                   Gradient Boost Regressor   \n",
       "\n",
       "   compound   accuracy_type  \n",
       "0     05-85  Train Accuracy  \n",
       "1       1-8  Train Accuracy  \n",
       "2       DAO  Train Accuracy  \n",
       "3     05-85  Train Accuracy  \n",
       "4       1-8  Train Accuracy  \n",
       "5       DAO  Train Accuracy  \n",
       "6     05-85  Train Accuracy  \n",
       "7       1-8  Train Accuracy  \n",
       "8       DAO  Train Accuracy  \n",
       "9     05-85  Train Accuracy  \n",
       "10      1-8  Train Accuracy  \n",
       "11      DAO  Train Accuracy  \n",
       "12    05-85  Train Accuracy  \n",
       "13      1-8  Train Accuracy  \n",
       "14      DAO  Train Accuracy  \n",
       "15    05-85  Train Accuracy  \n",
       "16      1-8  Train Accuracy  \n",
       "17      DAO  Train Accuracy  \n",
       "18    05-85  Train Accuracy  \n",
       "19      1-8  Train Accuracy  \n",
       "20      DAO  Train Accuracy  \n",
       "21    05-85  Train Accuracy  \n",
       "22      1-8  Train Accuracy  \n",
       "23      DAO  Train Accuracy  \n",
       "24    05-85  Train Accuracy  \n",
       "25      1-8  Train Accuracy  \n",
       "26      DAO  Train Accuracy  \n",
       "27    05-85   Test Accuracy  \n",
       "28      1-8   Test Accuracy  \n",
       "29      DAO   Test Accuracy  \n",
       "30    05-85   Test Accuracy  \n",
       "31      1-8   Test Accuracy  \n",
       "32      DAO   Test Accuracy  \n",
       "33    05-85   Test Accuracy  \n",
       "34      1-8   Test Accuracy  \n",
       "35      DAO   Test Accuracy  \n",
       "36    05-85   Test Accuracy  \n",
       "37      1-8   Test Accuracy  \n",
       "38      DAO   Test Accuracy  \n",
       "39    05-85   Test Accuracy  \n",
       "40      1-8   Test Accuracy  \n",
       "41      DAO   Test Accuracy  \n",
       "42    05-85   Test Accuracy  \n",
       "43      1-8   Test Accuracy  \n",
       "44      DAO   Test Accuracy  \n",
       "45    05-85   Test Accuracy  \n",
       "46      1-8   Test Accuracy  \n",
       "47      DAO   Test Accuracy  \n",
       "48    05-85   Test Accuracy  \n",
       "49      1-8   Test Accuracy  \n",
       "50      DAO   Test Accuracy  \n",
       "51    05-85   Test Accuracy  \n",
       "52      1-8   Test Accuracy  \n",
       "53      DAO   Test Accuracy  "
      ]
     },
     "execution_count": 112,
     "metadata": {},
     "output_type": "execute_result"
    }
   ],
   "source": [
    "df_feed = pd.concat([m2,m4,m6], axis = 1)\n",
    "df_feed['model'] = m2['Model']\n",
    "df_feed['compound'] = m2['Compound']\n",
    "df_feed['accuracy_type'] = m2['Accuracy']\n",
    "df_feed = df_feed.drop(columns = ['Model', 'Compound', 'Accuracy'])\n",
    "df_feed"
   ]
  },
  {
   "cell_type": "code",
   "execution_count": 114,
   "metadata": {},
   "outputs": [
    {
     "data": {
      "text/html": [
       "<div>\n",
       "<style scoped>\n",
       "    .dataframe tbody tr th:only-of-type {\n",
       "        vertical-align: middle;\n",
       "    }\n",
       "\n",
       "    .dataframe tbody tr th {\n",
       "        vertical-align: top;\n",
       "    }\n",
       "\n",
       "    .dataframe thead th {\n",
       "        text-align: right;\n",
       "    }\n",
       "</style>\n",
       "<table border=\"1\" class=\"dataframe\">\n",
       "  <thead>\n",
       "    <tr style=\"text-align: right;\">\n",
       "      <th></th>\n",
       "      <th>model</th>\n",
       "      <th>compound</th>\n",
       "      <th>accuracy_type</th>\n",
       "      <th>scenario</th>\n",
       "      <th>accuracy_val</th>\n",
       "    </tr>\n",
       "  </thead>\n",
       "  <tbody>\n",
       "    <tr>\n",
       "      <th>0</th>\n",
       "      <td>Linear Regression</td>\n",
       "      <td>05-85</td>\n",
       "      <td>Train Accuracy</td>\n",
       "      <td>s2</td>\n",
       "      <td>0.950623</td>\n",
       "    </tr>\n",
       "    <tr>\n",
       "      <th>1</th>\n",
       "      <td>Linear Regression</td>\n",
       "      <td>1-8</td>\n",
       "      <td>Train Accuracy</td>\n",
       "      <td>s2</td>\n",
       "      <td>0.944426</td>\n",
       "    </tr>\n",
       "    <tr>\n",
       "      <th>2</th>\n",
       "      <td>Linear Regression</td>\n",
       "      <td>DAO</td>\n",
       "      <td>Train Accuracy</td>\n",
       "      <td>s2</td>\n",
       "      <td>0.943814</td>\n",
       "    </tr>\n",
       "    <tr>\n",
       "      <th>3</th>\n",
       "      <td>Partial Least Squares (n=2)</td>\n",
       "      <td>05-85</td>\n",
       "      <td>Train Accuracy</td>\n",
       "      <td>s2</td>\n",
       "      <td>0.898456</td>\n",
       "    </tr>\n",
       "    <tr>\n",
       "      <th>4</th>\n",
       "      <td>Partial Least Squares (n=2)</td>\n",
       "      <td>1-8</td>\n",
       "      <td>Train Accuracy</td>\n",
       "      <td>s2</td>\n",
       "      <td>0.895012</td>\n",
       "    </tr>\n",
       "    <tr>\n",
       "      <th>...</th>\n",
       "      <td>...</td>\n",
       "      <td>...</td>\n",
       "      <td>...</td>\n",
       "      <td>...</td>\n",
       "      <td>...</td>\n",
       "    </tr>\n",
       "    <tr>\n",
       "      <th>157</th>\n",
       "      <td>SVR RBF Kernel</td>\n",
       "      <td>1-8</td>\n",
       "      <td>Test Accuracy</td>\n",
       "      <td>s6</td>\n",
       "      <td>0.960380</td>\n",
       "    </tr>\n",
       "    <tr>\n",
       "      <th>158</th>\n",
       "      <td>SVR RBF Kernel</td>\n",
       "      <td>DAO</td>\n",
       "      <td>Test Accuracy</td>\n",
       "      <td>s6</td>\n",
       "      <td>0.960323</td>\n",
       "    </tr>\n",
       "    <tr>\n",
       "      <th>159</th>\n",
       "      <td>Gradient Boost Regressor</td>\n",
       "      <td>05-85</td>\n",
       "      <td>Test Accuracy</td>\n",
       "      <td>s6</td>\n",
       "      <td>0.997738</td>\n",
       "    </tr>\n",
       "    <tr>\n",
       "      <th>160</th>\n",
       "      <td>Gradient Boost Regressor</td>\n",
       "      <td>1-8</td>\n",
       "      <td>Test Accuracy</td>\n",
       "      <td>s6</td>\n",
       "      <td>0.997888</td>\n",
       "    </tr>\n",
       "    <tr>\n",
       "      <th>161</th>\n",
       "      <td>Gradient Boost Regressor</td>\n",
       "      <td>DAO</td>\n",
       "      <td>Test Accuracy</td>\n",
       "      <td>s6</td>\n",
       "      <td>0.999153</td>\n",
       "    </tr>\n",
       "  </tbody>\n",
       "</table>\n",
       "<p>162 rows × 5 columns</p>\n",
       "</div>"
      ],
      "text/plain": [
       "                           model compound   accuracy_type scenario  \\\n",
       "0              Linear Regression    05-85  Train Accuracy       s2   \n",
       "1              Linear Regression      1-8  Train Accuracy       s2   \n",
       "2              Linear Regression      DAO  Train Accuracy       s2   \n",
       "3    Partial Least Squares (n=2)    05-85  Train Accuracy       s2   \n",
       "4    Partial Least Squares (n=2)      1-8  Train Accuracy       s2   \n",
       "..                           ...      ...             ...      ...   \n",
       "157               SVR RBF Kernel      1-8   Test Accuracy       s6   \n",
       "158               SVR RBF Kernel      DAO   Test Accuracy       s6   \n",
       "159     Gradient Boost Regressor    05-85   Test Accuracy       s6   \n",
       "160     Gradient Boost Regressor      1-8   Test Accuracy       s6   \n",
       "161     Gradient Boost Regressor      DAO   Test Accuracy       s6   \n",
       "\n",
       "     accuracy_val  \n",
       "0        0.950623  \n",
       "1        0.944426  \n",
       "2        0.943814  \n",
       "3        0.898456  \n",
       "4        0.895012  \n",
       "..            ...  \n",
       "157      0.960380  \n",
       "158      0.960323  \n",
       "159      0.997738  \n",
       "160      0.997888  \n",
       "161      0.999153  \n",
       "\n",
       "[162 rows x 5 columns]"
      ]
     },
     "execution_count": 114,
     "metadata": {},
     "output_type": "execute_result"
    }
   ],
   "source": [
    "df_feed = df_feed.melt(id_vars = ['model', 'compound', 'accuracy_type'], var_name = 'scenario', value_name = 'accuracy_val')\n",
    "df_feed"
   ]
  },
  {
   "cell_type": "code",
   "execution_count": 115,
   "metadata": {},
   "outputs": [
    {
     "data": {
      "application/vnd.vegalite.v3+json": {
       "$schema": "https://vega.github.io/schema/vega-lite/v3.4.0.json",
       "config": {
        "mark": {
         "tooltip": null
        },
        "view": {
         "height": 300,
         "width": 400
        }
       },
       "data": {
        "name": "data-6d93accf0eb7a51c2d3f7cd96686f93f"
       },
       "datasets": {
        "data-6d93accf0eb7a51c2d3f7cd96686f93f": [
         {
          "accuracy_type": "Train Accuracy",
          "accuracy_val": 0.9506225750731464,
          "compound": "05-85",
          "model": "Linear Regression",
          "scenario": "s2"
         },
         {
          "accuracy_type": "Train Accuracy",
          "accuracy_val": 0.9444256621162191,
          "compound": "1-8",
          "model": "Linear Regression",
          "scenario": "s2"
         },
         {
          "accuracy_type": "Train Accuracy",
          "accuracy_val": 0.9438141806686736,
          "compound": "DAO",
          "model": "Linear Regression",
          "scenario": "s2"
         },
         {
          "accuracy_type": "Train Accuracy",
          "accuracy_val": 0.8984559531030358,
          "compound": "05-85",
          "model": "Partial Least Squares (n=2)",
          "scenario": "s2"
         },
         {
          "accuracy_type": "Train Accuracy",
          "accuracy_val": 0.8950118616669008,
          "compound": "1-8",
          "model": "Partial Least Squares (n=2)",
          "scenario": "s2"
         },
         {
          "accuracy_type": "Train Accuracy",
          "accuracy_val": 0.8945974210759268,
          "compound": "DAO",
          "model": "Partial Least Squares (n=2)",
          "scenario": "s2"
         },
         {
          "accuracy_type": "Train Accuracy",
          "accuracy_val": 0.9451371826550268,
          "compound": "05-85",
          "model": "Partial Least Squares (n=3)",
          "scenario": "s2"
         },
         {
          "accuracy_type": "Train Accuracy",
          "accuracy_val": 0.9399713547510862,
          "compound": "1-8",
          "model": "Partial Least Squares (n=3)",
          "scenario": "s2"
         },
         {
          "accuracy_type": "Train Accuracy",
          "accuracy_val": 0.940255114527068,
          "compound": "DAO",
          "model": "Partial Least Squares (n=3)",
          "scenario": "s2"
         },
         {
          "accuracy_type": "Train Accuracy",
          "accuracy_val": 0.9938885082718579,
          "compound": "05-85",
          "model": "Random Forest Regression (max_depth = 2)",
          "scenario": "s2"
         },
         {
          "accuracy_type": "Train Accuracy",
          "accuracy_val": 0.993656311886893,
          "compound": "1-8",
          "model": "Random Forest Regression (max_depth = 2)",
          "scenario": "s2"
         },
         {
          "accuracy_type": "Train Accuracy",
          "accuracy_val": 0.9939347760460212,
          "compound": "DAO",
          "model": "Random Forest Regression (max_depth = 2)",
          "scenario": "s2"
         },
         {
          "accuracy_type": "Train Accuracy",
          "accuracy_val": 0.9998115173971897,
          "compound": "05-85",
          "model": "Random Forest Regression (max_depth = 5)",
          "scenario": "s2"
         },
         {
          "accuracy_type": "Train Accuracy",
          "accuracy_val": 0.9998865498698164,
          "compound": "1-8",
          "model": "Random Forest Regression (max_depth = 5)",
          "scenario": "s2"
         },
         {
          "accuracy_type": "Train Accuracy",
          "accuracy_val": 0.9997278542810736,
          "compound": "DAO",
          "model": "Random Forest Regression (max_depth = 5)",
          "scenario": "s2"
         },
         {
          "accuracy_type": "Train Accuracy",
          "accuracy_val": 0.9999634264737982,
          "compound": "05-85",
          "model": "Random Forest Regression (max_depth = 7)",
          "scenario": "s2"
         },
         {
          "accuracy_type": "Train Accuracy",
          "accuracy_val": 0.9999799610857962,
          "compound": "1-8",
          "model": "Random Forest Regression (max_depth = 7)",
          "scenario": "s2"
         },
         {
          "accuracy_type": "Train Accuracy",
          "accuracy_val": 0.999887827674088,
          "compound": "DAO",
          "model": "Random Forest Regression (max_depth = 7)",
          "scenario": "s2"
         },
         {
          "accuracy_type": "Train Accuracy",
          "accuracy_val": 0.9999929400087376,
          "compound": "05-85",
          "model": "Random Forest Regression (max_depth = 10)",
          "scenario": "s2"
         },
         {
          "accuracy_type": "Train Accuracy",
          "accuracy_val": 0.9999973025907758,
          "compound": "1-8",
          "model": "Random Forest Regression (max_depth = 10)",
          "scenario": "s2"
         },
         {
          "accuracy_type": "Train Accuracy",
          "accuracy_val": 0.9999552542763671,
          "compound": "DAO",
          "model": "Random Forest Regression (max_depth = 10)",
          "scenario": "s2"
         },
         {
          "accuracy_type": "Train Accuracy",
          "accuracy_val": 0.96113573019486,
          "compound": "05-85",
          "model": "SVR RBF Kernel",
          "scenario": "s2"
         },
         {
          "accuracy_type": "Train Accuracy",
          "accuracy_val": 0.9635729621618572,
          "compound": "1-8",
          "model": "SVR RBF Kernel",
          "scenario": "s2"
         },
         {
          "accuracy_type": "Train Accuracy",
          "accuracy_val": 0.962960830263412,
          "compound": "DAO",
          "model": "SVR RBF Kernel",
          "scenario": "s2"
         },
         {
          "accuracy_type": "Train Accuracy",
          "accuracy_val": 0.9999157178456488,
          "compound": "05-85",
          "model": "Gradient Boost Regressor",
          "scenario": "s2"
         },
         {
          "accuracy_type": "Train Accuracy",
          "accuracy_val": 0.9999792528491638,
          "compound": "1-8",
          "model": "Gradient Boost Regressor",
          "scenario": "s2"
         },
         {
          "accuracy_type": "Train Accuracy",
          "accuracy_val": 0.9998066167583012,
          "compound": "DAO",
          "model": "Gradient Boost Regressor",
          "scenario": "s2"
         },
         {
          "accuracy_type": "Test Accuracy",
          "accuracy_val": 0.949444838253498,
          "compound": "05-85",
          "model": "Linear Regression",
          "scenario": "s2"
         },
         {
          "accuracy_type": "Test Accuracy",
          "accuracy_val": 0.9430919745706666,
          "compound": "1-8",
          "model": "Linear Regression",
          "scenario": "s2"
         },
         {
          "accuracy_type": "Test Accuracy",
          "accuracy_val": 0.9423458158134066,
          "compound": "DAO",
          "model": "Linear Regression",
          "scenario": "s2"
         },
         {
          "accuracy_type": "Test Accuracy",
          "accuracy_val": 0.8974947590740571,
          "compound": "05-85",
          "model": "Partial Least Squares (n=2)",
          "scenario": "s2"
         },
         {
          "accuracy_type": "Test Accuracy",
          "accuracy_val": 0.8937273516451448,
          "compound": "1-8",
          "model": "Partial Least Squares (n=2)",
          "scenario": "s2"
         },
         {
          "accuracy_type": "Test Accuracy",
          "accuracy_val": 0.8939627026817364,
          "compound": "DAO",
          "model": "Partial Least Squares (n=2)",
          "scenario": "s2"
         },
         {
          "accuracy_type": "Test Accuracy",
          "accuracy_val": 0.9450387011124508,
          "compound": "05-85",
          "model": "Partial Least Squares (n=3)",
          "scenario": "s2"
         },
         {
          "accuracy_type": "Test Accuracy",
          "accuracy_val": 0.9396804695461078,
          "compound": "1-8",
          "model": "Partial Least Squares (n=3)",
          "scenario": "s2"
         },
         {
          "accuracy_type": "Test Accuracy",
          "accuracy_val": 0.9397125473681954,
          "compound": "DAO",
          "model": "Partial Least Squares (n=3)",
          "scenario": "s2"
         },
         {
          "accuracy_type": "Test Accuracy",
          "accuracy_val": 0.9930960789239875,
          "compound": "05-85",
          "model": "Random Forest Regression (max_depth = 2)",
          "scenario": "s2"
         },
         {
          "accuracy_type": "Test Accuracy",
          "accuracy_val": 0.9927595428077204,
          "compound": "1-8",
          "model": "Random Forest Regression (max_depth = 2)",
          "scenario": "s2"
         },
         {
          "accuracy_type": "Test Accuracy",
          "accuracy_val": 0.9933294131623256,
          "compound": "DAO",
          "model": "Random Forest Regression (max_depth = 2)",
          "scenario": "s2"
         },
         {
          "accuracy_type": "Test Accuracy",
          "accuracy_val": 0.9997338411486796,
          "compound": "05-85",
          "model": "Random Forest Regression (max_depth = 5)",
          "scenario": "s2"
         },
         {
          "accuracy_type": "Test Accuracy",
          "accuracy_val": 0.9998684287038004,
          "compound": "1-8",
          "model": "Random Forest Regression (max_depth = 5)",
          "scenario": "s2"
         },
         {
          "accuracy_type": "Test Accuracy",
          "accuracy_val": 0.9996453292567936,
          "compound": "DAO",
          "model": "Random Forest Regression (max_depth = 5)",
          "scenario": "s2"
         },
         {
          "accuracy_type": "Test Accuracy",
          "accuracy_val": 0.9999290741678912,
          "compound": "05-85",
          "model": "Random Forest Regression (max_depth = 7)",
          "scenario": "s2"
         },
         {
          "accuracy_type": "Test Accuracy",
          "accuracy_val": 0.9999696652351092,
          "compound": "1-8",
          "model": "Random Forest Regression (max_depth = 7)",
          "scenario": "s2"
         },
         {
          "accuracy_type": "Test Accuracy",
          "accuracy_val": 0.9998328149289812,
          "compound": "DAO",
          "model": "Random Forest Regression (max_depth = 7)",
          "scenario": "s2"
         },
         {
          "accuracy_type": "Test Accuracy",
          "accuracy_val": 0.9999702596754744,
          "compound": "05-85",
          "model": "Random Forest Regression (max_depth = 10)",
          "scenario": "s2"
         },
         {
          "accuracy_type": "Test Accuracy",
          "accuracy_val": 0.9999907106854312,
          "compound": "1-8",
          "model": "Random Forest Regression (max_depth = 10)",
          "scenario": "s2"
         },
         {
          "accuracy_type": "Test Accuracy",
          "accuracy_val": 0.9998912031601552,
          "compound": "DAO",
          "model": "Random Forest Regression (max_depth = 10)",
          "scenario": "s2"
         },
         {
          "accuracy_type": "Test Accuracy",
          "accuracy_val": 0.9598067933800604,
          "compound": "05-85",
          "model": "SVR RBF Kernel",
          "scenario": "s2"
         },
         {
          "accuracy_type": "Test Accuracy",
          "accuracy_val": 0.9618123194813584,
          "compound": "1-8",
          "model": "SVR RBF Kernel",
          "scenario": "s2"
         },
         {
          "accuracy_type": "Test Accuracy",
          "accuracy_val": 0.9612750830995994,
          "compound": "DAO",
          "model": "SVR RBF Kernel",
          "scenario": "s2"
         },
         {
          "accuracy_type": "Test Accuracy",
          "accuracy_val": 0.999856819655168,
          "compound": "05-85",
          "model": "Gradient Boost Regressor",
          "scenario": "s2"
         },
         {
          "accuracy_type": "Test Accuracy",
          "accuracy_val": 0.9999679882593968,
          "compound": "1-8",
          "model": "Gradient Boost Regressor",
          "scenario": "s2"
         },
         {
          "accuracy_type": "Test Accuracy",
          "accuracy_val": 0.9997072299165908,
          "compound": "DAO",
          "model": "Gradient Boost Regressor",
          "scenario": "s2"
         }
        ]
       },
       "encoding": {
        "color": {
         "field": "accuracy_type",
         "type": "ordinal"
        },
        "facet": {
         "field": "compound",
         "type": "nominal"
        },
        "x": {
         "field": "model",
         "type": "nominal"
        },
        "y": {
         "field": "accuracy_val",
         "scale": {
          "domain": [
           0.85,
           1
          ]
         },
         "stack": false,
         "type": "quantitative"
        }
       },
       "mark": "bar",
       "title": "Scenario 2",
       "width": 400
      },
      "image/png": "[encoded data removed]",
      "text/plain": [
       "<VegaLite 3 object>\n",
       "\n",
       "If you see this message, it means the renderer has not been properly enabled\n",
       "for the frontend that you are using. For more information, see\n",
       "https://altair-viz.github.io/user_guide/troubleshooting.html\n"
      ]
     },
     "execution_count": 115,
     "metadata": {},
     "output_type": "execute_result"
    }
   ],
   "source": [
    "alt.Chart(df_feed.query('scenario == \"s2\"')).mark_bar().encode(\n",
    "    alt.X('model'),\n",
    "    alt.Y('accuracy_val', stack = False, scale = alt.Scale(domain = [0.85,1])),\n",
    "    alt.Color('accuracy_type:O'),\n",
    "    alt.Facet('compound')\n",
    "    ).properties(width = 400).properties(title = 'Scenario 2')"
   ]
  },
  {
   "cell_type": "code",
   "execution_count": 116,
   "metadata": {},
   "outputs": [
    {
     "data": {
      "application/vnd.vegalite.v3+json": {
       "$schema": "https://vega.github.io/schema/vega-lite/v3.4.0.json",
       "config": {
        "mark": {
         "tooltip": null
        },
        "view": {
         "height": 300,
         "width": 400
        }
       },
       "data": {
        "name": "data-83f08394171c04e4245d46235a9f549b"
       },
       "datasets": {
        "data-83f08394171c04e4245d46235a9f549b": [
         {
          "accuracy_type": "Train Accuracy",
          "accuracy_val": 0.9509854105205596,
          "compound": "05-85",
          "model": "Linear Regression",
          "scenario": "s4"
         },
         {
          "accuracy_type": "Train Accuracy",
          "accuracy_val": 0.9437266072071956,
          "compound": "1-8",
          "model": "Linear Regression",
          "scenario": "s4"
         },
         {
          "accuracy_type": "Train Accuracy",
          "accuracy_val": 0.9522890507369324,
          "compound": "DAO",
          "model": "Linear Regression",
          "scenario": "s4"
         },
         {
          "accuracy_type": "Train Accuracy",
          "accuracy_val": 0.8976248504583341,
          "compound": "05-85",
          "model": "Partial Least Squares (n=2)",
          "scenario": "s4"
         },
         {
          "accuracy_type": "Train Accuracy",
          "accuracy_val": 0.8966882258663454,
          "compound": "1-8",
          "model": "Partial Least Squares (n=2)",
          "scenario": "s4"
         },
         {
          "accuracy_type": "Train Accuracy",
          "accuracy_val": 0.8989546769327665,
          "compound": "DAO",
          "model": "Partial Least Squares (n=2)",
          "scenario": "s4"
         },
         {
          "accuracy_type": "Train Accuracy",
          "accuracy_val": 0.9454136446625216,
          "compound": "05-85",
          "model": "Partial Least Squares (n=3)",
          "scenario": "s4"
         },
         {
          "accuracy_type": "Train Accuracy",
          "accuracy_val": 0.9417096626000879,
          "compound": "1-8",
          "model": "Partial Least Squares (n=3)",
          "scenario": "s4"
         },
         {
          "accuracy_type": "Train Accuracy",
          "accuracy_val": 0.9473938460117876,
          "compound": "DAO",
          "model": "Partial Least Squares (n=3)",
          "scenario": "s4"
         },
         {
          "accuracy_type": "Train Accuracy",
          "accuracy_val": 0.9939555407939203,
          "compound": "05-85",
          "model": "Random Forest Regression (max_depth = 2)",
          "scenario": "s4"
         },
         {
          "accuracy_type": "Train Accuracy",
          "accuracy_val": 0.9934894769388168,
          "compound": "1-8",
          "model": "Random Forest Regression (max_depth = 2)",
          "scenario": "s4"
         },
         {
          "accuracy_type": "Train Accuracy",
          "accuracy_val": 0.993626977565956,
          "compound": "DAO",
          "model": "Random Forest Regression (max_depth = 2)",
          "scenario": "s4"
         },
         {
          "accuracy_type": "Train Accuracy",
          "accuracy_val": 0.9999714059303269,
          "compound": "05-85",
          "model": "Random Forest Regression (max_depth = 5)",
          "scenario": "s4"
         },
         {
          "accuracy_type": "Train Accuracy",
          "accuracy_val": 0.9999666070124912,
          "compound": "1-8",
          "model": "Random Forest Regression (max_depth = 5)",
          "scenario": "s4"
         },
         {
          "accuracy_type": "Train Accuracy",
          "accuracy_val": 0.9999728028178828,
          "compound": "DAO",
          "model": "Random Forest Regression (max_depth = 5)",
          "scenario": "s4"
         },
         {
          "accuracy_type": "Train Accuracy",
          "accuracy_val": 0.9999992555816664,
          "compound": "05-85",
          "model": "Random Forest Regression (max_depth = 7)",
          "scenario": "s4"
         },
         {
          "accuracy_type": "Train Accuracy",
          "accuracy_val": 0.9999995389464218,
          "compound": "1-8",
          "model": "Random Forest Regression (max_depth = 7)",
          "scenario": "s4"
         },
         {
          "accuracy_type": "Train Accuracy",
          "accuracy_val": 0.9999993496866786,
          "compound": "DAO",
          "model": "Random Forest Regression (max_depth = 7)",
          "scenario": "s4"
         },
         {
          "accuracy_type": "Train Accuracy",
          "accuracy_val": 0.9999999237939788,
          "compound": "05-85",
          "model": "Random Forest Regression (max_depth = 10)",
          "scenario": "s4"
         },
         {
          "accuracy_type": "Train Accuracy",
          "accuracy_val": 0.9999999446386024,
          "compound": "1-8",
          "model": "Random Forest Regression (max_depth = 10)",
          "scenario": "s4"
         },
         {
          "accuracy_type": "Train Accuracy",
          "accuracy_val": 0.9999999099010284,
          "compound": "DAO",
          "model": "Random Forest Regression (max_depth = 10)",
          "scenario": "s4"
         },
         {
          "accuracy_type": "Train Accuracy",
          "accuracy_val": 0.9536628456308468,
          "compound": "05-85",
          "model": "SVR RBF Kernel",
          "scenario": "s4"
         },
         {
          "accuracy_type": "Train Accuracy",
          "accuracy_val": 0.9558466539412058,
          "compound": "1-8",
          "model": "SVR RBF Kernel",
          "scenario": "s4"
         },
         {
          "accuracy_type": "Train Accuracy",
          "accuracy_val": 0.9556195876799508,
          "compound": "DAO",
          "model": "SVR RBF Kernel",
          "scenario": "s4"
         },
         {
          "accuracy_type": "Train Accuracy",
          "accuracy_val": 0.9999950332330306,
          "compound": "05-85",
          "model": "Gradient Boost Regressor",
          "scenario": "s4"
         },
         {
          "accuracy_type": "Train Accuracy",
          "accuracy_val": 0.9999949317072676,
          "compound": "1-8",
          "model": "Gradient Boost Regressor",
          "scenario": "s4"
         },
         {
          "accuracy_type": "Train Accuracy",
          "accuracy_val": 0.9999948801746379,
          "compound": "DAO",
          "model": "Gradient Boost Regressor",
          "scenario": "s4"
         },
         {
          "accuracy_type": "Test Accuracy",
          "accuracy_val": 0.9452456295426752,
          "compound": "05-85",
          "model": "Linear Regression",
          "scenario": "s4"
         },
         {
          "accuracy_type": "Test Accuracy",
          "accuracy_val": 0.941294033000011,
          "compound": "1-8",
          "model": "Linear Regression",
          "scenario": "s4"
         },
         {
          "accuracy_type": "Test Accuracy",
          "accuracy_val": 0.9391502789113804,
          "compound": "DAO",
          "model": "Linear Regression",
          "scenario": "s4"
         },
         {
          "accuracy_type": "Test Accuracy",
          "accuracy_val": 0.8965664592315972,
          "compound": "05-85",
          "model": "Partial Least Squares (n=2)",
          "scenario": "s4"
         },
         {
          "accuracy_type": "Test Accuracy",
          "accuracy_val": 0.8938196445806033,
          "compound": "1-8",
          "model": "Partial Least Squares (n=2)",
          "scenario": "s4"
         },
         {
          "accuracy_type": "Test Accuracy",
          "accuracy_val": 0.893608131828073,
          "compound": "DAO",
          "model": "Partial Least Squares (n=2)",
          "scenario": "s4"
         },
         {
          "accuracy_type": "Test Accuracy",
          "accuracy_val": 0.9405289396157372,
          "compound": "05-85",
          "model": "Partial Least Squares (n=3)",
          "scenario": "s4"
         },
         {
          "accuracy_type": "Test Accuracy",
          "accuracy_val": 0.9376368744320458,
          "compound": "1-8",
          "model": "Partial Least Squares (n=3)",
          "scenario": "s4"
         },
         {
          "accuracy_type": "Test Accuracy",
          "accuracy_val": 0.9350188824596474,
          "compound": "DAO",
          "model": "Partial Least Squares (n=3)",
          "scenario": "s4"
         },
         {
          "accuracy_type": "Test Accuracy",
          "accuracy_val": 0.993199974809484,
          "compound": "05-85",
          "model": "Random Forest Regression (max_depth = 2)",
          "scenario": "s4"
         },
         {
          "accuracy_type": "Test Accuracy",
          "accuracy_val": 0.9934493177220804,
          "compound": "1-8",
          "model": "Random Forest Regression (max_depth = 2)",
          "scenario": "s4"
         },
         {
          "accuracy_type": "Test Accuracy",
          "accuracy_val": 0.9937588942546836,
          "compound": "DAO",
          "model": "Random Forest Regression (max_depth = 2)",
          "scenario": "s4"
         },
         {
          "accuracy_type": "Test Accuracy",
          "accuracy_val": 0.9987709878854714,
          "compound": "05-85",
          "model": "Random Forest Regression (max_depth = 5)",
          "scenario": "s4"
         },
         {
          "accuracy_type": "Test Accuracy",
          "accuracy_val": 0.9982830368245056,
          "compound": "1-8",
          "model": "Random Forest Regression (max_depth = 5)",
          "scenario": "s4"
         },
         {
          "accuracy_type": "Test Accuracy",
          "accuracy_val": 0.9991270782605453,
          "compound": "DAO",
          "model": "Random Forest Regression (max_depth = 5)",
          "scenario": "s4"
         },
         {
          "accuracy_type": "Test Accuracy",
          "accuracy_val": 0.998815995782984,
          "compound": "05-85",
          "model": "Random Forest Regression (max_depth = 7)",
          "scenario": "s4"
         },
         {
          "accuracy_type": "Test Accuracy",
          "accuracy_val": 0.998349330690369,
          "compound": "1-8",
          "model": "Random Forest Regression (max_depth = 7)",
          "scenario": "s4"
         },
         {
          "accuracy_type": "Test Accuracy",
          "accuracy_val": 0.99920497007974,
          "compound": "DAO",
          "model": "Random Forest Regression (max_depth = 7)",
          "scenario": "s4"
         },
         {
          "accuracy_type": "Test Accuracy",
          "accuracy_val": 0.998794389142739,
          "compound": "05-85",
          "model": "Random Forest Regression (max_depth = 10)",
          "scenario": "s4"
         },
         {
          "accuracy_type": "Test Accuracy",
          "accuracy_val": 0.998455878488588,
          "compound": "1-8",
          "model": "Random Forest Regression (max_depth = 10)",
          "scenario": "s4"
         },
         {
          "accuracy_type": "Test Accuracy",
          "accuracy_val": 0.99924136542688,
          "compound": "DAO",
          "model": "Random Forest Regression (max_depth = 10)",
          "scenario": "s4"
         },
         {
          "accuracy_type": "Test Accuracy",
          "accuracy_val": 0.9534835718089936,
          "compound": "05-85",
          "model": "SVR RBF Kernel",
          "scenario": "s4"
         },
         {
          "accuracy_type": "Test Accuracy",
          "accuracy_val": 0.951154612271812,
          "compound": "1-8",
          "model": "SVR RBF Kernel",
          "scenario": "s4"
         },
         {
          "accuracy_type": "Test Accuracy",
          "accuracy_val": 0.9525255194986884,
          "compound": "DAO",
          "model": "SVR RBF Kernel",
          "scenario": "s4"
         },
         {
          "accuracy_type": "Test Accuracy",
          "accuracy_val": 0.9989511850189552,
          "compound": "05-85",
          "model": "Gradient Boost Regressor",
          "scenario": "s4"
         },
         {
          "accuracy_type": "Test Accuracy",
          "accuracy_val": 0.998348152402218,
          "compound": "1-8",
          "model": "Gradient Boost Regressor",
          "scenario": "s4"
         },
         {
          "accuracy_type": "Test Accuracy",
          "accuracy_val": 0.99927579250948,
          "compound": "DAO",
          "model": "Gradient Boost Regressor",
          "scenario": "s4"
         }
        ]
       },
       "encoding": {
        "color": {
         "field": "accuracy_type",
         "type": "ordinal"
        },
        "facet": {
         "field": "compound",
         "type": "nominal"
        },
        "x": {
         "field": "model",
         "type": "nominal"
        },
        "y": {
         "field": "accuracy_val",
         "scale": {
          "domain": [
           0.85,
           1
          ]
         },
         "stack": false,
         "type": "quantitative"
        }
       },
       "mark": "bar",
       "title": "Scenario 4",
       "width": 400
      },
      "image/png": "[encoded data removed]",
      "text/plain": [
       "<VegaLite 3 object>\n",
       "\n",
       "If you see this message, it means the renderer has not been properly enabled\n",
       "for the frontend that you are using. For more information, see\n",
       "https://altair-viz.github.io/user_guide/troubleshooting.html\n"
      ]
     },
     "execution_count": 116,
     "metadata": {},
     "output_type": "execute_result"
    }
   ],
   "source": [
    "alt.Chart(df_feed.query('scenario == \"s4\"')).mark_bar().encode(\n",
    "    alt.X('model'),\n",
    "    alt.Y('accuracy_val', stack = False, scale = alt.Scale(domain = [0.85,1])),\n",
    "    alt.Color('accuracy_type:O'),\n",
    "    alt.Facet('compound')\n",
    "    ).properties(width = 400).properties(title = 'Scenario 4')"
   ]
  },
  {
   "cell_type": "code",
   "execution_count": 117,
   "metadata": {},
   "outputs": [
    {
     "data": {
      "application/vnd.vegalite.v3+json": {
       "$schema": "https://vega.github.io/schema/vega-lite/v3.4.0.json",
       "config": {
        "mark": {
         "tooltip": null
        },
        "view": {
         "height": 300,
         "width": 400
        }
       },
       "data": {
        "name": "data-2857e3005e0e74e816dfeb91d8697050"
       },
       "datasets": {
        "data-2857e3005e0e74e816dfeb91d8697050": [
         {
          "accuracy_type": "Train Accuracy",
          "accuracy_val": 0.9469457143773354,
          "compound": "05-85",
          "model": "Linear Regression",
          "scenario": "s6"
         },
         {
          "accuracy_type": "Train Accuracy",
          "accuracy_val": 0.95642341171092,
          "compound": "1-8",
          "model": "Linear Regression",
          "scenario": "s6"
         },
         {
          "accuracy_type": "Train Accuracy",
          "accuracy_val": 0.9447059372947056,
          "compound": "DAO",
          "model": "Linear Regression",
          "scenario": "s6"
         },
         {
          "accuracy_type": "Train Accuracy",
          "accuracy_val": 0.8974250955597778,
          "compound": "05-85",
          "model": "Partial Least Squares (n=2)",
          "scenario": "s6"
         },
         {
          "accuracy_type": "Train Accuracy",
          "accuracy_val": 0.8985502404127113,
          "compound": "1-8",
          "model": "Partial Least Squares (n=2)",
          "scenario": "s6"
         },
         {
          "accuracy_type": "Train Accuracy",
          "accuracy_val": 0.8923695290182879,
          "compound": "DAO",
          "model": "Partial Least Squares (n=2)",
          "scenario": "s6"
         },
         {
          "accuracy_type": "Train Accuracy",
          "accuracy_val": 0.9432962034824478,
          "compound": "05-85",
          "model": "Partial Least Squares (n=3)",
          "scenario": "s6"
         },
         {
          "accuracy_type": "Train Accuracy",
          "accuracy_val": 0.9500401306093812,
          "compound": "1-8",
          "model": "Partial Least Squares (n=3)",
          "scenario": "s6"
         },
         {
          "accuracy_type": "Train Accuracy",
          "accuracy_val": 0.9401330572842138,
          "compound": "DAO",
          "model": "Partial Least Squares (n=3)",
          "scenario": "s6"
         },
         {
          "accuracy_type": "Train Accuracy",
          "accuracy_val": 0.9938813585591082,
          "compound": "05-85",
          "model": "Random Forest Regression (max_depth = 2)",
          "scenario": "s6"
         },
         {
          "accuracy_type": "Train Accuracy",
          "accuracy_val": 0.9939484321654074,
          "compound": "1-8",
          "model": "Random Forest Regression (max_depth = 2)",
          "scenario": "s6"
         },
         {
          "accuracy_type": "Train Accuracy",
          "accuracy_val": 0.9933890796287036,
          "compound": "DAO",
          "model": "Random Forest Regression (max_depth = 2)",
          "scenario": "s6"
         },
         {
          "accuracy_type": "Train Accuracy",
          "accuracy_val": 0.9997887061023748,
          "compound": "05-85",
          "model": "Random Forest Regression (max_depth = 5)",
          "scenario": "s6"
         },
         {
          "accuracy_type": "Train Accuracy",
          "accuracy_val": 0.999952775256724,
          "compound": "1-8",
          "model": "Random Forest Regression (max_depth = 5)",
          "scenario": "s6"
         },
         {
          "accuracy_type": "Train Accuracy",
          "accuracy_val": 0.9999253904067468,
          "compound": "DAO",
          "model": "Random Forest Regression (max_depth = 5)",
          "scenario": "s6"
         },
         {
          "accuracy_type": "Train Accuracy",
          "accuracy_val": 0.9999088930596032,
          "compound": "05-85",
          "model": "Random Forest Regression (max_depth = 7)",
          "scenario": "s6"
         },
         {
          "accuracy_type": "Train Accuracy",
          "accuracy_val": 0.9999926276620438,
          "compound": "1-8",
          "model": "Random Forest Regression (max_depth = 7)",
          "scenario": "s6"
         },
         {
          "accuracy_type": "Train Accuracy",
          "accuracy_val": 0.9999853288264008,
          "compound": "DAO",
          "model": "Random Forest Regression (max_depth = 7)",
          "scenario": "s6"
         },
         {
          "accuracy_type": "Train Accuracy",
          "accuracy_val": 0.9999561198930728,
          "compound": "05-85",
          "model": "Random Forest Regression (max_depth = 10)",
          "scenario": "s6"
         },
         {
          "accuracy_type": "Train Accuracy",
          "accuracy_val": 0.9999989036890474,
          "compound": "1-8",
          "model": "Random Forest Regression (max_depth = 10)",
          "scenario": "s6"
         },
         {
          "accuracy_type": "Train Accuracy",
          "accuracy_val": 0.9999982382251044,
          "compound": "DAO",
          "model": "Random Forest Regression (max_depth = 10)",
          "scenario": "s6"
         },
         {
          "accuracy_type": "Train Accuracy",
          "accuracy_val": 0.9598879467781148,
          "compound": "05-85",
          "model": "SVR RBF Kernel",
          "scenario": "s6"
         },
         {
          "accuracy_type": "Train Accuracy",
          "accuracy_val": 0.9596918303523224,
          "compound": "1-8",
          "model": "SVR RBF Kernel",
          "scenario": "s6"
         },
         {
          "accuracy_type": "Train Accuracy",
          "accuracy_val": 0.9616479310459572,
          "compound": "DAO",
          "model": "SVR RBF Kernel",
          "scenario": "s6"
         },
         {
          "accuracy_type": "Train Accuracy",
          "accuracy_val": 0.9998354145642946,
          "compound": "05-85",
          "model": "Gradient Boost Regressor",
          "scenario": "s6"
         },
         {
          "accuracy_type": "Train Accuracy",
          "accuracy_val": 0.999990359310564,
          "compound": "1-8",
          "model": "Gradient Boost Regressor",
          "scenario": "s6"
         },
         {
          "accuracy_type": "Train Accuracy",
          "accuracy_val": 0.999982312374848,
          "compound": "DAO",
          "model": "Gradient Boost Regressor",
          "scenario": "s6"
         },
         {
          "accuracy_type": "Test Accuracy",
          "accuracy_val": 0.9314519692210672,
          "compound": "05-85",
          "model": "Linear Regression",
          "scenario": "s6"
         },
         {
          "accuracy_type": "Test Accuracy",
          "accuracy_val": 0.9270523831612412,
          "compound": "1-8",
          "model": "Linear Regression",
          "scenario": "s6"
         },
         {
          "accuracy_type": "Test Accuracy",
          "accuracy_val": 0.9377098209606,
          "compound": "DAO",
          "model": "Linear Regression",
          "scenario": "s6"
         },
         {
          "accuracy_type": "Test Accuracy",
          "accuracy_val": 0.8908228373229896,
          "compound": "05-85",
          "model": "Partial Least Squares (n=2)",
          "scenario": "s6"
         },
         {
          "accuracy_type": "Test Accuracy",
          "accuracy_val": 0.8930909447520233,
          "compound": "1-8",
          "model": "Partial Least Squares (n=2)",
          "scenario": "s6"
         },
         {
          "accuracy_type": "Test Accuracy",
          "accuracy_val": 0.8960283401658671,
          "compound": "DAO",
          "model": "Partial Least Squares (n=2)",
          "scenario": "s6"
         },
         {
          "accuracy_type": "Test Accuracy",
          "accuracy_val": 0.9298915106142716,
          "compound": "05-85",
          "model": "Partial Least Squares (n=3)",
          "scenario": "s6"
         },
         {
          "accuracy_type": "Test Accuracy",
          "accuracy_val": 0.9256746065166612,
          "compound": "1-8",
          "model": "Partial Least Squares (n=3)",
          "scenario": "s6"
         },
         {
          "accuracy_type": "Test Accuracy",
          "accuracy_val": 0.9349268847957132,
          "compound": "DAO",
          "model": "Partial Least Squares (n=3)",
          "scenario": "s6"
         },
         {
          "accuracy_type": "Test Accuracy",
          "accuracy_val": 0.9918043491206469,
          "compound": "05-85",
          "model": "Random Forest Regression (max_depth = 2)",
          "scenario": "s6"
         },
         {
          "accuracy_type": "Test Accuracy",
          "accuracy_val": 0.9920420673060636,
          "compound": "1-8",
          "model": "Random Forest Regression (max_depth = 2)",
          "scenario": "s6"
         },
         {
          "accuracy_type": "Test Accuracy",
          "accuracy_val": 0.9937321476292321,
          "compound": "DAO",
          "model": "Random Forest Regression (max_depth = 2)",
          "scenario": "s6"
         },
         {
          "accuracy_type": "Test Accuracy",
          "accuracy_val": 0.9970985142338812,
          "compound": "05-85",
          "model": "Random Forest Regression (max_depth = 5)",
          "scenario": "s6"
         },
         {
          "accuracy_type": "Test Accuracy",
          "accuracy_val": 0.9976715505425876,
          "compound": "1-8",
          "model": "Random Forest Regression (max_depth = 5)",
          "scenario": "s6"
         },
         {
          "accuracy_type": "Test Accuracy",
          "accuracy_val": 0.9996770607131372,
          "compound": "DAO",
          "model": "Random Forest Regression (max_depth = 5)",
          "scenario": "s6"
         },
         {
          "accuracy_type": "Test Accuracy",
          "accuracy_val": 0.9968985592212491,
          "compound": "05-85",
          "model": "Random Forest Regression (max_depth = 7)",
          "scenario": "s6"
         },
         {
          "accuracy_type": "Test Accuracy",
          "accuracy_val": 0.9977020276859782,
          "compound": "1-8",
          "model": "Random Forest Regression (max_depth = 7)",
          "scenario": "s6"
         },
         {
          "accuracy_type": "Test Accuracy",
          "accuracy_val": 0.9997174498390448,
          "compound": "DAO",
          "model": "Random Forest Regression (max_depth = 7)",
          "scenario": "s6"
         },
         {
          "accuracy_type": "Test Accuracy",
          "accuracy_val": 0.9970124144736316,
          "compound": "05-85",
          "model": "Random Forest Regression (max_depth = 10)",
          "scenario": "s6"
         },
         {
          "accuracy_type": "Test Accuracy",
          "accuracy_val": 0.9977765710035584,
          "compound": "1-8",
          "model": "Random Forest Regression (max_depth = 10)",
          "scenario": "s6"
         },
         {
          "accuracy_type": "Test Accuracy",
          "accuracy_val": 0.999698514000193,
          "compound": "DAO",
          "model": "Random Forest Regression (max_depth = 10)",
          "scenario": "s6"
         },
         {
          "accuracy_type": "Test Accuracy",
          "accuracy_val": 0.9596515955329348,
          "compound": "05-85",
          "model": "SVR RBF Kernel",
          "scenario": "s6"
         },
         {
          "accuracy_type": "Test Accuracy",
          "accuracy_val": 0.9603804708422764,
          "compound": "1-8",
          "model": "SVR RBF Kernel",
          "scenario": "s6"
         },
         {
          "accuracy_type": "Test Accuracy",
          "accuracy_val": 0.9603229061629446,
          "compound": "DAO",
          "model": "SVR RBF Kernel",
          "scenario": "s6"
         },
         {
          "accuracy_type": "Test Accuracy",
          "accuracy_val": 0.9977383325764364,
          "compound": "05-85",
          "model": "Gradient Boost Regressor",
          "scenario": "s6"
         },
         {
          "accuracy_type": "Test Accuracy",
          "accuracy_val": 0.9978880383625612,
          "compound": "1-8",
          "model": "Gradient Boost Regressor",
          "scenario": "s6"
         },
         {
          "accuracy_type": "Test Accuracy",
          "accuracy_val": 0.9991532071328884,
          "compound": "DAO",
          "model": "Gradient Boost Regressor",
          "scenario": "s6"
         }
        ]
       },
       "encoding": {
        "color": {
         "field": "accuracy_type",
         "type": "ordinal"
        },
        "facet": {
         "field": "compound",
         "type": "nominal"
        },
        "x": {
         "field": "model",
         "type": "nominal"
        },
        "y": {
         "field": "accuracy_val",
         "scale": {
          "domain": [
           0.85,
           1
          ]
         },
         "stack": false,
         "type": "quantitative"
        }
       },
       "mark": "bar",
       "title": "Scenario 6",
       "width": 400
      },
      "image/png": "[encoded data removed]",
      "text/plain": [
       "<VegaLite 3 object>\n",
       "\n",
       "If you see this message, it means the renderer has not been properly enabled\n",
       "for the frontend that you are using. For more information, see\n",
       "https://altair-viz.github.io/user_guide/troubleshooting.html\n"
      ]
     },
     "execution_count": 117,
     "metadata": {},
     "output_type": "execute_result"
    }
   ],
   "source": [
    "alt.Chart(df_feed.query('scenario == \"s6\"')).mark_bar().encode(\n",
    "    alt.X('model'),\n",
    "    alt.Y('accuracy_val', stack = False, scale = alt.Scale(domain = [0.85,1])),\n",
    "    alt.Color('accuracy_type:O'),\n",
    "    alt.Facet('compound')\n",
    "    ).properties(width = 400).properties(title = 'Scenario 6')"
   ]
  },
  {
   "cell_type": "code",
   "execution_count": null,
   "metadata": {},
   "outputs": [],
   "source": []
  }
 ],
 "metadata": {
  "kernelspec": {
   "display_name": "Python 3",
   "language": "python",
   "name": "python3"
  },
  "language_info": {
   "codemirror_mode": {
    "name": "ipython",
    "version": 3
   },
   "file_extension": ".py",
   "mimetype": "text/x-python",
   "name": "python",
   "nbconvert_exporter": "python",
   "pygments_lexer": "ipython3",
   "version": "3.7.6"
  }
 },
 "nbformat": 4,
 "nbformat_minor": 4
}
